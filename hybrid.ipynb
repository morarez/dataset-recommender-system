{
  "nbformat": 4,
  "nbformat_minor": 0,
  "metadata": {
    "colab": {
      "name": "hybrid.ipynb",
      "provenance": [],
      "collapsed_sections": [
        "6QX41L4aWY-Z",
        "pY6T2FcIL-1g",
        "n1DRjMYNMSJK",
        "tDhtSpK-NACC",
        "-e65oyP_S0XJ",
        "mABU0xTjW7B1"
      ],
      "include_colab_link": true
    },
    "kernelspec": {
      "name": "python3",
      "display_name": "Python 3"
    },
    "language_info": {
      "name": "python"
    },
    "widgets": {
      "application/vnd.jupyter.widget-state+json": {
        "74525a9a055943b2b89a808136f45d75": {
          "model_module": "@jupyter-widgets/controls",
          "model_name": "HBoxModel",
          "model_module_version": "1.5.0",
          "state": {
            "_dom_classes": [],
            "_model_module": "@jupyter-widgets/controls",
            "_model_module_version": "1.5.0",
            "_model_name": "HBoxModel",
            "_view_count": null,
            "_view_module": "@jupyter-widgets/controls",
            "_view_module_version": "1.5.0",
            "_view_name": "HBoxView",
            "box_style": "",
            "children": [
              "IPY_MODEL_5444f08456534346b823d7012a83af3f",
              "IPY_MODEL_3a4f5ca7f144484090ce161f6a275e9b",
              "IPY_MODEL_c16d84a6c35d4dccaa0c216ee7959492"
            ],
            "layout": "IPY_MODEL_4d2cbf1ba34b4b7b900184d38b803741"
          }
        },
        "5444f08456534346b823d7012a83af3f": {
          "model_module": "@jupyter-widgets/controls",
          "model_name": "HTMLModel",
          "model_module_version": "1.5.0",
          "state": {
            "_dom_classes": [],
            "_model_module": "@jupyter-widgets/controls",
            "_model_module_version": "1.5.0",
            "_model_name": "HTMLModel",
            "_view_count": null,
            "_view_module": "@jupyter-widgets/controls",
            "_view_module_version": "1.5.0",
            "_view_name": "HTMLView",
            "description": "",
            "description_tooltip": null,
            "layout": "IPY_MODEL_a6737d9508c34572bddcf225243ea11e",
            "placeholder": "​",
            "style": "IPY_MODEL_cfb3b4684bd44e13be5a26ea1eeb50fb",
            "value": "Computing transition probabilities: 100%"
          }
        },
        "3a4f5ca7f144484090ce161f6a275e9b": {
          "model_module": "@jupyter-widgets/controls",
          "model_name": "FloatProgressModel",
          "model_module_version": "1.5.0",
          "state": {
            "_dom_classes": [],
            "_model_module": "@jupyter-widgets/controls",
            "_model_module_version": "1.5.0",
            "_model_name": "FloatProgressModel",
            "_view_count": null,
            "_view_module": "@jupyter-widgets/controls",
            "_view_module_version": "1.5.0",
            "_view_name": "ProgressView",
            "bar_style": "success",
            "description": "",
            "description_tooltip": null,
            "layout": "IPY_MODEL_4d1de89b9ce649c3982bbb5166de233b",
            "max": 2447,
            "min": 0,
            "orientation": "horizontal",
            "style": "IPY_MODEL_8598aa3c3c0947e6b7e9b8806f3a4111",
            "value": 2447
          }
        },
        "c16d84a6c35d4dccaa0c216ee7959492": {
          "model_module": "@jupyter-widgets/controls",
          "model_name": "HTMLModel",
          "model_module_version": "1.5.0",
          "state": {
            "_dom_classes": [],
            "_model_module": "@jupyter-widgets/controls",
            "_model_module_version": "1.5.0",
            "_model_name": "HTMLModel",
            "_view_count": null,
            "_view_module": "@jupyter-widgets/controls",
            "_view_module_version": "1.5.0",
            "_view_name": "HTMLView",
            "description": "",
            "description_tooltip": null,
            "layout": "IPY_MODEL_b8892d9bfe7645a28e988d25f05acf1a",
            "placeholder": "​",
            "style": "IPY_MODEL_a86a8e0118024498978fa7a2033ca0ad",
            "value": " 2447/2447 [00:00&lt;00:00, 3118.35it/s]"
          }
        },
        "4d2cbf1ba34b4b7b900184d38b803741": {
          "model_module": "@jupyter-widgets/base",
          "model_name": "LayoutModel",
          "model_module_version": "1.2.0",
          "state": {
            "_model_module": "@jupyter-widgets/base",
            "_model_module_version": "1.2.0",
            "_model_name": "LayoutModel",
            "_view_count": null,
            "_view_module": "@jupyter-widgets/base",
            "_view_module_version": "1.2.0",
            "_view_name": "LayoutView",
            "align_content": null,
            "align_items": null,
            "align_self": null,
            "border": null,
            "bottom": null,
            "display": null,
            "flex": null,
            "flex_flow": null,
            "grid_area": null,
            "grid_auto_columns": null,
            "grid_auto_flow": null,
            "grid_auto_rows": null,
            "grid_column": null,
            "grid_gap": null,
            "grid_row": null,
            "grid_template_areas": null,
            "grid_template_columns": null,
            "grid_template_rows": null,
            "height": null,
            "justify_content": null,
            "justify_items": null,
            "left": null,
            "margin": null,
            "max_height": null,
            "max_width": null,
            "min_height": null,
            "min_width": null,
            "object_fit": null,
            "object_position": null,
            "order": null,
            "overflow": null,
            "overflow_x": null,
            "overflow_y": null,
            "padding": null,
            "right": null,
            "top": null,
            "visibility": null,
            "width": null
          }
        },
        "a6737d9508c34572bddcf225243ea11e": {
          "model_module": "@jupyter-widgets/base",
          "model_name": "LayoutModel",
          "model_module_version": "1.2.0",
          "state": {
            "_model_module": "@jupyter-widgets/base",
            "_model_module_version": "1.2.0",
            "_model_name": "LayoutModel",
            "_view_count": null,
            "_view_module": "@jupyter-widgets/base",
            "_view_module_version": "1.2.0",
            "_view_name": "LayoutView",
            "align_content": null,
            "align_items": null,
            "align_self": null,
            "border": null,
            "bottom": null,
            "display": null,
            "flex": null,
            "flex_flow": null,
            "grid_area": null,
            "grid_auto_columns": null,
            "grid_auto_flow": null,
            "grid_auto_rows": null,
            "grid_column": null,
            "grid_gap": null,
            "grid_row": null,
            "grid_template_areas": null,
            "grid_template_columns": null,
            "grid_template_rows": null,
            "height": null,
            "justify_content": null,
            "justify_items": null,
            "left": null,
            "margin": null,
            "max_height": null,
            "max_width": null,
            "min_height": null,
            "min_width": null,
            "object_fit": null,
            "object_position": null,
            "order": null,
            "overflow": null,
            "overflow_x": null,
            "overflow_y": null,
            "padding": null,
            "right": null,
            "top": null,
            "visibility": null,
            "width": null
          }
        },
        "cfb3b4684bd44e13be5a26ea1eeb50fb": {
          "model_module": "@jupyter-widgets/controls",
          "model_name": "DescriptionStyleModel",
          "model_module_version": "1.5.0",
          "state": {
            "_model_module": "@jupyter-widgets/controls",
            "_model_module_version": "1.5.0",
            "_model_name": "DescriptionStyleModel",
            "_view_count": null,
            "_view_module": "@jupyter-widgets/base",
            "_view_module_version": "1.2.0",
            "_view_name": "StyleView",
            "description_width": ""
          }
        },
        "4d1de89b9ce649c3982bbb5166de233b": {
          "model_module": "@jupyter-widgets/base",
          "model_name": "LayoutModel",
          "model_module_version": "1.2.0",
          "state": {
            "_model_module": "@jupyter-widgets/base",
            "_model_module_version": "1.2.0",
            "_model_name": "LayoutModel",
            "_view_count": null,
            "_view_module": "@jupyter-widgets/base",
            "_view_module_version": "1.2.0",
            "_view_name": "LayoutView",
            "align_content": null,
            "align_items": null,
            "align_self": null,
            "border": null,
            "bottom": null,
            "display": null,
            "flex": null,
            "flex_flow": null,
            "grid_area": null,
            "grid_auto_columns": null,
            "grid_auto_flow": null,
            "grid_auto_rows": null,
            "grid_column": null,
            "grid_gap": null,
            "grid_row": null,
            "grid_template_areas": null,
            "grid_template_columns": null,
            "grid_template_rows": null,
            "height": null,
            "justify_content": null,
            "justify_items": null,
            "left": null,
            "margin": null,
            "max_height": null,
            "max_width": null,
            "min_height": null,
            "min_width": null,
            "object_fit": null,
            "object_position": null,
            "order": null,
            "overflow": null,
            "overflow_x": null,
            "overflow_y": null,
            "padding": null,
            "right": null,
            "top": null,
            "visibility": null,
            "width": null
          }
        },
        "8598aa3c3c0947e6b7e9b8806f3a4111": {
          "model_module": "@jupyter-widgets/controls",
          "model_name": "ProgressStyleModel",
          "model_module_version": "1.5.0",
          "state": {
            "_model_module": "@jupyter-widgets/controls",
            "_model_module_version": "1.5.0",
            "_model_name": "ProgressStyleModel",
            "_view_count": null,
            "_view_module": "@jupyter-widgets/base",
            "_view_module_version": "1.2.0",
            "_view_name": "StyleView",
            "bar_color": null,
            "description_width": ""
          }
        },
        "b8892d9bfe7645a28e988d25f05acf1a": {
          "model_module": "@jupyter-widgets/base",
          "model_name": "LayoutModel",
          "model_module_version": "1.2.0",
          "state": {
            "_model_module": "@jupyter-widgets/base",
            "_model_module_version": "1.2.0",
            "_model_name": "LayoutModel",
            "_view_count": null,
            "_view_module": "@jupyter-widgets/base",
            "_view_module_version": "1.2.0",
            "_view_name": "LayoutView",
            "align_content": null,
            "align_items": null,
            "align_self": null,
            "border": null,
            "bottom": null,
            "display": null,
            "flex": null,
            "flex_flow": null,
            "grid_area": null,
            "grid_auto_columns": null,
            "grid_auto_flow": null,
            "grid_auto_rows": null,
            "grid_column": null,
            "grid_gap": null,
            "grid_row": null,
            "grid_template_areas": null,
            "grid_template_columns": null,
            "grid_template_rows": null,
            "height": null,
            "justify_content": null,
            "justify_items": null,
            "left": null,
            "margin": null,
            "max_height": null,
            "max_width": null,
            "min_height": null,
            "min_width": null,
            "object_fit": null,
            "object_position": null,
            "order": null,
            "overflow": null,
            "overflow_x": null,
            "overflow_y": null,
            "padding": null,
            "right": null,
            "top": null,
            "visibility": null,
            "width": null
          }
        },
        "a86a8e0118024498978fa7a2033ca0ad": {
          "model_module": "@jupyter-widgets/controls",
          "model_name": "DescriptionStyleModel",
          "model_module_version": "1.5.0",
          "state": {
            "_model_module": "@jupyter-widgets/controls",
            "_model_module_version": "1.5.0",
            "_model_name": "DescriptionStyleModel",
            "_view_count": null,
            "_view_module": "@jupyter-widgets/base",
            "_view_module_version": "1.2.0",
            "_view_name": "StyleView",
            "description_width": ""
          }
        },
        "208b08c644624a18a5b30c56d4995080": {
          "model_module": "@jupyter-widgets/controls",
          "model_name": "HBoxModel",
          "model_module_version": "1.5.0",
          "state": {
            "_dom_classes": [],
            "_model_module": "@jupyter-widgets/controls",
            "_model_module_version": "1.5.0",
            "_model_name": "HBoxModel",
            "_view_count": null,
            "_view_module": "@jupyter-widgets/controls",
            "_view_module_version": "1.5.0",
            "_view_name": "HBoxView",
            "box_style": "",
            "children": [
              "IPY_MODEL_04ec628eb9704e0f90cd38417da6c5c5",
              "IPY_MODEL_b46fab6fdfa64ecb926ef560face33fd",
              "IPY_MODEL_20235851761c4d029300e45b2fac320c"
            ],
            "layout": "IPY_MODEL_f5e78e6997ef443694636cbc32136060"
          }
        },
        "04ec628eb9704e0f90cd38417da6c5c5": {
          "model_module": "@jupyter-widgets/controls",
          "model_name": "HTMLModel",
          "model_module_version": "1.5.0",
          "state": {
            "_dom_classes": [],
            "_model_module": "@jupyter-widgets/controls",
            "_model_module_version": "1.5.0",
            "_model_name": "HTMLModel",
            "_view_count": null,
            "_view_module": "@jupyter-widgets/controls",
            "_view_module_version": "1.5.0",
            "_view_name": "HTMLView",
            "description": "",
            "description_tooltip": null,
            "layout": "IPY_MODEL_8cb6a01a43ac425cb5b3d08bf2ece738",
            "placeholder": "​",
            "style": "IPY_MODEL_5edf493143bf4998abc1b2f01bbebba7",
            "value": "Computing transition probabilities: 100%"
          }
        },
        "b46fab6fdfa64ecb926ef560face33fd": {
          "model_module": "@jupyter-widgets/controls",
          "model_name": "FloatProgressModel",
          "model_module_version": "1.5.0",
          "state": {
            "_dom_classes": [],
            "_model_module": "@jupyter-widgets/controls",
            "_model_module_version": "1.5.0",
            "_model_name": "FloatProgressModel",
            "_view_count": null,
            "_view_module": "@jupyter-widgets/controls",
            "_view_module_version": "1.5.0",
            "_view_name": "ProgressView",
            "bar_style": "success",
            "description": "",
            "description_tooltip": null,
            "layout": "IPY_MODEL_7cd7d9d181294dfb8994b859d33af3ff",
            "max": 4059,
            "min": 0,
            "orientation": "horizontal",
            "style": "IPY_MODEL_3d4272bc5a43464e82fab17511188941",
            "value": 4059
          }
        },
        "20235851761c4d029300e45b2fac320c": {
          "model_module": "@jupyter-widgets/controls",
          "model_name": "HTMLModel",
          "model_module_version": "1.5.0",
          "state": {
            "_dom_classes": [],
            "_model_module": "@jupyter-widgets/controls",
            "_model_module_version": "1.5.0",
            "_model_name": "HTMLModel",
            "_view_count": null,
            "_view_module": "@jupyter-widgets/controls",
            "_view_module_version": "1.5.0",
            "_view_name": "HTMLView",
            "description": "",
            "description_tooltip": null,
            "layout": "IPY_MODEL_1188c3a228a44dc09479e61e6843d80a",
            "placeholder": "​",
            "style": "IPY_MODEL_30f6c5197ab1404ab2efb1bea4dc21ed",
            "value": " 4059/4059 [00:06&lt;00:00, 930.04it/s]"
          }
        },
        "f5e78e6997ef443694636cbc32136060": {
          "model_module": "@jupyter-widgets/base",
          "model_name": "LayoutModel",
          "model_module_version": "1.2.0",
          "state": {
            "_model_module": "@jupyter-widgets/base",
            "_model_module_version": "1.2.0",
            "_model_name": "LayoutModel",
            "_view_count": null,
            "_view_module": "@jupyter-widgets/base",
            "_view_module_version": "1.2.0",
            "_view_name": "LayoutView",
            "align_content": null,
            "align_items": null,
            "align_self": null,
            "border": null,
            "bottom": null,
            "display": null,
            "flex": null,
            "flex_flow": null,
            "grid_area": null,
            "grid_auto_columns": null,
            "grid_auto_flow": null,
            "grid_auto_rows": null,
            "grid_column": null,
            "grid_gap": null,
            "grid_row": null,
            "grid_template_areas": null,
            "grid_template_columns": null,
            "grid_template_rows": null,
            "height": null,
            "justify_content": null,
            "justify_items": null,
            "left": null,
            "margin": null,
            "max_height": null,
            "max_width": null,
            "min_height": null,
            "min_width": null,
            "object_fit": null,
            "object_position": null,
            "order": null,
            "overflow": null,
            "overflow_x": null,
            "overflow_y": null,
            "padding": null,
            "right": null,
            "top": null,
            "visibility": null,
            "width": null
          }
        },
        "8cb6a01a43ac425cb5b3d08bf2ece738": {
          "model_module": "@jupyter-widgets/base",
          "model_name": "LayoutModel",
          "model_module_version": "1.2.0",
          "state": {
            "_model_module": "@jupyter-widgets/base",
            "_model_module_version": "1.2.0",
            "_model_name": "LayoutModel",
            "_view_count": null,
            "_view_module": "@jupyter-widgets/base",
            "_view_module_version": "1.2.0",
            "_view_name": "LayoutView",
            "align_content": null,
            "align_items": null,
            "align_self": null,
            "border": null,
            "bottom": null,
            "display": null,
            "flex": null,
            "flex_flow": null,
            "grid_area": null,
            "grid_auto_columns": null,
            "grid_auto_flow": null,
            "grid_auto_rows": null,
            "grid_column": null,
            "grid_gap": null,
            "grid_row": null,
            "grid_template_areas": null,
            "grid_template_columns": null,
            "grid_template_rows": null,
            "height": null,
            "justify_content": null,
            "justify_items": null,
            "left": null,
            "margin": null,
            "max_height": null,
            "max_width": null,
            "min_height": null,
            "min_width": null,
            "object_fit": null,
            "object_position": null,
            "order": null,
            "overflow": null,
            "overflow_x": null,
            "overflow_y": null,
            "padding": null,
            "right": null,
            "top": null,
            "visibility": null,
            "width": null
          }
        },
        "5edf493143bf4998abc1b2f01bbebba7": {
          "model_module": "@jupyter-widgets/controls",
          "model_name": "DescriptionStyleModel",
          "model_module_version": "1.5.0",
          "state": {
            "_model_module": "@jupyter-widgets/controls",
            "_model_module_version": "1.5.0",
            "_model_name": "DescriptionStyleModel",
            "_view_count": null,
            "_view_module": "@jupyter-widgets/base",
            "_view_module_version": "1.2.0",
            "_view_name": "StyleView",
            "description_width": ""
          }
        },
        "7cd7d9d181294dfb8994b859d33af3ff": {
          "model_module": "@jupyter-widgets/base",
          "model_name": "LayoutModel",
          "model_module_version": "1.2.0",
          "state": {
            "_model_module": "@jupyter-widgets/base",
            "_model_module_version": "1.2.0",
            "_model_name": "LayoutModel",
            "_view_count": null,
            "_view_module": "@jupyter-widgets/base",
            "_view_module_version": "1.2.0",
            "_view_name": "LayoutView",
            "align_content": null,
            "align_items": null,
            "align_self": null,
            "border": null,
            "bottom": null,
            "display": null,
            "flex": null,
            "flex_flow": null,
            "grid_area": null,
            "grid_auto_columns": null,
            "grid_auto_flow": null,
            "grid_auto_rows": null,
            "grid_column": null,
            "grid_gap": null,
            "grid_row": null,
            "grid_template_areas": null,
            "grid_template_columns": null,
            "grid_template_rows": null,
            "height": null,
            "justify_content": null,
            "justify_items": null,
            "left": null,
            "margin": null,
            "max_height": null,
            "max_width": null,
            "min_height": null,
            "min_width": null,
            "object_fit": null,
            "object_position": null,
            "order": null,
            "overflow": null,
            "overflow_x": null,
            "overflow_y": null,
            "padding": null,
            "right": null,
            "top": null,
            "visibility": null,
            "width": null
          }
        },
        "3d4272bc5a43464e82fab17511188941": {
          "model_module": "@jupyter-widgets/controls",
          "model_name": "ProgressStyleModel",
          "model_module_version": "1.5.0",
          "state": {
            "_model_module": "@jupyter-widgets/controls",
            "_model_module_version": "1.5.0",
            "_model_name": "ProgressStyleModel",
            "_view_count": null,
            "_view_module": "@jupyter-widgets/base",
            "_view_module_version": "1.2.0",
            "_view_name": "StyleView",
            "bar_color": null,
            "description_width": ""
          }
        },
        "1188c3a228a44dc09479e61e6843d80a": {
          "model_module": "@jupyter-widgets/base",
          "model_name": "LayoutModel",
          "model_module_version": "1.2.0",
          "state": {
            "_model_module": "@jupyter-widgets/base",
            "_model_module_version": "1.2.0",
            "_model_name": "LayoutModel",
            "_view_count": null,
            "_view_module": "@jupyter-widgets/base",
            "_view_module_version": "1.2.0",
            "_view_name": "LayoutView",
            "align_content": null,
            "align_items": null,
            "align_self": null,
            "border": null,
            "bottom": null,
            "display": null,
            "flex": null,
            "flex_flow": null,
            "grid_area": null,
            "grid_auto_columns": null,
            "grid_auto_flow": null,
            "grid_auto_rows": null,
            "grid_column": null,
            "grid_gap": null,
            "grid_row": null,
            "grid_template_areas": null,
            "grid_template_columns": null,
            "grid_template_rows": null,
            "height": null,
            "justify_content": null,
            "justify_items": null,
            "left": null,
            "margin": null,
            "max_height": null,
            "max_width": null,
            "min_height": null,
            "min_width": null,
            "object_fit": null,
            "object_position": null,
            "order": null,
            "overflow": null,
            "overflow_x": null,
            "overflow_y": null,
            "padding": null,
            "right": null,
            "top": null,
            "visibility": null,
            "width": null
          }
        },
        "30f6c5197ab1404ab2efb1bea4dc21ed": {
          "model_module": "@jupyter-widgets/controls",
          "model_name": "DescriptionStyleModel",
          "model_module_version": "1.5.0",
          "state": {
            "_model_module": "@jupyter-widgets/controls",
            "_model_module_version": "1.5.0",
            "_model_name": "DescriptionStyleModel",
            "_view_count": null,
            "_view_module": "@jupyter-widgets/base",
            "_view_module_version": "1.2.0",
            "_view_name": "StyleView",
            "description_width": ""
          }
        }
      }
    }
  },
  "cells": [
    {
      "cell_type": "markdown",
      "metadata": {
        "id": "view-in-github",
        "colab_type": "text"
      },
      "source": [
        "<a href=\"https://colab.research.google.com/github/morarez/dataset-recommender-system/blob/main/hybrid.ipynb\" target=\"_parent\"><img src=\"https://colab.research.google.com/assets/colab-badge.svg\" alt=\"Open In Colab\"/></a>"
      ]
    },
    {
      "cell_type": "code",
      "execution_count": null,
      "metadata": {
        "colab": {
          "base_uri": "https://localhost:8080/"
        },
        "id": "-jnHHIMSeARe",
        "outputId": "18924d6b-7f1c-47b6-a135-9a30c3eac3e2"
      },
      "outputs": [
        {
          "output_type": "stream",
          "name": "stdout",
          "text": [
            "Mounted at /content/gdrive\n"
          ]
        }
      ],
      "source": [
        "from google.colab import drive\n",
        "drive.mount(\"/content/gdrive\", force_remount=True)\n",
        "import pandas as pd\n",
        "import numpy as np\n",
        "import glob\n",
        "import os"
      ]
    },
    {
      "cell_type": "markdown",
      "source": [
        "# Pre processing\n"
      ],
      "metadata": {
        "id": "6QX41L4aWY-Z"
      }
    },
    {
      "cell_type": "code",
      "source": [
        "#df = pd.read_json('/content/gdrive/MyDrive/Recommendation_Systems_Activities/Journal/Data/Metadata_21june/metadata_v3.json')\n",
        "df = pd.read_json('/content/gdrive/MyDrive/Recommendation_Systems_Activities/Journal/Data/ni_3900/metadata_ni_3900.json', orient='index')\n"
      ],
      "metadata": {
        "id": "I9NFtn5RUrpq"
      },
      "execution_count": null,
      "outputs": []
    },
    {
      "cell_type": "code",
      "source": [
        "df[\"text\"] = df[\"en_abstract\"] + \" \" + df['en_title']"
      ],
      "metadata": {
        "id": "jEcPVnw_4HlL"
      },
      "execution_count": null,
      "outputs": []
    },
    {
      "cell_type": "code",
      "source": [
        "df.shape"
      ],
      "metadata": {
        "colab": {
          "base_uri": "https://localhost:8080/"
        },
        "id": "ZYwX9gxRxWHa",
        "outputId": "620a1278-08bb-48f1-b0e4-8575ddbf9676"
      },
      "execution_count": null,
      "outputs": [
        {
          "output_type": "execute_result",
          "data": {
            "text/plain": [
              "(3906, 6)"
            ]
          },
          "metadata": {},
          "execution_count": 4
        }
      ]
    },
    {
      "cell_type": "code",
      "source": [
        "df"
      ],
      "metadata": {
        "id": "VxUq8nAwxQEm",
        "colab": {
          "base_uri": "https://localhost:8080/",
          "height": 641
        },
        "outputId": "0114bb76-1253-4ed3-9262-511eef4d92c7"
      },
      "execution_count": null,
      "outputs": [
        {
          "output_type": "execute_result",
          "data": {
            "text/plain": [
              "                                                keyword         type  \\\n",
              "0     [neuroimaging, workflow, pipeline, preprocessi...     software   \n",
              "1     [neuroimaging, workflow, pipeline, preprocessi...     software   \n",
              "2     [neuroimaging, workflow, pipeline, preprocessi...     software   \n",
              "3     [neuroimaging, workflow, pipeline, preprocessi...     software   \n",
              "4     [neuroimaging, workflow, pipeline, statistics,...     software   \n",
              "...                                                 ...          ...   \n",
              "3930  [multi-source learning, kernel methods, neuroi...  publication   \n",
              "3931  [Endocrinology, Diabetes and Metabolism, Clini...  publication   \n",
              "3932  [Adult, Analysis of Variance, Body Mass Index,...  publication   \n",
              "3933  [ddc:500, Multidisciplinary, Magnetic resonanc...  publication   \n",
              "3934  [Affect, Brain, Cognition, Humans, Magnetic Re...  publication   \n",
              "\n",
              "                                                     id  \\\n",
              "0     50|doi_________::77d25c5587f0b1ab44b34485d4ecb37f   \n",
              "1     50|doi_________::9b509ec8729163a6ef7e1b907b775388   \n",
              "2     50|doi_________::c1881ca8737b1dd96123c03e5f11e4c2   \n",
              "3     50|doi_________::db035d2dbe49ed7a1dc68f5163222c72   \n",
              "4     50|doi_________::b72d03a0b3d6a87011d520606135f540   \n",
              "...                                                 ...   \n",
              "3930  50|dedup_wf_001::eba45041f386b8955a152f9ad92a0d75   \n",
              "3931  50|doi_dedup___::39b99a1f8b30cda3d87e24a6bd80af41   \n",
              "3932  50|doi_dedup___::7f5e86c341502b8113f7f6b4163ef38f   \n",
              "3933  50|doi_dedup___::22cbf08893400f59f38e5145dde6aa70   \n",
              "3934  50|doi_dedup___::8859f40c8f69bf5a61015651c882df50   \n",
              "\n",
              "                                            en_abstract  \\\n",
              "0     Hotfix Release <ul> <li>[FIX] Breadcrumb repor...   \n",
              "1     Release notes <p>This release is almost comple...   \n",
              "2     Release Notes <p>Updated ecosystem's versions ...   \n",
              "3     Release Notes <p>Several bug fixes. With thank...   \n",
              "4     Release Notes <p>New feature release in the 0....   \n",
              "...                                                 ...   \n",
              "3930  Inter-subject learning is a family of learning...   \n",
              "3931  Impulsivity refers to a tendency to act rapidl...   \n",
              "3932  Background/Objective The brain plays a central...   \n",
              "3933  The relatively high imaging speed of EPI has l...   \n",
              "3934  <jats:p>Here we present a test-retest dataset ...   \n",
              "\n",
              "                                               en_title  \\\n",
              "0                           poldracklab/fmriprep: 1.2.5   \n",
              "1                      Poldracklab/Fmriprep: 1.0.0-Rc12   \n",
              "2                           poldracklab/fmriprep: 1.3.1   \n",
              "3                           Poldracklab/Fmriprep: 1.2.2   \n",
              "4                            poldracklab/fitlins: 0.7.0   \n",
              "...                                                 ...   \n",
              "3930  A multi-source perspective on inter-subject le...   \n",
              "3931  Overlapping Neural Endophenotypes in Addiction...   \n",
              "3932  Sex differences in the influence of body mass ...   \n",
              "3933  Whole-brain high in-plane resolution fMRI usin...   \n",
              "3934  A high resolution 7-Tesla resting-state fMRI t...   \n",
              "\n",
              "                                                   text  \n",
              "0     Hotfix Release <ul> <li>[FIX] Breadcrumb repor...  \n",
              "1     Release notes <p>This release is almost comple...  \n",
              "2     Release Notes <p>Updated ecosystem's versions ...  \n",
              "3     Release Notes <p>Several bug fixes. With thank...  \n",
              "4     Release Notes <p>New feature release in the 0....  \n",
              "...                                                 ...  \n",
              "3930  Inter-subject learning is a family of learning...  \n",
              "3931  Impulsivity refers to a tendency to act rapidl...  \n",
              "3932  Background/Objective The brain plays a central...  \n",
              "3933  The relatively high imaging speed of EPI has l...  \n",
              "3934  <jats:p>Here we present a test-retest dataset ...  \n",
              "\n",
              "[3906 rows x 6 columns]"
            ],
            "text/html": [
              "\n",
              "  <div id=\"df-07ef9962-f07f-40ce-8052-fa1696a965d1\">\n",
              "    <div class=\"colab-df-container\">\n",
              "      <div>\n",
              "<style scoped>\n",
              "    .dataframe tbody tr th:only-of-type {\n",
              "        vertical-align: middle;\n",
              "    }\n",
              "\n",
              "    .dataframe tbody tr th {\n",
              "        vertical-align: top;\n",
              "    }\n",
              "\n",
              "    .dataframe thead th {\n",
              "        text-align: right;\n",
              "    }\n",
              "</style>\n",
              "<table border=\"1\" class=\"dataframe\">\n",
              "  <thead>\n",
              "    <tr style=\"text-align: right;\">\n",
              "      <th></th>\n",
              "      <th>keyword</th>\n",
              "      <th>type</th>\n",
              "      <th>id</th>\n",
              "      <th>en_abstract</th>\n",
              "      <th>en_title</th>\n",
              "      <th>text</th>\n",
              "    </tr>\n",
              "  </thead>\n",
              "  <tbody>\n",
              "    <tr>\n",
              "      <th>0</th>\n",
              "      <td>[neuroimaging, workflow, pipeline, preprocessi...</td>\n",
              "      <td>software</td>\n",
              "      <td>50|doi_________::77d25c5587f0b1ab44b34485d4ecb37f</td>\n",
              "      <td>Hotfix Release &lt;ul&gt; &lt;li&gt;[FIX] Breadcrumb repor...</td>\n",
              "      <td>poldracklab/fmriprep: 1.2.5</td>\n",
              "      <td>Hotfix Release &lt;ul&gt; &lt;li&gt;[FIX] Breadcrumb repor...</td>\n",
              "    </tr>\n",
              "    <tr>\n",
              "      <th>1</th>\n",
              "      <td>[neuroimaging, workflow, pipeline, preprocessi...</td>\n",
              "      <td>software</td>\n",
              "      <td>50|doi_________::9b509ec8729163a6ef7e1b907b775388</td>\n",
              "      <td>Release notes &lt;p&gt;This release is almost comple...</td>\n",
              "      <td>Poldracklab/Fmriprep: 1.0.0-Rc12</td>\n",
              "      <td>Release notes &lt;p&gt;This release is almost comple...</td>\n",
              "    </tr>\n",
              "    <tr>\n",
              "      <th>2</th>\n",
              "      <td>[neuroimaging, workflow, pipeline, preprocessi...</td>\n",
              "      <td>software</td>\n",
              "      <td>50|doi_________::c1881ca8737b1dd96123c03e5f11e4c2</td>\n",
              "      <td>Release Notes &lt;p&gt;Updated ecosystem's versions ...</td>\n",
              "      <td>poldracklab/fmriprep: 1.3.1</td>\n",
              "      <td>Release Notes &lt;p&gt;Updated ecosystem's versions ...</td>\n",
              "    </tr>\n",
              "    <tr>\n",
              "      <th>3</th>\n",
              "      <td>[neuroimaging, workflow, pipeline, preprocessi...</td>\n",
              "      <td>software</td>\n",
              "      <td>50|doi_________::db035d2dbe49ed7a1dc68f5163222c72</td>\n",
              "      <td>Release Notes &lt;p&gt;Several bug fixes. With thank...</td>\n",
              "      <td>Poldracklab/Fmriprep: 1.2.2</td>\n",
              "      <td>Release Notes &lt;p&gt;Several bug fixes. With thank...</td>\n",
              "    </tr>\n",
              "    <tr>\n",
              "      <th>4</th>\n",
              "      <td>[neuroimaging, workflow, pipeline, statistics,...</td>\n",
              "      <td>software</td>\n",
              "      <td>50|doi_________::b72d03a0b3d6a87011d520606135f540</td>\n",
              "      <td>Release Notes &lt;p&gt;New feature release in the 0....</td>\n",
              "      <td>poldracklab/fitlins: 0.7.0</td>\n",
              "      <td>Release Notes &lt;p&gt;New feature release in the 0....</td>\n",
              "    </tr>\n",
              "    <tr>\n",
              "      <th>...</th>\n",
              "      <td>...</td>\n",
              "      <td>...</td>\n",
              "      <td>...</td>\n",
              "      <td>...</td>\n",
              "      <td>...</td>\n",
              "      <td>...</td>\n",
              "    </tr>\n",
              "    <tr>\n",
              "      <th>3930</th>\n",
              "      <td>[multi-source learning, kernel methods, neuroi...</td>\n",
              "      <td>publication</td>\n",
              "      <td>50|dedup_wf_001::eba45041f386b8955a152f9ad92a0d75</td>\n",
              "      <td>Inter-subject learning is a family of learning...</td>\n",
              "      <td>A multi-source perspective on inter-subject le...</td>\n",
              "      <td>Inter-subject learning is a family of learning...</td>\n",
              "    </tr>\n",
              "    <tr>\n",
              "      <th>3931</th>\n",
              "      <td>[Endocrinology, Diabetes and Metabolism, Clini...</td>\n",
              "      <td>publication</td>\n",
              "      <td>50|doi_dedup___::39b99a1f8b30cda3d87e24a6bd80af41</td>\n",
              "      <td>Impulsivity refers to a tendency to act rapidl...</td>\n",
              "      <td>Overlapping Neural Endophenotypes in Addiction...</td>\n",
              "      <td>Impulsivity refers to a tendency to act rapidl...</td>\n",
              "    </tr>\n",
              "    <tr>\n",
              "      <th>3932</th>\n",
              "      <td>[Adult, Analysis of Variance, Body Mass Index,...</td>\n",
              "      <td>publication</td>\n",
              "      <td>50|doi_dedup___::7f5e86c341502b8113f7f6b4163ef38f</td>\n",
              "      <td>Background/Objective The brain plays a central...</td>\n",
              "      <td>Sex differences in the influence of body mass ...</td>\n",
              "      <td>Background/Objective The brain plays a central...</td>\n",
              "    </tr>\n",
              "    <tr>\n",
              "      <th>3933</th>\n",
              "      <td>[ddc:500, Multidisciplinary, Magnetic resonanc...</td>\n",
              "      <td>publication</td>\n",
              "      <td>50|doi_dedup___::22cbf08893400f59f38e5145dde6aa70</td>\n",
              "      <td>The relatively high imaging speed of EPI has l...</td>\n",
              "      <td>Whole-brain high in-plane resolution fMRI usin...</td>\n",
              "      <td>The relatively high imaging speed of EPI has l...</td>\n",
              "    </tr>\n",
              "    <tr>\n",
              "      <th>3934</th>\n",
              "      <td>[Affect, Brain, Cognition, Humans, Magnetic Re...</td>\n",
              "      <td>publication</td>\n",
              "      <td>50|doi_dedup___::8859f40c8f69bf5a61015651c882df50</td>\n",
              "      <td>&lt;jats:p&gt;Here we present a test-retest dataset ...</td>\n",
              "      <td>A high resolution 7-Tesla resting-state fMRI t...</td>\n",
              "      <td>&lt;jats:p&gt;Here we present a test-retest dataset ...</td>\n",
              "    </tr>\n",
              "  </tbody>\n",
              "</table>\n",
              "<p>3906 rows × 6 columns</p>\n",
              "</div>\n",
              "      <button class=\"colab-df-convert\" onclick=\"convertToInteractive('df-07ef9962-f07f-40ce-8052-fa1696a965d1')\"\n",
              "              title=\"Convert this dataframe to an interactive table.\"\n",
              "              style=\"display:none;\">\n",
              "        \n",
              "  <svg xmlns=\"http://www.w3.org/2000/svg\" height=\"24px\"viewBox=\"0 0 24 24\"\n",
              "       width=\"24px\">\n",
              "    <path d=\"M0 0h24v24H0V0z\" fill=\"none\"/>\n",
              "    <path d=\"M18.56 5.44l.94 2.06.94-2.06 2.06-.94-2.06-.94-.94-2.06-.94 2.06-2.06.94zm-11 1L8.5 8.5l.94-2.06 2.06-.94-2.06-.94L8.5 2.5l-.94 2.06-2.06.94zm10 10l.94 2.06.94-2.06 2.06-.94-2.06-.94-.94-2.06-.94 2.06-2.06.94z\"/><path d=\"M17.41 7.96l-1.37-1.37c-.4-.4-.92-.59-1.43-.59-.52 0-1.04.2-1.43.59L10.3 9.45l-7.72 7.72c-.78.78-.78 2.05 0 2.83L4 21.41c.39.39.9.59 1.41.59.51 0 1.02-.2 1.41-.59l7.78-7.78 2.81-2.81c.8-.78.8-2.07 0-2.86zM5.41 20L4 18.59l7.72-7.72 1.47 1.35L5.41 20z\"/>\n",
              "  </svg>\n",
              "      </button>\n",
              "      \n",
              "  <style>\n",
              "    .colab-df-container {\n",
              "      display:flex;\n",
              "      flex-wrap:wrap;\n",
              "      gap: 12px;\n",
              "    }\n",
              "\n",
              "    .colab-df-convert {\n",
              "      background-color: #E8F0FE;\n",
              "      border: none;\n",
              "      border-radius: 50%;\n",
              "      cursor: pointer;\n",
              "      display: none;\n",
              "      fill: #1967D2;\n",
              "      height: 32px;\n",
              "      padding: 0 0 0 0;\n",
              "      width: 32px;\n",
              "    }\n",
              "\n",
              "    .colab-df-convert:hover {\n",
              "      background-color: #E2EBFA;\n",
              "      box-shadow: 0px 1px 2px rgba(60, 64, 67, 0.3), 0px 1px 3px 1px rgba(60, 64, 67, 0.15);\n",
              "      fill: #174EA6;\n",
              "    }\n",
              "\n",
              "    [theme=dark] .colab-df-convert {\n",
              "      background-color: #3B4455;\n",
              "      fill: #D2E3FC;\n",
              "    }\n",
              "\n",
              "    [theme=dark] .colab-df-convert:hover {\n",
              "      background-color: #434B5C;\n",
              "      box-shadow: 0px 1px 3px 1px rgba(0, 0, 0, 0.15);\n",
              "      filter: drop-shadow(0px 1px 2px rgba(0, 0, 0, 0.3));\n",
              "      fill: #FFFFFF;\n",
              "    }\n",
              "  </style>\n",
              "\n",
              "      <script>\n",
              "        const buttonEl =\n",
              "          document.querySelector('#df-07ef9962-f07f-40ce-8052-fa1696a965d1 button.colab-df-convert');\n",
              "        buttonEl.style.display =\n",
              "          google.colab.kernel.accessAllowed ? 'block' : 'none';\n",
              "\n",
              "        async function convertToInteractive(key) {\n",
              "          const element = document.querySelector('#df-07ef9962-f07f-40ce-8052-fa1696a965d1');\n",
              "          const dataTable =\n",
              "            await google.colab.kernel.invokeFunction('convertToInteractive',\n",
              "                                                     [key], {});\n",
              "          if (!dataTable) return;\n",
              "\n",
              "          const docLinkHtml = 'Like what you see? Visit the ' +\n",
              "            '<a target=\"_blank\" href=https://colab.research.google.com/notebooks/data_table.ipynb>data table notebook</a>'\n",
              "            + ' to learn more about interactive tables.';\n",
              "          element.innerHTML = '';\n",
              "          dataTable['output_type'] = 'display_data';\n",
              "          await google.colab.output.renderOutput(dataTable, element);\n",
              "          const docLink = document.createElement('div');\n",
              "          docLink.innerHTML = docLinkHtml;\n",
              "          element.appendChild(docLink);\n",
              "        }\n",
              "      </script>\n",
              "    </div>\n",
              "  </div>\n",
              "  "
            ]
          },
          "metadata": {},
          "execution_count": 5
        }
      ]
    },
    {
      "cell_type": "code",
      "source": [
        "df.reset_index(drop=True, inplace=True)\n"
      ],
      "metadata": {
        "id": "AdyPHI_CNUxa"
      },
      "execution_count": null,
      "outputs": []
    },
    {
      "cell_type": "code",
      "source": [
        "import nltk\n",
        "nltk.download('stopwords')\n",
        "nltk.download('wordnet')\n",
        "nltk.download('omw-1.4')"
      ],
      "metadata": {
        "colab": {
          "base_uri": "https://localhost:8080/"
        },
        "id": "8s_hNiUGUyNj",
        "outputId": "d08c3f62-38ab-4775-a7a9-e1d06df459bd"
      },
      "execution_count": null,
      "outputs": [
        {
          "output_type": "stream",
          "name": "stderr",
          "text": [
            "[nltk_data] Downloading package stopwords to /root/nltk_data...\n",
            "[nltk_data]   Unzipping corpora/stopwords.zip.\n",
            "[nltk_data] Downloading package wordnet to /root/nltk_data...\n",
            "[nltk_data] Downloading package omw-1.4 to /root/nltk_data...\n"
          ]
        },
        {
          "output_type": "execute_result",
          "data": {
            "text/plain": [
              "True"
            ]
          },
          "metadata": {},
          "execution_count": 7
        }
      ]
    },
    {
      "cell_type": "code",
      "source": [
        "from nltk.tokenize import RegexpTokenizer\n",
        "from nltk.stem import WordNetLemmatizer,PorterStemmer\n",
        "from nltk.corpus import stopwords\n",
        "import re\n",
        "lemmatizer = WordNetLemmatizer()\n",
        "stemmer = PorterStemmer() \n",
        "\n",
        "def preprocess(sentence):\n",
        "    sentence=str(sentence)\n",
        "    sentence = sentence.lower()\n",
        "    sentence=sentence.replace('{html}',\"\") \n",
        "    cleanr = re.compile('<.*?>')\n",
        "    cleantext = re.sub(cleanr, '', sentence)\n",
        "    rem_url=re.sub(r'http\\S+', '',cleantext)\n",
        "    rem_num = re.sub('[0-9]+', '', rem_url)\n",
        "    tokenizer = RegexpTokenizer(r'\\w+')\n",
        "    tokens = tokenizer.tokenize(rem_num)  \n",
        "    filtered_words = [w for w in tokens if len(w) > 2 if not w in stopwords.words('english')]\n",
        "    stem_words=[stemmer.stem(w) for w in filtered_words]\n",
        "    lemma_words=[lemmatizer.lemmatize(w) for w in stem_words]\n",
        "    return \" \".join(lemma_words)\n",
        "\n",
        "\n",
        "df['cleanText']=df['text'].map(lambda s:preprocess(s)) "
      ],
      "metadata": {
        "id": "TSbsCJF_U5uq"
      },
      "execution_count": null,
      "outputs": []
    },
    {
      "cell_type": "code",
      "source": [
        "data = df['cleanText']"
      ],
      "metadata": {
        "id": "GhumTt0DU_4p"
      },
      "execution_count": null,
      "outputs": []
    },
    {
      "cell_type": "code",
      "source": [
        "pip install Gensim"
      ],
      "metadata": {
        "colab": {
          "base_uri": "https://localhost:8080/"
        },
        "id": "VjckntniVIGp",
        "outputId": "63fffc50-8384-46de-efb6-d5ab43c4e0dd"
      },
      "execution_count": null,
      "outputs": [
        {
          "output_type": "stream",
          "name": "stdout",
          "text": [
            "Looking in indexes: https://pypi.org/simple, https://us-python.pkg.dev/colab-wheels/public/simple/\n",
            "Requirement already satisfied: Gensim in /usr/local/lib/python3.7/dist-packages (3.6.0)\n",
            "Requirement already satisfied: smart-open>=1.2.1 in /usr/local/lib/python3.7/dist-packages (from Gensim) (5.2.1)\n",
            "Requirement already satisfied: six>=1.5.0 in /usr/local/lib/python3.7/dist-packages (from Gensim) (1.15.0)\n",
            "Requirement already satisfied: numpy>=1.11.3 in /usr/local/lib/python3.7/dist-packages (from Gensim) (1.21.6)\n",
            "Requirement already satisfied: scipy>=0.18.1 in /usr/local/lib/python3.7/dist-packages (from Gensim) (1.7.3)\n"
          ]
        }
      ]
    },
    {
      "cell_type": "markdown",
      "source": [
        "# users"
      ],
      "metadata": {
        "id": "pY6T2FcIL-1g"
      }
    },
    {
      "cell_type": "code",
      "source": [
        "users_d = pd.read_json('/content/gdrive/MyDrive/Recommendation_Systems_Activities/Journal/Data/ni_3900/users_ni_3900.json',orient='index')"
      ],
      "metadata": {
        "id": "LAIZzoVq8ZCx"
      },
      "execution_count": null,
      "outputs": []
    },
    {
      "cell_type": "code",
      "source": [
        "def d_counter(user_prof):\n",
        "  d_counter = 0\n",
        "  for id in user_prof:\n",
        "    item_type = df[df['id'] == id]['type']\n",
        "    for i in item_type:\n",
        "      if str(i) == 'dataset':\n",
        "        d_counter += 1\n",
        "  return d_counter"
      ],
      "metadata": {
        "id": "Lnr__Es0jUwo"
      },
      "execution_count": null,
      "outputs": []
    },
    {
      "cell_type": "code",
      "source": [
        "users_d['d_counter'] = users_d['id'].apply(lambda row : d_counter(row))"
      ],
      "metadata": {
        "id": "cLxG1zuwjiuf"
      },
      "execution_count": null,
      "outputs": []
    },
    {
      "cell_type": "code",
      "source": [
        "users_d = users_d[users_d['d_counter'] != 0 ]\n",
        "users_d = users_d[users_d['d_counter'] != 1 ]\n",
        "users_d = users_d[users_d['d_counter'] != 2 ]\n",
        "users_d = users_d[users_d['d_counter'] != 3 ]\n",
        "\n",
        "users_d.reset_index(drop=True, inplace=True)"
      ],
      "metadata": {
        "id": "gk8GNaemjmb2"
      },
      "execution_count": null,
      "outputs": []
    },
    {
      "cell_type": "markdown",
      "source": [
        "## Leave one out"
      ],
      "metadata": {
        "id": "xQgVeetBL5-Z"
      }
    },
    {
      "cell_type": "code",
      "source": [
        "# ## IMPORTANT: if leave-2-out/leave-3-out has already been run, you need to load users from the start\n",
        "\n",
        "def leave_one_out_d(profile_items):\n",
        "  for item in profile_items:\n",
        "      item_type = df[df['id'] == item]['type'].tolist()\n",
        "      if item_type[0] == 'dataset':\n",
        "        profile_items.remove(item)\n",
        "        return item"
      ],
      "metadata": {
        "id": "qg6DpEUHjtOy"
      },
      "execution_count": null,
      "outputs": []
    },
    {
      "cell_type": "code",
      "source": [
        "users_d['leave_one_out_d'] = users_d['id'].apply(lambda x:leave_one_out_d(x))"
      ],
      "metadata": {
        "id": "d3g9HyhBjt6V"
      },
      "execution_count": null,
      "outputs": []
    },
    {
      "cell_type": "markdown",
      "source": [
        "## Leave two out\n"
      ],
      "metadata": {
        "id": "n1DRjMYNMSJK"
      }
    },
    {
      "cell_type": "code",
      "source": [
        "# ## IMPORTANT: if leave-1-out/leave-2-out has already been run, you need to load users from the start\n",
        "\n",
        "def leave_two_out_d(profile_items):\n",
        "  dataset_list = []\n",
        "  for item in profile_items:\n",
        "      item_type = df[df['id'] == item]['type'].tolist()\n",
        "      if item_type[0] == 'dataset':\n",
        "          dataset_list.append(item)\n",
        "          if len(dataset_list)==2:\n",
        "            for ds in dataset_list:\n",
        "                profile_items.remove(ds)\n",
        "\n",
        "            return dataset_list"
      ],
      "metadata": {
        "id": "w5b2a55xM4jq"
      },
      "execution_count": null,
      "outputs": []
    },
    {
      "cell_type": "code",
      "source": [
        "users_d['leave_two_out_d'] = users_d['id'].apply(lambda x:leave_two_out_d(x))"
      ],
      "metadata": {
        "id": "mFDLzkkQM74b"
      },
      "execution_count": null,
      "outputs": []
    },
    {
      "cell_type": "markdown",
      "source": [
        "## Leave three out"
      ],
      "metadata": {
        "id": "tDhtSpK-NACC"
      }
    },
    {
      "cell_type": "code",
      "source": [
        "# ## IMPORTANT: if leave-1-out/leave-2-out has already been run, you need to load users from the start\n",
        "\n",
        "def leave_three_out_d(profile_items):\n",
        "  dataset_list = []\n",
        "  for item in profile_items:\n",
        "      item_type = df[df['id'] == item]['type'].tolist()\n",
        "      if item_type[0] == 'dataset':\n",
        "          dataset_list.append(item)\n",
        "          if len(dataset_list)==3:\n",
        "            for ds in dataset_list:\n",
        "                profile_items.remove(ds)\n",
        "\n",
        "            return dataset_list"
      ],
      "metadata": {
        "id": "M7JyffItNCsu"
      },
      "execution_count": null,
      "outputs": []
    },
    {
      "cell_type": "code",
      "source": [
        "users_d['leave_three_out_d'] = users_d['id'].apply(lambda x:leave_three_out_d(x))"
      ],
      "metadata": {
        "id": "5MUGsOBvNE81"
      },
      "execution_count": null,
      "outputs": []
    },
    {
      "cell_type": "markdown",
      "source": [
        "# Doc2Vec "
      ],
      "metadata": {
        "id": "rQ8PawK8ZovN"
      }
    },
    {
      "cell_type": "markdown",
      "source": [
        "## Train model"
      ],
      "metadata": {
        "id": "l149LJizOfLX"
      }
    },
    {
      "cell_type": "code",
      "source": [
        "from gensim import models\n",
        "def tagged_document(list_of_list_of_words):\n",
        "   for i, list_of_words in enumerate(list_of_list_of_words):\n",
        "      yield models.doc2vec.TaggedDocument(list_of_words, [i])\n",
        "data_training = list(tagged_document(data))"
      ],
      "metadata": {
        "id": "oZ3q_ryLVJpg"
      },
      "execution_count": null,
      "outputs": []
    },
    {
      "cell_type": "code",
      "source": [
        "model = models.doc2vec.Doc2Vec(vector_size=256, min_count=2, epochs=100)\n",
        "model.build_vocab(data_training)\n",
        "model.train(data_training, total_examples=model.corpus_count, epochs=model.epochs)"
      ],
      "metadata": {
        "id": "PEK37Uz0Vnfc",
        "colab": {
          "base_uri": "https://localhost:8080/"
        },
        "outputId": "3aaa74e1-f505-4c93-da8d-9a25fb8dd245"
      },
      "execution_count": null,
      "outputs": [
        {
          "metadata": {
            "tags": null
          },
          "name": "stderr",
          "output_type": "stream",
          "text": [
            "WARNING:gensim.models.doc2vec:Each 'words' should be a list of words (usually unicode strings). First 'words' here is instead plain <class 'str'>.\n"
          ]
        }
      ]
    },
    {
      "cell_type": "markdown",
      "source": [
        "\n",
        "## Creating user D2V vector"
      ],
      "metadata": {
        "id": "Hh6fg63UNGxc"
      }
    },
    {
      "cell_type": "code",
      "source": [
        "def user_vector_doc2vec(user_list):\n",
        "  import numpy as np\n",
        "  user_profile = []\n",
        "  for user_id in user_list:\n",
        "    user_index = df[df['id']==user_id].index\n",
        "    user_profile.append(model.docvecs[user_index[0]])\n",
        "  column_average = [sum(sub_list) / len(sub_list) for sub_list in zip(*user_profile)]\n",
        "  user_vector = np.array(column_average)\n",
        "  return user_vector"
      ],
      "metadata": {
        "id": "n8RV4N2VOpk9"
      },
      "execution_count": null,
      "outputs": []
    },
    {
      "cell_type": "code",
      "source": [
        "users_d['user_vector_doc2vec'] = users_d['id'].apply(lambda s:user_vector_doc2vec(s)) "
      ],
      "metadata": {
        "id": "CpX9TDapjwdJ"
      },
      "execution_count": null,
      "outputs": []
    },
    {
      "cell_type": "markdown",
      "source": [
        "# Node2Vec "
      ],
      "metadata": {
        "id": "PZv2_ioQWfDt"
      }
    },
    {
      "cell_type": "code",
      "source": [
        "#all_files = glob.glob(\"/content/gdrive/MyDrive/Recommendation_Systems_Activities/Journal/Data/relation_jun21/*.json\")\n",
        "#relation = pd.concat((pd.read_json(f,lines=True) for f in all_files))\n",
        "#relation.drop_duplicates(inplace=True)\n",
        "#relation.reset_index(drop=True, inplace=True)"
      ],
      "metadata": {
        "id": "-7ORIT0hWh1f"
      },
      "execution_count": null,
      "outputs": []
    },
    {
      "cell_type": "code",
      "source": [
        "relation = pd.read_json(\"/content/gdrive/MyDrive/Recommendation_Systems_Activities/Journal/Data/data_with_relations_v1/relations.json\",lines=True)"
      ],
      "metadata": {
        "id": "D0hW3Fs5RBsu"
      },
      "execution_count": null,
      "outputs": []
    },
    {
      "cell_type": "code",
      "source": [
        "relation.drop_duplicates(inplace=True)\n",
        "relation.reset_index(drop=True, inplace=True)"
      ],
      "metadata": {
        "id": "ENzFwPWnRaGJ"
      },
      "execution_count": null,
      "outputs": []
    },
    {
      "cell_type": "code",
      "source": [
        "pip install networkx==2.3"
      ],
      "metadata": {
        "colab": {
          "base_uri": "https://localhost:8080/"
        },
        "id": "uEWjmJmyWwAX",
        "outputId": "cae9dd11-1a4c-409e-d172-99ad381a3c9e"
      },
      "execution_count": null,
      "outputs": [
        {
          "output_type": "stream",
          "name": "stdout",
          "text": [
            "Looking in indexes: https://pypi.org/simple, https://us-python.pkg.dev/colab-wheels/public/simple/\n",
            "Collecting networkx==2.3\n",
            "  Downloading networkx-2.3.zip (1.7 MB)\n",
            "\u001b[K     |████████████████████████████████| 1.7 MB 5.1 MB/s \n",
            "\u001b[?25hRequirement already satisfied: decorator>=4.3.0 in /usr/local/lib/python3.7/dist-packages (from networkx==2.3) (4.4.2)\n",
            "Building wheels for collected packages: networkx\n",
            "  Building wheel for networkx (setup.py) ... \u001b[?25l\u001b[?25hdone\n",
            "  Created wheel for networkx: filename=networkx-2.3-py2.py3-none-any.whl size=1556008 sha256=fba5aebdd7a779cb88963bcbb9e6aafbb821a0255679fcd5d547a1f0b4f4b60f\n",
            "  Stored in directory: /root/.cache/pip/wheels/44/e6/b8/4efaab31158e9e9ca9ed80b11f6b11130bac9a9672b3cbbeaf\n",
            "Successfully built networkx\n",
            "Installing collected packages: networkx\n",
            "  Attempting uninstall: networkx\n",
            "    Found existing installation: networkx 2.6.3\n",
            "    Uninstalling networkx-2.6.3:\n",
            "      Successfully uninstalled networkx-2.6.3\n",
            "Successfully installed networkx-2.3\n"
          ]
        }
      ]
    },
    {
      "cell_type": "code",
      "source": [
        "import networkx as nx\n",
        "import matplotlib.pyplot as plt\n",
        "%matplotlib inline\n",
        "# Build your graph\n",
        "G=nx.from_pandas_edgelist(relation, 'source', 'target')\n",
        "\n",
        "giant = max(nx.connected_component_subgraphs(G), key=len)\n",
        "nodes_list = list(giant.nodes) #List of nodes"
      ],
      "metadata": {
        "id": "9Uc9J0WCWzMV"
      },
      "execution_count": null,
      "outputs": []
    },
    {
      "cell_type": "code",
      "source": [
        "##### counting artifacts #####\n",
        "pubs = 0\n",
        "not_found = 0\n",
        "for item in nodes_list:\n",
        "  item_type = df[df['id'] == item]['type'].tolist()\n",
        "  try:\n",
        "    if item_type[0] == 'software':\n",
        "      pubs = pubs + 1\n",
        "  except:\n",
        "    giant.remove_node(item)\n",
        "    #print(item)\n",
        "pubs"
      ],
      "metadata": {
        "colab": {
          "base_uri": "https://localhost:8080/"
        },
        "id": "0fRJZT2UGbiX",
        "outputId": "47a74d47-d330-4cce-d000-cc6626f4bf43"
      },
      "execution_count": null,
      "outputs": [
        {
          "output_type": "execute_result",
          "data": {
            "text/plain": [
              "77"
            ]
          },
          "metadata": {},
          "execution_count": 27
        }
      ]
    },
    {
      "cell_type": "code",
      "source": [
        "nx.info(giant)"
      ],
      "metadata": {
        "colab": {
          "base_uri": "https://localhost:8080/",
          "height": 36
        },
        "id": "L3LAoDRaGuEu",
        "outputId": "33ef13e8-ff60-40ec-cddd-1f376711c5b8"
      },
      "execution_count": null,
      "outputs": [
        {
          "output_type": "execute_result",
          "data": {
            "text/plain": [
              "'Name: \\nType: Graph\\nNumber of nodes: 3906\\nNumber of edges: 4043\\nAverage degree:   2.0701'"
            ],
            "application/vnd.google.colaboratory.intrinsic+json": {
              "type": "string"
            }
          },
          "metadata": {},
          "execution_count": 29
        }
      ]
    },
    {
      "cell_type": "code",
      "source": [
        "authors = users_d.explode('id')\n",
        "users_g=nx.from_pandas_edgelist(authors, 'author_name', 'id')\n",
        "G = nx.compose(giant, users_g)"
      ],
      "metadata": {
        "id": "vrmjZLgfkJ3k"
      },
      "execution_count": null,
      "outputs": []
    },
    {
      "cell_type": "code",
      "source": [
        "pip install node2vec"
      ],
      "metadata": {
        "colab": {
          "base_uri": "https://localhost:8080/"
        },
        "id": "9SAYtuUUkeXd",
        "outputId": "2dbbb552-159f-418e-8c80-c8f542ad12f3"
      },
      "execution_count": null,
      "outputs": [
        {
          "output_type": "stream",
          "name": "stdout",
          "text": [
            "Looking in indexes: https://pypi.org/simple, https://us-python.pkg.dev/colab-wheels/public/simple/\n",
            "Collecting node2vec\n",
            "  Downloading node2vec-0.4.3.tar.gz (4.6 kB)\n",
            "Requirement already satisfied: networkx in /usr/local/lib/python3.7/dist-packages (from node2vec) (2.3)\n",
            "Requirement already satisfied: gensim in /usr/local/lib/python3.7/dist-packages (from node2vec) (3.6.0)\n",
            "Requirement already satisfied: numpy in /usr/local/lib/python3.7/dist-packages (from node2vec) (1.21.6)\n",
            "Requirement already satisfied: tqdm in /usr/local/lib/python3.7/dist-packages (from node2vec) (4.64.0)\n",
            "Requirement already satisfied: joblib>=0.13.2 in /usr/local/lib/python3.7/dist-packages (from node2vec) (1.1.0)\n",
            "Requirement already satisfied: smart-open>=1.2.1 in /usr/local/lib/python3.7/dist-packages (from gensim->node2vec) (5.2.1)\n",
            "Requirement already satisfied: six>=1.5.0 in /usr/local/lib/python3.7/dist-packages (from gensim->node2vec) (1.15.0)\n",
            "Requirement already satisfied: scipy>=0.18.1 in /usr/local/lib/python3.7/dist-packages (from gensim->node2vec) (1.7.3)\n",
            "Requirement already satisfied: decorator>=4.3.0 in /usr/local/lib/python3.7/dist-packages (from networkx->node2vec) (4.4.2)\n",
            "Building wheels for collected packages: node2vec\n",
            "  Building wheel for node2vec (setup.py) ... \u001b[?25l\u001b[?25hdone\n",
            "  Created wheel for node2vec: filename=node2vec-0.4.3-py3-none-any.whl size=5980 sha256=edb71a8e6f65668c08ba42cf584ec4669f2dc3c9c7777f1669e8a0a8111a0e43\n",
            "  Stored in directory: /root/.cache/pip/wheels/07/62/78/5202cb8c03cbf1593b48a8a442fca8ceec2a8c80e22318bae9\n",
            "Successfully built node2vec\n",
            "Installing collected packages: node2vec\n",
            "Successfully installed node2vec-0.4.3\n"
          ]
        }
      ]
    },
    {
      "cell_type": "code",
      "source": [
        "from node2vec import Node2Vec as n2v\n",
        "g_emb = n2v(G, dimensions=256)\n",
        "\n",
        "WINDOW = 4 # Node2Vec fit window\n",
        "MIN_COUNT = 1 # Node2Vec min. count\n",
        "BATCH_WORDS = 64 # Node2Vec batch words\n",
        "\n",
        "mdl = g_emb.fit(\n",
        "    window=WINDOW,\n",
        "    min_count=MIN_COUNT,\n",
        "    batch_words=BATCH_WORDS\n",
        ")\n",
        "\n",
        "# create embeddings dataframe\n",
        "emb_df = (\n",
        "    pd.DataFrame(\n",
        "        [mdl.wv.get_vector(str(n)) for n in G.nodes()],\n",
        "        index = G.nodes\n",
        "    )\n",
        ")\n",
        "\n",
        "emb_df.head()"
      ],
      "metadata": {
        "colab": {
          "base_uri": "https://localhost:8080/",
          "referenced_widgets": [
            "208b08c644624a18a5b30c56d4995080",
            "04ec628eb9704e0f90cd38417da6c5c5",
            "b46fab6fdfa64ecb926ef560face33fd",
            "20235851761c4d029300e45b2fac320c",
            "f5e78e6997ef443694636cbc32136060",
            "8cb6a01a43ac425cb5b3d08bf2ece738",
            "5edf493143bf4998abc1b2f01bbebba7",
            "7cd7d9d181294dfb8994b859d33af3ff",
            "3d4272bc5a43464e82fab17511188941",
            "1188c3a228a44dc09479e61e6843d80a",
            "30f6c5197ab1404ab2efb1bea4dc21ed"
          ],
          "height": 349
        },
        "id": "Uedkn4U9khRY",
        "outputId": "178d96dc-46e8-4129-eaee-28a5b9bba5e7"
      },
      "execution_count": null,
      "outputs": [
        {
          "output_type": "display_data",
          "data": {
            "text/plain": [
              "Computing transition probabilities:   0%|          | 0/4059 [00:00<?, ?it/s]"
            ],
            "application/vnd.jupyter.widget-view+json": {
              "version_major": 2,
              "version_minor": 0,
              "model_id": "208b08c644624a18a5b30c56d4995080"
            }
          },
          "metadata": {}
        },
        {
          "output_type": "stream",
          "name": "stderr",
          "text": [
            "Generating walks (CPU: 1): 100%|██████████| 10/10 [03:48<00:00, 22.83s/it]\n"
          ]
        },
        {
          "output_type": "execute_result",
          "data": {
            "text/plain": [
              "                                                        0         1    \\\n",
              "50|doi_dedup___::3da4b5b1a22214ecc1bb0eb03295eab0 -0.005207  0.110791   \n",
              "50|doi_dedup___::4d029bd3cd0928f8115d44185ee2a708  0.073171  0.241159   \n",
              "50|doi_dedup___::8d220e65a7dc941055151965a7f7d80c  0.016064 -0.200839   \n",
              "50|arXiv_______::f89f361dc90195bdf0a737fe193d7db8 -0.013083  0.241464   \n",
              "50|doi_dedup___::528fe145915ceda3e385c1907fb25a7b  0.073061 -0.044495   \n",
              "\n",
              "                                                        2         3    \\\n",
              "50|doi_dedup___::3da4b5b1a22214ecc1bb0eb03295eab0 -0.185311  0.053689   \n",
              "50|doi_dedup___::4d029bd3cd0928f8115d44185ee2a708  0.246454  0.144039   \n",
              "50|doi_dedup___::8d220e65a7dc941055151965a7f7d80c -0.011821  0.205817   \n",
              "50|arXiv_______::f89f361dc90195bdf0a737fe193d7db8  0.254438  0.208799   \n",
              "50|doi_dedup___::528fe145915ceda3e385c1907fb25a7b -0.041462  0.112776   \n",
              "\n",
              "                                                        4         5    \\\n",
              "50|doi_dedup___::3da4b5b1a22214ecc1bb0eb03295eab0  0.222624 -0.068528   \n",
              "50|doi_dedup___::4d029bd3cd0928f8115d44185ee2a708  0.370231 -0.393657   \n",
              "50|doi_dedup___::8d220e65a7dc941055151965a7f7d80c  0.229148  0.011544   \n",
              "50|arXiv_______::f89f361dc90195bdf0a737fe193d7db8  0.029638 -0.160771   \n",
              "50|doi_dedup___::528fe145915ceda3e385c1907fb25a7b  0.078548 -0.116866   \n",
              "\n",
              "                                                        6         7    \\\n",
              "50|doi_dedup___::3da4b5b1a22214ecc1bb0eb03295eab0  0.006292 -0.093620   \n",
              "50|doi_dedup___::4d029bd3cd0928f8115d44185ee2a708 -0.574680 -0.103913   \n",
              "50|doi_dedup___::8d220e65a7dc941055151965a7f7d80c -0.003320 -0.235874   \n",
              "50|arXiv_______::f89f361dc90195bdf0a737fe193d7db8 -0.156133  0.106699   \n",
              "50|doi_dedup___::528fe145915ceda3e385c1907fb25a7b -0.360024 -0.095010   \n",
              "\n",
              "                                                        8         9    ...  \\\n",
              "50|doi_dedup___::3da4b5b1a22214ecc1bb0eb03295eab0  0.577514  0.178990  ...   \n",
              "50|doi_dedup___::4d029bd3cd0928f8115d44185ee2a708 -0.226758  0.565594  ...   \n",
              "50|doi_dedup___::8d220e65a7dc941055151965a7f7d80c  0.710456  0.592544  ...   \n",
              "50|arXiv_______::f89f361dc90195bdf0a737fe193d7db8  0.194448 -0.056061  ...   \n",
              "50|doi_dedup___::528fe145915ceda3e385c1907fb25a7b  0.266857  0.426064  ...   \n",
              "\n",
              "                                                        246       247  \\\n",
              "50|doi_dedup___::3da4b5b1a22214ecc1bb0eb03295eab0  0.142705 -0.254240   \n",
              "50|doi_dedup___::4d029bd3cd0928f8115d44185ee2a708 -0.247299 -0.511251   \n",
              "50|doi_dedup___::8d220e65a7dc941055151965a7f7d80c -0.368819  0.209103   \n",
              "50|arXiv_______::f89f361dc90195bdf0a737fe193d7db8  0.066328 -0.245797   \n",
              "50|doi_dedup___::528fe145915ceda3e385c1907fb25a7b  0.189452 -0.339363   \n",
              "\n",
              "                                                        248       249  \\\n",
              "50|doi_dedup___::3da4b5b1a22214ecc1bb0eb03295eab0 -0.476120  0.091133   \n",
              "50|doi_dedup___::4d029bd3cd0928f8115d44185ee2a708 -0.124770  0.241725   \n",
              "50|doi_dedup___::8d220e65a7dc941055151965a7f7d80c  0.004926 -0.145881   \n",
              "50|arXiv_______::f89f361dc90195bdf0a737fe193d7db8 -0.361530  0.371413   \n",
              "50|doi_dedup___::528fe145915ceda3e385c1907fb25a7b  0.227647  0.178742   \n",
              "\n",
              "                                                        250       251  \\\n",
              "50|doi_dedup___::3da4b5b1a22214ecc1bb0eb03295eab0  0.049805 -0.039526   \n",
              "50|doi_dedup___::4d029bd3cd0928f8115d44185ee2a708  0.277702 -0.232385   \n",
              "50|doi_dedup___::8d220e65a7dc941055151965a7f7d80c -0.005403  0.218889   \n",
              "50|arXiv_______::f89f361dc90195bdf0a737fe193d7db8 -0.387059 -0.451244   \n",
              "50|doi_dedup___::528fe145915ceda3e385c1907fb25a7b -0.159706 -0.242945   \n",
              "\n",
              "                                                        252       253  \\\n",
              "50|doi_dedup___::3da4b5b1a22214ecc1bb0eb03295eab0  0.033121  0.256799   \n",
              "50|doi_dedup___::4d029bd3cd0928f8115d44185ee2a708 -0.228270  0.170603   \n",
              "50|doi_dedup___::8d220e65a7dc941055151965a7f7d80c  0.138002 -0.023144   \n",
              "50|arXiv_______::f89f361dc90195bdf0a737fe193d7db8 -0.457428  0.026024   \n",
              "50|doi_dedup___::528fe145915ceda3e385c1907fb25a7b -0.082716  0.402456   \n",
              "\n",
              "                                                        254       255  \n",
              "50|doi_dedup___::3da4b5b1a22214ecc1bb0eb03295eab0  0.038865  0.140505  \n",
              "50|doi_dedup___::4d029bd3cd0928f8115d44185ee2a708  0.113733 -0.545246  \n",
              "50|doi_dedup___::8d220e65a7dc941055151965a7f7d80c -0.226346 -0.159449  \n",
              "50|arXiv_______::f89f361dc90195bdf0a737fe193d7db8  0.234617  0.398862  \n",
              "50|doi_dedup___::528fe145915ceda3e385c1907fb25a7b  0.042787 -0.514669  \n",
              "\n",
              "[5 rows x 256 columns]"
            ],
            "text/html": [
              "\n",
              "  <div id=\"df-7468861d-5211-467b-87e9-d3d5cd368578\">\n",
              "    <div class=\"colab-df-container\">\n",
              "      <div>\n",
              "<style scoped>\n",
              "    .dataframe tbody tr th:only-of-type {\n",
              "        vertical-align: middle;\n",
              "    }\n",
              "\n",
              "    .dataframe tbody tr th {\n",
              "        vertical-align: top;\n",
              "    }\n",
              "\n",
              "    .dataframe thead th {\n",
              "        text-align: right;\n",
              "    }\n",
              "</style>\n",
              "<table border=\"1\" class=\"dataframe\">\n",
              "  <thead>\n",
              "    <tr style=\"text-align: right;\">\n",
              "      <th></th>\n",
              "      <th>0</th>\n",
              "      <th>1</th>\n",
              "      <th>2</th>\n",
              "      <th>3</th>\n",
              "      <th>4</th>\n",
              "      <th>5</th>\n",
              "      <th>6</th>\n",
              "      <th>7</th>\n",
              "      <th>8</th>\n",
              "      <th>9</th>\n",
              "      <th>...</th>\n",
              "      <th>246</th>\n",
              "      <th>247</th>\n",
              "      <th>248</th>\n",
              "      <th>249</th>\n",
              "      <th>250</th>\n",
              "      <th>251</th>\n",
              "      <th>252</th>\n",
              "      <th>253</th>\n",
              "      <th>254</th>\n",
              "      <th>255</th>\n",
              "    </tr>\n",
              "  </thead>\n",
              "  <tbody>\n",
              "    <tr>\n",
              "      <th>50|doi_dedup___::3da4b5b1a22214ecc1bb0eb03295eab0</th>\n",
              "      <td>-0.005207</td>\n",
              "      <td>0.110791</td>\n",
              "      <td>-0.185311</td>\n",
              "      <td>0.053689</td>\n",
              "      <td>0.222624</td>\n",
              "      <td>-0.068528</td>\n",
              "      <td>0.006292</td>\n",
              "      <td>-0.093620</td>\n",
              "      <td>0.577514</td>\n",
              "      <td>0.178990</td>\n",
              "      <td>...</td>\n",
              "      <td>0.142705</td>\n",
              "      <td>-0.254240</td>\n",
              "      <td>-0.476120</td>\n",
              "      <td>0.091133</td>\n",
              "      <td>0.049805</td>\n",
              "      <td>-0.039526</td>\n",
              "      <td>0.033121</td>\n",
              "      <td>0.256799</td>\n",
              "      <td>0.038865</td>\n",
              "      <td>0.140505</td>\n",
              "    </tr>\n",
              "    <tr>\n",
              "      <th>50|doi_dedup___::4d029bd3cd0928f8115d44185ee2a708</th>\n",
              "      <td>0.073171</td>\n",
              "      <td>0.241159</td>\n",
              "      <td>0.246454</td>\n",
              "      <td>0.144039</td>\n",
              "      <td>0.370231</td>\n",
              "      <td>-0.393657</td>\n",
              "      <td>-0.574680</td>\n",
              "      <td>-0.103913</td>\n",
              "      <td>-0.226758</td>\n",
              "      <td>0.565594</td>\n",
              "      <td>...</td>\n",
              "      <td>-0.247299</td>\n",
              "      <td>-0.511251</td>\n",
              "      <td>-0.124770</td>\n",
              "      <td>0.241725</td>\n",
              "      <td>0.277702</td>\n",
              "      <td>-0.232385</td>\n",
              "      <td>-0.228270</td>\n",
              "      <td>0.170603</td>\n",
              "      <td>0.113733</td>\n",
              "      <td>-0.545246</td>\n",
              "    </tr>\n",
              "    <tr>\n",
              "      <th>50|doi_dedup___::8d220e65a7dc941055151965a7f7d80c</th>\n",
              "      <td>0.016064</td>\n",
              "      <td>-0.200839</td>\n",
              "      <td>-0.011821</td>\n",
              "      <td>0.205817</td>\n",
              "      <td>0.229148</td>\n",
              "      <td>0.011544</td>\n",
              "      <td>-0.003320</td>\n",
              "      <td>-0.235874</td>\n",
              "      <td>0.710456</td>\n",
              "      <td>0.592544</td>\n",
              "      <td>...</td>\n",
              "      <td>-0.368819</td>\n",
              "      <td>0.209103</td>\n",
              "      <td>0.004926</td>\n",
              "      <td>-0.145881</td>\n",
              "      <td>-0.005403</td>\n",
              "      <td>0.218889</td>\n",
              "      <td>0.138002</td>\n",
              "      <td>-0.023144</td>\n",
              "      <td>-0.226346</td>\n",
              "      <td>-0.159449</td>\n",
              "    </tr>\n",
              "    <tr>\n",
              "      <th>50|arXiv_______::f89f361dc90195bdf0a737fe193d7db8</th>\n",
              "      <td>-0.013083</td>\n",
              "      <td>0.241464</td>\n",
              "      <td>0.254438</td>\n",
              "      <td>0.208799</td>\n",
              "      <td>0.029638</td>\n",
              "      <td>-0.160771</td>\n",
              "      <td>-0.156133</td>\n",
              "      <td>0.106699</td>\n",
              "      <td>0.194448</td>\n",
              "      <td>-0.056061</td>\n",
              "      <td>...</td>\n",
              "      <td>0.066328</td>\n",
              "      <td>-0.245797</td>\n",
              "      <td>-0.361530</td>\n",
              "      <td>0.371413</td>\n",
              "      <td>-0.387059</td>\n",
              "      <td>-0.451244</td>\n",
              "      <td>-0.457428</td>\n",
              "      <td>0.026024</td>\n",
              "      <td>0.234617</td>\n",
              "      <td>0.398862</td>\n",
              "    </tr>\n",
              "    <tr>\n",
              "      <th>50|doi_dedup___::528fe145915ceda3e385c1907fb25a7b</th>\n",
              "      <td>0.073061</td>\n",
              "      <td>-0.044495</td>\n",
              "      <td>-0.041462</td>\n",
              "      <td>0.112776</td>\n",
              "      <td>0.078548</td>\n",
              "      <td>-0.116866</td>\n",
              "      <td>-0.360024</td>\n",
              "      <td>-0.095010</td>\n",
              "      <td>0.266857</td>\n",
              "      <td>0.426064</td>\n",
              "      <td>...</td>\n",
              "      <td>0.189452</td>\n",
              "      <td>-0.339363</td>\n",
              "      <td>0.227647</td>\n",
              "      <td>0.178742</td>\n",
              "      <td>-0.159706</td>\n",
              "      <td>-0.242945</td>\n",
              "      <td>-0.082716</td>\n",
              "      <td>0.402456</td>\n",
              "      <td>0.042787</td>\n",
              "      <td>-0.514669</td>\n",
              "    </tr>\n",
              "  </tbody>\n",
              "</table>\n",
              "<p>5 rows × 256 columns</p>\n",
              "</div>\n",
              "      <button class=\"colab-df-convert\" onclick=\"convertToInteractive('df-7468861d-5211-467b-87e9-d3d5cd368578')\"\n",
              "              title=\"Convert this dataframe to an interactive table.\"\n",
              "              style=\"display:none;\">\n",
              "        \n",
              "  <svg xmlns=\"http://www.w3.org/2000/svg\" height=\"24px\"viewBox=\"0 0 24 24\"\n",
              "       width=\"24px\">\n",
              "    <path d=\"M0 0h24v24H0V0z\" fill=\"none\"/>\n",
              "    <path d=\"M18.56 5.44l.94 2.06.94-2.06 2.06-.94-2.06-.94-.94-2.06-.94 2.06-2.06.94zm-11 1L8.5 8.5l.94-2.06 2.06-.94-2.06-.94L8.5 2.5l-.94 2.06-2.06.94zm10 10l.94 2.06.94-2.06 2.06-.94-2.06-.94-.94-2.06-.94 2.06-2.06.94z\"/><path d=\"M17.41 7.96l-1.37-1.37c-.4-.4-.92-.59-1.43-.59-.52 0-1.04.2-1.43.59L10.3 9.45l-7.72 7.72c-.78.78-.78 2.05 0 2.83L4 21.41c.39.39.9.59 1.41.59.51 0 1.02-.2 1.41-.59l7.78-7.78 2.81-2.81c.8-.78.8-2.07 0-2.86zM5.41 20L4 18.59l7.72-7.72 1.47 1.35L5.41 20z\"/>\n",
              "  </svg>\n",
              "      </button>\n",
              "      \n",
              "  <style>\n",
              "    .colab-df-container {\n",
              "      display:flex;\n",
              "      flex-wrap:wrap;\n",
              "      gap: 12px;\n",
              "    }\n",
              "\n",
              "    .colab-df-convert {\n",
              "      background-color: #E8F0FE;\n",
              "      border: none;\n",
              "      border-radius: 50%;\n",
              "      cursor: pointer;\n",
              "      display: none;\n",
              "      fill: #1967D2;\n",
              "      height: 32px;\n",
              "      padding: 0 0 0 0;\n",
              "      width: 32px;\n",
              "    }\n",
              "\n",
              "    .colab-df-convert:hover {\n",
              "      background-color: #E2EBFA;\n",
              "      box-shadow: 0px 1px 2px rgba(60, 64, 67, 0.3), 0px 1px 3px 1px rgba(60, 64, 67, 0.15);\n",
              "      fill: #174EA6;\n",
              "    }\n",
              "\n",
              "    [theme=dark] .colab-df-convert {\n",
              "      background-color: #3B4455;\n",
              "      fill: #D2E3FC;\n",
              "    }\n",
              "\n",
              "    [theme=dark] .colab-df-convert:hover {\n",
              "      background-color: #434B5C;\n",
              "      box-shadow: 0px 1px 3px 1px rgba(0, 0, 0, 0.15);\n",
              "      filter: drop-shadow(0px 1px 2px rgba(0, 0, 0, 0.3));\n",
              "      fill: #FFFFFF;\n",
              "    }\n",
              "  </style>\n",
              "\n",
              "      <script>\n",
              "        const buttonEl =\n",
              "          document.querySelector('#df-7468861d-5211-467b-87e9-d3d5cd368578 button.colab-df-convert');\n",
              "        buttonEl.style.display =\n",
              "          google.colab.kernel.accessAllowed ? 'block' : 'none';\n",
              "\n",
              "        async function convertToInteractive(key) {\n",
              "          const element = document.querySelector('#df-7468861d-5211-467b-87e9-d3d5cd368578');\n",
              "          const dataTable =\n",
              "            await google.colab.kernel.invokeFunction('convertToInteractive',\n",
              "                                                     [key], {});\n",
              "          if (!dataTable) return;\n",
              "\n",
              "          const docLinkHtml = 'Like what you see? Visit the ' +\n",
              "            '<a target=\"_blank\" href=https://colab.research.google.com/notebooks/data_table.ipynb>data table notebook</a>'\n",
              "            + ' to learn more about interactive tables.';\n",
              "          element.innerHTML = '';\n",
              "          dataTable['output_type'] = 'display_data';\n",
              "          await google.colab.output.renderOutput(dataTable, element);\n",
              "          const docLink = document.createElement('div');\n",
              "          docLink.innerHTML = docLinkHtml;\n",
              "          element.appendChild(docLink);\n",
              "        }\n",
              "      </script>\n",
              "    </div>\n",
              "  </div>\n",
              "  "
            ]
          },
          "metadata": {},
          "execution_count": 84
        }
      ]
    },
    {
      "cell_type": "code",
      "source": [
        "dataset = df.loc[(df['type']=='dataset')]"
      ],
      "metadata": {
        "id": "5ma54lx5kl-7"
      },
      "execution_count": null,
      "outputs": []
    },
    {
      "cell_type": "code",
      "source": [
        "def predict_links(df, article_id):\n",
        "    '''\n",
        "    This function will predict the top N links a node (article_id) should be connected with\n",
        "    which it is not already connected with in G.\n",
        "    \n",
        "    params:\n",
        "        G (Netowrkx Graph) : The network used to create the embeddings\n",
        "        df (DataFrame) : The dataframe which has embeddings associated to each node\n",
        "        article_id (Integer) : The article you're interested \n",
        "        N (Integer) : The number of recommended links you want to return\n",
        "        \n",
        "    returns:\n",
        "        This function will return a list of nodes the input node should be connected with.\n",
        "    '''\n",
        "    \n",
        "    # separate target article with all others\n",
        "    article = df[df.index == article_id]\n",
        "    \n",
        "    return np.array(article)[0]\n",
        "    \n",
        "    \n",
        "  \n",
        "#predict_links(G = G, df = emb_df, article_id = \"Goeree, Ron\", N = 10)"
      ],
      "metadata": {
        "id": "xFvz4zgnk2lO"
      },
      "execution_count": null,
      "outputs": []
    },
    {
      "cell_type": "markdown",
      "source": [
        "## Creating node2vec vector"
      ],
      "metadata": {
        "id": "MPAoW1oIc0ji"
      }
    },
    {
      "cell_type": "code",
      "source": [
        "def user_vector_node2vec(name):\n",
        "  user_vector = predict_links(df = emb_df, article_id = name)\n",
        "  return user_vector"
      ],
      "metadata": {
        "id": "wkuG9AgSntZM"
      },
      "execution_count": null,
      "outputs": []
    },
    {
      "cell_type": "code",
      "source": [
        "users_d['user_vector_node2vec'] = users_d['author_name'].apply(lambda x:user_vector_node2vec(x))"
      ],
      "metadata": {
        "id": "cccB2C7Lnup7"
      },
      "execution_count": null,
      "outputs": []
    },
    {
      "cell_type": "markdown",
      "source": [
        "## generate average vector"
      ],
      "metadata": {
        "id": "Dhusf7uEc4bH"
      }
    },
    {
      "cell_type": "code",
      "source": [
        "users_d['average_vector'] = (users_d['user_vector_doc2vec'] + users_d['user_vector_node2vec'])/2"
      ],
      "metadata": {
        "id": "R8fWieeI2wBL"
      },
      "execution_count": null,
      "outputs": []
    },
    {
      "cell_type": "markdown",
      "source": [
        "# Artefacts # run it after the algorithms "
      ],
      "metadata": {
        "id": "Pag19a43yJ6f"
      }
    },
    {
      "cell_type": "code",
      "source": [
        "def item_vector_node2vec(name):\n",
        "  item_vector = predict_links(df = emb_df, article_id = name)\n",
        "  return item_vector"
      ],
      "metadata": {
        "id": "ysgU3vbXyQpe"
      },
      "execution_count": null,
      "outputs": []
    },
    {
      "cell_type": "code",
      "source": [
        "df['item_vector_node2vec'] = df['id'].apply(lambda x:item_vector_node2vec(x))"
      ],
      "metadata": {
        "id": "ibjFVvPEybDB"
      },
      "execution_count": null,
      "outputs": []
    },
    {
      "cell_type": "code",
      "source": [
        "## Doc2Vec ##"
      ],
      "metadata": {
        "id": "mwOKu0eLyo_K"
      },
      "execution_count": null,
      "outputs": []
    },
    {
      "cell_type": "code",
      "source": [
        "df['item_vector_doc2vec'] = pd.np.empty((len(df), 0)).tolist()"
      ],
      "metadata": {
        "colab": {
          "base_uri": "https://localhost:8080/"
        },
        "id": "aYmZP6sRzTpF",
        "outputId": "b4e5b3e5-207a-498b-c20b-3426274b420f"
      },
      "execution_count": null,
      "outputs": [
        {
          "output_type": "stream",
          "name": "stderr",
          "text": [
            "/usr/local/lib/python3.7/dist-packages/ipykernel_launcher.py:1: FutureWarning: The pandas.np module is deprecated and will be removed from pandas in a future version. Import numpy directly instead\n",
            "  \"\"\"Entry point for launching an IPython kernel.\n"
          ]
        }
      ]
    },
    {
      "cell_type": "code",
      "source": [
        "for i,vec in enumerate(model.docvecs):\n",
        "    df.at[i, \"item_vector_doc2vec\"] = vec\n",
        "\n",
        "### IGNORE ERROR"
      ],
      "metadata": {
        "colab": {
          "base_uri": "https://localhost:8080/",
          "height": 340
        },
        "id": "v-BgI0bPywL2",
        "outputId": "789698db-2369-47f8-b3b0-48469493e38f"
      },
      "execution_count": null,
      "outputs": [
        {
          "output_type": "error",
          "ename": "KeyError",
          "evalue": "ignored",
          "traceback": [
            "\u001b[0;31m---------------------------------------------------------------------------\u001b[0m",
            "\u001b[0;31mKeyError\u001b[0m                                  Traceback (most recent call last)",
            "\u001b[0;32m<ipython-input-89-0a84be2f5a2d>\u001b[0m in \u001b[0;36m<module>\u001b[0;34m()\u001b[0m\n\u001b[0;32m----> 1\u001b[0;31m \u001b[0;32mfor\u001b[0m \u001b[0mi\u001b[0m\u001b[0;34m,\u001b[0m\u001b[0mvec\u001b[0m \u001b[0;32min\u001b[0m \u001b[0menumerate\u001b[0m\u001b[0;34m(\u001b[0m\u001b[0mmodel\u001b[0m\u001b[0;34m.\u001b[0m\u001b[0mdocvecs\u001b[0m\u001b[0;34m)\u001b[0m\u001b[0;34m:\u001b[0m\u001b[0;34m\u001b[0m\u001b[0;34m\u001b[0m\u001b[0m\n\u001b[0m\u001b[1;32m      2\u001b[0m     \u001b[0mdf\u001b[0m\u001b[0;34m.\u001b[0m\u001b[0mat\u001b[0m\u001b[0;34m[\u001b[0m\u001b[0mi\u001b[0m\u001b[0;34m,\u001b[0m \u001b[0;34m\"item_vector_doc2vec\"\u001b[0m\u001b[0;34m]\u001b[0m \u001b[0;34m=\u001b[0m \u001b[0mvec\u001b[0m\u001b[0;34m\u001b[0m\u001b[0;34m\u001b[0m\u001b[0m\n\u001b[1;32m      3\u001b[0m \u001b[0;34m\u001b[0m\u001b[0m\n\u001b[1;32m      4\u001b[0m \u001b[0;31m### IGNORE ERROR\u001b[0m\u001b[0;34m\u001b[0m\u001b[0;34m\u001b[0m\u001b[0;34m\u001b[0m\u001b[0m\n",
            "\u001b[0;32m/usr/local/lib/python3.7/dist-packages/gensim/models/keyedvectors.py\u001b[0m in \u001b[0;36m__getitem__\u001b[0;34m(self, index)\u001b[0m\n\u001b[1;32m   1529\u001b[0m                 \u001b[0;32mreturn\u001b[0m \u001b[0mself\u001b[0m\u001b[0;34m.\u001b[0m\u001b[0mvectors_docs\u001b[0m\u001b[0;34m[\u001b[0m\u001b[0mself\u001b[0m\u001b[0;34m.\u001b[0m\u001b[0m_int_index\u001b[0m\u001b[0;34m(\u001b[0m\u001b[0mindex\u001b[0m\u001b[0;34m,\u001b[0m \u001b[0mself\u001b[0m\u001b[0;34m.\u001b[0m\u001b[0mdoctags\u001b[0m\u001b[0;34m,\u001b[0m \u001b[0mself\u001b[0m\u001b[0;34m.\u001b[0m\u001b[0mmax_rawint\u001b[0m\u001b[0;34m)\u001b[0m\u001b[0;34m]\u001b[0m\u001b[0;34m\u001b[0m\u001b[0;34m\u001b[0m\u001b[0m\n\u001b[1;32m   1530\u001b[0m             \u001b[0;32mreturn\u001b[0m \u001b[0mvstack\u001b[0m\u001b[0;34m(\u001b[0m\u001b[0;34m[\u001b[0m\u001b[0mself\u001b[0m\u001b[0;34m[\u001b[0m\u001b[0mi\u001b[0m\u001b[0;34m]\u001b[0m \u001b[0;32mfor\u001b[0m \u001b[0mi\u001b[0m \u001b[0;32min\u001b[0m \u001b[0mindex\u001b[0m\u001b[0;34m]\u001b[0m\u001b[0;34m)\u001b[0m\u001b[0;34m\u001b[0m\u001b[0;34m\u001b[0m\u001b[0m\n\u001b[0;32m-> 1531\u001b[0;31m         \u001b[0;32mraise\u001b[0m \u001b[0mKeyError\u001b[0m\u001b[0;34m(\u001b[0m\u001b[0;34m\"tag '%s' not seen in training corpus/invalid\"\u001b[0m \u001b[0;34m%\u001b[0m \u001b[0mindex\u001b[0m\u001b[0;34m)\u001b[0m\u001b[0;34m\u001b[0m\u001b[0;34m\u001b[0m\u001b[0m\n\u001b[0m\u001b[1;32m   1532\u001b[0m \u001b[0;34m\u001b[0m\u001b[0m\n\u001b[1;32m   1533\u001b[0m     \u001b[0;32mdef\u001b[0m \u001b[0m__contains__\u001b[0m\u001b[0;34m(\u001b[0m\u001b[0mself\u001b[0m\u001b[0;34m,\u001b[0m \u001b[0mindex\u001b[0m\u001b[0;34m)\u001b[0m\u001b[0;34m:\u001b[0m\u001b[0;34m\u001b[0m\u001b[0;34m\u001b[0m\u001b[0m\n",
            "\u001b[0;31mKeyError\u001b[0m: \"tag '3906' not seen in training corpus/invalid\""
          ]
        }
      ]
    },
    {
      "cell_type": "code",
      "source": [
        "df['average_vector'] = (df['item_vector_doc2vec'] + df['item_vector_node2vec'])/2"
      ],
      "metadata": {
        "id": "w812Kjdh13t2"
      },
      "execution_count": null,
      "outputs": []
    },
    {
      "cell_type": "markdown",
      "source": [
        "\n",
        "# Similarity - Dataset Recsys"
      ],
      "metadata": {
        "id": "iGclAki_3El4"
      }
    },
    {
      "cell_type": "code",
      "source": [
        "from sklearn.metrics.pairwise import cosine_similarity"
      ],
      "metadata": {
        "id": "j4YL0RQg7kic"
      },
      "execution_count": null,
      "outputs": []
    },
    {
      "cell_type": "code",
      "source": [
        "def reshape_func(vector):\n",
        "  return np.array(vector.reshape(1,-1), dtype=object)"
      ],
      "metadata": {
        "id": "vxL-yfQp-EyX"
      },
      "execution_count": null,
      "outputs": []
    },
    {
      "cell_type": "code",
      "source": [
        "df['average_vector_reshaped'] = df['average_vector'].apply(lambda x:reshape_func(x))"
      ],
      "metadata": {
        "id": "17J55Gs4-QPu"
      },
      "execution_count": null,
      "outputs": []
    },
    {
      "cell_type": "code",
      "source": [
        "users_d['average_vector_reshaped'] = users_d['average_vector'].apply(lambda x:reshape_func(x))"
      ],
      "metadata": {
        "id": "_PU5kproAaqv"
      },
      "execution_count": null,
      "outputs": []
    },
    {
      "cell_type": "code",
      "source": [
        "def recommend_hybrid(user):\n",
        "  sim_list = []\n",
        "  for vec in df['average_vector_reshaped']:\n",
        "    sim_list.append(cosine_similarity(user['average_vector_reshaped'], vec)[0][0])\n",
        "  idx = df['average_vector_reshaped'].index.tolist()\n",
        "  idx_sim = dict(zip(idx, sim_list))\n",
        "  idx_sim = sorted(idx_sim.items(), key=lambda x: x[1], reverse=True)\n",
        "  similar_items = idx_sim[:100]\n",
        "  all_items = [df['id'][art[0]] for art in similar_items]\n",
        "  filtered_items = [n for n in all_items if n not in list(user['id'])]\n",
        "  return filtered_items[:10]"
      ],
      "metadata": {
        "id": "VqdmL05U3Gtx"
      },
      "execution_count": null,
      "outputs": []
    },
    {
      "cell_type": "code",
      "source": [
        "users_d['rec_items'] = users_d.apply(lambda x:recommend_hybrid(x),axis=1)"
      ],
      "metadata": {
        "id": "qXhDLZpp7uBe"
      },
      "execution_count": null,
      "outputs": []
    },
    {
      "cell_type": "markdown",
      "source": [
        "### Hit-rate@1 Evaluation"
      ],
      "metadata": {
        "id": "zNxOA3capbzN"
      }
    },
    {
      "cell_type": "code",
      "source": [
        "def hit_rate_d(row):\n",
        "  for item in row[\"rec_items\"]:\n",
        "    if item == row['leave_one_out_d']:\n",
        "      return 1\n",
        "  return 0 "
      ],
      "metadata": {
        "id": "f9O2rsQSo8iy"
      },
      "execution_count": null,
      "outputs": []
    },
    {
      "cell_type": "code",
      "source": [
        "users_d['hit_rate_d'] = users_d.apply(lambda x:hit_rate_d(x),axis=1)"
      ],
      "metadata": {
        "id": "CO_STPLco9GC"
      },
      "execution_count": null,
      "outputs": []
    },
    {
      "cell_type": "code",
      "source": [
        "users_d['hit_rate_d'].mean()"
      ],
      "metadata": {
        "colab": {
          "base_uri": "https://localhost:8080/"
        },
        "id": "soyMgVsWqZst",
        "outputId": "95fedd5a-0152-4c64-ba27-da9d62293053"
      },
      "execution_count": null,
      "outputs": [
        {
          "output_type": "execute_result",
          "data": {
            "text/plain": [
              "0.6993464052287581"
            ]
          },
          "metadata": {},
          "execution_count": 96
        }
      ]
    },
    {
      "cell_type": "markdown",
      "source": [
        "### Hit-rate@2 Evaluation"
      ],
      "metadata": {
        "id": "5wLcnxDj-0dY"
      }
    },
    {
      "cell_type": "code",
      "source": [
        "def hit_rate_d(row):\n",
        "  for item in row[\"rec_items\"]:\n",
        "    if item in row['leave_two_out_d']:\n",
        "      return 1\n",
        "  return 0 "
      ],
      "metadata": {
        "id": "785RkEn9-zsR"
      },
      "execution_count": null,
      "outputs": []
    },
    {
      "cell_type": "code",
      "source": [
        "users_d['hit_rate_d'] = users_d.apply(lambda x:hit_rate_d(x),axis=1)"
      ],
      "metadata": {
        "id": "lxp8qQqs_HE7"
      },
      "execution_count": null,
      "outputs": []
    },
    {
      "cell_type": "code",
      "source": [
        "users_d['hit_rate_d'].mean()"
      ],
      "metadata": {
        "colab": {
          "base_uri": "https://localhost:8080/"
        },
        "id": "j1oNPazw_IRN",
        "outputId": "83cbd888-ebd4-41e1-f10b-ca6870640883"
      },
      "execution_count": null,
      "outputs": [
        {
          "output_type": "execute_result",
          "data": {
            "text/plain": [
              "0.8496732026143791"
            ]
          },
          "metadata": {},
          "execution_count": 52
        }
      ]
    },
    {
      "cell_type": "code",
      "source": [],
      "metadata": {
        "id": "ROO7_zVmUIwN"
      },
      "execution_count": null,
      "outputs": []
    },
    {
      "cell_type": "markdown",
      "source": [
        "### Hit-rate@3 Evaluation"
      ],
      "metadata": {
        "id": "xBKqNZiwHZjf"
      }
    },
    {
      "cell_type": "code",
      "source": [
        "users_d[users_d['leave_three_out_d'].isna()]"
      ],
      "metadata": {
        "colab": {
          "base_uri": "https://localhost:8080/",
          "height": 49
        },
        "id": "h46RXrOWNPy_",
        "outputId": "14d0dc26-9f64-41b9-d38e-8e0cf5bb9817"
      },
      "execution_count": null,
      "outputs": [
        {
          "output_type": "execute_result",
          "data": {
            "text/plain": [
              "Empty DataFrame\n",
              "Columns: [author_name, id, d_counter, leave_three_out_d, user_vector_doc2vec, user_vector_node2vec, average_vector, average_vector_reshaped, rec_items]\n",
              "Index: []"
            ],
            "text/html": [
              "\n",
              "  <div id=\"df-2859a1d2-475a-4e1d-b680-69356d954d63\">\n",
              "    <div class=\"colab-df-container\">\n",
              "      <div>\n",
              "<style scoped>\n",
              "    .dataframe tbody tr th:only-of-type {\n",
              "        vertical-align: middle;\n",
              "    }\n",
              "\n",
              "    .dataframe tbody tr th {\n",
              "        vertical-align: top;\n",
              "    }\n",
              "\n",
              "    .dataframe thead th {\n",
              "        text-align: right;\n",
              "    }\n",
              "</style>\n",
              "<table border=\"1\" class=\"dataframe\">\n",
              "  <thead>\n",
              "    <tr style=\"text-align: right;\">\n",
              "      <th></th>\n",
              "      <th>author_name</th>\n",
              "      <th>id</th>\n",
              "      <th>d_counter</th>\n",
              "      <th>leave_three_out_d</th>\n",
              "      <th>user_vector_doc2vec</th>\n",
              "      <th>user_vector_node2vec</th>\n",
              "      <th>average_vector</th>\n",
              "      <th>average_vector_reshaped</th>\n",
              "      <th>rec_items</th>\n",
              "    </tr>\n",
              "  </thead>\n",
              "  <tbody>\n",
              "  </tbody>\n",
              "</table>\n",
              "</div>\n",
              "      <button class=\"colab-df-convert\" onclick=\"convertToInteractive('df-2859a1d2-475a-4e1d-b680-69356d954d63')\"\n",
              "              title=\"Convert this dataframe to an interactive table.\"\n",
              "              style=\"display:none;\">\n",
              "        \n",
              "  <svg xmlns=\"http://www.w3.org/2000/svg\" height=\"24px\"viewBox=\"0 0 24 24\"\n",
              "       width=\"24px\">\n",
              "    <path d=\"M0 0h24v24H0V0z\" fill=\"none\"/>\n",
              "    <path d=\"M18.56 5.44l.94 2.06.94-2.06 2.06-.94-2.06-.94-.94-2.06-.94 2.06-2.06.94zm-11 1L8.5 8.5l.94-2.06 2.06-.94-2.06-.94L8.5 2.5l-.94 2.06-2.06.94zm10 10l.94 2.06.94-2.06 2.06-.94-2.06-.94-.94-2.06-.94 2.06-2.06.94z\"/><path d=\"M17.41 7.96l-1.37-1.37c-.4-.4-.92-.59-1.43-.59-.52 0-1.04.2-1.43.59L10.3 9.45l-7.72 7.72c-.78.78-.78 2.05 0 2.83L4 21.41c.39.39.9.59 1.41.59.51 0 1.02-.2 1.41-.59l7.78-7.78 2.81-2.81c.8-.78.8-2.07 0-2.86zM5.41 20L4 18.59l7.72-7.72 1.47 1.35L5.41 20z\"/>\n",
              "  </svg>\n",
              "      </button>\n",
              "      \n",
              "  <style>\n",
              "    .colab-df-container {\n",
              "      display:flex;\n",
              "      flex-wrap:wrap;\n",
              "      gap: 12px;\n",
              "    }\n",
              "\n",
              "    .colab-df-convert {\n",
              "      background-color: #E8F0FE;\n",
              "      border: none;\n",
              "      border-radius: 50%;\n",
              "      cursor: pointer;\n",
              "      display: none;\n",
              "      fill: #1967D2;\n",
              "      height: 32px;\n",
              "      padding: 0 0 0 0;\n",
              "      width: 32px;\n",
              "    }\n",
              "\n",
              "    .colab-df-convert:hover {\n",
              "      background-color: #E2EBFA;\n",
              "      box-shadow: 0px 1px 2px rgba(60, 64, 67, 0.3), 0px 1px 3px 1px rgba(60, 64, 67, 0.15);\n",
              "      fill: #174EA6;\n",
              "    }\n",
              "\n",
              "    [theme=dark] .colab-df-convert {\n",
              "      background-color: #3B4455;\n",
              "      fill: #D2E3FC;\n",
              "    }\n",
              "\n",
              "    [theme=dark] .colab-df-convert:hover {\n",
              "      background-color: #434B5C;\n",
              "      box-shadow: 0px 1px 3px 1px rgba(0, 0, 0, 0.15);\n",
              "      filter: drop-shadow(0px 1px 2px rgba(0, 0, 0, 0.3));\n",
              "      fill: #FFFFFF;\n",
              "    }\n",
              "  </style>\n",
              "\n",
              "      <script>\n",
              "        const buttonEl =\n",
              "          document.querySelector('#df-2859a1d2-475a-4e1d-b680-69356d954d63 button.colab-df-convert');\n",
              "        buttonEl.style.display =\n",
              "          google.colab.kernel.accessAllowed ? 'block' : 'none';\n",
              "\n",
              "        async function convertToInteractive(key) {\n",
              "          const element = document.querySelector('#df-2859a1d2-475a-4e1d-b680-69356d954d63');\n",
              "          const dataTable =\n",
              "            await google.colab.kernel.invokeFunction('convertToInteractive',\n",
              "                                                     [key], {});\n",
              "          if (!dataTable) return;\n",
              "\n",
              "          const docLinkHtml = 'Like what you see? Visit the ' +\n",
              "            '<a target=\"_blank\" href=https://colab.research.google.com/notebooks/data_table.ipynb>data table notebook</a>'\n",
              "            + ' to learn more about interactive tables.';\n",
              "          element.innerHTML = '';\n",
              "          dataTable['output_type'] = 'display_data';\n",
              "          await google.colab.output.renderOutput(dataTable, element);\n",
              "          const docLink = document.createElement('div');\n",
              "          docLink.innerHTML = docLinkHtml;\n",
              "          element.appendChild(docLink);\n",
              "        }\n",
              "      </script>\n",
              "    </div>\n",
              "  </div>\n",
              "  "
            ]
          },
          "metadata": {},
          "execution_count": 51
        }
      ]
    },
    {
      "cell_type": "code",
      "source": [
        "def hit_rate_d(row):\n",
        "  for item in row[\"rec_items\"]:\n",
        "    if item in row['leave_three_out_d']:\n",
        "      return 1\n",
        "  return 0 "
      ],
      "metadata": {
        "id": "QxHr-pHWHauL"
      },
      "execution_count": null,
      "outputs": []
    },
    {
      "cell_type": "code",
      "source": [
        "users_d['hit_rate_d'] = users_d.apply(lambda x:hit_rate_d(x),axis=1)"
      ],
      "metadata": {
        "id": "9DCK2TUMHeOF"
      },
      "execution_count": null,
      "outputs": []
    },
    {
      "cell_type": "code",
      "source": [
        "users_d['hit_rate_d'].mean()"
      ],
      "metadata": {
        "colab": {
          "base_uri": "https://localhost:8080/"
        },
        "id": "tQ0ERyD3HfI8",
        "outputId": "6caf381f-bd5d-491d-f338-c0d5b03ddbc4"
      },
      "execution_count": null,
      "outputs": [
        {
          "output_type": "execute_result",
          "data": {
            "text/plain": [
              "0.8562091503267973"
            ]
          },
          "metadata": {},
          "execution_count": 54
        }
      ]
    },
    {
      "cell_type": "markdown",
      "source": [
        "# Doc2Vec - Software Recsys"
      ],
      "metadata": {
        "id": "-e65oyP_S0XJ"
      }
    },
    {
      "cell_type": "code",
      "source": [
        "from gensim import models\n",
        "def tagged_document(list_of_list_of_words):\n",
        "   for i, list_of_words in enumerate(list_of_list_of_words):\n",
        "      yield models.doc2vec.TaggedDocument(list_of_words, [i])\n",
        "data_training = list(tagged_document(data))"
      ],
      "metadata": {
        "id": "p7uoxG3SZKZ9"
      },
      "execution_count": null,
      "outputs": []
    },
    {
      "cell_type": "code",
      "source": [
        "model = models.doc2vec.Doc2Vec(vector_size=64, min_count=2, epochs=100)\n",
        "model.build_vocab(data_training)\n",
        "model.train(data_training, total_examples=model.corpus_count, epochs=model.epochs)"
      ],
      "metadata": {
        "id": "3YJlGTAIZK8s"
      },
      "execution_count": null,
      "outputs": []
    },
    {
      "cell_type": "code",
      "source": [
        "def user_vector_doc2vec(user_list):\n",
        "  import numpy as np\n",
        "  user_profile = []\n",
        "  for user_id in user_list:\n",
        "    user_index = df[df['id']==user_id].index\n",
        "    user_profile.append(model.docvecs[user_index[0]])\n",
        "  column_average = [sum(sub_list) / len(sub_list) for sub_list in zip(*user_profile)]\n",
        "  user_vector = np.array(column_average)\n",
        "  return user_vector\n"
      ],
      "metadata": {
        "id": "kCBHiLpvZNTd"
      },
      "execution_count": null,
      "outputs": []
    },
    {
      "cell_type": "code",
      "source": [
        "users = pd.read_json('/content/gdrive/MyDrive/Recommendation_Systems_Activities/Journal/Data/users_june21/users_v3.json')\n",
        "users = users.loc[users.astype(str).drop_duplicates(subset=['id']).index]\n",
        "users.reset_index(drop=True, inplace=True)"
      ],
      "metadata": {
        "id": "n1sGo__9ZQCL"
      },
      "execution_count": null,
      "outputs": []
    },
    {
      "cell_type": "code",
      "source": [
        "def sw_counter(user_prof):\n",
        "  sw_counter = 0\n",
        "  for id in user_prof:\n",
        "    item_type = df[df['id'] == id]['type']\n",
        "    for i in item_type:\n",
        "      if str(i) == 'software':\n",
        "        sw_counter += 1\n",
        "  return sw_counter"
      ],
      "metadata": {
        "id": "RL6qSG_6S6ri"
      },
      "execution_count": null,
      "outputs": []
    },
    {
      "cell_type": "code",
      "source": [
        "users['sw_counter'] = users['id'].apply(lambda row : sw_counter(row))"
      ],
      "metadata": {
        "id": "CNqp-JuhVCu8"
      },
      "execution_count": null,
      "outputs": []
    },
    {
      "cell_type": "code",
      "source": [
        "users_sw = users[users['sw_counter'] != 0 ]\n",
        "users_sw.reset_index(drop=True, inplace=True)"
      ],
      "metadata": {
        "id": "_NKbO07pVH3H"
      },
      "execution_count": null,
      "outputs": []
    },
    {
      "cell_type": "code",
      "source": [
        "def leave_one_cv_sw(profile_items):\n",
        "   for item in profile_items:\n",
        "      item_type = df[df['id'] == item]['type'].tolist()\n",
        "      if item_type[0] == 'software':\n",
        "        users_sw['id'] = users_sw['id'].apply(lambda x:[i for i in x if i != item])\n",
        "        return item\n",
        "      "
      ],
      "metadata": {
        "id": "E-rgIW4mVQNc"
      },
      "execution_count": null,
      "outputs": []
    },
    {
      "cell_type": "code",
      "source": [
        "users_sw['leave_one_cv_sw'] = users_sw['id'].apply(lambda x:leave_one_cv_sw(x))"
      ],
      "metadata": {
        "colab": {
          "base_uri": "https://localhost:8080/"
        },
        "id": "vURBJVp9VWHq",
        "outputId": "c65cb461-0274-4aca-bb17-f70b0de60238"
      },
      "execution_count": null,
      "outputs": [
        {
          "output_type": "stream",
          "name": "stderr",
          "text": [
            "/usr/local/lib/python3.7/dist-packages/ipykernel_launcher.py:5: SettingWithCopyWarning: \n",
            "A value is trying to be set on a copy of a slice from a DataFrame.\n",
            "Try using .loc[row_indexer,col_indexer] = value instead\n",
            "\n",
            "See the caveats in the documentation: https://pandas.pydata.org/pandas-docs/stable/user_guide/indexing.html#returning-a-view-versus-a-copy\n",
            "  \"\"\"\n",
            "/usr/local/lib/python3.7/dist-packages/ipykernel_launcher.py:1: SettingWithCopyWarning: \n",
            "A value is trying to be set on a copy of a slice from a DataFrame.\n",
            "Try using .loc[row_indexer,col_indexer] = value instead\n",
            "\n",
            "See the caveats in the documentation: https://pandas.pydata.org/pandas-docs/stable/user_guide/indexing.html#returning-a-view-versus-a-copy\n",
            "  \"\"\"Entry point for launching an IPython kernel.\n"
          ]
        }
      ]
    },
    {
      "cell_type": "code",
      "source": [
        "users_sw['user_vector_doc2vec'] = users_sw['id'].apply(lambda s:user_vector_doc2vec(s)) "
      ],
      "metadata": {
        "colab": {
          "base_uri": "https://localhost:8080/"
        },
        "id": "_0CMmTVBVb9W",
        "outputId": "9a2ded47-51b5-485f-8d51-6357ecc43f5d"
      },
      "execution_count": null,
      "outputs": [
        {
          "output_type": "stream",
          "name": "stderr",
          "text": [
            "/usr/local/lib/python3.7/dist-packages/ipykernel_launcher.py:1: SettingWithCopyWarning: \n",
            "A value is trying to be set on a copy of a slice from a DataFrame.\n",
            "Try using .loc[row_indexer,col_indexer] = value instead\n",
            "\n",
            "See the caveats in the documentation: https://pandas.pydata.org/pandas-docs/stable/user_guide/indexing.html#returning-a-view-versus-a-copy\n",
            "  \"\"\"Entry point for launching an IPython kernel.\n"
          ]
        }
      ]
    },
    {
      "cell_type": "markdown",
      "source": [
        "# Node2Vec - Software RecSys"
      ],
      "metadata": {
        "id": "V9DIGgM4Vx2g"
      }
    },
    {
      "cell_type": "code",
      "source": [
        "all_files = glob.glob(\"/content/gdrive/MyDrive/Recommendation_Systems_Activities/Journal/Data/relation_jun21/*.json\")\n",
        "relation = pd.concat((pd.read_json(f,lines=True) for f in all_files))\n",
        "relation.drop_duplicates(inplace=True)\n",
        "relation.reset_index(drop=True, inplace=True)"
      ],
      "metadata": {
        "id": "m9vOY5krZYXa"
      },
      "execution_count": null,
      "outputs": []
    },
    {
      "cell_type": "code",
      "source": [
        "pip install networkx==2.3"
      ],
      "metadata": {
        "colab": {
          "base_uri": "https://localhost:8080/"
        },
        "id": "IQJ6E4dDZYtd",
        "outputId": "9ed1e624-8d74-4574-e90b-b6725b679a30"
      },
      "execution_count": null,
      "outputs": [
        {
          "output_type": "stream",
          "name": "stdout",
          "text": [
            "Looking in indexes: https://pypi.org/simple, https://us-python.pkg.dev/colab-wheels/public/simple/\n",
            "Requirement already satisfied: networkx==2.3 in /usr/local/lib/python3.7/dist-packages (2.3)\n",
            "Requirement already satisfied: decorator>=4.3.0 in /usr/local/lib/python3.7/dist-packages (from networkx==2.3) (4.4.2)\n"
          ]
        }
      ]
    },
    {
      "cell_type": "code",
      "source": [
        "import networkx as nx\n",
        "import matplotlib.pyplot as plt\n",
        "%matplotlib inline\n",
        "# Build your graph\n",
        "G=nx.from_pandas_edgelist(relation, 'source', 'target')\n",
        "\n",
        "giant = max(nx.connected_component_subgraphs(G), key=len)\n",
        "nodes_list = list(giant.nodes) #List of nodes"
      ],
      "metadata": {
        "id": "0zcWI2fiZa7n"
      },
      "execution_count": null,
      "outputs": []
    },
    {
      "cell_type": "code",
      "source": [],
      "metadata": {
        "id": "h_EMVKsuZfSl"
      },
      "execution_count": null,
      "outputs": []
    },
    {
      "cell_type": "code",
      "source": [
        "authors = users_sw.explode('id')\n",
        "users_g=nx.from_pandas_edgelist(authors, 'author_name', 'id')\n",
        "G = nx.compose(giant, users_g)"
      ],
      "metadata": {
        "id": "KY72IXoTV2at"
      },
      "execution_count": null,
      "outputs": []
    },
    {
      "cell_type": "code",
      "source": [
        "pip install node2vec"
      ],
      "metadata": {
        "colab": {
          "base_uri": "https://localhost:8080/"
        },
        "id": "LefbsVl2WGeh",
        "outputId": "bc133e32-2f6d-4109-b25f-f212bc43ca19"
      },
      "execution_count": null,
      "outputs": [
        {
          "output_type": "stream",
          "name": "stdout",
          "text": [
            "Looking in indexes: https://pypi.org/simple, https://us-python.pkg.dev/colab-wheels/public/simple/\n",
            "Requirement already satisfied: node2vec in /usr/local/lib/python3.7/dist-packages (0.4.3)\n",
            "Requirement already satisfied: gensim in /usr/local/lib/python3.7/dist-packages (from node2vec) (3.6.0)\n",
            "Requirement already satisfied: networkx in /usr/local/lib/python3.7/dist-packages (from node2vec) (2.3)\n",
            "Requirement already satisfied: joblib>=0.13.2 in /usr/local/lib/python3.7/dist-packages (from node2vec) (1.1.0)\n",
            "Requirement already satisfied: tqdm in /usr/local/lib/python3.7/dist-packages (from node2vec) (4.64.0)\n",
            "Requirement already satisfied: numpy in /usr/local/lib/python3.7/dist-packages (from node2vec) (1.21.6)\n",
            "Requirement already satisfied: smart-open>=1.2.1 in /usr/local/lib/python3.7/dist-packages (from gensim->node2vec) (5.2.1)\n",
            "Requirement already satisfied: scipy>=0.18.1 in /usr/local/lib/python3.7/dist-packages (from gensim->node2vec) (1.4.1)\n",
            "Requirement already satisfied: six>=1.5.0 in /usr/local/lib/python3.7/dist-packages (from gensim->node2vec) (1.15.0)\n",
            "Requirement already satisfied: decorator>=4.3.0 in /usr/local/lib/python3.7/dist-packages (from networkx->node2vec) (4.4.2)\n"
          ]
        }
      ]
    },
    {
      "cell_type": "code",
      "source": [
        "from node2vec import Node2Vec as n2v\n",
        "g_emb = n2v(G, dimensions=64)\n",
        "\n",
        "WINDOW = 4 # Node2Vec fit window\n",
        "MIN_COUNT = 1 # Node2Vec min. count\n",
        "BATCH_WORDS = 64 # Node2Vec batch words\n",
        "\n",
        "mdl = g_emb.fit(\n",
        "    window=WINDOW,\n",
        "    min_count=MIN_COUNT,\n",
        "    batch_words=BATCH_WORDS\n",
        ")\n",
        "\n",
        "# create embeddings dataframe\n",
        "emb_df = (\n",
        "    pd.DataFrame(\n",
        "        [mdl.wv.get_vector(str(n)) for n in G.nodes()],\n",
        "        index = G.nodes\n",
        "    )\n",
        ")\n",
        "\n",
        "emb_df.head()"
      ],
      "metadata": {
        "colab": {
          "base_uri": "https://localhost:8080/",
          "height": 349,
          "referenced_widgets": [
            "74525a9a055943b2b89a808136f45d75",
            "5444f08456534346b823d7012a83af3f",
            "3a4f5ca7f144484090ce161f6a275e9b",
            "c16d84a6c35d4dccaa0c216ee7959492",
            "4d2cbf1ba34b4b7b900184d38b803741",
            "a6737d9508c34572bddcf225243ea11e",
            "cfb3b4684bd44e13be5a26ea1eeb50fb",
            "4d1de89b9ce649c3982bbb5166de233b",
            "8598aa3c3c0947e6b7e9b8806f3a4111",
            "b8892d9bfe7645a28e988d25f05acf1a",
            "a86a8e0118024498978fa7a2033ca0ad"
          ]
        },
        "id": "H3Bgq6geWN-C",
        "outputId": "d0a2ddf1-1c61-49b7-c184-615b9fd67f12"
      },
      "execution_count": null,
      "outputs": [
        {
          "output_type": "display_data",
          "data": {
            "text/plain": [
              "Computing transition probabilities:   0%|          | 0/2447 [00:00<?, ?it/s]"
            ],
            "application/vnd.jupyter.widget-view+json": {
              "version_major": 2,
              "version_minor": 0,
              "model_id": "74525a9a055943b2b89a808136f45d75"
            }
          },
          "metadata": {}
        },
        {
          "output_type": "stream",
          "name": "stderr",
          "text": [
            "Generating walks (CPU: 1): 100%|██████████| 10/10 [01:47<00:00, 10.78s/it]\n"
          ]
        },
        {
          "output_type": "execute_result",
          "data": {
            "text/plain": [
              "                                                         0         1   \\\n",
              "50|doi_dedup___::b5c0187b9b14a1005fc252cca6dfd63a  1.202392 -0.557133   \n",
              "50|doi_dedup___::1436daf2f6408384a1de58a7ae5b8619  0.722363  0.069371   \n",
              "50|doi_dedup___::4e4fcf4c5658febfbe65d08a65905342  0.522479 -0.043646   \n",
              "50|doi_dedup___::c2c40984b2fba1e242bc06bcd0bb91cd -0.048725 -0.259533   \n",
              "50|doi_dedup___::1d36dcb6c376a2fecef8ec7ea7f5e78c  0.924456 -0.305343   \n",
              "\n",
              "                                                         2         3   \\\n",
              "50|doi_dedup___::b5c0187b9b14a1005fc252cca6dfd63a -0.528513  0.154287   \n",
              "50|doi_dedup___::1436daf2f6408384a1de58a7ae5b8619  0.213405  0.552462   \n",
              "50|doi_dedup___::4e4fcf4c5658febfbe65d08a65905342 -0.607593  0.585873   \n",
              "50|doi_dedup___::c2c40984b2fba1e242bc06bcd0bb91cd  0.470435  0.945771   \n",
              "50|doi_dedup___::1d36dcb6c376a2fecef8ec7ea7f5e78c  0.305293  0.622434   \n",
              "\n",
              "                                                         4         5   \\\n",
              "50|doi_dedup___::b5c0187b9b14a1005fc252cca6dfd63a  0.435833  0.525865   \n",
              "50|doi_dedup___::1436daf2f6408384a1de58a7ae5b8619  0.642898 -0.282088   \n",
              "50|doi_dedup___::4e4fcf4c5658febfbe65d08a65905342  0.468629  0.960085   \n",
              "50|doi_dedup___::c2c40984b2fba1e242bc06bcd0bb91cd  0.339599  0.035982   \n",
              "50|doi_dedup___::1d36dcb6c376a2fecef8ec7ea7f5e78c  1.088523  0.227392   \n",
              "\n",
              "                                                         6         7   \\\n",
              "50|doi_dedup___::b5c0187b9b14a1005fc252cca6dfd63a  0.167366  0.145525   \n",
              "50|doi_dedup___::1436daf2f6408384a1de58a7ae5b8619 -0.096145 -0.462140   \n",
              "50|doi_dedup___::4e4fcf4c5658febfbe65d08a65905342  0.481845  0.263597   \n",
              "50|doi_dedup___::c2c40984b2fba1e242bc06bcd0bb91cd -0.526796 -0.289019   \n",
              "50|doi_dedup___::1d36dcb6c376a2fecef8ec7ea7f5e78c  0.325939  0.216133   \n",
              "\n",
              "                                                         8         9   ...  \\\n",
              "50|doi_dedup___::b5c0187b9b14a1005fc252cca6dfd63a  1.847796  0.233889  ...   \n",
              "50|doi_dedup___::1436daf2f6408384a1de58a7ae5b8619  0.365763 -0.186876  ...   \n",
              "50|doi_dedup___::4e4fcf4c5658febfbe65d08a65905342  1.094236  0.745757  ...   \n",
              "50|doi_dedup___::c2c40984b2fba1e242bc06bcd0bb91cd  0.637828  0.774852  ...   \n",
              "50|doi_dedup___::1d36dcb6c376a2fecef8ec7ea7f5e78c  0.944095 -0.208833  ...   \n",
              "\n",
              "                                                         54        55  \\\n",
              "50|doi_dedup___::b5c0187b9b14a1005fc252cca6dfd63a  0.581680  1.095658   \n",
              "50|doi_dedup___::1436daf2f6408384a1de58a7ae5b8619 -0.098001  0.596585   \n",
              "50|doi_dedup___::4e4fcf4c5658febfbe65d08a65905342 -0.524652  0.219186   \n",
              "50|doi_dedup___::c2c40984b2fba1e242bc06bcd0bb91cd  0.504572  0.082771   \n",
              "50|doi_dedup___::1d36dcb6c376a2fecef8ec7ea7f5e78c -0.748517  1.402469   \n",
              "\n",
              "                                                         56        57  \\\n",
              "50|doi_dedup___::b5c0187b9b14a1005fc252cca6dfd63a  0.330313 -0.197624   \n",
              "50|doi_dedup___::1436daf2f6408384a1de58a7ae5b8619 -0.737817  0.462870   \n",
              "50|doi_dedup___::4e4fcf4c5658febfbe65d08a65905342 -0.213119 -0.281225   \n",
              "50|doi_dedup___::c2c40984b2fba1e242bc06bcd0bb91cd -0.130482  0.904876   \n",
              "50|doi_dedup___::1d36dcb6c376a2fecef8ec7ea7f5e78c  0.015325  0.761842   \n",
              "\n",
              "                                                         58        59  \\\n",
              "50|doi_dedup___::b5c0187b9b14a1005fc252cca6dfd63a -0.362270  0.692087   \n",
              "50|doi_dedup___::1436daf2f6408384a1de58a7ae5b8619  0.194390  0.461448   \n",
              "50|doi_dedup___::4e4fcf4c5658febfbe65d08a65905342  0.130193  0.693890   \n",
              "50|doi_dedup___::c2c40984b2fba1e242bc06bcd0bb91cd -0.467881  0.109620   \n",
              "50|doi_dedup___::1d36dcb6c376a2fecef8ec7ea7f5e78c  0.338157  0.345113   \n",
              "\n",
              "                                                         60        61  \\\n",
              "50|doi_dedup___::b5c0187b9b14a1005fc252cca6dfd63a  0.521978 -0.868873   \n",
              "50|doi_dedup___::1436daf2f6408384a1de58a7ae5b8619 -0.274632 -0.091218   \n",
              "50|doi_dedup___::4e4fcf4c5658febfbe65d08a65905342  0.254202 -0.221391   \n",
              "50|doi_dedup___::c2c40984b2fba1e242bc06bcd0bb91cd  0.174369 -0.310916   \n",
              "50|doi_dedup___::1d36dcb6c376a2fecef8ec7ea7f5e78c -0.163361  0.136774   \n",
              "\n",
              "                                                         62        63  \n",
              "50|doi_dedup___::b5c0187b9b14a1005fc252cca6dfd63a  0.977962  0.100116  \n",
              "50|doi_dedup___::1436daf2f6408384a1de58a7ae5b8619  0.794302 -0.738732  \n",
              "50|doi_dedup___::4e4fcf4c5658febfbe65d08a65905342  0.028132 -0.891682  \n",
              "50|doi_dedup___::c2c40984b2fba1e242bc06bcd0bb91cd  0.688191 -0.516854  \n",
              "50|doi_dedup___::1d36dcb6c376a2fecef8ec7ea7f5e78c -0.140990  0.157410  \n",
              "\n",
              "[5 rows x 64 columns]"
            ],
            "text/html": [
              "\n",
              "  <div id=\"df-b1e95ff8-3a77-4617-8dae-5fcef5b1ee14\">\n",
              "    <div class=\"colab-df-container\">\n",
              "      <div>\n",
              "<style scoped>\n",
              "    .dataframe tbody tr th:only-of-type {\n",
              "        vertical-align: middle;\n",
              "    }\n",
              "\n",
              "    .dataframe tbody tr th {\n",
              "        vertical-align: top;\n",
              "    }\n",
              "\n",
              "    .dataframe thead th {\n",
              "        text-align: right;\n",
              "    }\n",
              "</style>\n",
              "<table border=\"1\" class=\"dataframe\">\n",
              "  <thead>\n",
              "    <tr style=\"text-align: right;\">\n",
              "      <th></th>\n",
              "      <th>0</th>\n",
              "      <th>1</th>\n",
              "      <th>2</th>\n",
              "      <th>3</th>\n",
              "      <th>4</th>\n",
              "      <th>5</th>\n",
              "      <th>6</th>\n",
              "      <th>7</th>\n",
              "      <th>8</th>\n",
              "      <th>9</th>\n",
              "      <th>...</th>\n",
              "      <th>54</th>\n",
              "      <th>55</th>\n",
              "      <th>56</th>\n",
              "      <th>57</th>\n",
              "      <th>58</th>\n",
              "      <th>59</th>\n",
              "      <th>60</th>\n",
              "      <th>61</th>\n",
              "      <th>62</th>\n",
              "      <th>63</th>\n",
              "    </tr>\n",
              "  </thead>\n",
              "  <tbody>\n",
              "    <tr>\n",
              "      <th>50|doi_dedup___::b5c0187b9b14a1005fc252cca6dfd63a</th>\n",
              "      <td>1.202392</td>\n",
              "      <td>-0.557133</td>\n",
              "      <td>-0.528513</td>\n",
              "      <td>0.154287</td>\n",
              "      <td>0.435833</td>\n",
              "      <td>0.525865</td>\n",
              "      <td>0.167366</td>\n",
              "      <td>0.145525</td>\n",
              "      <td>1.847796</td>\n",
              "      <td>0.233889</td>\n",
              "      <td>...</td>\n",
              "      <td>0.581680</td>\n",
              "      <td>1.095658</td>\n",
              "      <td>0.330313</td>\n",
              "      <td>-0.197624</td>\n",
              "      <td>-0.362270</td>\n",
              "      <td>0.692087</td>\n",
              "      <td>0.521978</td>\n",
              "      <td>-0.868873</td>\n",
              "      <td>0.977962</td>\n",
              "      <td>0.100116</td>\n",
              "    </tr>\n",
              "    <tr>\n",
              "      <th>50|doi_dedup___::1436daf2f6408384a1de58a7ae5b8619</th>\n",
              "      <td>0.722363</td>\n",
              "      <td>0.069371</td>\n",
              "      <td>0.213405</td>\n",
              "      <td>0.552462</td>\n",
              "      <td>0.642898</td>\n",
              "      <td>-0.282088</td>\n",
              "      <td>-0.096145</td>\n",
              "      <td>-0.462140</td>\n",
              "      <td>0.365763</td>\n",
              "      <td>-0.186876</td>\n",
              "      <td>...</td>\n",
              "      <td>-0.098001</td>\n",
              "      <td>0.596585</td>\n",
              "      <td>-0.737817</td>\n",
              "      <td>0.462870</td>\n",
              "      <td>0.194390</td>\n",
              "      <td>0.461448</td>\n",
              "      <td>-0.274632</td>\n",
              "      <td>-0.091218</td>\n",
              "      <td>0.794302</td>\n",
              "      <td>-0.738732</td>\n",
              "    </tr>\n",
              "    <tr>\n",
              "      <th>50|doi_dedup___::4e4fcf4c5658febfbe65d08a65905342</th>\n",
              "      <td>0.522479</td>\n",
              "      <td>-0.043646</td>\n",
              "      <td>-0.607593</td>\n",
              "      <td>0.585873</td>\n",
              "      <td>0.468629</td>\n",
              "      <td>0.960085</td>\n",
              "      <td>0.481845</td>\n",
              "      <td>0.263597</td>\n",
              "      <td>1.094236</td>\n",
              "      <td>0.745757</td>\n",
              "      <td>...</td>\n",
              "      <td>-0.524652</td>\n",
              "      <td>0.219186</td>\n",
              "      <td>-0.213119</td>\n",
              "      <td>-0.281225</td>\n",
              "      <td>0.130193</td>\n",
              "      <td>0.693890</td>\n",
              "      <td>0.254202</td>\n",
              "      <td>-0.221391</td>\n",
              "      <td>0.028132</td>\n",
              "      <td>-0.891682</td>\n",
              "    </tr>\n",
              "    <tr>\n",
              "      <th>50|doi_dedup___::c2c40984b2fba1e242bc06bcd0bb91cd</th>\n",
              "      <td>-0.048725</td>\n",
              "      <td>-0.259533</td>\n",
              "      <td>0.470435</td>\n",
              "      <td>0.945771</td>\n",
              "      <td>0.339599</td>\n",
              "      <td>0.035982</td>\n",
              "      <td>-0.526796</td>\n",
              "      <td>-0.289019</td>\n",
              "      <td>0.637828</td>\n",
              "      <td>0.774852</td>\n",
              "      <td>...</td>\n",
              "      <td>0.504572</td>\n",
              "      <td>0.082771</td>\n",
              "      <td>-0.130482</td>\n",
              "      <td>0.904876</td>\n",
              "      <td>-0.467881</td>\n",
              "      <td>0.109620</td>\n",
              "      <td>0.174369</td>\n",
              "      <td>-0.310916</td>\n",
              "      <td>0.688191</td>\n",
              "      <td>-0.516854</td>\n",
              "    </tr>\n",
              "    <tr>\n",
              "      <th>50|doi_dedup___::1d36dcb6c376a2fecef8ec7ea7f5e78c</th>\n",
              "      <td>0.924456</td>\n",
              "      <td>-0.305343</td>\n",
              "      <td>0.305293</td>\n",
              "      <td>0.622434</td>\n",
              "      <td>1.088523</td>\n",
              "      <td>0.227392</td>\n",
              "      <td>0.325939</td>\n",
              "      <td>0.216133</td>\n",
              "      <td>0.944095</td>\n",
              "      <td>-0.208833</td>\n",
              "      <td>...</td>\n",
              "      <td>-0.748517</td>\n",
              "      <td>1.402469</td>\n",
              "      <td>0.015325</td>\n",
              "      <td>0.761842</td>\n",
              "      <td>0.338157</td>\n",
              "      <td>0.345113</td>\n",
              "      <td>-0.163361</td>\n",
              "      <td>0.136774</td>\n",
              "      <td>-0.140990</td>\n",
              "      <td>0.157410</td>\n",
              "    </tr>\n",
              "  </tbody>\n",
              "</table>\n",
              "<p>5 rows × 64 columns</p>\n",
              "</div>\n",
              "      <button class=\"colab-df-convert\" onclick=\"convertToInteractive('df-b1e95ff8-3a77-4617-8dae-5fcef5b1ee14')\"\n",
              "              title=\"Convert this dataframe to an interactive table.\"\n",
              "              style=\"display:none;\">\n",
              "        \n",
              "  <svg xmlns=\"http://www.w3.org/2000/svg\" height=\"24px\"viewBox=\"0 0 24 24\"\n",
              "       width=\"24px\">\n",
              "    <path d=\"M0 0h24v24H0V0z\" fill=\"none\"/>\n",
              "    <path d=\"M18.56 5.44l.94 2.06.94-2.06 2.06-.94-2.06-.94-.94-2.06-.94 2.06-2.06.94zm-11 1L8.5 8.5l.94-2.06 2.06-.94-2.06-.94L8.5 2.5l-.94 2.06-2.06.94zm10 10l.94 2.06.94-2.06 2.06-.94-2.06-.94-.94-2.06-.94 2.06-2.06.94z\"/><path d=\"M17.41 7.96l-1.37-1.37c-.4-.4-.92-.59-1.43-.59-.52 0-1.04.2-1.43.59L10.3 9.45l-7.72 7.72c-.78.78-.78 2.05 0 2.83L4 21.41c.39.39.9.59 1.41.59.51 0 1.02-.2 1.41-.59l7.78-7.78 2.81-2.81c.8-.78.8-2.07 0-2.86zM5.41 20L4 18.59l7.72-7.72 1.47 1.35L5.41 20z\"/>\n",
              "  </svg>\n",
              "      </button>\n",
              "      \n",
              "  <style>\n",
              "    .colab-df-container {\n",
              "      display:flex;\n",
              "      flex-wrap:wrap;\n",
              "      gap: 12px;\n",
              "    }\n",
              "\n",
              "    .colab-df-convert {\n",
              "      background-color: #E8F0FE;\n",
              "      border: none;\n",
              "      border-radius: 50%;\n",
              "      cursor: pointer;\n",
              "      display: none;\n",
              "      fill: #1967D2;\n",
              "      height: 32px;\n",
              "      padding: 0 0 0 0;\n",
              "      width: 32px;\n",
              "    }\n",
              "\n",
              "    .colab-df-convert:hover {\n",
              "      background-color: #E2EBFA;\n",
              "      box-shadow: 0px 1px 2px rgba(60, 64, 67, 0.3), 0px 1px 3px 1px rgba(60, 64, 67, 0.15);\n",
              "      fill: #174EA6;\n",
              "    }\n",
              "\n",
              "    [theme=dark] .colab-df-convert {\n",
              "      background-color: #3B4455;\n",
              "      fill: #D2E3FC;\n",
              "    }\n",
              "\n",
              "    [theme=dark] .colab-df-convert:hover {\n",
              "      background-color: #434B5C;\n",
              "      box-shadow: 0px 1px 3px 1px rgba(0, 0, 0, 0.15);\n",
              "      filter: drop-shadow(0px 1px 2px rgba(0, 0, 0, 0.3));\n",
              "      fill: #FFFFFF;\n",
              "    }\n",
              "  </style>\n",
              "\n",
              "      <script>\n",
              "        const buttonEl =\n",
              "          document.querySelector('#df-b1e95ff8-3a77-4617-8dae-5fcef5b1ee14 button.colab-df-convert');\n",
              "        buttonEl.style.display =\n",
              "          google.colab.kernel.accessAllowed ? 'block' : 'none';\n",
              "\n",
              "        async function convertToInteractive(key) {\n",
              "          const element = document.querySelector('#df-b1e95ff8-3a77-4617-8dae-5fcef5b1ee14');\n",
              "          const dataTable =\n",
              "            await google.colab.kernel.invokeFunction('convertToInteractive',\n",
              "                                                     [key], {});\n",
              "          if (!dataTable) return;\n",
              "\n",
              "          const docLinkHtml = 'Like what you see? Visit the ' +\n",
              "            '<a target=\"_blank\" href=https://colab.research.google.com/notebooks/data_table.ipynb>data table notebook</a>'\n",
              "            + ' to learn more about interactive tables.';\n",
              "          element.innerHTML = '';\n",
              "          dataTable['output_type'] = 'display_data';\n",
              "          await google.colab.output.renderOutput(dataTable, element);\n",
              "          const docLink = document.createElement('div');\n",
              "          docLink.innerHTML = docLinkHtml;\n",
              "          element.appendChild(docLink);\n",
              "        }\n",
              "      </script>\n",
              "    </div>\n",
              "  </div>\n",
              "  "
            ]
          },
          "metadata": {},
          "execution_count": 26
        }
      ]
    },
    {
      "cell_type": "code",
      "source": [
        "software = df.loc[(df['type']=='software')]"
      ],
      "metadata": {
        "id": "xSA6usSMWQ0g"
      },
      "execution_count": null,
      "outputs": []
    },
    {
      "cell_type": "code",
      "source": [
        "def predict_links(df, article_id):\n",
        "    '''\n",
        "    This function will predict the top N links a node (article_id) should be connected with\n",
        "    which it is not already connected with in G.\n",
        "    \n",
        "    params:\n",
        "        G (Netowrkx Graph) : The network used to create the embeddings\n",
        "        df (DataFrame) : The dataframe which has embeddings associated to each node\n",
        "        article_id (Integer) : The article you're interested \n",
        "        N (Integer) : The number of recommended links you want to return\n",
        "        \n",
        "    returns:\n",
        "        This function will return a list of nodes the input node should be connected with.\n",
        "    '''\n",
        "    \n",
        "    # separate target article with all others\n",
        "    article = df[df.index == article_id]\n",
        "    \n",
        "    return np.array(article)[0]\n",
        "    \n",
        "    \n",
        "  \n",
        "#predict_links(G = G, df = emb_df, article_id = \"Goeree, Ron\", N = 10)"
      ],
      "metadata": {
        "id": "ibiWdjxhWVBx"
      },
      "execution_count": null,
      "outputs": []
    },
    {
      "cell_type": "code",
      "source": [
        "def user_vector_node2vec(name):\n",
        "  user_vector = predict_links(df = emb_df, article_id = name)\n",
        "  return user_vector"
      ],
      "metadata": {
        "id": "sR-71BJMWYtz"
      },
      "execution_count": null,
      "outputs": []
    },
    {
      "cell_type": "code",
      "source": [
        "users_sw['user_vector_node2vec'] = users_sw['author_name'].apply(lambda x:user_vector_node2vec(x))"
      ],
      "metadata": {
        "colab": {
          "base_uri": "https://localhost:8080/"
        },
        "id": "ZO7rNu28Wh1-",
        "outputId": "0ef451de-f175-45b8-851a-4783f443ba0d"
      },
      "execution_count": null,
      "outputs": [
        {
          "output_type": "stream",
          "name": "stderr",
          "text": [
            "/usr/local/lib/python3.7/dist-packages/ipykernel_launcher.py:1: SettingWithCopyWarning: \n",
            "A value is trying to be set on a copy of a slice from a DataFrame.\n",
            "Try using .loc[row_indexer,col_indexer] = value instead\n",
            "\n",
            "See the caveats in the documentation: https://pandas.pydata.org/pandas-docs/stable/user_guide/indexing.html#returning-a-view-versus-a-copy\n",
            "  \"\"\"Entry point for launching an IPython kernel.\n"
          ]
        }
      ]
    },
    {
      "cell_type": "code",
      "source": [
        "users_sw['average_vector'] = (users_sw['user_vector_doc2vec'] + users_sw['user_vector_node2vec'])/2"
      ],
      "metadata": {
        "colab": {
          "base_uri": "https://localhost:8080/"
        },
        "id": "TpVZrCoJWlak",
        "outputId": "ebc64ab2-a8cb-4cd1-a103-018c4c2f3bc2"
      },
      "execution_count": null,
      "outputs": [
        {
          "output_type": "stream",
          "name": "stderr",
          "text": [
            "/usr/local/lib/python3.7/dist-packages/ipykernel_launcher.py:1: SettingWithCopyWarning: \n",
            "A value is trying to be set on a copy of a slice from a DataFrame.\n",
            "Try using .loc[row_indexer,col_indexer] = value instead\n",
            "\n",
            "See the caveats in the documentation: https://pandas.pydata.org/pandas-docs/stable/user_guide/indexing.html#returning-a-view-versus-a-copy\n",
            "  \"\"\"Entry point for launching an IPython kernel.\n"
          ]
        }
      ]
    },
    {
      "cell_type": "code",
      "source": [],
      "metadata": {
        "id": "GNLm3bNWWrlF"
      },
      "execution_count": null,
      "outputs": []
    },
    {
      "cell_type": "code",
      "source": [],
      "metadata": {
        "id": "_5OBJGv3W21t"
      },
      "execution_count": null,
      "outputs": []
    },
    {
      "cell_type": "markdown",
      "source": [
        "\n",
        "# Similarity - Software RecSys"
      ],
      "metadata": {
        "id": "mABU0xTjW7B1"
      }
    },
    {
      "cell_type": "code",
      "source": [
        "from sklearn.metrics.pairwise import cosine_similarity"
      ],
      "metadata": {
        "id": "xkPYgZedW7B1"
      },
      "execution_count": null,
      "outputs": []
    },
    {
      "cell_type": "code",
      "source": [
        "def reshape_func(vector):\n",
        "  return np.array(vector.reshape(1,-1), dtype=object)"
      ],
      "metadata": {
        "id": "iM0zPJyqW7B1"
      },
      "execution_count": null,
      "outputs": []
    },
    {
      "cell_type": "code",
      "source": [
        "df['average_vector_reshaped'] = df['average_vector'].apply(lambda x:reshape_func(x))"
      ],
      "metadata": {
        "id": "2FShJp48W7B1"
      },
      "execution_count": null,
      "outputs": []
    },
    {
      "cell_type": "code",
      "source": [
        "users_sw['average_vector_reshaped'] = users_sw['average_vector'].apply(lambda x:reshape_func(x))"
      ],
      "metadata": {
        "colab": {
          "base_uri": "https://localhost:8080/"
        },
        "outputId": "36cebccc-1685-4c7e-b4c1-244fec76adec",
        "id": "0ZpQxS3RW7B2"
      },
      "execution_count": null,
      "outputs": [
        {
          "output_type": "stream",
          "name": "stderr",
          "text": [
            "/usr/local/lib/python3.7/dist-packages/ipykernel_launcher.py:1: SettingWithCopyWarning: \n",
            "A value is trying to be set on a copy of a slice from a DataFrame.\n",
            "Try using .loc[row_indexer,col_indexer] = value instead\n",
            "\n",
            "See the caveats in the documentation: https://pandas.pydata.org/pandas-docs/stable/user_guide/indexing.html#returning-a-view-versus-a-copy\n",
            "  \"\"\"Entry point for launching an IPython kernel.\n"
          ]
        }
      ]
    },
    {
      "cell_type": "code",
      "source": [
        "print(type(df['average_vector_reshaped'][0]))"
      ],
      "metadata": {
        "colab": {
          "base_uri": "https://localhost:8080/"
        },
        "outputId": "9164b643-a2ce-4e89-a994-f0dbcfd70985",
        "id": "6LJrLSHmW7B2"
      },
      "execution_count": null,
      "outputs": [
        {
          "output_type": "stream",
          "name": "stdout",
          "text": [
            "<class 'numpy.ndarray'>\n"
          ]
        }
      ]
    },
    {
      "cell_type": "code",
      "source": [
        "def recommend_hybrid(user):\n",
        "  sim_list = []\n",
        "  for vec in df['average_vector_reshaped']:\n",
        "    sim_list.append(cosine_similarity(user['average_vector_reshaped'], vec)[0][0])\n",
        "  idx = df['average_vector_reshaped'].index.tolist()\n",
        "  idx_sim = dict(zip(idx, sim_list))\n",
        "  idx_sim = sorted(idx_sim.items(), key=lambda x: x[1], reverse=True)\n",
        "  similar_items = idx_sim[:100]\n",
        "  all_items = [df['id'][art[0]] for art in similar_items]\n",
        "  filtered_items = [n for n in all_items if n not in list(user['id'])]\n",
        "  return filtered_items[:10]"
      ],
      "metadata": {
        "id": "Oa7WVx_JW7B2"
      },
      "execution_count": null,
      "outputs": []
    },
    {
      "cell_type": "code",
      "source": [
        "users_sw['rec_items'] = users_sw.apply(lambda x:recommend_hybrid(x),axis=1)"
      ],
      "metadata": {
        "colab": {
          "base_uri": "https://localhost:8080/"
        },
        "outputId": "b184362b-7c36-422e-db90-c6c657deb3f4",
        "id": "EAVAefJ4W7B2"
      },
      "execution_count": null,
      "outputs": [
        {
          "output_type": "stream",
          "name": "stderr",
          "text": [
            "/usr/local/lib/python3.7/dist-packages/ipykernel_launcher.py:1: SettingWithCopyWarning: \n",
            "A value is trying to be set on a copy of a slice from a DataFrame.\n",
            "Try using .loc[row_indexer,col_indexer] = value instead\n",
            "\n",
            "See the caveats in the documentation: https://pandas.pydata.org/pandas-docs/stable/user_guide/indexing.html#returning-a-view-versus-a-copy\n",
            "  \"\"\"Entry point for launching an IPython kernel.\n"
          ]
        }
      ]
    },
    {
      "cell_type": "code",
      "source": [
        "def hit_rate_sw(row):\n",
        "  for item in row[\"rec_items\"]:\n",
        "    if item == row['leave_one_cv_sw']:\n",
        "      return 1\n",
        "  return 0 "
      ],
      "metadata": {
        "id": "xUHXK6oPW7B3"
      },
      "execution_count": null,
      "outputs": []
    },
    {
      "cell_type": "code",
      "source": [
        "users_sw['hit_rate_sw'] = users_sw.apply(lambda x:hit_rate_sw(x),axis=1)"
      ],
      "metadata": {
        "colab": {
          "base_uri": "https://localhost:8080/"
        },
        "outputId": "136f1a7a-e4d0-4132-b23e-2f0f1e1e13ac",
        "id": "or9fI8ScW7B3"
      },
      "execution_count": null,
      "outputs": [
        {
          "output_type": "stream",
          "name": "stderr",
          "text": [
            "/usr/local/lib/python3.7/dist-packages/ipykernel_launcher.py:1: SettingWithCopyWarning: \n",
            "A value is trying to be set on a copy of a slice from a DataFrame.\n",
            "Try using .loc[row_indexer,col_indexer] = value instead\n",
            "\n",
            "See the caveats in the documentation: https://pandas.pydata.org/pandas-docs/stable/user_guide/indexing.html#returning-a-view-versus-a-copy\n",
            "  \"\"\"Entry point for launching an IPython kernel.\n"
          ]
        }
      ]
    },
    {
      "cell_type": "code",
      "source": [
        "users_sw['hit_rate_sw'].mean()"
      ],
      "metadata": {
        "colab": {
          "base_uri": "https://localhost:8080/"
        },
        "outputId": "3c5f0200-b14c-4f66-8393-ad5c6624fdb5",
        "id": "m6GnJ0PLW7B3"
      },
      "execution_count": null,
      "outputs": [
        {
          "output_type": "execute_result",
          "data": {
            "text/plain": [
              "0.41935483870967744"
            ]
          },
          "metadata": {},
          "execution_count": 47
        }
      ]
    },
    {
      "cell_type": "code",
      "source": [],
      "metadata": {
        "id": "Sog9F6tiX31N"
      },
      "execution_count": null,
      "outputs": []
    }
  ]
}