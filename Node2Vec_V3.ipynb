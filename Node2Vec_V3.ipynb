{
  "cells": [
    {
      "cell_type": "markdown",
      "metadata": {
        "id": "view-in-github",
        "colab_type": "text"
      },
      "source": [
        "<a href=\"https://colab.research.google.com/github/morarez/dataset-recommender-system/blob/main/Node2Vec_V3.ipynb\" target=\"_parent\"><img src=\"https://colab.research.google.com/assets/colab-badge.svg\" alt=\"Open In Colab\"/></a>"
      ]
    },
    {
      "cell_type": "markdown",
      "metadata": {
        "id": "d537HLB7l8Ae"
      },
      "source": [
        "## Imports"
      ]
    },
    {
      "cell_type": "code",
      "execution_count": null,
      "metadata": {
        "colab": {
          "base_uri": "https://localhost:8080/"
        },
        "id": "cEYlTkZSI4_k",
        "outputId": "02a041f8-2493-4d77-def3-e4ff51f0b5c9"
      },
      "outputs": [
        {
          "output_type": "stream",
          "name": "stdout",
          "text": [
            "Looking in indexes: https://pypi.org/simple, https://us-python.pkg.dev/colab-wheels/public/simple/\n",
            "Collecting node2vec\n",
            "  Downloading node2vec-0.4.3.tar.gz (4.6 kB)\n",
            "Requirement already satisfied: networkx in /usr/local/lib/python3.7/dist-packages (from node2vec) (2.6.3)\n",
            "Requirement already satisfied: gensim in /usr/local/lib/python3.7/dist-packages (from node2vec) (3.6.0)\n",
            "Requirement already satisfied: numpy in /usr/local/lib/python3.7/dist-packages (from node2vec) (1.21.6)\n",
            "Requirement already satisfied: tqdm in /usr/local/lib/python3.7/dist-packages (from node2vec) (4.64.0)\n",
            "Requirement already satisfied: joblib>=0.13.2 in /usr/local/lib/python3.7/dist-packages (from node2vec) (1.1.0)\n",
            "Requirement already satisfied: scipy>=0.18.1 in /usr/local/lib/python3.7/dist-packages (from gensim->node2vec) (1.7.3)\n",
            "Requirement already satisfied: six>=1.5.0 in /usr/local/lib/python3.7/dist-packages (from gensim->node2vec) (1.15.0)\n",
            "Requirement already satisfied: smart-open>=1.2.1 in /usr/local/lib/python3.7/dist-packages (from gensim->node2vec) (5.2.1)\n",
            "Building wheels for collected packages: node2vec\n",
            "  Building wheel for node2vec (setup.py) ... \u001b[?25l\u001b[?25hdone\n",
            "  Created wheel for node2vec: filename=node2vec-0.4.3-py3-none-any.whl size=5980 sha256=1c1abfdc96bf12eecf22fa5acd598f0fac96bdd1fa4dbc7c37a60a9b8f95c837\n",
            "  Stored in directory: /root/.cache/pip/wheels/07/62/78/5202cb8c03cbf1593b48a8a442fca8ceec2a8c80e22318bae9\n",
            "Successfully built node2vec\n",
            "Installing collected packages: node2vec\n",
            "Successfully installed node2vec-0.4.3\n"
          ]
        }
      ],
      "source": [
        "pip install node2vec"
      ]
    },
    {
      "cell_type": "code",
      "execution_count": null,
      "metadata": {
        "colab": {
          "base_uri": "https://localhost:8080/"
        },
        "id": "zqtoqAjnFhmN",
        "outputId": "ffabc91c-68d3-497b-eaef-15db84131d64"
      },
      "outputs": [
        {
          "output_type": "stream",
          "name": "stdout",
          "text": [
            "Looking in indexes: https://pypi.org/simple, https://us-python.pkg.dev/colab-wheels/public/simple/\n",
            "Collecting networkx==2.3\n",
            "  Downloading networkx-2.3.zip (1.7 MB)\n",
            "\u001b[K     |████████████████████████████████| 1.7 MB 28.7 MB/s \n",
            "\u001b[?25hRequirement already satisfied: decorator>=4.3.0 in /usr/local/lib/python3.7/dist-packages (from networkx==2.3) (4.4.2)\n",
            "Building wheels for collected packages: networkx\n",
            "  Building wheel for networkx (setup.py) ... \u001b[?25l\u001b[?25hdone\n",
            "  Created wheel for networkx: filename=networkx-2.3-py2.py3-none-any.whl size=1556008 sha256=b5edaebbbef7b23bff977d494e9f41bf30986695c045b7c68cff0b4416d793b3\n",
            "  Stored in directory: /root/.cache/pip/wheels/44/e6/b8/4efaab31158e9e9ca9ed80b11f6b11130bac9a9672b3cbbeaf\n",
            "Successfully built networkx\n",
            "Installing collected packages: networkx\n",
            "  Attempting uninstall: networkx\n",
            "    Found existing installation: networkx 2.6.3\n",
            "    Uninstalling networkx-2.6.3:\n",
            "      Successfully uninstalled networkx-2.6.3\n",
            "Successfully installed networkx-2.3\n"
          ]
        }
      ],
      "source": [
        "pip install networkx==2.3"
      ]
    },
    {
      "cell_type": "code",
      "execution_count": null,
      "metadata": {
        "colab": {
          "base_uri": "https://localhost:8080/"
        },
        "id": "UfsMSSv9TWQZ",
        "outputId": "49e44fbc-a38a-42cf-8208-c96507d4ba0d"
      },
      "outputs": [
        {
          "output_type": "stream",
          "name": "stdout",
          "text": [
            "Mounted at /content/gdrive\n"
          ]
        }
      ],
      "source": [
        "from google.colab import drive\n",
        "drive.mount(\"/content/gdrive\", force_remount=True)\n",
        "import pandas as pd\n",
        "import numpy as np\n",
        "import glob\n",
        "import os\n",
        "from sklearn.metrics.pairwise import cosine_similarity\n",
        "import matplotlib.pyplot as plt\n",
        "import networkx as nx\n",
        "from node2vec import Node2Vec as n2v"
      ]
    },
    {
      "cell_type": "markdown",
      "metadata": {
        "id": "JTJS3ArtAkZx"
      },
      "source": [
        "## Load relation dataset"
      ]
    },
    {
      "cell_type": "code",
      "execution_count": null,
      "metadata": {
        "id": "_I_0iSf2TZ7Q"
      },
      "outputs": [],
      "source": [
        "#relation = pd.read_json(\"/content/gdrive/MyDrive/Recommendation_Systems_Activities/Journal/Data/data_with_relations_v1/relations.json\",lines=True)\n",
        "all_files = glob.glob(\"/content/gdrive/MyDrive/Recommendation_Systems_Activities/Journal/Data/covid/*.json\")\n",
        "relation = pd.concat((pd.read_json(f,lines=True) for f in all_files))"
      ]
    },
    {
      "cell_type": "code",
      "execution_count": null,
      "metadata": {
        "colab": {
          "base_uri": "https://localhost:8080/",
          "height": 424
        },
        "id": "DEGHoUz7PxsY",
        "outputId": "8c5f22b2-3642-4ae4-feef-2f16a51913b2"
      },
      "outputs": [
        {
          "output_type": "execute_result",
          "data": {
            "text/plain": [
              "               semantics                                             source  \\\n",
              "0                HasPart  50|doi_________::a128862e945845a6eda0055556e4c9bf   \n",
              "1             HasVersion  50|doi_dedup___::45a850328baa01f229514dcbdc2718c8   \n",
              "2             HasVersion  50|doi_dedup___::ab446e7819e296712f207d03ad2a88d5   \n",
              "3             HasVersion  50|doi_dedup___::3193e60e43632830feb16cc7872d7022   \n",
              "4                HasPart  50|doi_________::554f8417219abc81f93e6e350869f6b3   \n",
              "...                  ...                                                ...   \n",
              "120128  IsSupplementedBy  50|doi_dedup___::a73cf577e214825ab16dac0935bcd7f9   \n",
              "120129        References  50|dedup_wf_001::22ebc538f16e565cd2c1cefddbaf402e   \n",
              "120130  IsSupplementedBy  50|doi_dedup___::9ff651c1958de214abdc9ba8f0950e50   \n",
              "120131        References  50|doi_dedup___::b25f0318046decba4829255874d3062b   \n",
              "120132  IsSupplementedBy  50|doi_dedup___::ca2e18c3820099b6b8f58db961ad1af1   \n",
              "\n",
              "                                                   target  \n",
              "0       50|doi_________::a2a622df8b2ae693347feb47ffafc1ae  \n",
              "1       50|doi_dedup___::87f367c5a93019077b90b5ccfaa19418  \n",
              "2       50|doi_dedup___::c771647c3b851a7e9d5e66eced5d1f8c  \n",
              "3       50|doi_________::1a0d128f20c350ebd81bd9e821044bc5  \n",
              "4       50|doi_________::a976db31dea76600c8c6987e0e8c5f75  \n",
              "...                                                   ...  \n",
              "120128  50|doi_dedup___::d71a580c68cc1c064bc9682716109fe4  \n",
              "120129  50|doi_dedup___::5f1127f8159f413b2b31d9cd5c5684d6  \n",
              "120130  50|doi_dedup___::23814e4d445dc945fb0d12e41a168a36  \n",
              "120131  50|doi_dedup___::aab13c957d53082a55bf2266fd5c4a95  \n",
              "120132  50|doi_dedup___::501599e3fd7c76bc0e8cd4fa38bb49f8  \n",
              "\n",
              "[120133 rows x 3 columns]"
            ],
            "text/html": [
              "\n",
              "  <div id=\"df-8528100f-9baf-436e-a1d5-29ce708d02b0\">\n",
              "    <div class=\"colab-df-container\">\n",
              "      <div>\n",
              "<style scoped>\n",
              "    .dataframe tbody tr th:only-of-type {\n",
              "        vertical-align: middle;\n",
              "    }\n",
              "\n",
              "    .dataframe tbody tr th {\n",
              "        vertical-align: top;\n",
              "    }\n",
              "\n",
              "    .dataframe thead th {\n",
              "        text-align: right;\n",
              "    }\n",
              "</style>\n",
              "<table border=\"1\" class=\"dataframe\">\n",
              "  <thead>\n",
              "    <tr style=\"text-align: right;\">\n",
              "      <th></th>\n",
              "      <th>semantics</th>\n",
              "      <th>source</th>\n",
              "      <th>target</th>\n",
              "    </tr>\n",
              "  </thead>\n",
              "  <tbody>\n",
              "    <tr>\n",
              "      <th>0</th>\n",
              "      <td>HasPart</td>\n",
              "      <td>50|doi_________::a128862e945845a6eda0055556e4c9bf</td>\n",
              "      <td>50|doi_________::a2a622df8b2ae693347feb47ffafc1ae</td>\n",
              "    </tr>\n",
              "    <tr>\n",
              "      <th>1</th>\n",
              "      <td>HasVersion</td>\n",
              "      <td>50|doi_dedup___::45a850328baa01f229514dcbdc2718c8</td>\n",
              "      <td>50|doi_dedup___::87f367c5a93019077b90b5ccfaa19418</td>\n",
              "    </tr>\n",
              "    <tr>\n",
              "      <th>2</th>\n",
              "      <td>HasVersion</td>\n",
              "      <td>50|doi_dedup___::ab446e7819e296712f207d03ad2a88d5</td>\n",
              "      <td>50|doi_dedup___::c771647c3b851a7e9d5e66eced5d1f8c</td>\n",
              "    </tr>\n",
              "    <tr>\n",
              "      <th>3</th>\n",
              "      <td>HasVersion</td>\n",
              "      <td>50|doi_dedup___::3193e60e43632830feb16cc7872d7022</td>\n",
              "      <td>50|doi_________::1a0d128f20c350ebd81bd9e821044bc5</td>\n",
              "    </tr>\n",
              "    <tr>\n",
              "      <th>4</th>\n",
              "      <td>HasPart</td>\n",
              "      <td>50|doi_________::554f8417219abc81f93e6e350869f6b3</td>\n",
              "      <td>50|doi_________::a976db31dea76600c8c6987e0e8c5f75</td>\n",
              "    </tr>\n",
              "    <tr>\n",
              "      <th>...</th>\n",
              "      <td>...</td>\n",
              "      <td>...</td>\n",
              "      <td>...</td>\n",
              "    </tr>\n",
              "    <tr>\n",
              "      <th>120128</th>\n",
              "      <td>IsSupplementedBy</td>\n",
              "      <td>50|doi_dedup___::a73cf577e214825ab16dac0935bcd7f9</td>\n",
              "      <td>50|doi_dedup___::d71a580c68cc1c064bc9682716109fe4</td>\n",
              "    </tr>\n",
              "    <tr>\n",
              "      <th>120129</th>\n",
              "      <td>References</td>\n",
              "      <td>50|dedup_wf_001::22ebc538f16e565cd2c1cefddbaf402e</td>\n",
              "      <td>50|doi_dedup___::5f1127f8159f413b2b31d9cd5c5684d6</td>\n",
              "    </tr>\n",
              "    <tr>\n",
              "      <th>120130</th>\n",
              "      <td>IsSupplementedBy</td>\n",
              "      <td>50|doi_dedup___::9ff651c1958de214abdc9ba8f0950e50</td>\n",
              "      <td>50|doi_dedup___::23814e4d445dc945fb0d12e41a168a36</td>\n",
              "    </tr>\n",
              "    <tr>\n",
              "      <th>120131</th>\n",
              "      <td>References</td>\n",
              "      <td>50|doi_dedup___::b25f0318046decba4829255874d3062b</td>\n",
              "      <td>50|doi_dedup___::aab13c957d53082a55bf2266fd5c4a95</td>\n",
              "    </tr>\n",
              "    <tr>\n",
              "      <th>120132</th>\n",
              "      <td>IsSupplementedBy</td>\n",
              "      <td>50|doi_dedup___::ca2e18c3820099b6b8f58db961ad1af1</td>\n",
              "      <td>50|doi_dedup___::501599e3fd7c76bc0e8cd4fa38bb49f8</td>\n",
              "    </tr>\n",
              "  </tbody>\n",
              "</table>\n",
              "<p>120133 rows × 3 columns</p>\n",
              "</div>\n",
              "      <button class=\"colab-df-convert\" onclick=\"convertToInteractive('df-8528100f-9baf-436e-a1d5-29ce708d02b0')\"\n",
              "              title=\"Convert this dataframe to an interactive table.\"\n",
              "              style=\"display:none;\">\n",
              "        \n",
              "  <svg xmlns=\"http://www.w3.org/2000/svg\" height=\"24px\"viewBox=\"0 0 24 24\"\n",
              "       width=\"24px\">\n",
              "    <path d=\"M0 0h24v24H0V0z\" fill=\"none\"/>\n",
              "    <path d=\"M18.56 5.44l.94 2.06.94-2.06 2.06-.94-2.06-.94-.94-2.06-.94 2.06-2.06.94zm-11 1L8.5 8.5l.94-2.06 2.06-.94-2.06-.94L8.5 2.5l-.94 2.06-2.06.94zm10 10l.94 2.06.94-2.06 2.06-.94-2.06-.94-.94-2.06-.94 2.06-2.06.94z\"/><path d=\"M17.41 7.96l-1.37-1.37c-.4-.4-.92-.59-1.43-.59-.52 0-1.04.2-1.43.59L10.3 9.45l-7.72 7.72c-.78.78-.78 2.05 0 2.83L4 21.41c.39.39.9.59 1.41.59.51 0 1.02-.2 1.41-.59l7.78-7.78 2.81-2.81c.8-.78.8-2.07 0-2.86zM5.41 20L4 18.59l7.72-7.72 1.47 1.35L5.41 20z\"/>\n",
              "  </svg>\n",
              "      </button>\n",
              "      \n",
              "  <style>\n",
              "    .colab-df-container {\n",
              "      display:flex;\n",
              "      flex-wrap:wrap;\n",
              "      gap: 12px;\n",
              "    }\n",
              "\n",
              "    .colab-df-convert {\n",
              "      background-color: #E8F0FE;\n",
              "      border: none;\n",
              "      border-radius: 50%;\n",
              "      cursor: pointer;\n",
              "      display: none;\n",
              "      fill: #1967D2;\n",
              "      height: 32px;\n",
              "      padding: 0 0 0 0;\n",
              "      width: 32px;\n",
              "    }\n",
              "\n",
              "    .colab-df-convert:hover {\n",
              "      background-color: #E2EBFA;\n",
              "      box-shadow: 0px 1px 2px rgba(60, 64, 67, 0.3), 0px 1px 3px 1px rgba(60, 64, 67, 0.15);\n",
              "      fill: #174EA6;\n",
              "    }\n",
              "\n",
              "    [theme=dark] .colab-df-convert {\n",
              "      background-color: #3B4455;\n",
              "      fill: #D2E3FC;\n",
              "    }\n",
              "\n",
              "    [theme=dark] .colab-df-convert:hover {\n",
              "      background-color: #434B5C;\n",
              "      box-shadow: 0px 1px 3px 1px rgba(0, 0, 0, 0.15);\n",
              "      filter: drop-shadow(0px 1px 2px rgba(0, 0, 0, 0.3));\n",
              "      fill: #FFFFFF;\n",
              "    }\n",
              "  </style>\n",
              "\n",
              "      <script>\n",
              "        const buttonEl =\n",
              "          document.querySelector('#df-8528100f-9baf-436e-a1d5-29ce708d02b0 button.colab-df-convert');\n",
              "        buttonEl.style.display =\n",
              "          google.colab.kernel.accessAllowed ? 'block' : 'none';\n",
              "\n",
              "        async function convertToInteractive(key) {\n",
              "          const element = document.querySelector('#df-8528100f-9baf-436e-a1d5-29ce708d02b0');\n",
              "          const dataTable =\n",
              "            await google.colab.kernel.invokeFunction('convertToInteractive',\n",
              "                                                     [key], {});\n",
              "          if (!dataTable) return;\n",
              "\n",
              "          const docLinkHtml = 'Like what you see? Visit the ' +\n",
              "            '<a target=\"_blank\" href=https://colab.research.google.com/notebooks/data_table.ipynb>data table notebook</a>'\n",
              "            + ' to learn more about interactive tables.';\n",
              "          element.innerHTML = '';\n",
              "          dataTable['output_type'] = 'display_data';\n",
              "          await google.colab.output.renderOutput(dataTable, element);\n",
              "          const docLink = document.createElement('div');\n",
              "          docLink.innerHTML = docLinkHtml;\n",
              "          element.appendChild(docLink);\n",
              "        }\n",
              "      </script>\n",
              "    </div>\n",
              "  </div>\n",
              "  "
            ]
          },
          "metadata": {},
          "execution_count": 5
        }
      ],
      "source": [
        "relation.drop_duplicates(inplace=True)\n",
        "relation.reset_index(drop=True, inplace=True)\n",
        "relation"
      ]
    },
    {
      "cell_type": "code",
      "execution_count": null,
      "metadata": {
        "colab": {
          "base_uri": "https://localhost:8080/"
        },
        "id": "QkOpDssyasFr",
        "outputId": "6f786962-233d-4867-fd1b-71813b09d3b7"
      },
      "outputs": [
        {
          "data": {
            "text/plain": [
              "References          93167\n",
              "HasPart             18639\n",
              "IsSupplementedBy     4393\n",
              "HasVersion           1050\n",
              "Cites                1028\n",
              "Documents             845\n",
              "Compiles              515\n",
              "IsNewVersionOf        390\n",
              "IsSourceOf             88\n",
              "Continues               9\n",
              "IsRelatedTo             8\n",
              "IsOriginalFormOf        1\n",
              "Name: semantics, dtype: int64"
            ]
          },
          "execution_count": 52,
          "metadata": {},
          "output_type": "execute_result"
        }
      ],
      "source": [
        "relation['semantics'].value_counts()"
      ]
    },
    {
      "cell_type": "markdown",
      "metadata": {
        "id": "EUF5ciC-fTmO"
      },
      "source": [
        "## Create graph from relations"
      ]
    },
    {
      "cell_type": "code",
      "execution_count": null,
      "metadata": {
        "id": "I5UkoO6-T_lN"
      },
      "outputs": [],
      "source": [
        "%matplotlib inline\n",
        "# Build your graph\n",
        "G=nx.from_pandas_edgelist(relation, 'source', 'target')\n",
        "# Plot it\n",
        "#nx.draw(G, with_labels=False)\n",
        "#plt.show()"
      ]
    },
    {
      "cell_type": "code",
      "execution_count": null,
      "metadata": {
        "id": "RJZqvMjJ8E2u"
      },
      "outputs": [],
      "source": [
        "giant = max(nx.connected_component_subgraphs(G), key=len)"
      ]
    },
    {
      "cell_type": "code",
      "execution_count": null,
      "metadata": {
        "colab": {
          "base_uri": "https://localhost:8080/"
        },
        "id": "fo8Y9HZYGqBi",
        "outputId": "baed27a4-b3b0-46ed-f363-571364d3065e"
      },
      "outputs": [
        {
          "output_type": "execute_result",
          "data": {
            "text/plain": [
              "1"
            ]
          },
          "metadata": {},
          "execution_count": 8
        }
      ],
      "source": [
        "nx.number_connected_components(giant)"
      ]
    },
    {
      "cell_type": "code",
      "execution_count": null,
      "metadata": {
        "colab": {
          "base_uri": "https://localhost:8080/"
        },
        "id": "pxnbvQFiHx6a",
        "outputId": "813af6f9-1641-4ed8-fb7b-b7b021e6426f"
      },
      "outputs": [
        {
          "output_type": "execute_result",
          "data": {
            "text/plain": [
              "23666"
            ]
          },
          "metadata": {},
          "execution_count": 21
        }
      ],
      "source": [
        "giant.number_of_nodes()"
      ]
    },
    {
      "cell_type": "code",
      "execution_count": null,
      "metadata": {
        "colab": {
          "base_uri": "https://localhost:8080/"
        },
        "id": "3QZOk0yTINON",
        "outputId": "84e72e1d-0a58-4516-f3be-08c854642424"
      },
      "outputs": [
        {
          "output_type": "execute_result",
          "data": {
            "text/plain": [
              "92191"
            ]
          },
          "metadata": {},
          "execution_count": 10
        }
      ],
      "source": [
        "giant.number_of_edges()"
      ]
    },
    {
      "cell_type": "code",
      "execution_count": null,
      "metadata": {
        "colab": {
          "base_uri": "https://localhost:8080/",
          "height": 1000
        },
        "id": "p19yj61LaqsO",
        "outputId": "97543b83-d108-4a92-8a9c-1260c6c49237"
      },
      "outputs": [
        {
          "data": {
            "application/vnd.google.colaboratory.intrinsic+json": {
              "type": "string"
            },
            "text/plain": [
              "'Name: \\nType: Graph\\nNumber of nodes: 3964\\nNumber of edges: 4105\\nAverage degree:   2.0711'"
            ]
          },
          "execution_count": 12,
          "metadata": {},
          "output_type": "execute_result"
        }
      ],
      "source": [
        "nx.info(giant)"
      ]
    },
    {
      "cell_type": "code",
      "execution_count": null,
      "metadata": {
        "colab": {
          "base_uri": "https://localhost:8080/"
        },
        "id": "iVwEYcjjRUHk",
        "outputId": "4f81fadb-ceb8-40ad-f331-0175d10f6ac3"
      },
      "outputs": [
        {
          "output_type": "execute_result",
          "data": {
            "text/plain": [
              "23666"
            ]
          },
          "metadata": {},
          "execution_count": 22
        }
      ],
      "source": [
        "nodes_list = list(giant.nodes) #List of nodes\n",
        "len(nodes_list)"
      ]
    },
    {
      "cell_type": "code",
      "execution_count": null,
      "metadata": {
        "id": "LUPpradHWi-e"
      },
      "outputs": [],
      "source": [
        "# Save nodes to file\n",
        "\n",
        "nodes = pd.DataFrame({'id':nodes_list}) \n",
        "nodes.to_csv('covid_nodes.csv') \n"
      ]
    },
    {
      "cell_type": "markdown",
      "metadata": {
        "id": "D7yCKMwiBkG6"
      },
      "source": [
        "## Load artifacts dataset"
      ]
    },
    {
      "cell_type": "code",
      "execution_count": null,
      "metadata": {
        "id": "vSAHdgxaZ4dA"
      },
      "outputs": [],
      "source": [
        "#df_artifacts = pd.read_json('/content/gdrive/MyDrive/Recommendation_Systems_Activities/Journal/Data/data_with_relations_v1/cleaned_concat_result.json')\n",
        "all_files = glob.glob(\"/content/gdrive/MyDrive/Recommendation_Systems_Activities/Journal/Data/covid-final-metadata/*.json\")\n",
        "df_artifacts = pd.concat((pd.read_json(f,lines=True) for f in all_files))\n",
        "#df_artifacts = pd.read_json('/content/gdrive/MyDrive/Recommendation_Systems_Activities/Journal/Data/Metadata_21june/metadata_v3.json')\n",
        "#df_artifacts = pd.read_json('/content/gdrive/MyDrive/Recommendation_Systems_Activities/Journal/Data/ni_3900/metadata_ni_3900.json', orient='index')"
      ]
    },
    {
      "cell_type": "code",
      "execution_count": null,
      "metadata": {
        "colab": {
          "base_uri": "https://localhost:8080/",
          "height": 468
        },
        "id": "4BbGclJUV6YN",
        "outputId": "bab6c82e-bd7c-4ecd-a43c-a2dc1a3c624d"
      },
      "outputs": [
        {
          "output_type": "execute_result",
          "data": {
            "text/plain": [
              "                                                     id  \\\n",
              "0     50|doi_________::005645fa800b3a4f2fe09d2146095304   \n",
              "1     50|doi_________::23d6acc951dc4dba1946aa65d0268edf   \n",
              "2     50|doi_________::62f6c0b6159c5d387224ff6d4feab667   \n",
              "3     50|doi_________::86e59e1c8e7688f780e7e83642b6915f   \n",
              "4     50|doi_________::e38c960a591bd46e3ce070251c72c2eb   \n",
              "...                                                 ...   \n",
              "5434  50|doi_________::1b3fbec2ea983ea0011fee5c713b2100   \n",
              "5435  50|doi_________::474b9ee02046c31dbc0745864f697aa4   \n",
              "5436  50|doi_________::746c3f6e360bad388b08b38b812d6eff   \n",
              "5437  50|doi_________::d9fbbc337440707a45cd1232cd7d28e0   \n",
              "5438  50|doi_________::e2abe068e36fe878d7faaefc72dbd67c   \n",
              "\n",
              "                     title_value                              subject_value  \\\n",
              "0     [GBIF Occurrence Download]  [GBIF, biodiversity, species occurrences]   \n",
              "1          [Occurrence Download]  [GBIF, biodiversity, species occurrences]   \n",
              "2          [Occurrence Download]  [GBIF, biodiversity, species occurrences]   \n",
              "3     [GBIF Occurrence Download]  [GBIF, biodiversity, species occurrences]   \n",
              "4          [Occurrence Download]  [GBIF, biodiversity, species occurrences]   \n",
              "...                          ...                                        ...   \n",
              "5434  [GBIF Occurrence Download]  [GBIF, biodiversity, species occurrences]   \n",
              "5435       [Occurrence Download]  [GBIF, biodiversity, species occurrences]   \n",
              "5436       [Occurrence Download]  [GBIF, biodiversity, species occurrences]   \n",
              "5437       [Occurrence Download]  [GBIF, biodiversity, species occurrences]   \n",
              "5438       [Occurrence Download]  [GBIF, biodiversity, species occurrences]   \n",
              "\n",
              "                 author_name  \\\n",
              "0     [Occdownload Gbif.Org]   \n",
              "1     [Occdownload Gbif.Org]   \n",
              "2     [Occdownload Gbif.Org]   \n",
              "3     [Occdownload Gbif.Org]   \n",
              "4     [Occdownload Gbif.Org]   \n",
              "...                      ...   \n",
              "5434  [Occdownload Gbif.Org]   \n",
              "5435  [Occdownload Gbif.Org]   \n",
              "5436  [Occdownload Gbif.Org]   \n",
              "5437  [Occdownload Gbif.Org]   \n",
              "5438  [Occdownload Gbif.Org]   \n",
              "\n",
              "                                         abstract_value  \n",
              "0     A dataset containing 2724646 species occurrenc...  \n",
              "1     A dataset containing 1762932735 species occurr...  \n",
              "2     A dataset containing 3333517 species occurrenc...  \n",
              "3     A dataset containing 113004 species occurrence...  \n",
              "4     A dataset containing 2343 species occurrences ...  \n",
              "...                                                 ...  \n",
              "5434  A dataset containing 4454 species occurrences ...  \n",
              "5435  A dataset containing 13861960 species occurren...  \n",
              "5436  A dataset containing 7467785 species occurrenc...  \n",
              "5437  A dataset containing 1923978734 species occurr...  \n",
              "5438  A dataset containing 7432 species occurrences ...  \n",
              "\n",
              "[5439 rows x 5 columns]"
            ],
            "text/html": [
              "\n",
              "  <div id=\"df-3e567f6e-2bfb-4cd4-9a5b-482718b54e4c\">\n",
              "    <div class=\"colab-df-container\">\n",
              "      <div>\n",
              "<style scoped>\n",
              "    .dataframe tbody tr th:only-of-type {\n",
              "        vertical-align: middle;\n",
              "    }\n",
              "\n",
              "    .dataframe tbody tr th {\n",
              "        vertical-align: top;\n",
              "    }\n",
              "\n",
              "    .dataframe thead th {\n",
              "        text-align: right;\n",
              "    }\n",
              "</style>\n",
              "<table border=\"1\" class=\"dataframe\">\n",
              "  <thead>\n",
              "    <tr style=\"text-align: right;\">\n",
              "      <th></th>\n",
              "      <th>id</th>\n",
              "      <th>title_value</th>\n",
              "      <th>subject_value</th>\n",
              "      <th>author_name</th>\n",
              "      <th>abstract_value</th>\n",
              "    </tr>\n",
              "  </thead>\n",
              "  <tbody>\n",
              "    <tr>\n",
              "      <th>0</th>\n",
              "      <td>50|doi_________::005645fa800b3a4f2fe09d2146095304</td>\n",
              "      <td>[GBIF Occurrence Download]</td>\n",
              "      <td>[GBIF, biodiversity, species occurrences]</td>\n",
              "      <td>[Occdownload Gbif.Org]</td>\n",
              "      <td>A dataset containing 2724646 species occurrenc...</td>\n",
              "    </tr>\n",
              "    <tr>\n",
              "      <th>1</th>\n",
              "      <td>50|doi_________::23d6acc951dc4dba1946aa65d0268edf</td>\n",
              "      <td>[Occurrence Download]</td>\n",
              "      <td>[GBIF, biodiversity, species occurrences]</td>\n",
              "      <td>[Occdownload Gbif.Org]</td>\n",
              "      <td>A dataset containing 1762932735 species occurr...</td>\n",
              "    </tr>\n",
              "    <tr>\n",
              "      <th>2</th>\n",
              "      <td>50|doi_________::62f6c0b6159c5d387224ff6d4feab667</td>\n",
              "      <td>[Occurrence Download]</td>\n",
              "      <td>[GBIF, biodiversity, species occurrences]</td>\n",
              "      <td>[Occdownload Gbif.Org]</td>\n",
              "      <td>A dataset containing 3333517 species occurrenc...</td>\n",
              "    </tr>\n",
              "    <tr>\n",
              "      <th>3</th>\n",
              "      <td>50|doi_________::86e59e1c8e7688f780e7e83642b6915f</td>\n",
              "      <td>[GBIF Occurrence Download]</td>\n",
              "      <td>[GBIF, biodiversity, species occurrences]</td>\n",
              "      <td>[Occdownload Gbif.Org]</td>\n",
              "      <td>A dataset containing 113004 species occurrence...</td>\n",
              "    </tr>\n",
              "    <tr>\n",
              "      <th>4</th>\n",
              "      <td>50|doi_________::e38c960a591bd46e3ce070251c72c2eb</td>\n",
              "      <td>[Occurrence Download]</td>\n",
              "      <td>[GBIF, biodiversity, species occurrences]</td>\n",
              "      <td>[Occdownload Gbif.Org]</td>\n",
              "      <td>A dataset containing 2343 species occurrences ...</td>\n",
              "    </tr>\n",
              "    <tr>\n",
              "      <th>...</th>\n",
              "      <td>...</td>\n",
              "      <td>...</td>\n",
              "      <td>...</td>\n",
              "      <td>...</td>\n",
              "      <td>...</td>\n",
              "    </tr>\n",
              "    <tr>\n",
              "      <th>5434</th>\n",
              "      <td>50|doi_________::1b3fbec2ea983ea0011fee5c713b2100</td>\n",
              "      <td>[GBIF Occurrence Download]</td>\n",
              "      <td>[GBIF, biodiversity, species occurrences]</td>\n",
              "      <td>[Occdownload Gbif.Org]</td>\n",
              "      <td>A dataset containing 4454 species occurrences ...</td>\n",
              "    </tr>\n",
              "    <tr>\n",
              "      <th>5435</th>\n",
              "      <td>50|doi_________::474b9ee02046c31dbc0745864f697aa4</td>\n",
              "      <td>[Occurrence Download]</td>\n",
              "      <td>[GBIF, biodiversity, species occurrences]</td>\n",
              "      <td>[Occdownload Gbif.Org]</td>\n",
              "      <td>A dataset containing 13861960 species occurren...</td>\n",
              "    </tr>\n",
              "    <tr>\n",
              "      <th>5436</th>\n",
              "      <td>50|doi_________::746c3f6e360bad388b08b38b812d6eff</td>\n",
              "      <td>[Occurrence Download]</td>\n",
              "      <td>[GBIF, biodiversity, species occurrences]</td>\n",
              "      <td>[Occdownload Gbif.Org]</td>\n",
              "      <td>A dataset containing 7467785 species occurrenc...</td>\n",
              "    </tr>\n",
              "    <tr>\n",
              "      <th>5437</th>\n",
              "      <td>50|doi_________::d9fbbc337440707a45cd1232cd7d28e0</td>\n",
              "      <td>[Occurrence Download]</td>\n",
              "      <td>[GBIF, biodiversity, species occurrences]</td>\n",
              "      <td>[Occdownload Gbif.Org]</td>\n",
              "      <td>A dataset containing 1923978734 species occurr...</td>\n",
              "    </tr>\n",
              "    <tr>\n",
              "      <th>5438</th>\n",
              "      <td>50|doi_________::e2abe068e36fe878d7faaefc72dbd67c</td>\n",
              "      <td>[Occurrence Download]</td>\n",
              "      <td>[GBIF, biodiversity, species occurrences]</td>\n",
              "      <td>[Occdownload Gbif.Org]</td>\n",
              "      <td>A dataset containing 7432 species occurrences ...</td>\n",
              "    </tr>\n",
              "  </tbody>\n",
              "</table>\n",
              "<p>5439 rows × 5 columns</p>\n",
              "</div>\n",
              "      <button class=\"colab-df-convert\" onclick=\"convertToInteractive('df-3e567f6e-2bfb-4cd4-9a5b-482718b54e4c')\"\n",
              "              title=\"Convert this dataframe to an interactive table.\"\n",
              "              style=\"display:none;\">\n",
              "        \n",
              "  <svg xmlns=\"http://www.w3.org/2000/svg\" height=\"24px\"viewBox=\"0 0 24 24\"\n",
              "       width=\"24px\">\n",
              "    <path d=\"M0 0h24v24H0V0z\" fill=\"none\"/>\n",
              "    <path d=\"M18.56 5.44l.94 2.06.94-2.06 2.06-.94-2.06-.94-.94-2.06-.94 2.06-2.06.94zm-11 1L8.5 8.5l.94-2.06 2.06-.94-2.06-.94L8.5 2.5l-.94 2.06-2.06.94zm10 10l.94 2.06.94-2.06 2.06-.94-2.06-.94-.94-2.06-.94 2.06-2.06.94z\"/><path d=\"M17.41 7.96l-1.37-1.37c-.4-.4-.92-.59-1.43-.59-.52 0-1.04.2-1.43.59L10.3 9.45l-7.72 7.72c-.78.78-.78 2.05 0 2.83L4 21.41c.39.39.9.59 1.41.59.51 0 1.02-.2 1.41-.59l7.78-7.78 2.81-2.81c.8-.78.8-2.07 0-2.86zM5.41 20L4 18.59l7.72-7.72 1.47 1.35L5.41 20z\"/>\n",
              "  </svg>\n",
              "      </button>\n",
              "      \n",
              "  <style>\n",
              "    .colab-df-container {\n",
              "      display:flex;\n",
              "      flex-wrap:wrap;\n",
              "      gap: 12px;\n",
              "    }\n",
              "\n",
              "    .colab-df-convert {\n",
              "      background-color: #E8F0FE;\n",
              "      border: none;\n",
              "      border-radius: 50%;\n",
              "      cursor: pointer;\n",
              "      display: none;\n",
              "      fill: #1967D2;\n",
              "      height: 32px;\n",
              "      padding: 0 0 0 0;\n",
              "      width: 32px;\n",
              "    }\n",
              "\n",
              "    .colab-df-convert:hover {\n",
              "      background-color: #E2EBFA;\n",
              "      box-shadow: 0px 1px 2px rgba(60, 64, 67, 0.3), 0px 1px 3px 1px rgba(60, 64, 67, 0.15);\n",
              "      fill: #174EA6;\n",
              "    }\n",
              "\n",
              "    [theme=dark] .colab-df-convert {\n",
              "      background-color: #3B4455;\n",
              "      fill: #D2E3FC;\n",
              "    }\n",
              "\n",
              "    [theme=dark] .colab-df-convert:hover {\n",
              "      background-color: #434B5C;\n",
              "      box-shadow: 0px 1px 3px 1px rgba(0, 0, 0, 0.15);\n",
              "      filter: drop-shadow(0px 1px 2px rgba(0, 0, 0, 0.3));\n",
              "      fill: #FFFFFF;\n",
              "    }\n",
              "  </style>\n",
              "\n",
              "      <script>\n",
              "        const buttonEl =\n",
              "          document.querySelector('#df-3e567f6e-2bfb-4cd4-9a5b-482718b54e4c button.colab-df-convert');\n",
              "        buttonEl.style.display =\n",
              "          google.colab.kernel.accessAllowed ? 'block' : 'none';\n",
              "\n",
              "        async function convertToInteractive(key) {\n",
              "          const element = document.querySelector('#df-3e567f6e-2bfb-4cd4-9a5b-482718b54e4c');\n",
              "          const dataTable =\n",
              "            await google.colab.kernel.invokeFunction('convertToInteractive',\n",
              "                                                     [key], {});\n",
              "          if (!dataTable) return;\n",
              "\n",
              "          const docLinkHtml = 'Like what you see? Visit the ' +\n",
              "            '<a target=\"_blank\" href=https://colab.research.google.com/notebooks/data_table.ipynb>data table notebook</a>'\n",
              "            + ' to learn more about interactive tables.';\n",
              "          element.innerHTML = '';\n",
              "          dataTable['output_type'] = 'display_data';\n",
              "          await google.colab.output.renderOutput(dataTable, element);\n",
              "          const docLink = document.createElement('div');\n",
              "          docLink.innerHTML = docLinkHtml;\n",
              "          element.appendChild(docLink);\n",
              "        }\n",
              "      </script>\n",
              "    </div>\n",
              "  </div>\n",
              "  "
            ]
          },
          "metadata": {},
          "execution_count": 6
        }
      ],
      "source": [
        "df_artifacts"
      ]
    },
    {
      "cell_type": "code",
      "source": [
        "df_artifacts['abstract_value'][4243]"
      ],
      "metadata": {
        "colab": {
          "base_uri": "https://localhost:8080/",
          "height": 122
        },
        "id": "xRxBfOPI7--j",
        "outputId": "51ae5458-b82c-48ca-c840-cd3e26aab1c3"
      },
      "execution_count": null,
      "outputs": [
        {
          "output_type": "execute_result",
          "data": {
            "text/plain": [
              "'A dataset containing 3895376 species occurrences available in GBIF matching the query: { \"and\" : [ \"Year is 2008\", \"Month is May\", \"HasCoordinate is TRUE\" ] } The dataset includes 3895376 records from 2225 constituent datasets: 1 records from List of animalia, fungi and plant species recorded through naturalist observations and research activities in Benin. Data mobilized in the framework of a JRS Biodiversity Foundation project of Benin. 30 records from Flickr (01) Shieldbugs &amp; allied species. 545 records from Données de répartition de l’association FLAVIA A.D.E. acquises avec un financement public.. 7081 records from Dragonfly records from the British Dragonfly Society\\'s Dragonfly Recording Network for the period up to 2014. 33 records from Canadian Museum of Nature Herbarium. 126 records from Fiocruz/COLFLEB - Coleção de Flebotomíneos. 1 records from Banco de Germoplasma del Real Jardín Botánico Juan Carlos I. 2 records from ZUEC-LEP - Coleção de Lepidoptera do Museu de Zoologia da UNICAMP. 3 records from Computarización de la colección de dinoflagelados marinos (CODIMAR). 1654 records from Monitoring data from the federal state Saxony (Germany). 105 records from BIRDRACE Kiesmätze. 66 records from BIRDRACE Die schrägen Vögel aus dem Sauerland 2. 30 records from Códigos de barras de la vida en peces y zooplancton de México. 2 records from Dynamics of Submerged Aquatic Vegetation - DIVAS. 119 records from Bees of Ireland. 123 records from R. L. McGregor Herbarium Vascular Plants Collection. 22 records from SEWBReC Bees, Wasps and Ants (South East Wales). 26 records from Derbyshire Red Data List Plant Records 1930 - 2014. 154 records from Sorensen distance for herbivores. 4 records from Transferts SI Faune - Données naturalistes de Michel LECONTE. 35 records from University of Guam Insect Collection. 917 records from KTP Ring Data. 5 records from NMMNH Mammal. 36 records from Amphibian and reptile data for Dumfries and Galloway.. 21 records from Chronicle of Na'"
            ],
            "application/vnd.google.colaboratory.intrinsic+json": {
              "type": "string"
            }
          },
          "metadata": {},
          "execution_count": 14
        }
      ]
    },
    {
      "cell_type": "code",
      "source": [
        "df_artifacts.drop_duplicates(subset=['id'],inplace=True)"
      ],
      "metadata": {
        "id": "4blwyKV2LQ7O"
      },
      "execution_count": null,
      "outputs": []
    },
    {
      "cell_type": "code",
      "execution_count": null,
      "metadata": {
        "id": "h2l0dV4QUMEW"
      },
      "outputs": [],
      "source": [
        "df_artifacts.reset_index(drop=True, inplace=True)"
      ]
    },
    {
      "cell_type": "code",
      "source": [
        "df_artifacts"
      ],
      "metadata": {
        "colab": {
          "base_uri": "https://localhost:8080/",
          "height": 1000
        },
        "id": "wjF_fVyzLdp7",
        "outputId": "25aa6f6d-a99d-4bb3-f34b-b29a86185212"
      },
      "execution_count": null,
      "outputs": [
        {
          "output_type": "execute_result",
          "data": {
            "text/plain": [
              "                                                      id  \\\n",
              "0      50|doi_dedup___::4c5405ce1853ba281aa310605ea4b615   \n",
              "1      50|doi_________::8fa129b16b69ff1b49862aeea71fdd13   \n",
              "2      50|doi_________::91fdf9bd4696aa61ebbce5cc61aa2cb6   \n",
              "3      50|doi_dedup___::39a98283b52a5831f7058aeae793bb03   \n",
              "4      50|doi_dedup___::c37ba849d5caebff68328dcae92c4a30   \n",
              "...                                                  ...   \n",
              "17408  50|doi_________::7f0913bf29699169567b3c730a7f71ab   \n",
              "17409  50|doi_________::c770a7d0d8b9c3b56b47d44421545e83   \n",
              "17410  50|doi_________::f23d0bd3c11f580f13b818cc5019da5b   \n",
              "17411  50|doi_________::1a272c0dd418d8d6c43e5f094950d836   \n",
              "17412  50|doi_________::8f25d194c7fb30d3a49f1639a80f2aed   \n",
              "\n",
              "                                             title_value  \\\n",
              "0      [Two new remarkable genera and two new species...   \n",
              "1      [<p><strong>Thirteen new species of Agromyzida...   \n",
              "2      [Two new species of Bothriurus Peters, 1861 (S...   \n",
              "3      [The first data on species diversity of leeche...   \n",
              "4      [Review of the genus Bythonia Oman 1936 with d...   \n",
              "...                                                  ...   \n",
              "17408                         [GBIF Occurrence Download]   \n",
              "17409                         [GBIF Occurrence Download]   \n",
              "17410                              [Occurrence Download]   \n",
              "17411                              [Occurrence Download]   \n",
              "17412                              [Occurrence Download]   \n",
              "\n",
              "                                           subject_value  \\\n",
              "0      [Ecology, Evolution, Behavior and Systematics,...   \n",
              "1      [Animal Science and Zoology, Ecology, Evolutio...   \n",
              "2      [Animal Science and Zoology, Ecology, Evolutio...   \n",
              "3      [Animal Science and Zoology, Ecology, Evolutio...   \n",
              "4      [Animals, Hemiptera, Oman, Venezuela, Animal S...   \n",
              "...                                                  ...   \n",
              "17408          [GBIF, biodiversity, species occurrences]   \n",
              "17409          [GBIF, biodiversity, species occurrences]   \n",
              "17410          [GBIF, biodiversity, species occurrences]   \n",
              "17411          [GBIF, biodiversity, species occurrences]   \n",
              "17412          [GBIF, biodiversity, species occurrences]   \n",
              "\n",
              "                                       description_value  \\\n",
              "0      [<jats:p>The Neotropical fauna of Gyponini is ...   \n",
              "1      [<jats:p>We present novel rearing records of A...   \n",
              "2      [<jats:p>Two new species of Bothriurid scorpio...   \n",
              "3      [The Irtysh River is one of the major waterway...   \n",
              "4      [<jats:p>Bythonia freytagi sp. nov. is diagnos...   \n",
              "...                                                  ...   \n",
              "17408                                                NaN   \n",
              "17409                                                NaN   \n",
              "17410                                                NaN   \n",
              "17411                                                NaN   \n",
              "17412                                                NaN   \n",
              "\n",
              "                                             author_name    _c0  \\\n",
              "0        [Alexandre C. Domahovski, Rodney R. Cavichioli]   2632   \n",
              "1      [CHARLES S. EISEMAN, OWEN LONSDALE, JOHN VAN D...   4605   \n",
              "2      [SANTOS-DA-SILVA, ANDRIA DE PAULA, CARVALHO, L...  21094   \n",
              "3         [Kaygorodova, Irina A., Fedorova, Lyudmila I.]  11451   \n",
              "4                                     [GAIANI, MARCO A.]  20769   \n",
              "...                                                  ...    ...   \n",
              "17408                             [Occdownload Gbif.Org]   5282   \n",
              "17409                             [Occdownload Gbif.Org]   1856   \n",
              "17410                             [Occdownload Gbif.Org]  10338   \n",
              "17411                             [Occdownload Gbif.Org]  14297   \n",
              "17412                             [Occdownload Gbif.Org]  14373   \n",
              "\n",
              "                                                     _c1  \n",
              "0      50|doi_dedup___::4c5405ce1853ba281aa310605ea4b615  \n",
              "1      50|doi_________::8fa129b16b69ff1b49862aeea71fdd13  \n",
              "2      50|doi_________::91fdf9bd4696aa61ebbce5cc61aa2cb6  \n",
              "3      50|doi_dedup___::39a98283b52a5831f7058aeae793bb03  \n",
              "4      50|doi_dedup___::c37ba849d5caebff68328dcae92c4a30  \n",
              "...                                                  ...  \n",
              "17408  50|doi_________::7f0913bf29699169567b3c730a7f71ab  \n",
              "17409  50|doi_________::c770a7d0d8b9c3b56b47d44421545e83  \n",
              "17410  50|doi_________::f23d0bd3c11f580f13b818cc5019da5b  \n",
              "17411  50|doi_________::1a272c0dd418d8d6c43e5f094950d836  \n",
              "17412  50|doi_________::8f25d194c7fb30d3a49f1639a80f2aed  \n",
              "\n",
              "[17413 rows x 7 columns]"
            ],
            "text/html": [
              "\n",
              "  <div id=\"df-12e66497-c2fc-4ae4-a2de-a3ea82dbe50f\">\n",
              "    <div class=\"colab-df-container\">\n",
              "      <div>\n",
              "<style scoped>\n",
              "    .dataframe tbody tr th:only-of-type {\n",
              "        vertical-align: middle;\n",
              "    }\n",
              "\n",
              "    .dataframe tbody tr th {\n",
              "        vertical-align: top;\n",
              "    }\n",
              "\n",
              "    .dataframe thead th {\n",
              "        text-align: right;\n",
              "    }\n",
              "</style>\n",
              "<table border=\"1\" class=\"dataframe\">\n",
              "  <thead>\n",
              "    <tr style=\"text-align: right;\">\n",
              "      <th></th>\n",
              "      <th>id</th>\n",
              "      <th>title_value</th>\n",
              "      <th>subject_value</th>\n",
              "      <th>description_value</th>\n",
              "      <th>author_name</th>\n",
              "      <th>_c0</th>\n",
              "      <th>_c1</th>\n",
              "    </tr>\n",
              "  </thead>\n",
              "  <tbody>\n",
              "    <tr>\n",
              "      <th>0</th>\n",
              "      <td>50|doi_dedup___::4c5405ce1853ba281aa310605ea4b615</td>\n",
              "      <td>[Two new remarkable genera and two new species...</td>\n",
              "      <td>[Ecology, Evolution, Behavior and Systematics,...</td>\n",
              "      <td>[&lt;jats:p&gt;The Neotropical fauna of Gyponini is ...</td>\n",
              "      <td>[Alexandre C. Domahovski, Rodney R. Cavichioli]</td>\n",
              "      <td>2632</td>\n",
              "      <td>50|doi_dedup___::4c5405ce1853ba281aa310605ea4b615</td>\n",
              "    </tr>\n",
              "    <tr>\n",
              "      <th>1</th>\n",
              "      <td>50|doi_________::8fa129b16b69ff1b49862aeea71fdd13</td>\n",
              "      <td>[&lt;p&gt;&lt;strong&gt;Thirteen new species of Agromyzida...</td>\n",
              "      <td>[Animal Science and Zoology, Ecology, Evolutio...</td>\n",
              "      <td>[&lt;jats:p&gt;We present novel rearing records of A...</td>\n",
              "      <td>[CHARLES S. EISEMAN, OWEN LONSDALE, JOHN VAN D...</td>\n",
              "      <td>4605</td>\n",
              "      <td>50|doi_________::8fa129b16b69ff1b49862aeea71fdd13</td>\n",
              "    </tr>\n",
              "    <tr>\n",
              "      <th>2</th>\n",
              "      <td>50|doi_________::91fdf9bd4696aa61ebbce5cc61aa2cb6</td>\n",
              "      <td>[Two new species of Bothriurus Peters, 1861 (S...</td>\n",
              "      <td>[Animal Science and Zoology, Ecology, Evolutio...</td>\n",
              "      <td>[&lt;jats:p&gt;Two new species of Bothriurid scorpio...</td>\n",
              "      <td>[SANTOS-DA-SILVA, ANDRIA DE PAULA, CARVALHO, L...</td>\n",
              "      <td>21094</td>\n",
              "      <td>50|doi_________::91fdf9bd4696aa61ebbce5cc61aa2cb6</td>\n",
              "    </tr>\n",
              "    <tr>\n",
              "      <th>3</th>\n",
              "      <td>50|doi_dedup___::39a98283b52a5831f7058aeae793bb03</td>\n",
              "      <td>[The first data on species diversity of leeche...</td>\n",
              "      <td>[Animal Science and Zoology, Ecology, Evolutio...</td>\n",
              "      <td>[The Irtysh River is one of the major waterway...</td>\n",
              "      <td>[Kaygorodova, Irina A., Fedorova, Lyudmila I.]</td>\n",
              "      <td>11451</td>\n",
              "      <td>50|doi_dedup___::39a98283b52a5831f7058aeae793bb03</td>\n",
              "    </tr>\n",
              "    <tr>\n",
              "      <th>4</th>\n",
              "      <td>50|doi_dedup___::c37ba849d5caebff68328dcae92c4a30</td>\n",
              "      <td>[Review of the genus Bythonia Oman 1936 with d...</td>\n",
              "      <td>[Animals, Hemiptera, Oman, Venezuela, Animal S...</td>\n",
              "      <td>[&lt;jats:p&gt;Bythonia freytagi sp. nov. is diagnos...</td>\n",
              "      <td>[GAIANI, MARCO A.]</td>\n",
              "      <td>20769</td>\n",
              "      <td>50|doi_dedup___::c37ba849d5caebff68328dcae92c4a30</td>\n",
              "    </tr>\n",
              "    <tr>\n",
              "      <th>...</th>\n",
              "      <td>...</td>\n",
              "      <td>...</td>\n",
              "      <td>...</td>\n",
              "      <td>...</td>\n",
              "      <td>...</td>\n",
              "      <td>...</td>\n",
              "      <td>...</td>\n",
              "    </tr>\n",
              "    <tr>\n",
              "      <th>17408</th>\n",
              "      <td>50|doi_________::7f0913bf29699169567b3c730a7f71ab</td>\n",
              "      <td>[GBIF Occurrence Download]</td>\n",
              "      <td>[GBIF, biodiversity, species occurrences]</td>\n",
              "      <td>NaN</td>\n",
              "      <td>[Occdownload Gbif.Org]</td>\n",
              "      <td>5282</td>\n",
              "      <td>50|doi_________::7f0913bf29699169567b3c730a7f71ab</td>\n",
              "    </tr>\n",
              "    <tr>\n",
              "      <th>17409</th>\n",
              "      <td>50|doi_________::c770a7d0d8b9c3b56b47d44421545e83</td>\n",
              "      <td>[GBIF Occurrence Download]</td>\n",
              "      <td>[GBIF, biodiversity, species occurrences]</td>\n",
              "      <td>NaN</td>\n",
              "      <td>[Occdownload Gbif.Org]</td>\n",
              "      <td>1856</td>\n",
              "      <td>50|doi_________::c770a7d0d8b9c3b56b47d44421545e83</td>\n",
              "    </tr>\n",
              "    <tr>\n",
              "      <th>17410</th>\n",
              "      <td>50|doi_________::f23d0bd3c11f580f13b818cc5019da5b</td>\n",
              "      <td>[Occurrence Download]</td>\n",
              "      <td>[GBIF, biodiversity, species occurrences]</td>\n",
              "      <td>NaN</td>\n",
              "      <td>[Occdownload Gbif.Org]</td>\n",
              "      <td>10338</td>\n",
              "      <td>50|doi_________::f23d0bd3c11f580f13b818cc5019da5b</td>\n",
              "    </tr>\n",
              "    <tr>\n",
              "      <th>17411</th>\n",
              "      <td>50|doi_________::1a272c0dd418d8d6c43e5f094950d836</td>\n",
              "      <td>[Occurrence Download]</td>\n",
              "      <td>[GBIF, biodiversity, species occurrences]</td>\n",
              "      <td>NaN</td>\n",
              "      <td>[Occdownload Gbif.Org]</td>\n",
              "      <td>14297</td>\n",
              "      <td>50|doi_________::1a272c0dd418d8d6c43e5f094950d836</td>\n",
              "    </tr>\n",
              "    <tr>\n",
              "      <th>17412</th>\n",
              "      <td>50|doi_________::8f25d194c7fb30d3a49f1639a80f2aed</td>\n",
              "      <td>[Occurrence Download]</td>\n",
              "      <td>[GBIF, biodiversity, species occurrences]</td>\n",
              "      <td>NaN</td>\n",
              "      <td>[Occdownload Gbif.Org]</td>\n",
              "      <td>14373</td>\n",
              "      <td>50|doi_________::8f25d194c7fb30d3a49f1639a80f2aed</td>\n",
              "    </tr>\n",
              "  </tbody>\n",
              "</table>\n",
              "<p>17413 rows × 7 columns</p>\n",
              "</div>\n",
              "      <button class=\"colab-df-convert\" onclick=\"convertToInteractive('df-12e66497-c2fc-4ae4-a2de-a3ea82dbe50f')\"\n",
              "              title=\"Convert this dataframe to an interactive table.\"\n",
              "              style=\"display:none;\">\n",
              "        \n",
              "  <svg xmlns=\"http://www.w3.org/2000/svg\" height=\"24px\"viewBox=\"0 0 24 24\"\n",
              "       width=\"24px\">\n",
              "    <path d=\"M0 0h24v24H0V0z\" fill=\"none\"/>\n",
              "    <path d=\"M18.56 5.44l.94 2.06.94-2.06 2.06-.94-2.06-.94-.94-2.06-.94 2.06-2.06.94zm-11 1L8.5 8.5l.94-2.06 2.06-.94-2.06-.94L8.5 2.5l-.94 2.06-2.06.94zm10 10l.94 2.06.94-2.06 2.06-.94-2.06-.94-.94-2.06-.94 2.06-2.06.94z\"/><path d=\"M17.41 7.96l-1.37-1.37c-.4-.4-.92-.59-1.43-.59-.52 0-1.04.2-1.43.59L10.3 9.45l-7.72 7.72c-.78.78-.78 2.05 0 2.83L4 21.41c.39.39.9.59 1.41.59.51 0 1.02-.2 1.41-.59l7.78-7.78 2.81-2.81c.8-.78.8-2.07 0-2.86zM5.41 20L4 18.59l7.72-7.72 1.47 1.35L5.41 20z\"/>\n",
              "  </svg>\n",
              "      </button>\n",
              "      \n",
              "  <style>\n",
              "    .colab-df-container {\n",
              "      display:flex;\n",
              "      flex-wrap:wrap;\n",
              "      gap: 12px;\n",
              "    }\n",
              "\n",
              "    .colab-df-convert {\n",
              "      background-color: #E8F0FE;\n",
              "      border: none;\n",
              "      border-radius: 50%;\n",
              "      cursor: pointer;\n",
              "      display: none;\n",
              "      fill: #1967D2;\n",
              "      height: 32px;\n",
              "      padding: 0 0 0 0;\n",
              "      width: 32px;\n",
              "    }\n",
              "\n",
              "    .colab-df-convert:hover {\n",
              "      background-color: #E2EBFA;\n",
              "      box-shadow: 0px 1px 2px rgba(60, 64, 67, 0.3), 0px 1px 3px 1px rgba(60, 64, 67, 0.15);\n",
              "      fill: #174EA6;\n",
              "    }\n",
              "\n",
              "    [theme=dark] .colab-df-convert {\n",
              "      background-color: #3B4455;\n",
              "      fill: #D2E3FC;\n",
              "    }\n",
              "\n",
              "    [theme=dark] .colab-df-convert:hover {\n",
              "      background-color: #434B5C;\n",
              "      box-shadow: 0px 1px 3px 1px rgba(0, 0, 0, 0.15);\n",
              "      filter: drop-shadow(0px 1px 2px rgba(0, 0, 0, 0.3));\n",
              "      fill: #FFFFFF;\n",
              "    }\n",
              "  </style>\n",
              "\n",
              "      <script>\n",
              "        const buttonEl =\n",
              "          document.querySelector('#df-12e66497-c2fc-4ae4-a2de-a3ea82dbe50f button.colab-df-convert');\n",
              "        buttonEl.style.display =\n",
              "          google.colab.kernel.accessAllowed ? 'block' : 'none';\n",
              "\n",
              "        async function convertToInteractive(key) {\n",
              "          const element = document.querySelector('#df-12e66497-c2fc-4ae4-a2de-a3ea82dbe50f');\n",
              "          const dataTable =\n",
              "            await google.colab.kernel.invokeFunction('convertToInteractive',\n",
              "                                                     [key], {});\n",
              "          if (!dataTable) return;\n",
              "\n",
              "          const docLinkHtml = 'Like what you see? Visit the ' +\n",
              "            '<a target=\"_blank\" href=https://colab.research.google.com/notebooks/data_table.ipynb>data table notebook</a>'\n",
              "            + ' to learn more about interactive tables.';\n",
              "          element.innerHTML = '';\n",
              "          dataTable['output_type'] = 'display_data';\n",
              "          await google.colab.output.renderOutput(dataTable, element);\n",
              "          const docLink = document.createElement('div');\n",
              "          docLink.innerHTML = docLinkHtml;\n",
              "          element.appendChild(docLink);\n",
              "        }\n",
              "      </script>\n",
              "    </div>\n",
              "  </div>\n",
              "  "
            ]
          },
          "metadata": {},
          "execution_count": 19
        }
      ]
    },
    {
      "cell_type": "code",
      "execution_count": null,
      "metadata": {
        "colab": {
          "base_uri": "https://localhost:8080/"
        },
        "id": "sM8DsuJOTs5r",
        "outputId": "bbeb4d5b-0cfe-4824-852d-ea5ef0d6ada8"
      },
      "outputs": [
        {
          "data": {
            "text/plain": [
              "['Description of the puparium of Hermetia pulchra (Diptera: Stratiomyidae) from Brazil.',\n",
              " 'Description of the puparium of Hermetia pulchra (Diptera: Stratiomyidae) from Brazil']"
            ]
          },
          "execution_count": 79,
          "metadata": {},
          "output_type": "execute_result"
        }
      ],
      "source": [
        "df_artifacts['title_value'][4448]"
      ]
    },
    {
      "cell_type": "code",
      "execution_count": null,
      "metadata": {
        "colab": {
          "base_uri": "https://localhost:8080/",
          "height": 49
        },
        "id": "D449UlLBZXII",
        "outputId": "d27ca898-43f1-4b59-e985-b890e83813c4"
      },
      "outputs": [
        {
          "data": {
            "text/html": [
              "\n",
              "  <div id=\"df-2c558aa8-2150-420c-83bc-fec397edb3fa\">\n",
              "    <div class=\"colab-df-container\">\n",
              "      <div>\n",
              "<style scoped>\n",
              "    .dataframe tbody tr th:only-of-type {\n",
              "        vertical-align: middle;\n",
              "    }\n",
              "\n",
              "    .dataframe tbody tr th {\n",
              "        vertical-align: top;\n",
              "    }\n",
              "\n",
              "    .dataframe thead th {\n",
              "        text-align: right;\n",
              "    }\n",
              "</style>\n",
              "<table border=\"1\" class=\"dataframe\">\n",
              "  <thead>\n",
              "    <tr style=\"text-align: right;\">\n",
              "      <th></th>\n",
              "      <th>id</th>\n",
              "      <th>title_value</th>\n",
              "      <th>subject_value</th>\n",
              "      <th>description_value</th>\n",
              "      <th>author_name</th>\n",
              "      <th>_c0</th>\n",
              "      <th>_c1</th>\n",
              "    </tr>\n",
              "  </thead>\n",
              "  <tbody>\n",
              "  </tbody>\n",
              "</table>\n",
              "</div>\n",
              "      <button class=\"colab-df-convert\" onclick=\"convertToInteractive('df-2c558aa8-2150-420c-83bc-fec397edb3fa')\"\n",
              "              title=\"Convert this dataframe to an interactive table.\"\n",
              "              style=\"display:none;\">\n",
              "        \n",
              "  <svg xmlns=\"http://www.w3.org/2000/svg\" height=\"24px\"viewBox=\"0 0 24 24\"\n",
              "       width=\"24px\">\n",
              "    <path d=\"M0 0h24v24H0V0z\" fill=\"none\"/>\n",
              "    <path d=\"M18.56 5.44l.94 2.06.94-2.06 2.06-.94-2.06-.94-.94-2.06-.94 2.06-2.06.94zm-11 1L8.5 8.5l.94-2.06 2.06-.94-2.06-.94L8.5 2.5l-.94 2.06-2.06.94zm10 10l.94 2.06.94-2.06 2.06-.94-2.06-.94-.94-2.06-.94 2.06-2.06.94z\"/><path d=\"M17.41 7.96l-1.37-1.37c-.4-.4-.92-.59-1.43-.59-.52 0-1.04.2-1.43.59L10.3 9.45l-7.72 7.72c-.78.78-.78 2.05 0 2.83L4 21.41c.39.39.9.59 1.41.59.51 0 1.02-.2 1.41-.59l7.78-7.78 2.81-2.81c.8-.78.8-2.07 0-2.86zM5.41 20L4 18.59l7.72-7.72 1.47 1.35L5.41 20z\"/>\n",
              "  </svg>\n",
              "      </button>\n",
              "      \n",
              "  <style>\n",
              "    .colab-df-container {\n",
              "      display:flex;\n",
              "      flex-wrap:wrap;\n",
              "      gap: 12px;\n",
              "    }\n",
              "\n",
              "    .colab-df-convert {\n",
              "      background-color: #E8F0FE;\n",
              "      border: none;\n",
              "      border-radius: 50%;\n",
              "      cursor: pointer;\n",
              "      display: none;\n",
              "      fill: #1967D2;\n",
              "      height: 32px;\n",
              "      padding: 0 0 0 0;\n",
              "      width: 32px;\n",
              "    }\n",
              "\n",
              "    .colab-df-convert:hover {\n",
              "      background-color: #E2EBFA;\n",
              "      box-shadow: 0px 1px 2px rgba(60, 64, 67, 0.3), 0px 1px 3px 1px rgba(60, 64, 67, 0.15);\n",
              "      fill: #174EA6;\n",
              "    }\n",
              "\n",
              "    [theme=dark] .colab-df-convert {\n",
              "      background-color: #3B4455;\n",
              "      fill: #D2E3FC;\n",
              "    }\n",
              "\n",
              "    [theme=dark] .colab-df-convert:hover {\n",
              "      background-color: #434B5C;\n",
              "      box-shadow: 0px 1px 3px 1px rgba(0, 0, 0, 0.15);\n",
              "      filter: drop-shadow(0px 1px 2px rgba(0, 0, 0, 0.3));\n",
              "      fill: #FFFFFF;\n",
              "    }\n",
              "  </style>\n",
              "\n",
              "      <script>\n",
              "        const buttonEl =\n",
              "          document.querySelector('#df-2c558aa8-2150-420c-83bc-fec397edb3fa button.colab-df-convert');\n",
              "        buttonEl.style.display =\n",
              "          google.colab.kernel.accessAllowed ? 'block' : 'none';\n",
              "\n",
              "        async function convertToInteractive(key) {\n",
              "          const element = document.querySelector('#df-2c558aa8-2150-420c-83bc-fec397edb3fa');\n",
              "          const dataTable =\n",
              "            await google.colab.kernel.invokeFunction('convertToInteractive',\n",
              "                                                     [key], {});\n",
              "          if (!dataTable) return;\n",
              "\n",
              "          const docLinkHtml = 'Like what you see? Visit the ' +\n",
              "            '<a target=\"_blank\" href=https://colab.research.google.com/notebooks/data_table.ipynb>data table notebook</a>'\n",
              "            + ' to learn more about interactive tables.';\n",
              "          element.innerHTML = '';\n",
              "          dataTable['output_type'] = 'display_data';\n",
              "          await google.colab.output.renderOutput(dataTable, element);\n",
              "          const docLink = document.createElement('div');\n",
              "          docLink.innerHTML = docLinkHtml;\n",
              "          element.appendChild(docLink);\n",
              "        }\n",
              "      </script>\n",
              "    </div>\n",
              "  </div>\n",
              "  "
            ],
            "text/plain": [
              "Empty DataFrame\n",
              "Columns: [id, title_value, subject_value, description_value, author_name, _c0, _c1]\n",
              "Index: []"
            ]
          },
          "execution_count": 85,
          "metadata": {},
          "output_type": "execute_result"
        }
      ],
      "source": [
        "df_artifacts[df_artifacts['id']=='50|doi_dedup___::1c2ee6dc6a31f81b1ede4fb8f764ce5c']"
      ]
    },
    {
      "cell_type": "code",
      "source": [
        "##### counting artifacts #####\n",
        "pubs = 0\n",
        "not_found = 0\n",
        "for item in nodes_list:\n",
        "  item_type = df_artifacts[df_artifacts['id'] == item]['title_value'].tolist()\n",
        "  try:\n",
        "    if item_type[0] == 'software':\n",
        "      pubs = pubs + 1\n",
        "  except:\n",
        "    giant.remove_node(item)\n",
        "    #print(item)\n"
      ],
      "metadata": {
        "id": "rzFU5MOiLxb4"
      },
      "execution_count": null,
      "outputs": []
    },
    {
      "cell_type": "code",
      "source": [
        "nx.number_connected_components(giant)"
      ],
      "metadata": {
        "colab": {
          "base_uri": "https://localhost:8080/"
        },
        "id": "mECoR5p_MPru",
        "outputId": "003a8687-a6e2-4094-fc6b-161d567a4d0e"
      },
      "execution_count": null,
      "outputs": [
        {
          "output_type": "execute_result",
          "data": {
            "text/plain": [
              "11975"
            ]
          },
          "metadata": {},
          "execution_count": 25
        }
      ]
    },
    {
      "cell_type": "code",
      "source": [
        "final_giant = max(nx.connected_component_subgraphs(giant), key=len)"
      ],
      "metadata": {
        "id": "K3AiwsRwMvpf"
      },
      "execution_count": null,
      "outputs": []
    },
    {
      "cell_type": "code",
      "source": [
        "nx.info(final_giant)"
      ],
      "metadata": {
        "colab": {
          "base_uri": "https://localhost:8080/",
          "height": 35
        },
        "id": "u7eQadU_M2Ui",
        "outputId": "d26edfa6-191a-490c-da09-8332e6cb34a1"
      },
      "execution_count": null,
      "outputs": [
        {
          "output_type": "execute_result",
          "data": {
            "text/plain": [
              "'Name: \\nType: Graph\\nNumber of nodes: 5439\\nNumber of edges: 12644\\nAverage degree:   4.6494'"
            ],
            "application/vnd.google.colaboratory.intrinsic+json": {
              "type": "string"
            }
          },
          "metadata": {},
          "execution_count": 27
        }
      ]
    },
    {
      "cell_type": "code",
      "source": [
        "nodes_list_final = list(final_giant.nodes) #List of nodes\n",
        "len(nodes_list_final)"
      ],
      "metadata": {
        "colab": {
          "base_uri": "https://localhost:8080/"
        },
        "id": "3Y1rT5iaNAwG",
        "outputId": "353d02ee-4269-4697-98f3-e81e6add1191"
      },
      "execution_count": null,
      "outputs": [
        {
          "output_type": "execute_result",
          "data": {
            "text/plain": [
              "5439"
            ]
          },
          "metadata": {},
          "execution_count": 29
        }
      ]
    },
    {
      "cell_type": "code",
      "source": [
        "# Save nodes to file\n",
        "\n",
        "nodes = pd.DataFrame({'id':nodes_list_final}) \n",
        "nodes.to_csv('covid_nodes_final.csv') "
      ],
      "metadata": {
        "id": "27uEQCjyNFUj"
      },
      "execution_count": null,
      "outputs": []
    },
    {
      "cell_type": "markdown",
      "metadata": {
        "id": "RzQKMTlcSabB"
      },
      "source": [
        "## some tests on keywords"
      ]
    },
    {
      "cell_type": "code",
      "execution_count": null,
      "metadata": {
        "id": "t9R43027SGGs"
      },
      "outputs": [],
      "source": [
        "test = df_artifacts.explode('subject_value')"
      ]
    },
    {
      "cell_type": "code",
      "execution_count": null,
      "metadata": {
        "colab": {
          "base_uri": "https://localhost:8080/"
        },
        "id": "YSP1RlA0Spmp",
        "outputId": "a3981ae4-f26f-48ff-992c-0d29ea3c31a2"
      },
      "outputs": [
        {
          "data": {
            "text/plain": [
              "Ecology, Evolution, Behavior and Systematics    4604\n",
              "Animal Science and Zoology                      3946\n",
              "biology.organism_classification                 3883\n",
              "biology                                         3160\n",
              "Zoology                                         2599\n",
              "                                                ... \n",
              "Gadidae                                            1\n",
              "Phycidae                                           1\n",
              "Merlucciidae                                       1\n",
              "Macrouridae                                        1\n",
              "Gamasellodes                                       1\n",
              "Name: subject_value, Length: 11636, dtype: int64"
            ]
          },
          "execution_count": 83,
          "metadata": {},
          "output_type": "execute_result"
        }
      ],
      "source": [
        "test['subject_value'].value_counts()"
      ]
    },
    {
      "cell_type": "markdown",
      "metadata": {
        "id": "rE7lYxXVBn-I"
      },
      "source": [
        "## Find missing nodes in the data (No need to run anymore)"
      ]
    },
    {
      "cell_type": "code",
      "execution_count": null,
      "metadata": {
        "id": "f25W_MHvwOSs"
      },
      "outputs": [],
      "source": [
        "'''\n",
        "nodes = pd.DataFrame(nodes_list, columns =['id'])\n",
        "df_final = pd.concat([df_artifacts.set_index('id'),nodes.set_index('id')], axis=1, join='inner')\n",
        "df_final['id'] = df_final.index\n",
        "df_final.reset_index(drop=True, inplace=True)\n",
        "df_diff = pd.concat([df_final['id'],nodes['id']]).drop_duplicates(keep=False)\n",
        "df_diff.reset_index(drop=True, inplace=True)\n",
        "'''"
      ]
    },
    {
      "cell_type": "code",
      "execution_count": null,
      "metadata": {
        "id": "cCtbq-icxGPr"
      },
      "outputs": [],
      "source": [
        "# missing = df_diff.to_frame()\n",
        "# missing.to_csv('missing_ni.csv')"
      ]
    },
    {
      "cell_type": "markdown",
      "metadata": {
        "id": "HRAXCG89CHIl"
      },
      "source": [
        "## Remove the ones with no metadata from the graph"
      ]
    },
    {
      "cell_type": "code",
      "source": [],
      "metadata": {
        "id": "IWLu6epULsw6"
      },
      "execution_count": null,
      "outputs": []
    },
    {
      "cell_type": "code",
      "execution_count": null,
      "metadata": {
        "colab": {
          "base_uri": "https://localhost:8080/"
        },
        "id": "c5ioqxwdYrV7",
        "outputId": "a1f3ca61-13e7-4c0f-c533-0892dcd58579"
      },
      "outputs": [
        {
          "data": {
            "text/plain": [
              "77"
            ]
          },
          "execution_count": 17,
          "metadata": {},
          "output_type": "execute_result"
        }
      ],
      "source": [
        "##### counting artifacts #####\n",
        "pubs = 0\n",
        "not_found = 0\n",
        "for item in nodes_list:\n",
        "  item_type = df_artifacts[df_artifacts['id'] == item]['type'].tolist()\n",
        "  try:\n",
        "    if item_type[0] == 'software':\n",
        "      pubs = pubs + 1\n",
        "  except:\n",
        "    giant.remove_node(item)\n",
        "    #print(item)\n",
        "pubs"
      ]
    },
    {
      "cell_type": "code",
      "execution_count": null,
      "metadata": {
        "colab": {
          "base_uri": "https://localhost:8080/"
        },
        "id": "mRoco9jOM1Ra",
        "outputId": "76a0c74d-6d1b-4327-d73a-f92a31be5de5"
      },
      "outputs": [
        {
          "data": {
            "text/plain": [
              "1"
            ]
          },
          "execution_count": 18,
          "metadata": {},
          "output_type": "execute_result"
        }
      ],
      "source": [
        "nx.number_connected_components(giant)"
      ]
    },
    {
      "cell_type": "code",
      "execution_count": null,
      "metadata": {
        "colab": {
          "base_uri": "https://localhost:8080/",
          "height": 1000
        },
        "id": "g86FMWNmtlhN",
        "outputId": "b91c68c5-1127-4ebf-8d7e-f96a000866b6"
      },
      "outputs": [
        {
          "data": {
            "application/vnd.google.colaboratory.intrinsic+json": {
              "type": "string"
            },
            "text/plain": [
              "'Name: \\nType: Graph\\nNumber of nodes: 3906\\nNumber of edges: 4043\\nAverage degree:   2.0701'"
            ]
          },
          "execution_count": 19,
          "metadata": {},
          "output_type": "execute_result"
        }
      ],
      "source": [
        "nx.info(giant)"
      ]
    },
    {
      "cell_type": "markdown",
      "metadata": {
        "id": "OWv2guTsnX8p"
      },
      "source": [
        "## Preparing data for dataset RecSys"
      ]
    },
    {
      "cell_type": "code",
      "execution_count": null,
      "metadata": {
        "id": "191VHYLincPz"
      },
      "outputs": [],
      "source": [
        "users_d = pd.read_json('/content/gdrive/MyDrive/Recommendation_Systems_Activities/Journal/Data/ni_3900/users_ni_3900.json',orient='index')"
      ]
    },
    {
      "cell_type": "code",
      "execution_count": null,
      "metadata": {
        "id": "o8brTqaAD-I_"
      },
      "outputs": [],
      "source": [
        "users_d = users_d.loc[users_d.astype(str).drop_duplicates(subset=['id']).index]"
      ]
    },
    {
      "cell_type": "code",
      "execution_count": null,
      "metadata": {
        "id": "rmCzgfYineiL"
      },
      "outputs": [],
      "source": [
        "def d_counter(user_prof):\n",
        "  d_counter = 0\n",
        "  for id in user_prof:\n",
        "    item_type = df_artifacts[df_artifacts['id'] == id]['type']\n",
        "    for i in item_type:\n",
        "      if str(i) == 'dataset':\n",
        "        d_counter += 1\n",
        "  return d_counter"
      ]
    },
    {
      "cell_type": "code",
      "execution_count": null,
      "metadata": {
        "id": "xT3xiTmwnncm"
      },
      "outputs": [],
      "source": [
        "users_d['d_counter'] = users_d['id'].apply(lambda row : d_counter(row))"
      ]
    },
    {
      "cell_type": "code",
      "execution_count": null,
      "metadata": {
        "id": "w8xDZTgKnt4Q"
      },
      "outputs": [],
      "source": [
        "users_d = users_d[users_d['d_counter'] != 0 ]\n",
        "users_d = users_d[users_d['d_counter'] != 1 ]\n",
        "users_d = users_d[users_d['d_counter'] != 2 ]\n",
        "users_d = users_d[users_d['d_counter'] != 3 ]"
      ]
    },
    {
      "cell_type": "markdown",
      "metadata": {
        "id": "PzUe5D69oOu3"
      },
      "source": [
        "### some test on users"
      ]
    },
    {
      "cell_type": "code",
      "execution_count": null,
      "metadata": {
        "colab": {
          "base_uri": "https://localhost:8080/"
        },
        "id": "NC-g5JwgCs0-",
        "outputId": "2781684d-ed7a-499c-b3ca-dae80b1ff36d"
      },
      "outputs": [
        {
          "data": {
            "text/plain": [
              "4     62\n",
              "5     27\n",
              "6     23\n",
              "8     10\n",
              "9     10\n",
              "7      8\n",
              "10     4\n",
              "11     3\n",
              "12     3\n",
              "13     1\n",
              "16     1\n",
              "22     1\n",
              "Name: d_counter, dtype: int64"
            ]
          },
          "execution_count": 25,
          "metadata": {},
          "output_type": "execute_result"
        }
      ],
      "source": [
        "users_d['d_counter'].value_counts()"
      ]
    },
    {
      "cell_type": "code",
      "execution_count": null,
      "metadata": {
        "id": "uvP3j-gOoBHv"
      },
      "outputs": [],
      "source": [
        "test = users_d.explode('id')"
      ]
    },
    {
      "cell_type": "code",
      "execution_count": null,
      "metadata": {
        "id": "DnaI6-E2oZ0M"
      },
      "outputs": [],
      "source": [
        "repetition = test['id'].value_counts()"
      ]
    },
    {
      "cell_type": "code",
      "execution_count": null,
      "metadata": {
        "colab": {
          "base_uri": "https://localhost:8080/"
        },
        "id": "5S1iMM5U2dZn",
        "outputId": "15c6c065-1f3f-47cb-fc6d-fc7f5d39ce9f"
      },
      "outputs": [
        {
          "data": {
            "text/plain": [
              "1    211\n",
              "2    100\n",
              "3     92\n",
              "4     36\n",
              "5     16\n",
              "6     15\n",
              "8      5\n",
              "7      5\n",
              "Name: id, dtype: int64"
            ]
          },
          "execution_count": 28,
          "metadata": {},
          "output_type": "execute_result"
        }
      ],
      "source": [
        "repetition.value_counts()"
      ]
    },
    {
      "cell_type": "code",
      "execution_count": null,
      "metadata": {
        "id": "DH4rnbNNpas6"
      },
      "outputs": [],
      "source": [
        "pd.set_option('display.max_rows', None)"
      ]
    },
    {
      "cell_type": "code",
      "execution_count": null,
      "metadata": {
        "colab": {
          "base_uri": "https://localhost:8080/",
          "height": 502
        },
        "id": "bLZiD6sPpIpL",
        "outputId": "17739ceb-7b19-4967-f9f0-2b144e578c64"
      },
      "outputs": [
        {
          "ename": "KeyError",
          "evalue": "ignored",
          "output_type": "error",
          "traceback": [
            "\u001b[0;31m---------------------------------------------------------------------------\u001b[0m",
            "\u001b[0;31mKeyError\u001b[0m                                  Traceback (most recent call last)",
            "\u001b[0;32m/usr/local/lib/python3.7/dist-packages/pandas/core/indexes/base.py\u001b[0m in \u001b[0;36mget_loc\u001b[0;34m(self, key, method, tolerance)\u001b[0m\n\u001b[1;32m   3360\u001b[0m             \u001b[0;32mtry\u001b[0m\u001b[0;34m:\u001b[0m\u001b[0;34m\u001b[0m\u001b[0;34m\u001b[0m\u001b[0m\n\u001b[0;32m-> 3361\u001b[0;31m                 \u001b[0;32mreturn\u001b[0m \u001b[0mself\u001b[0m\u001b[0;34m.\u001b[0m\u001b[0m_engine\u001b[0m\u001b[0;34m.\u001b[0m\u001b[0mget_loc\u001b[0m\u001b[0;34m(\u001b[0m\u001b[0mcasted_key\u001b[0m\u001b[0;34m)\u001b[0m\u001b[0;34m\u001b[0m\u001b[0;34m\u001b[0m\u001b[0m\n\u001b[0m\u001b[1;32m   3362\u001b[0m             \u001b[0;32mexcept\u001b[0m \u001b[0mKeyError\u001b[0m \u001b[0;32mas\u001b[0m \u001b[0merr\u001b[0m\u001b[0;34m:\u001b[0m\u001b[0;34m\u001b[0m\u001b[0;34m\u001b[0m\u001b[0m\n",
            "\u001b[0;32m/usr/local/lib/python3.7/dist-packages/pandas/_libs/index.pyx\u001b[0m in \u001b[0;36mpandas._libs.index.IndexEngine.get_loc\u001b[0;34m()\u001b[0m\n",
            "\u001b[0;32m/usr/local/lib/python3.7/dist-packages/pandas/_libs/index.pyx\u001b[0m in \u001b[0;36mpandas._libs.index.IndexEngine.get_loc\u001b[0;34m()\u001b[0m\n",
            "\u001b[0;32mpandas/_libs/hashtable_class_helper.pxi\u001b[0m in \u001b[0;36mpandas._libs.hashtable.PyObjectHashTable.get_item\u001b[0;34m()\u001b[0m\n",
            "\u001b[0;32mpandas/_libs/hashtable_class_helper.pxi\u001b[0m in \u001b[0;36mpandas._libs.hashtable.PyObjectHashTable.get_item\u001b[0;34m()\u001b[0m\n",
            "\u001b[0;31mKeyError\u001b[0m: 'p_counter'",
            "\nThe above exception was the direct cause of the following exception:\n",
            "\u001b[0;31mKeyError\u001b[0m                                  Traceback (most recent call last)",
            "\u001b[0;32m<ipython-input-30-4d1a1925b972>\u001b[0m in \u001b[0;36m<module>\u001b[0;34m()\u001b[0m\n\u001b[0;32m----> 1\u001b[0;31m \u001b[0musers_d\u001b[0m\u001b[0;34m[\u001b[0m\u001b[0;34m'p_counter'\u001b[0m\u001b[0;34m]\u001b[0m\u001b[0;34m.\u001b[0m\u001b[0mvalue_counts\u001b[0m\u001b[0;34m(\u001b[0m\u001b[0;34m)\u001b[0m\u001b[0;34m\u001b[0m\u001b[0;34m\u001b[0m\u001b[0m\n\u001b[0m",
            "\u001b[0;32m/usr/local/lib/python3.7/dist-packages/pandas/core/frame.py\u001b[0m in \u001b[0;36m__getitem__\u001b[0;34m(self, key)\u001b[0m\n\u001b[1;32m   3456\u001b[0m             \u001b[0;32mif\u001b[0m \u001b[0mself\u001b[0m\u001b[0;34m.\u001b[0m\u001b[0mcolumns\u001b[0m\u001b[0;34m.\u001b[0m\u001b[0mnlevels\u001b[0m \u001b[0;34m>\u001b[0m \u001b[0;36m1\u001b[0m\u001b[0;34m:\u001b[0m\u001b[0;34m\u001b[0m\u001b[0;34m\u001b[0m\u001b[0m\n\u001b[1;32m   3457\u001b[0m                 \u001b[0;32mreturn\u001b[0m \u001b[0mself\u001b[0m\u001b[0;34m.\u001b[0m\u001b[0m_getitem_multilevel\u001b[0m\u001b[0;34m(\u001b[0m\u001b[0mkey\u001b[0m\u001b[0;34m)\u001b[0m\u001b[0;34m\u001b[0m\u001b[0;34m\u001b[0m\u001b[0m\n\u001b[0;32m-> 3458\u001b[0;31m             \u001b[0mindexer\u001b[0m \u001b[0;34m=\u001b[0m \u001b[0mself\u001b[0m\u001b[0;34m.\u001b[0m\u001b[0mcolumns\u001b[0m\u001b[0;34m.\u001b[0m\u001b[0mget_loc\u001b[0m\u001b[0;34m(\u001b[0m\u001b[0mkey\u001b[0m\u001b[0;34m)\u001b[0m\u001b[0;34m\u001b[0m\u001b[0;34m\u001b[0m\u001b[0m\n\u001b[0m\u001b[1;32m   3459\u001b[0m             \u001b[0;32mif\u001b[0m \u001b[0mis_integer\u001b[0m\u001b[0;34m(\u001b[0m\u001b[0mindexer\u001b[0m\u001b[0;34m)\u001b[0m\u001b[0;34m:\u001b[0m\u001b[0;34m\u001b[0m\u001b[0;34m\u001b[0m\u001b[0m\n\u001b[1;32m   3460\u001b[0m                 \u001b[0mindexer\u001b[0m \u001b[0;34m=\u001b[0m \u001b[0;34m[\u001b[0m\u001b[0mindexer\u001b[0m\u001b[0;34m]\u001b[0m\u001b[0;34m\u001b[0m\u001b[0;34m\u001b[0m\u001b[0m\n",
            "\u001b[0;32m/usr/local/lib/python3.7/dist-packages/pandas/core/indexes/base.py\u001b[0m in \u001b[0;36mget_loc\u001b[0;34m(self, key, method, tolerance)\u001b[0m\n\u001b[1;32m   3361\u001b[0m                 \u001b[0;32mreturn\u001b[0m \u001b[0mself\u001b[0m\u001b[0;34m.\u001b[0m\u001b[0m_engine\u001b[0m\u001b[0;34m.\u001b[0m\u001b[0mget_loc\u001b[0m\u001b[0;34m(\u001b[0m\u001b[0mcasted_key\u001b[0m\u001b[0;34m)\u001b[0m\u001b[0;34m\u001b[0m\u001b[0;34m\u001b[0m\u001b[0m\n\u001b[1;32m   3362\u001b[0m             \u001b[0;32mexcept\u001b[0m \u001b[0mKeyError\u001b[0m \u001b[0;32mas\u001b[0m \u001b[0merr\u001b[0m\u001b[0;34m:\u001b[0m\u001b[0;34m\u001b[0m\u001b[0;34m\u001b[0m\u001b[0m\n\u001b[0;32m-> 3363\u001b[0;31m                 \u001b[0;32mraise\u001b[0m \u001b[0mKeyError\u001b[0m\u001b[0;34m(\u001b[0m\u001b[0mkey\u001b[0m\u001b[0;34m)\u001b[0m \u001b[0;32mfrom\u001b[0m \u001b[0merr\u001b[0m\u001b[0;34m\u001b[0m\u001b[0;34m\u001b[0m\u001b[0m\n\u001b[0m\u001b[1;32m   3364\u001b[0m \u001b[0;34m\u001b[0m\u001b[0m\n\u001b[1;32m   3365\u001b[0m         \u001b[0;32mif\u001b[0m \u001b[0mis_scalar\u001b[0m\u001b[0;34m(\u001b[0m\u001b[0mkey\u001b[0m\u001b[0;34m)\u001b[0m \u001b[0;32mand\u001b[0m \u001b[0misna\u001b[0m\u001b[0;34m(\u001b[0m\u001b[0mkey\u001b[0m\u001b[0;34m)\u001b[0m \u001b[0;32mand\u001b[0m \u001b[0;32mnot\u001b[0m \u001b[0mself\u001b[0m\u001b[0;34m.\u001b[0m\u001b[0mhasnans\u001b[0m\u001b[0;34m:\u001b[0m\u001b[0;34m\u001b[0m\u001b[0;34m\u001b[0m\u001b[0m\n",
            "\u001b[0;31mKeyError\u001b[0m: 'p_counter'"
          ]
        }
      ],
      "source": [
        "users_d['p_counter'].value_counts()"
      ]
    },
    {
      "cell_type": "markdown",
      "metadata": {
        "id": "ZTFi8wzT3jYN"
      },
      "source": [
        "### Leave 1 out"
      ]
    },
    {
      "cell_type": "code",
      "execution_count": null,
      "metadata": {
        "id": "ohOeureDnykB"
      },
      "outputs": [],
      "source": [
        "# ## IMPORTANT: if leave-2-out/leave-3-out has already been run, you need to load users from the start\n",
        "\n",
        "def leave_one_out_d(profile_items):\n",
        "  for item in profile_items:\n",
        "      item_type = df_artifacts[df_artifacts['id'] == item]['type'].tolist()\n",
        "      if item_type[0] == 'dataset':\n",
        "        profile_items.remove(item)\n",
        "        return item"
      ]
    },
    {
      "cell_type": "code",
      "execution_count": null,
      "metadata": {
        "id": "5nr9CsC7RaFV"
      },
      "outputs": [],
      "source": [
        "users_d['leave_one_out_d'] = users_d['id'].apply(lambda x:leave_one_out_d(x))"
      ]
    },
    {
      "cell_type": "markdown",
      "metadata": {
        "id": "hpG5g29b3fzX"
      },
      "source": [
        "### Leave 2 out"
      ]
    },
    {
      "cell_type": "code",
      "execution_count": null,
      "metadata": {
        "id": "Z4OzrtFjwjuW"
      },
      "outputs": [],
      "source": [
        "users_d[users_d['id'].isna()]"
      ]
    },
    {
      "cell_type": "code",
      "execution_count": null,
      "metadata": {
        "id": "YMAdm3_9QRpV"
      },
      "outputs": [],
      "source": [
        "## IMPORTANT: if leave-1-out/leave-3-out has already been run, you need to load users from the start\n",
        "\n",
        "def leave_two_out_d(profile_items):\n",
        "  dataset_list = []\n",
        "  for item in profile_items:\n",
        "      item_type = df_artifacts[df_artifacts['id'] == item]['type'].tolist()\n",
        "      if item_type[0] == 'dataset':\n",
        "          dataset_list.append(item)\n",
        "          if len(dataset_list) == 2:\n",
        "            for ds in dataset_list:\n",
        "              profile_items.remove(ds)\n",
        "            return dataset_list"
      ]
    },
    {
      "cell_type": "code",
      "execution_count": null,
      "metadata": {
        "id": "NE-dZqfZn4xP"
      },
      "outputs": [],
      "source": [
        "users_d['leave_two_out_d'] = users_d['id'].apply(lambda x:leave_two_out_d(x))"
      ]
    },
    {
      "cell_type": "markdown",
      "metadata": {
        "id": "U1qYx4sI4eL1"
      },
      "source": [
        "### Leave 3 out"
      ]
    },
    {
      "cell_type": "code",
      "execution_count": null,
      "metadata": {
        "id": "CqbTw57M4gAv"
      },
      "outputs": [],
      "source": [
        "# ## IMPORTANT: if leave-1-out/leave-2-out has already been run, you need to load users from the start\n",
        "\n",
        "def leave_three_out_d(profile_items):\n",
        "  dataset_list = []\n",
        "  for item in profile_items:\n",
        "      item_type = df_artifacts[df_artifacts['id'] == item]['type'].tolist()\n",
        "      if item_type[0] == 'dataset':\n",
        "          dataset_list.append(item)\n",
        "          if len(dataset_list) == 3:\n",
        "            for ds in dataset_list:\n",
        "              profile_items.remove(ds)\n",
        "            return dataset_list"
      ]
    },
    {
      "cell_type": "code",
      "execution_count": null,
      "metadata": {
        "id": "neatuvOj4kAE"
      },
      "outputs": [],
      "source": [
        "users_d['leave_three_out_d'] = users_d['id'].apply(lambda x:leave_three_out_d(x))"
      ]
    },
    {
      "cell_type": "markdown",
      "metadata": {
        "id": "TuFJPdLmIo5-"
      },
      "source": [
        "## Dataset Recommender"
      ]
    },
    {
      "cell_type": "code",
      "execution_count": null,
      "metadata": {
        "id": "I9saGR80n8LT"
      },
      "outputs": [],
      "source": [
        "users_d.reset_index(drop=True, inplace=True)"
      ]
    },
    {
      "cell_type": "code",
      "execution_count": null,
      "metadata": {
        "id": "97OEDsYWoAA-"
      },
      "outputs": [],
      "source": [
        "authors = users_d.explode('id')"
      ]
    },
    {
      "cell_type": "code",
      "execution_count": null,
      "metadata": {
        "id": "3vLzvjfBoLhA"
      },
      "outputs": [],
      "source": [
        "users_g=nx.from_pandas_edgelist(authors, 'author_name', 'id')\n",
        "G = nx.compose(giant, users_g)"
      ]
    },
    {
      "cell_type": "code",
      "execution_count": null,
      "metadata": {
        "colab": {
          "base_uri": "https://localhost:8080/"
        },
        "id": "58h7SR2IoOEq",
        "outputId": "1ed6d81b-dc8b-44f2-8acc-fae7dafb7a04"
      },
      "outputs": [
        {
          "name": "stdout",
          "output_type": "stream",
          "text": [
            "Name: \n",
            "Type: Graph\n",
            "Number of nodes: 4059\n",
            "Number of edges: 5119\n",
            "Average degree:   2.5223\n"
          ]
        }
      ],
      "source": [
        "print(nx.info(G))"
      ]
    },
    {
      "cell_type": "code",
      "execution_count": null,
      "metadata": {
        "colab": {
          "base_uri": "https://localhost:8080/",
          "height": 66,
          "referenced_widgets": [
            "226f951d08c9462eb52a20112f7ce573",
            "ce94de5bcd7f4773966f5fcc8246b284",
            "10431c5ab2284fb7bee19b255cb47657",
            "bfe12883f3064c129ea1d36bfbec7622",
            "42e4f09fb57140d5866f2d554726113f",
            "3766a8db9bfb4e84afd3cc150dc41705",
            "f4c6e2bba8764059a93373e89111172e",
            "eaeeb4b651994769b8761e67064e09ee",
            "fc039a8368094478bdcd3e3eb5bc2dc5",
            "9aab2ed57d1341c18a50cd85432a6bc8",
            "c5175e79201c4d9d93ca52f81a28f9af"
          ]
        },
        "id": "dGgX2WBSoSkA",
        "outputId": "bb492ff2-727d-43c0-9ebd-62d93e504ac8"
      },
      "outputs": [
        {
          "data": {
            "application/vnd.jupyter.widget-view+json": {
              "model_id": "226f951d08c9462eb52a20112f7ce573",
              "version_major": 2,
              "version_minor": 0
            },
            "text/plain": [
              "Computing transition probabilities:   0%|          | 0/4059 [00:00<?, ?it/s]"
            ]
          },
          "metadata": {},
          "output_type": "display_data"
        },
        {
          "name": "stderr",
          "output_type": "stream",
          "text": [
            "Generating walks (CPU: 1): 100%|██████████| 10/10 [02:45<00:00, 16.52s/it]\n"
          ]
        }
      ],
      "source": [
        "g_emb = n2v(G, dimensions=128)\n",
        "\n",
        "WINDOW = 4 # Node2Vec fit window\n",
        "MIN_COUNT = 1 # Node2Vec min. count\n",
        "BATCH_WORDS = 64 # Node2Vec batch words\n",
        "\n",
        "mdl = g_emb.fit(\n",
        "    window=WINDOW,\n",
        "    min_count=MIN_COUNT,\n",
        "    batch_words=BATCH_WORDS\n",
        ")\n",
        "\n",
        "# create embeddings dataframe\n",
        "emb_df = (\n",
        "    pd.DataFrame(\n",
        "        [mdl.wv.get_vector(str(n)) for n in G.nodes()],\n",
        "        index = G.nodes\n",
        "    )\n",
        ")"
      ]
    },
    {
      "cell_type": "code",
      "execution_count": null,
      "metadata": {
        "colab": {
          "base_uri": "https://localhost:8080/"
        },
        "id": "syedE8SsoVKw",
        "outputId": "bc87fba6-2e1d-450e-c386-74365887a4ae"
      },
      "outputs": [
        {
          "data": {
            "text/plain": [
              "(567, 5)"
            ]
          },
          "execution_count": 32,
          "metadata": {},
          "output_type": "execute_result"
        }
      ],
      "source": [
        "dataset = df_artifacts.loc[(df_artifacts['type']=='dataset')]\n",
        "dataset.shape"
      ]
    },
    {
      "cell_type": "code",
      "execution_count": null,
      "metadata": {
        "id": "WixB8xa5oqPW"
      },
      "outputs": [],
      "source": [
        "def predict_links(G, df, article_id, N):\n",
        "    '''\n",
        "    This function will predict the top N links a node (article_id) should be connected with\n",
        "    which it is not already connected with in G.\n",
        "    \n",
        "    params:\n",
        "        G (Netowrkx Graph) : The network used to create the embeddings\n",
        "        df (DataFrame) : The dataframe which has embeddings associated to each node\n",
        "        article_id (Integer) : The article you're interested \n",
        "        N (Integer) : The number of recommended links you want to return\n",
        "        \n",
        "    returns:\n",
        "        This function will return a list of nodes the input node should be connected with.\n",
        "    '''\n",
        "    \n",
        "    # separate target article with all others\n",
        "    article = df[df.index == article_id]\n",
        "    # other articles are all articles which the current doesn't have an edge connecting\n",
        "    all_nodes = G.nodes()\n",
        "    other_nodes = [n for n in all_nodes if n not in list(G.adj[article_id]) + [article_id]]\n",
        "\n",
        "    arti_set = [item for item in other_nodes if item in dataset['id'].values] #Just recommend dataset \n",
        "\n",
        "\n",
        "    other_articles = df[df.index.isin(arti_set)]\n",
        "    # get similarity of current reader and all other readers\n",
        "    sim = cosine_similarity(article, other_articles)[0].tolist()\n",
        "    idx = other_articles.index.tolist()\n",
        "    # create a similarity dictionary for this user w.r.t all other users\n",
        "    idx_sim = dict(zip(idx, sim))\n",
        "    idx_sim = sorted(idx_sim.items(), key=lambda x: x[1], reverse=True)\n",
        "    \n",
        "    similar_articles = idx_sim[:N]\n",
        "    articles = [art[0] for art in similar_articles]\n",
        "    return articles\n",
        "  \n",
        "#predict_links(G = G, df = emb_df, article_id = \"Goeree, Ron\", N = 10)"
      ]
    },
    {
      "cell_type": "code",
      "execution_count": null,
      "metadata": {
        "id": "NSDiumZ4osTX"
      },
      "outputs": [],
      "source": [
        "def recommend(name):\n",
        "  recommended_list = predict_links(G = G, df = emb_df, article_id = name, N = 10)\n",
        "  return recommended_list"
      ]
    },
    {
      "cell_type": "code",
      "execution_count": null,
      "metadata": {
        "id": "1J5EipaNovK2"
      },
      "outputs": [],
      "source": [
        "users_d['recommended_items'] = users_d['author_name'].apply(lambda x:recommend(x))"
      ]
    },
    {
      "cell_type": "markdown",
      "metadata": {
        "id": "dK1WznWlOSIa"
      },
      "source": [
        "### KEYWORD EVALUATION"
      ]
    },
    {
      "cell_type": "code",
      "execution_count": null,
      "metadata": {
        "id": "8Nl7XoQVOR0r"
      },
      "outputs": [],
      "source": [
        "def get_keys(profile):\n",
        "  mylist = []\n",
        "  for id_p in profile:\n",
        "    mylist.append(df_artifacts[df_artifacts['id'] == id_p]['keyword'].tolist()[0])\n",
        "  return mylist"
      ]
    },
    {
      "cell_type": "code",
      "execution_count": null,
      "metadata": {
        "id": "Rc4pJR4EOY2M"
      },
      "outputs": [],
      "source": [
        "users_d['profile_keywords'] = users_d['id'].map(lambda x:get_keys(x))"
      ]
    },
    {
      "cell_type": "code",
      "execution_count": null,
      "metadata": {
        "id": "8pvADbzjPgmi"
      },
      "outputs": [],
      "source": [
        "users_d['recommended_keywords'] = users_d['recommended_items'].map(lambda x:get_keys(x))"
      ]
    },
    {
      "cell_type": "code",
      "execution_count": null,
      "metadata": {
        "id": "zC_mOkGCPq8q"
      },
      "outputs": [],
      "source": [
        "users_d['profile_keywords'] = users_d['profile_keywords'].map(lambda x:list(set([item if type(sublist) is list else sublist for sublist in x for item in sublist])))"
      ]
    },
    {
      "cell_type": "code",
      "execution_count": null,
      "metadata": {
        "colab": {
          "base_uri": "https://localhost:8080/",
          "height": 424
        },
        "id": "DSiItb14M6H7",
        "outputId": "cb681a94-3c36-4044-8bdd-4b2a1f96a135"
      },
      "outputs": [
        {
          "data": {
            "text/html": [
              "\n",
              "  <div id=\"df-038f9864-5537-49e8-a52f-1f8baadc5932\">\n",
              "    <div class=\"colab-df-container\">\n",
              "      <div>\n",
              "<style scoped>\n",
              "    .dataframe tbody tr th:only-of-type {\n",
              "        vertical-align: middle;\n",
              "    }\n",
              "\n",
              "    .dataframe tbody tr th {\n",
              "        vertical-align: top;\n",
              "    }\n",
              "\n",
              "    .dataframe thead th {\n",
              "        text-align: right;\n",
              "    }\n",
              "</style>\n",
              "<table border=\"1\" class=\"dataframe\">\n",
              "  <thead>\n",
              "    <tr style=\"text-align: right;\">\n",
              "      <th></th>\n",
              "      <th>author_name</th>\n",
              "      <th>id</th>\n",
              "      <th>d_counter</th>\n",
              "      <th>recommended_items</th>\n",
              "      <th>profile_keywords</th>\n",
              "      <th>recommended_keywords</th>\n",
              "    </tr>\n",
              "  </thead>\n",
              "  <tbody>\n",
              "    <tr>\n",
              "      <th>0</th>\n",
              "      <td>A. Crone, Eveline</td>\n",
              "      <td>[50|r37980778c78::929a30378eb172e271714387c0d5...</td>\n",
              "      <td>4</td>\n",
              "      <td>[50|doi_dedup___::0320a9510932366b7b791160306d...</td>\n",
              "      <td>[psychology, emotions, cem, cortex, Cognitive ...</td>\n",
              "      <td>[[Social Sciences, 2016, Brain, human activiti...</td>\n",
              "    </tr>\n",
              "    <tr>\n",
              "      <th>1</th>\n",
              "      <td>A. Jacobsson, Josefin</td>\n",
              "      <td>[50|r37980778c78::3733d784e60cb4a92ec8226b7564...</td>\n",
              "      <td>4</td>\n",
              "      <td>[50|dedup_wf_001::7dcdcd37da14303ab260ccbf6a1e...</td>\n",
              "      <td>[volumes, nervous system, regression, highest,...</td>\n",
              "      <td>[[Medicine, Sociology, Biological Sciences, ne...</td>\n",
              "    </tr>\n",
              "    <tr>\n",
              "      <th>2</th>\n",
              "      <td>A. Norman, Kenneth</td>\n",
              "      <td>[50|r37980778c78::3dde9a8ae6db8d35cdfb4fd5585c...</td>\n",
              "      <td>6</td>\n",
              "      <td>[50|dedup_wf_001::bf8366fdeceffa41f9c1ce5fb20e...</td>\n",
              "      <td>[bayesian, Probability theory, Functional magn...</td>\n",
              "      <td>[[Brain, Biology, Cell Biology, Neuroscience, ...</td>\n",
              "    </tr>\n",
              "    <tr>\n",
              "      <th>3</th>\n",
              "      <td>A. Turner, Jessica</td>\n",
              "      <td>[50|r37980778c78::c0dbf0428951817d1855dd0b2c5a...</td>\n",
              "      <td>6</td>\n",
              "      <td>[50|dedup_wf_001::3c097cea54f883d400794964d8a1...</td>\n",
              "      <td>[Magnetic resonance imaging, Neuropsychiatric ...</td>\n",
              "      <td>[[Molecular Biology, Neuroscience, Physiology,...</td>\n",
              "    </tr>\n",
              "    <tr>\n",
              "      <th>4</th>\n",
              "      <td>Afzali, Maryam</td>\n",
              "      <td>[50|r37980778c78::6f1ef756cf61134a31340a05042f...</td>\n",
              "      <td>6</td>\n",
              "      <td>[50|r37980778c78::df43de3287fcb267ce569a387aff...</td>\n",
              "      <td>[RTOP, Cell Biology, Biophysics, technique, AM...</td>\n",
              "      <td>[[Uncategorised, focus, fa, analysis, impact, ...</td>\n",
              "    </tr>\n",
              "    <tr>\n",
              "      <th>...</th>\n",
              "      <td>...</td>\n",
              "      <td>...</td>\n",
              "      <td>...</td>\n",
              "      <td>...</td>\n",
              "      <td>...</td>\n",
              "      <td>...</td>\n",
              "    </tr>\n",
              "    <tr>\n",
              "      <th>148</th>\n",
              "      <td>Yamada, Takashi</td>\n",
              "      <td>[50|doi_dedup___::6f9d880df4bfd4c4aaa2c2fe0f39...</td>\n",
              "      <td>4</td>\n",
              "      <td>[50|r37980778c78::5cc14d49f1f6302b4a3da4f161b9...</td>\n",
              "      <td>[Abnormality, Schizophrenia, Algorithms, Neura...</td>\n",
              "      <td>[[Physics, Cell Biology, Neuroscience, Mathema...</td>\n",
              "    </tr>\n",
              "    <tr>\n",
              "      <th>149</th>\n",
              "      <td>Yang, Yang</td>\n",
              "      <td>[50|r37980778c78::6190c74f564a6118cad28ab5349e...</td>\n",
              "      <td>5</td>\n",
              "      <td>[50|dedup_wf_001::3d1c061bf7fd4ea8f6e97e8958c4...</td>\n",
              "      <td>[Research and Analysis Methods, Medicine and H...</td>\n",
              "      <td>[[Uncategorised, right motor areas, ischemic s...</td>\n",
              "    </tr>\n",
              "    <tr>\n",
              "      <th>150</th>\n",
              "      <td>Yu, Chunshui</td>\n",
              "      <td>[50|r37980778c78::3360403652895b1d322d59a72e11...</td>\n",
              "      <td>8</td>\n",
              "      <td>[50|r37980778c78::8d84e4cededf28a6e1ae079981b9...</td>\n",
              "      <td>[Schizophrenia, Internal medicine, Adult, Visu...</td>\n",
              "      <td>[[Medicine, Biological Sciences, neuroscience,...</td>\n",
              "    </tr>\n",
              "    <tr>\n",
              "      <th>151</th>\n",
              "      <td>Zhao, Zhilian</td>\n",
              "      <td>[50|r37980778c78::af00ac7d9359d7e4b018bf6887dc...</td>\n",
              "      <td>6</td>\n",
              "      <td>[50|r37980778c78::8d84e4cededf28a6e1ae079981b9...</td>\n",
              "      <td>[Statistical parametric mapping, Case-Control ...</td>\n",
              "      <td>[[Medicine, Biological Sciences, neuroscience,...</td>\n",
              "    </tr>\n",
              "    <tr>\n",
              "      <th>152</th>\n",
              "      <td>Zimmermann, Jan</td>\n",
              "      <td>[50|dedup_wf_001::3ddc4ab8e8415f5932dcc3e2273f...</td>\n",
              "      <td>4</td>\n",
              "      <td>[50|r37980778c78::70375caea107ed27f6d49cc81283...</td>\n",
              "      <td>[Visual Cortex, Animals, Neuronal tuning, Male...</td>\n",
              "      <td>[[Medicine, Biological Sciences, Anatomy and p...</td>\n",
              "    </tr>\n",
              "  </tbody>\n",
              "</table>\n",
              "<p>153 rows × 6 columns</p>\n",
              "</div>\n",
              "      <button class=\"colab-df-convert\" onclick=\"convertToInteractive('df-038f9864-5537-49e8-a52f-1f8baadc5932')\"\n",
              "              title=\"Convert this dataframe to an interactive table.\"\n",
              "              style=\"display:none;\">\n",
              "        \n",
              "  <svg xmlns=\"http://www.w3.org/2000/svg\" height=\"24px\"viewBox=\"0 0 24 24\"\n",
              "       width=\"24px\">\n",
              "    <path d=\"M0 0h24v24H0V0z\" fill=\"none\"/>\n",
              "    <path d=\"M18.56 5.44l.94 2.06.94-2.06 2.06-.94-2.06-.94-.94-2.06-.94 2.06-2.06.94zm-11 1L8.5 8.5l.94-2.06 2.06-.94-2.06-.94L8.5 2.5l-.94 2.06-2.06.94zm10 10l.94 2.06.94-2.06 2.06-.94-2.06-.94-.94-2.06-.94 2.06-2.06.94z\"/><path d=\"M17.41 7.96l-1.37-1.37c-.4-.4-.92-.59-1.43-.59-.52 0-1.04.2-1.43.59L10.3 9.45l-7.72 7.72c-.78.78-.78 2.05 0 2.83L4 21.41c.39.39.9.59 1.41.59.51 0 1.02-.2 1.41-.59l7.78-7.78 2.81-2.81c.8-.78.8-2.07 0-2.86zM5.41 20L4 18.59l7.72-7.72 1.47 1.35L5.41 20z\"/>\n",
              "  </svg>\n",
              "      </button>\n",
              "      \n",
              "  <style>\n",
              "    .colab-df-container {\n",
              "      display:flex;\n",
              "      flex-wrap:wrap;\n",
              "      gap: 12px;\n",
              "    }\n",
              "\n",
              "    .colab-df-convert {\n",
              "      background-color: #E8F0FE;\n",
              "      border: none;\n",
              "      border-radius: 50%;\n",
              "      cursor: pointer;\n",
              "      display: none;\n",
              "      fill: #1967D2;\n",
              "      height: 32px;\n",
              "      padding: 0 0 0 0;\n",
              "      width: 32px;\n",
              "    }\n",
              "\n",
              "    .colab-df-convert:hover {\n",
              "      background-color: #E2EBFA;\n",
              "      box-shadow: 0px 1px 2px rgba(60, 64, 67, 0.3), 0px 1px 3px 1px rgba(60, 64, 67, 0.15);\n",
              "      fill: #174EA6;\n",
              "    }\n",
              "\n",
              "    [theme=dark] .colab-df-convert {\n",
              "      background-color: #3B4455;\n",
              "      fill: #D2E3FC;\n",
              "    }\n",
              "\n",
              "    [theme=dark] .colab-df-convert:hover {\n",
              "      background-color: #434B5C;\n",
              "      box-shadow: 0px 1px 3px 1px rgba(0, 0, 0, 0.15);\n",
              "      filter: drop-shadow(0px 1px 2px rgba(0, 0, 0, 0.3));\n",
              "      fill: #FFFFFF;\n",
              "    }\n",
              "  </style>\n",
              "\n",
              "      <script>\n",
              "        const buttonEl =\n",
              "          document.querySelector('#df-038f9864-5537-49e8-a52f-1f8baadc5932 button.colab-df-convert');\n",
              "        buttonEl.style.display =\n",
              "          google.colab.kernel.accessAllowed ? 'block' : 'none';\n",
              "\n",
              "        async function convertToInteractive(key) {\n",
              "          const element = document.querySelector('#df-038f9864-5537-49e8-a52f-1f8baadc5932');\n",
              "          const dataTable =\n",
              "            await google.colab.kernel.invokeFunction('convertToInteractive',\n",
              "                                                     [key], {});\n",
              "          if (!dataTable) return;\n",
              "\n",
              "          const docLinkHtml = 'Like what you see? Visit the ' +\n",
              "            '<a target=\"_blank\" href=https://colab.research.google.com/notebooks/data_table.ipynb>data table notebook</a>'\n",
              "            + ' to learn more about interactive tables.';\n",
              "          element.innerHTML = '';\n",
              "          dataTable['output_type'] = 'display_data';\n",
              "          await google.colab.output.renderOutput(dataTable, element);\n",
              "          const docLink = document.createElement('div');\n",
              "          docLink.innerHTML = docLinkHtml;\n",
              "          element.appendChild(docLink);\n",
              "        }\n",
              "      </script>\n",
              "    </div>\n",
              "  </div>\n",
              "  "
            ],
            "text/plain": [
              "               author_name                                                 id  \\\n",
              "0        A. Crone, Eveline  [50|r37980778c78::929a30378eb172e271714387c0d5...   \n",
              "1    A. Jacobsson, Josefin  [50|r37980778c78::3733d784e60cb4a92ec8226b7564...   \n",
              "2       A. Norman, Kenneth  [50|r37980778c78::3dde9a8ae6db8d35cdfb4fd5585c...   \n",
              "3       A. Turner, Jessica  [50|r37980778c78::c0dbf0428951817d1855dd0b2c5a...   \n",
              "4           Afzali, Maryam  [50|r37980778c78::6f1ef756cf61134a31340a05042f...   \n",
              "..                     ...                                                ...   \n",
              "148        Yamada, Takashi  [50|doi_dedup___::6f9d880df4bfd4c4aaa2c2fe0f39...   \n",
              "149             Yang, Yang  [50|r37980778c78::6190c74f564a6118cad28ab5349e...   \n",
              "150           Yu, Chunshui  [50|r37980778c78::3360403652895b1d322d59a72e11...   \n",
              "151          Zhao, Zhilian  [50|r37980778c78::af00ac7d9359d7e4b018bf6887dc...   \n",
              "152        Zimmermann, Jan  [50|dedup_wf_001::3ddc4ab8e8415f5932dcc3e2273f...   \n",
              "\n",
              "     d_counter                                  recommended_items  \\\n",
              "0            4  [50|doi_dedup___::0320a9510932366b7b791160306d...   \n",
              "1            4  [50|dedup_wf_001::7dcdcd37da14303ab260ccbf6a1e...   \n",
              "2            6  [50|dedup_wf_001::bf8366fdeceffa41f9c1ce5fb20e...   \n",
              "3            6  [50|dedup_wf_001::3c097cea54f883d400794964d8a1...   \n",
              "4            6  [50|r37980778c78::df43de3287fcb267ce569a387aff...   \n",
              "..         ...                                                ...   \n",
              "148          4  [50|r37980778c78::5cc14d49f1f6302b4a3da4f161b9...   \n",
              "149          5  [50|dedup_wf_001::3d1c061bf7fd4ea8f6e97e8958c4...   \n",
              "150          8  [50|r37980778c78::8d84e4cededf28a6e1ae079981b9...   \n",
              "151          6  [50|r37980778c78::8d84e4cededf28a6e1ae079981b9...   \n",
              "152          4  [50|r37980778c78::70375caea107ed27f6d49cc81283...   \n",
              "\n",
              "                                      profile_keywords  \\\n",
              "0    [psychology, emotions, cem, cortex, Cognitive ...   \n",
              "1    [volumes, nervous system, regression, highest,...   \n",
              "2    [bayesian, Probability theory, Functional magn...   \n",
              "3    [Magnetic resonance imaging, Neuropsychiatric ...   \n",
              "4    [RTOP, Cell Biology, Biophysics, technique, AM...   \n",
              "..                                                 ...   \n",
              "148  [Abnormality, Schizophrenia, Algorithms, Neura...   \n",
              "149  [Research and Analysis Methods, Medicine and H...   \n",
              "150  [Schizophrenia, Internal medicine, Adult, Visu...   \n",
              "151  [Statistical parametric mapping, Case-Control ...   \n",
              "152  [Visual Cortex, Animals, Neuronal tuning, Male...   \n",
              "\n",
              "                                  recommended_keywords  \n",
              "0    [[Social Sciences, 2016, Brain, human activiti...  \n",
              "1    [[Medicine, Sociology, Biological Sciences, ne...  \n",
              "2    [[Brain, Biology, Cell Biology, Neuroscience, ...  \n",
              "3    [[Molecular Biology, Neuroscience, Physiology,...  \n",
              "4    [[Uncategorised, focus, fa, analysis, impact, ...  \n",
              "..                                                 ...  \n",
              "148  [[Physics, Cell Biology, Neuroscience, Mathema...  \n",
              "149  [[Uncategorised, right motor areas, ischemic s...  \n",
              "150  [[Medicine, Biological Sciences, neuroscience,...  \n",
              "151  [[Medicine, Biological Sciences, neuroscience,...  \n",
              "152  [[Medicine, Biological Sciences, Anatomy and p...  \n",
              "\n",
              "[153 rows x 6 columns]"
            ]
          },
          "execution_count": 59,
          "metadata": {},
          "output_type": "execute_result"
        }
      ],
      "source": [
        "users_d"
      ]
    },
    {
      "cell_type": "code",
      "execution_count": null,
      "metadata": {
        "id": "cAxubwAGPtPv"
      },
      "outputs": [],
      "source": [
        "def match_counter(user):\n",
        "  count = 0\n",
        "  mylist = []\n",
        "  for item_list in user['recommended_keywords']:\n",
        "    for item in item_list:\n",
        "      if item in user[\"profile_keywords\"]:\n",
        "        count+=1\n",
        "    mylist.append(count)\n",
        "    count = 0\n",
        "  return mylist"
      ]
    },
    {
      "cell_type": "code",
      "execution_count": null,
      "metadata": {
        "id": "NH8LfMcXPxoh"
      },
      "outputs": [],
      "source": [
        "users_d['kw_counter'] = users_d.apply(lambda row : match_counter(row),axis=1)"
      ]
    },
    {
      "cell_type": "code",
      "execution_count": null,
      "metadata": {
        "id": "3INFjbK5TwT-"
      },
      "outputs": [],
      "source": [
        "def norm_counters(user):\n",
        "  new_list = []\n",
        "  for item in user['kw_counter']:\n",
        "    new_item = item/len(user['profile_keywords'])\n",
        "    new_list.append(new_item)\n",
        "  return new_list"
      ]
    },
    {
      "cell_type": "code",
      "execution_count": null,
      "metadata": {
        "id": "qJvXvp06TzC4"
      },
      "outputs": [],
      "source": [
        "users_d['norm_counter'] = users_d.apply(lambda x:norm_counters(x),axis=1)"
      ]
    },
    {
      "cell_type": "code",
      "execution_count": null,
      "metadata": {
        "colab": {
          "base_uri": "https://localhost:8080/",
          "height": 641
        },
        "id": "T3pSqxwgNhlI",
        "outputId": "9d1bc9c8-46ec-4f89-ec78-205865e59a8b"
      },
      "outputs": [
        {
          "data": {
            "text/html": [
              "\n",
              "  <div id=\"df-bfe6417e-c011-4410-a5b0-1b8af22e115e\">\n",
              "    <div class=\"colab-df-container\">\n",
              "      <div>\n",
              "<style scoped>\n",
              "    .dataframe tbody tr th:only-of-type {\n",
              "        vertical-align: middle;\n",
              "    }\n",
              "\n",
              "    .dataframe tbody tr th {\n",
              "        vertical-align: top;\n",
              "    }\n",
              "\n",
              "    .dataframe thead th {\n",
              "        text-align: right;\n",
              "    }\n",
              "</style>\n",
              "<table border=\"1\" class=\"dataframe\">\n",
              "  <thead>\n",
              "    <tr style=\"text-align: right;\">\n",
              "      <th></th>\n",
              "      <th>author_name</th>\n",
              "      <th>id</th>\n",
              "      <th>d_counter</th>\n",
              "      <th>recommended_items</th>\n",
              "      <th>profile_keywords</th>\n",
              "      <th>recommended_keywords</th>\n",
              "      <th>kw_counter</th>\n",
              "      <th>norm_counter</th>\n",
              "    </tr>\n",
              "  </thead>\n",
              "  <tbody>\n",
              "    <tr>\n",
              "      <th>0</th>\n",
              "      <td>A. Crone, Eveline</td>\n",
              "      <td>[50|r37980778c78::929a30378eb172e271714387c0d5...</td>\n",
              "      <td>4</td>\n",
              "      <td>[50|doi_dedup___::0320a9510932366b7b791160306d...</td>\n",
              "      <td>[psychology, emotions, cem, cortex, Cognitive ...</td>\n",
              "      <td>[[Social Sciences, 2016, Brain, human activiti...</td>\n",
              "      <td>[0, 2, 4, 0, 0, 0, 0, 0, 4, 2]</td>\n",
              "      <td>[0.0, 0.07407407407407407, 0.14814814814814814...</td>\n",
              "    </tr>\n",
              "    <tr>\n",
              "      <th>1</th>\n",
              "      <td>A. Jacobsson, Josefin</td>\n",
              "      <td>[50|r37980778c78::3733d784e60cb4a92ec8226b7564...</td>\n",
              "      <td>4</td>\n",
              "      <td>[50|dedup_wf_001::7dcdcd37da14303ab260ccbf6a1e...</td>\n",
              "      <td>[volumes, nervous system, regression, highest,...</td>\n",
              "      <td>[[Medicine, Sociology, Biological Sciences, ne...</td>\n",
              "      <td>[7, 8, 4, 4, 4, 6, 10, 6, 3, 5]</td>\n",
              "      <td>[0.1590909090909091, 0.18181818181818182, 0.09...</td>\n",
              "    </tr>\n",
              "    <tr>\n",
              "      <th>2</th>\n",
              "      <td>A. Norman, Kenneth</td>\n",
              "      <td>[50|r37980778c78::3dde9a8ae6db8d35cdfb4fd5585c...</td>\n",
              "      <td>6</td>\n",
              "      <td>[50|dedup_wf_001::bf8366fdeceffa41f9c1ce5fb20e...</td>\n",
              "      <td>[bayesian, Probability theory, Functional magn...</td>\n",
              "      <td>[[Brain, Biology, Cell Biology, Neuroscience, ...</td>\n",
              "      <td>[0, 1, 0, 0, 3, 3, 3, 0, 0, 0]</td>\n",
              "      <td>[0.0, 0.041666666666666664, 0.0, 0.0, 0.125, 0...</td>\n",
              "    </tr>\n",
              "    <tr>\n",
              "      <th>3</th>\n",
              "      <td>A. Turner, Jessica</td>\n",
              "      <td>[50|r37980778c78::c0dbf0428951817d1855dd0b2c5a...</td>\n",
              "      <td>6</td>\n",
              "      <td>[50|dedup_wf_001::3c097cea54f883d400794964d8a1...</td>\n",
              "      <td>[Magnetic resonance imaging, Neuropsychiatric ...</td>\n",
              "      <td>[[Molecular Biology, Neuroscience, Physiology,...</td>\n",
              "      <td>[15, 6, 6, 6, 6, 2, 1, 11, 11, 11]</td>\n",
              "      <td>[0.7142857142857143, 0.2857142857142857, 0.285...</td>\n",
              "    </tr>\n",
              "    <tr>\n",
              "      <th>4</th>\n",
              "      <td>Afzali, Maryam</td>\n",
              "      <td>[50|r37980778c78::6f1ef756cf61134a31340a05042f...</td>\n",
              "      <td>6</td>\n",
              "      <td>[50|r37980778c78::df43de3287fcb267ce569a387aff...</td>\n",
              "      <td>[RTOP, Cell Biology, Biophysics, technique, AM...</td>\n",
              "      <td>[[Uncategorised, focus, fa, analysis, impact, ...</td>\n",
              "      <td>[0, 0, 0, 0, 0, 4, 4, 4, 4, 4]</td>\n",
              "      <td>[0.0, 0.0, 0.0, 0.0, 0.0, 0.2222222222222222, ...</td>\n",
              "    </tr>\n",
              "    <tr>\n",
              "      <th>...</th>\n",
              "      <td>...</td>\n",
              "      <td>...</td>\n",
              "      <td>...</td>\n",
              "      <td>...</td>\n",
              "      <td>...</td>\n",
              "      <td>...</td>\n",
              "      <td>...</td>\n",
              "      <td>...</td>\n",
              "    </tr>\n",
              "    <tr>\n",
              "      <th>148</th>\n",
              "      <td>Yamada, Takashi</td>\n",
              "      <td>[50|doi_dedup___::6f9d880df4bfd4c4aaa2c2fe0f39...</td>\n",
              "      <td>4</td>\n",
              "      <td>[50|r37980778c78::5cc14d49f1f6302b4a3da4f161b9...</td>\n",
              "      <td>[Abnormality, Schizophrenia, Algorithms, Neura...</td>\n",
              "      <td>[[Physics, Cell Biology, Neuroscience, Mathema...</td>\n",
              "      <td>[2, 3, 2, 1, 4, 4, 4, 1, 4, 3]</td>\n",
              "      <td>[0.028985507246376812, 0.043478260869565216, 0...</td>\n",
              "    </tr>\n",
              "    <tr>\n",
              "      <th>149</th>\n",
              "      <td>Yang, Yang</td>\n",
              "      <td>[50|r37980778c78::6190c74f564a6118cad28ab5349e...</td>\n",
              "      <td>5</td>\n",
              "      <td>[50|dedup_wf_001::3d1c061bf7fd4ea8f6e97e8958c4...</td>\n",
              "      <td>[Research and Analysis Methods, Medicine and H...</td>\n",
              "      <td>[[Uncategorised, right motor areas, ischemic s...</td>\n",
              "      <td>[0, 2, 17, 4, 4, 1, 2, 2, 3, 2]</td>\n",
              "      <td>[0.0, 0.02127659574468085, 0.18085106382978725...</td>\n",
              "    </tr>\n",
              "    <tr>\n",
              "      <th>150</th>\n",
              "      <td>Yu, Chunshui</td>\n",
              "      <td>[50|r37980778c78::3360403652895b1d322d59a72e11...</td>\n",
              "      <td>8</td>\n",
              "      <td>[50|r37980778c78::8d84e4cededf28a6e1ae079981b9...</td>\n",
              "      <td>[Schizophrenia, Internal medicine, Adult, Visu...</td>\n",
              "      <td>[[Medicine, Biological Sciences, neuroscience,...</td>\n",
              "      <td>[11, 11, 3, 2, 3, 2, 1, 3, 11, 9]</td>\n",
              "      <td>[0.10679611650485436, 0.10679611650485436, 0.0...</td>\n",
              "    </tr>\n",
              "    <tr>\n",
              "      <th>151</th>\n",
              "      <td>Zhao, Zhilian</td>\n",
              "      <td>[50|r37980778c78::af00ac7d9359d7e4b018bf6887dc...</td>\n",
              "      <td>6</td>\n",
              "      <td>[50|r37980778c78::8d84e4cededf28a6e1ae079981b9...</td>\n",
              "      <td>[Statistical parametric mapping, Case-Control ...</td>\n",
              "      <td>[[Medicine, Biological Sciences, neuroscience,...</td>\n",
              "      <td>[10, 12, 6, 7, 5, 7, 6, 6, 8, 9]</td>\n",
              "      <td>[0.10526315789473684, 0.12631578947368421, 0.0...</td>\n",
              "    </tr>\n",
              "    <tr>\n",
              "      <th>152</th>\n",
              "      <td>Zimmermann, Jan</td>\n",
              "      <td>[50|dedup_wf_001::3ddc4ab8e8415f5932dcc3e2273f...</td>\n",
              "      <td>4</td>\n",
              "      <td>[50|r37980778c78::70375caea107ed27f6d49cc81283...</td>\n",
              "      <td>[Visual Cortex, Animals, Neuronal tuning, Male...</td>\n",
              "      <td>[[Medicine, Biological Sciences, Anatomy and p...</td>\n",
              "      <td>[7, 4, 2, 2, 6, 4, 4, 4, 1, 2]</td>\n",
              "      <td>[0.07608695652173914, 0.043478260869565216, 0....</td>\n",
              "    </tr>\n",
              "  </tbody>\n",
              "</table>\n",
              "<p>153 rows × 8 columns</p>\n",
              "</div>\n",
              "      <button class=\"colab-df-convert\" onclick=\"convertToInteractive('df-bfe6417e-c011-4410-a5b0-1b8af22e115e')\"\n",
              "              title=\"Convert this dataframe to an interactive table.\"\n",
              "              style=\"display:none;\">\n",
              "        \n",
              "  <svg xmlns=\"http://www.w3.org/2000/svg\" height=\"24px\"viewBox=\"0 0 24 24\"\n",
              "       width=\"24px\">\n",
              "    <path d=\"M0 0h24v24H0V0z\" fill=\"none\"/>\n",
              "    <path d=\"M18.56 5.44l.94 2.06.94-2.06 2.06-.94-2.06-.94-.94-2.06-.94 2.06-2.06.94zm-11 1L8.5 8.5l.94-2.06 2.06-.94-2.06-.94L8.5 2.5l-.94 2.06-2.06.94zm10 10l.94 2.06.94-2.06 2.06-.94-2.06-.94-.94-2.06-.94 2.06-2.06.94z\"/><path d=\"M17.41 7.96l-1.37-1.37c-.4-.4-.92-.59-1.43-.59-.52 0-1.04.2-1.43.59L10.3 9.45l-7.72 7.72c-.78.78-.78 2.05 0 2.83L4 21.41c.39.39.9.59 1.41.59.51 0 1.02-.2 1.41-.59l7.78-7.78 2.81-2.81c.8-.78.8-2.07 0-2.86zM5.41 20L4 18.59l7.72-7.72 1.47 1.35L5.41 20z\"/>\n",
              "  </svg>\n",
              "      </button>\n",
              "      \n",
              "  <style>\n",
              "    .colab-df-container {\n",
              "      display:flex;\n",
              "      flex-wrap:wrap;\n",
              "      gap: 12px;\n",
              "    }\n",
              "\n",
              "    .colab-df-convert {\n",
              "      background-color: #E8F0FE;\n",
              "      border: none;\n",
              "      border-radius: 50%;\n",
              "      cursor: pointer;\n",
              "      display: none;\n",
              "      fill: #1967D2;\n",
              "      height: 32px;\n",
              "      padding: 0 0 0 0;\n",
              "      width: 32px;\n",
              "    }\n",
              "\n",
              "    .colab-df-convert:hover {\n",
              "      background-color: #E2EBFA;\n",
              "      box-shadow: 0px 1px 2px rgba(60, 64, 67, 0.3), 0px 1px 3px 1px rgba(60, 64, 67, 0.15);\n",
              "      fill: #174EA6;\n",
              "    }\n",
              "\n",
              "    [theme=dark] .colab-df-convert {\n",
              "      background-color: #3B4455;\n",
              "      fill: #D2E3FC;\n",
              "    }\n",
              "\n",
              "    [theme=dark] .colab-df-convert:hover {\n",
              "      background-color: #434B5C;\n",
              "      box-shadow: 0px 1px 3px 1px rgba(0, 0, 0, 0.15);\n",
              "      filter: drop-shadow(0px 1px 2px rgba(0, 0, 0, 0.3));\n",
              "      fill: #FFFFFF;\n",
              "    }\n",
              "  </style>\n",
              "\n",
              "      <script>\n",
              "        const buttonEl =\n",
              "          document.querySelector('#df-bfe6417e-c011-4410-a5b0-1b8af22e115e button.colab-df-convert');\n",
              "        buttonEl.style.display =\n",
              "          google.colab.kernel.accessAllowed ? 'block' : 'none';\n",
              "\n",
              "        async function convertToInteractive(key) {\n",
              "          const element = document.querySelector('#df-bfe6417e-c011-4410-a5b0-1b8af22e115e');\n",
              "          const dataTable =\n",
              "            await google.colab.kernel.invokeFunction('convertToInteractive',\n",
              "                                                     [key], {});\n",
              "          if (!dataTable) return;\n",
              "\n",
              "          const docLinkHtml = 'Like what you see? Visit the ' +\n",
              "            '<a target=\"_blank\" href=https://colab.research.google.com/notebooks/data_table.ipynb>data table notebook</a>'\n",
              "            + ' to learn more about interactive tables.';\n",
              "          element.innerHTML = '';\n",
              "          dataTable['output_type'] = 'display_data';\n",
              "          await google.colab.output.renderOutput(dataTable, element);\n",
              "          const docLink = document.createElement('div');\n",
              "          docLink.innerHTML = docLinkHtml;\n",
              "          element.appendChild(docLink);\n",
              "        }\n",
              "      </script>\n",
              "    </div>\n",
              "  </div>\n",
              "  "
            ],
            "text/plain": [
              "               author_name                                                 id  \\\n",
              "0        A. Crone, Eveline  [50|r37980778c78::929a30378eb172e271714387c0d5...   \n",
              "1    A. Jacobsson, Josefin  [50|r37980778c78::3733d784e60cb4a92ec8226b7564...   \n",
              "2       A. Norman, Kenneth  [50|r37980778c78::3dde9a8ae6db8d35cdfb4fd5585c...   \n",
              "3       A. Turner, Jessica  [50|r37980778c78::c0dbf0428951817d1855dd0b2c5a...   \n",
              "4           Afzali, Maryam  [50|r37980778c78::6f1ef756cf61134a31340a05042f...   \n",
              "..                     ...                                                ...   \n",
              "148        Yamada, Takashi  [50|doi_dedup___::6f9d880df4bfd4c4aaa2c2fe0f39...   \n",
              "149             Yang, Yang  [50|r37980778c78::6190c74f564a6118cad28ab5349e...   \n",
              "150           Yu, Chunshui  [50|r37980778c78::3360403652895b1d322d59a72e11...   \n",
              "151          Zhao, Zhilian  [50|r37980778c78::af00ac7d9359d7e4b018bf6887dc...   \n",
              "152        Zimmermann, Jan  [50|dedup_wf_001::3ddc4ab8e8415f5932dcc3e2273f...   \n",
              "\n",
              "     d_counter                                  recommended_items  \\\n",
              "0            4  [50|doi_dedup___::0320a9510932366b7b791160306d...   \n",
              "1            4  [50|dedup_wf_001::7dcdcd37da14303ab260ccbf6a1e...   \n",
              "2            6  [50|dedup_wf_001::bf8366fdeceffa41f9c1ce5fb20e...   \n",
              "3            6  [50|dedup_wf_001::3c097cea54f883d400794964d8a1...   \n",
              "4            6  [50|r37980778c78::df43de3287fcb267ce569a387aff...   \n",
              "..         ...                                                ...   \n",
              "148          4  [50|r37980778c78::5cc14d49f1f6302b4a3da4f161b9...   \n",
              "149          5  [50|dedup_wf_001::3d1c061bf7fd4ea8f6e97e8958c4...   \n",
              "150          8  [50|r37980778c78::8d84e4cededf28a6e1ae079981b9...   \n",
              "151          6  [50|r37980778c78::8d84e4cededf28a6e1ae079981b9...   \n",
              "152          4  [50|r37980778c78::70375caea107ed27f6d49cc81283...   \n",
              "\n",
              "                                      profile_keywords  \\\n",
              "0    [psychology, emotions, cem, cortex, Cognitive ...   \n",
              "1    [volumes, nervous system, regression, highest,...   \n",
              "2    [bayesian, Probability theory, Functional magn...   \n",
              "3    [Magnetic resonance imaging, Neuropsychiatric ...   \n",
              "4    [RTOP, Cell Biology, Biophysics, technique, AM...   \n",
              "..                                                 ...   \n",
              "148  [Abnormality, Schizophrenia, Algorithms, Neura...   \n",
              "149  [Research and Analysis Methods, Medicine and H...   \n",
              "150  [Schizophrenia, Internal medicine, Adult, Visu...   \n",
              "151  [Statistical parametric mapping, Case-Control ...   \n",
              "152  [Visual Cortex, Animals, Neuronal tuning, Male...   \n",
              "\n",
              "                                  recommended_keywords  \\\n",
              "0    [[Social Sciences, 2016, Brain, human activiti...   \n",
              "1    [[Medicine, Sociology, Biological Sciences, ne...   \n",
              "2    [[Brain, Biology, Cell Biology, Neuroscience, ...   \n",
              "3    [[Molecular Biology, Neuroscience, Physiology,...   \n",
              "4    [[Uncategorised, focus, fa, analysis, impact, ...   \n",
              "..                                                 ...   \n",
              "148  [[Physics, Cell Biology, Neuroscience, Mathema...   \n",
              "149  [[Uncategorised, right motor areas, ischemic s...   \n",
              "150  [[Medicine, Biological Sciences, neuroscience,...   \n",
              "151  [[Medicine, Biological Sciences, neuroscience,...   \n",
              "152  [[Medicine, Biological Sciences, Anatomy and p...   \n",
              "\n",
              "                             kw_counter  \\\n",
              "0        [0, 2, 4, 0, 0, 0, 0, 0, 4, 2]   \n",
              "1       [7, 8, 4, 4, 4, 6, 10, 6, 3, 5]   \n",
              "2        [0, 1, 0, 0, 3, 3, 3, 0, 0, 0]   \n",
              "3    [15, 6, 6, 6, 6, 2, 1, 11, 11, 11]   \n",
              "4        [0, 0, 0, 0, 0, 4, 4, 4, 4, 4]   \n",
              "..                                  ...   \n",
              "148      [2, 3, 2, 1, 4, 4, 4, 1, 4, 3]   \n",
              "149     [0, 2, 17, 4, 4, 1, 2, 2, 3, 2]   \n",
              "150   [11, 11, 3, 2, 3, 2, 1, 3, 11, 9]   \n",
              "151    [10, 12, 6, 7, 5, 7, 6, 6, 8, 9]   \n",
              "152      [7, 4, 2, 2, 6, 4, 4, 4, 1, 2]   \n",
              "\n",
              "                                          norm_counter  \n",
              "0    [0.0, 0.07407407407407407, 0.14814814814814814...  \n",
              "1    [0.1590909090909091, 0.18181818181818182, 0.09...  \n",
              "2    [0.0, 0.041666666666666664, 0.0, 0.0, 0.125, 0...  \n",
              "3    [0.7142857142857143, 0.2857142857142857, 0.285...  \n",
              "4    [0.0, 0.0, 0.0, 0.0, 0.0, 0.2222222222222222, ...  \n",
              "..                                                 ...  \n",
              "148  [0.028985507246376812, 0.043478260869565216, 0...  \n",
              "149  [0.0, 0.02127659574468085, 0.18085106382978725...  \n",
              "150  [0.10679611650485436, 0.10679611650485436, 0.0...  \n",
              "151  [0.10526315789473684, 0.12631578947368421, 0.0...  \n",
              "152  [0.07608695652173914, 0.043478260869565216, 0....  \n",
              "\n",
              "[153 rows x 8 columns]"
            ]
          },
          "execution_count": 67,
          "metadata": {},
          "output_type": "execute_result"
        }
      ],
      "source": [
        "users_d"
      ]
    },
    {
      "cell_type": "markdown",
      "metadata": {
        "id": "zNxOA3capbzN"
      },
      "source": [
        "### Hit-rate@1 Evaluation"
      ]
    },
    {
      "cell_type": "code",
      "execution_count": null,
      "metadata": {
        "id": "f9O2rsQSo8iy"
      },
      "outputs": [],
      "source": [
        "def hit_rate_d(row):\n",
        "  for item in row[\"recommended_items\"]:\n",
        "    if item == row['leave_one_out_d']:\n",
        "      return 1\n",
        "  return 0 "
      ]
    },
    {
      "cell_type": "code",
      "execution_count": null,
      "metadata": {
        "id": "CO_STPLco9GC"
      },
      "outputs": [],
      "source": [
        "users_d['hit_rate_d'] = users_d.apply(lambda x:hit_rate_d(x),axis=1)"
      ]
    },
    {
      "cell_type": "code",
      "execution_count": null,
      "metadata": {
        "colab": {
          "base_uri": "https://localhost:8080/"
        },
        "id": "soyMgVsWqZst",
        "outputId": "fcfc4c7d-9c6c-478a-c5f4-e68a76fc8eb4"
      },
      "outputs": [
        {
          "data": {
            "text/plain": [
              "0.9411764705882353"
            ]
          },
          "execution_count": 42,
          "metadata": {},
          "output_type": "execute_result"
        }
      ],
      "source": [
        "users_d['hit_rate_d'].mean()"
      ]
    },
    {
      "cell_type": "markdown",
      "metadata": {
        "id": "5wLcnxDj-0dY"
      },
      "source": [
        "### Hit-rate@2 Evaluation"
      ]
    },
    {
      "cell_type": "code",
      "execution_count": null,
      "metadata": {
        "id": "785RkEn9-zsR"
      },
      "outputs": [],
      "source": [
        "def hit_rate_d(row):\n",
        "  for item in row[\"recommended_items\"]:\n",
        "    if item in row['leave_two_out_d']:\n",
        "      return 1\n",
        "  return 0 "
      ]
    },
    {
      "cell_type": "code",
      "execution_count": null,
      "metadata": {
        "id": "lxp8qQqs_HE7"
      },
      "outputs": [],
      "source": [
        "users_d['hit_rate_d'] = users_d.apply(lambda x:hit_rate_d(x),axis=1)"
      ]
    },
    {
      "cell_type": "code",
      "execution_count": null,
      "metadata": {
        "colab": {
          "base_uri": "https://localhost:8080/"
        },
        "id": "j1oNPazw_IRN",
        "outputId": "325bc896-fec8-4840-8a87-4acef2e2c114"
      },
      "outputs": [
        {
          "data": {
            "text/plain": [
              "0.9869281045751634"
            ]
          },
          "execution_count": 62,
          "metadata": {},
          "output_type": "execute_result"
        }
      ],
      "source": [
        "users_d['hit_rate_d'].mean()"
      ]
    },
    {
      "cell_type": "markdown",
      "metadata": {
        "id": "xBKqNZiwHZjf"
      },
      "source": [
        "### Hit-rate@3 Evaluation"
      ]
    },
    {
      "cell_type": "code",
      "execution_count": null,
      "metadata": {
        "colab": {
          "base_uri": "https://localhost:8080/",
          "height": 49
        },
        "id": "h46RXrOWNPy_",
        "outputId": "3c483d04-53cf-4bb3-c620-105145a50f3f"
      },
      "outputs": [
        {
          "data": {
            "text/html": [
              "\n",
              "  <div id=\"df-5afff6b8-b098-4069-acd9-eadc66a55cbf\">\n",
              "    <div class=\"colab-df-container\">\n",
              "      <div>\n",
              "<style scoped>\n",
              "    .dataframe tbody tr th:only-of-type {\n",
              "        vertical-align: middle;\n",
              "    }\n",
              "\n",
              "    .dataframe tbody tr th {\n",
              "        vertical-align: top;\n",
              "    }\n",
              "\n",
              "    .dataframe thead th {\n",
              "        text-align: right;\n",
              "    }\n",
              "</style>\n",
              "<table border=\"1\" class=\"dataframe\">\n",
              "  <thead>\n",
              "    <tr style=\"text-align: right;\">\n",
              "      <th></th>\n",
              "      <th>author_name</th>\n",
              "      <th>id</th>\n",
              "      <th>d_counter</th>\n",
              "      <th>leave_three_out_d</th>\n",
              "      <th>recommended_items</th>\n",
              "    </tr>\n",
              "  </thead>\n",
              "  <tbody>\n",
              "  </tbody>\n",
              "</table>\n",
              "</div>\n",
              "      <button class=\"colab-df-convert\" onclick=\"convertToInteractive('df-5afff6b8-b098-4069-acd9-eadc66a55cbf')\"\n",
              "              title=\"Convert this dataframe to an interactive table.\"\n",
              "              style=\"display:none;\">\n",
              "        \n",
              "  <svg xmlns=\"http://www.w3.org/2000/svg\" height=\"24px\"viewBox=\"0 0 24 24\"\n",
              "       width=\"24px\">\n",
              "    <path d=\"M0 0h24v24H0V0z\" fill=\"none\"/>\n",
              "    <path d=\"M18.56 5.44l.94 2.06.94-2.06 2.06-.94-2.06-.94-.94-2.06-.94 2.06-2.06.94zm-11 1L8.5 8.5l.94-2.06 2.06-.94-2.06-.94L8.5 2.5l-.94 2.06-2.06.94zm10 10l.94 2.06.94-2.06 2.06-.94-2.06-.94-.94-2.06-.94 2.06-2.06.94z\"/><path d=\"M17.41 7.96l-1.37-1.37c-.4-.4-.92-.59-1.43-.59-.52 0-1.04.2-1.43.59L10.3 9.45l-7.72 7.72c-.78.78-.78 2.05 0 2.83L4 21.41c.39.39.9.59 1.41.59.51 0 1.02-.2 1.41-.59l7.78-7.78 2.81-2.81c.8-.78.8-2.07 0-2.86zM5.41 20L4 18.59l7.72-7.72 1.47 1.35L5.41 20z\"/>\n",
              "  </svg>\n",
              "      </button>\n",
              "      \n",
              "  <style>\n",
              "    .colab-df-container {\n",
              "      display:flex;\n",
              "      flex-wrap:wrap;\n",
              "      gap: 12px;\n",
              "    }\n",
              "\n",
              "    .colab-df-convert {\n",
              "      background-color: #E8F0FE;\n",
              "      border: none;\n",
              "      border-radius: 50%;\n",
              "      cursor: pointer;\n",
              "      display: none;\n",
              "      fill: #1967D2;\n",
              "      height: 32px;\n",
              "      padding: 0 0 0 0;\n",
              "      width: 32px;\n",
              "    }\n",
              "\n",
              "    .colab-df-convert:hover {\n",
              "      background-color: #E2EBFA;\n",
              "      box-shadow: 0px 1px 2px rgba(60, 64, 67, 0.3), 0px 1px 3px 1px rgba(60, 64, 67, 0.15);\n",
              "      fill: #174EA6;\n",
              "    }\n",
              "\n",
              "    [theme=dark] .colab-df-convert {\n",
              "      background-color: #3B4455;\n",
              "      fill: #D2E3FC;\n",
              "    }\n",
              "\n",
              "    [theme=dark] .colab-df-convert:hover {\n",
              "      background-color: #434B5C;\n",
              "      box-shadow: 0px 1px 3px 1px rgba(0, 0, 0, 0.15);\n",
              "      filter: drop-shadow(0px 1px 2px rgba(0, 0, 0, 0.3));\n",
              "      fill: #FFFFFF;\n",
              "    }\n",
              "  </style>\n",
              "\n",
              "      <script>\n",
              "        const buttonEl =\n",
              "          document.querySelector('#df-5afff6b8-b098-4069-acd9-eadc66a55cbf button.colab-df-convert');\n",
              "        buttonEl.style.display =\n",
              "          google.colab.kernel.accessAllowed ? 'block' : 'none';\n",
              "\n",
              "        async function convertToInteractive(key) {\n",
              "          const element = document.querySelector('#df-5afff6b8-b098-4069-acd9-eadc66a55cbf');\n",
              "          const dataTable =\n",
              "            await google.colab.kernel.invokeFunction('convertToInteractive',\n",
              "                                                     [key], {});\n",
              "          if (!dataTable) return;\n",
              "\n",
              "          const docLinkHtml = 'Like what you see? Visit the ' +\n",
              "            '<a target=\"_blank\" href=https://colab.research.google.com/notebooks/data_table.ipynb>data table notebook</a>'\n",
              "            + ' to learn more about interactive tables.';\n",
              "          element.innerHTML = '';\n",
              "          dataTable['output_type'] = 'display_data';\n",
              "          await google.colab.output.renderOutput(dataTable, element);\n",
              "          const docLink = document.createElement('div');\n",
              "          docLink.innerHTML = docLinkHtml;\n",
              "          element.appendChild(docLink);\n",
              "        }\n",
              "      </script>\n",
              "    </div>\n",
              "  </div>\n",
              "  "
            ],
            "text/plain": [
              "Empty DataFrame\n",
              "Columns: [author_name, id, d_counter, leave_three_out_d, recommended_items]\n",
              "Index: []"
            ]
          },
          "execution_count": 78,
          "metadata": {},
          "output_type": "execute_result"
        }
      ],
      "source": [
        "users_d[users_d['leave_three_out_d'].isna()]"
      ]
    },
    {
      "cell_type": "code",
      "execution_count": null,
      "metadata": {
        "id": "QxHr-pHWHauL"
      },
      "outputs": [],
      "source": [
        "def hit_rate_d(row):\n",
        "  for item in row[\"recommended_items\"]:\n",
        "    if item in row['leave_three_out_d']:\n",
        "      return 1\n",
        "  return 0 "
      ]
    },
    {
      "cell_type": "code",
      "execution_count": null,
      "metadata": {
        "id": "9DCK2TUMHeOF"
      },
      "outputs": [],
      "source": [
        "users_d['hit_rate_d'] = users_d.apply(lambda x:hit_rate_d(x),axis=1)"
      ]
    },
    {
      "cell_type": "code",
      "execution_count": null,
      "metadata": {
        "colab": {
          "base_uri": "https://localhost:8080/"
        },
        "id": "tQ0ERyD3HfI8",
        "outputId": "b5ba6730-8ec3-416e-e73a-c43842fe2141"
      },
      "outputs": [
        {
          "data": {
            "text/plain": [
              "0.9934640522875817"
            ]
          },
          "execution_count": 81,
          "metadata": {},
          "output_type": "execute_result"
        }
      ],
      "source": [
        "users_d['hit_rate_d'].mean()"
      ]
    },
    {
      "cell_type": "markdown",
      "metadata": {
        "id": "DzBQ8Anqq72W"
      },
      "source": [
        "## Preparing data for software RecSys"
      ]
    },
    {
      "cell_type": "code",
      "execution_count": null,
      "metadata": {
        "id": "c5bw4BY6q72W"
      },
      "outputs": [],
      "source": [
        "users_sw = pd.read_json('/content/gdrive/MyDrive/Recommendation_Systems_Activities/Journal/Data/ni_3900/users_ni_3900.json',orient='index')"
      ]
    },
    {
      "cell_type": "code",
      "execution_count": null,
      "metadata": {
        "id": "1BbLBb3dkX7W"
      },
      "outputs": [],
      "source": [
        "users_sw = users_sw.loc[users_sw.astype(str).drop_duplicates(subset=['id']).index]"
      ]
    },
    {
      "cell_type": "code",
      "execution_count": null,
      "metadata": {
        "id": "cbC9gV_jq72W"
      },
      "outputs": [],
      "source": [
        "def sw_counter(user_prof):\n",
        "  sw_counter = 0\n",
        "  for id in user_prof:\n",
        "    item_type = df_artifacts[df_artifacts['id'] == id]['type']\n",
        "    for i in item_type:\n",
        "      if str(i) == 'publication':\n",
        "        sw_counter += 1\n",
        "  return sw_counter"
      ]
    },
    {
      "cell_type": "code",
      "execution_count": null,
      "metadata": {
        "id": "Px0ywa_Xq72W"
      },
      "outputs": [],
      "source": [
        "users_sw['p_counter'] = users_sw['id'].apply(lambda row : sw_counter(row))"
      ]
    },
    {
      "cell_type": "code",
      "execution_count": null,
      "metadata": {
        "id": "I3EDvhnwk0NN"
      },
      "outputs": [],
      "source": [
        "users_sw = users_sw[users_sw['sw_counter'] != 0 ]\n",
        "users_sw = users_sw[users_sw['sw_counter'] != 1 ]\n",
        "users_sw = users_sw[users_sw['sw_counter'] != 2 ]"
      ]
    },
    {
      "cell_type": "markdown",
      "metadata": {
        "id": "W4cM-fRTrdmM"
      },
      "source": [
        "### some tests on users"
      ]
    },
    {
      "cell_type": "code",
      "execution_count": null,
      "metadata": {
        "colab": {
          "base_uri": "https://localhost:8080/"
        },
        "id": "EOAiFWShrgTF",
        "outputId": "d529b81b-2551-4a62-a051-0007f95adcb1"
      },
      "outputs": [
        {
          "data": {
            "text/plain": [
              "49    3\n",
              "72    3\n",
              "13    2\n",
              "15    2\n",
              "17    2\n",
              "16    1\n",
              "7     1\n",
              "32    1\n",
              "8     1\n",
              "25    1\n",
              "3     1\n",
              "11    1\n",
              "64    1\n",
              "50    1\n",
              "26    1\n",
              "12    1\n",
              "58    1\n",
              "35    1\n",
              "52    1\n",
              "24    1\n",
              "Name: sw_counter, dtype: int64"
            ]
          },
          "execution_count": 79,
          "metadata": {},
          "output_type": "execute_result"
        }
      ],
      "source": [
        "users_sw['sw_counter'].value_counts()"
      ]
    },
    {
      "cell_type": "code",
      "execution_count": null,
      "metadata": {
        "id": "IQpqWPy2rrC8"
      },
      "outputs": [],
      "source": [
        "test = users_sw.explode('id')"
      ]
    },
    {
      "cell_type": "code",
      "execution_count": null,
      "metadata": {
        "id": "DOAng7f5sYdR"
      },
      "outputs": [],
      "source": [
        "rep = test['id'].value_counts()"
      ]
    },
    {
      "cell_type": "code",
      "execution_count": null,
      "metadata": {
        "colab": {
          "base_uri": "https://localhost:8080/"
        },
        "id": "zinStS1Q9h8w",
        "outputId": "9b6ac784-829b-498f-d44f-f0f5583314bf"
      },
      "outputs": [
        {
          "data": {
            "text/plain": [
              "10    16\n",
              "1     15\n",
              "12     9\n",
              "15     7\n",
              "20     6\n",
              "9      6\n",
              "19     4\n",
              "4      4\n",
              "5      3\n",
              "7      3\n",
              "11     3\n",
              "8      2\n",
              "16     2\n",
              "17     2\n",
              "18     2\n",
              "13     1\n",
              "14     1\n",
              "6      1\n",
              "3      1\n",
              "2      1\n",
              "22     1\n",
              "Name: id, dtype: int64"
            ]
          },
          "execution_count": 83,
          "metadata": {},
          "output_type": "execute_result"
        }
      ],
      "source": [
        "rep.value_counts()"
      ]
    },
    {
      "cell_type": "markdown",
      "metadata": {
        "id": "OTuBIWls6Izv"
      },
      "source": [
        "### Leave 1 out"
      ]
    },
    {
      "cell_type": "code",
      "execution_count": null,
      "metadata": {
        "id": "6Dqk4Be2q72X"
      },
      "outputs": [],
      "source": [
        "def leave_one_out_sw(profile_items):\n",
        "   for item in profile_items:\n",
        "      item_type = df_artifacts[df_artifacts['id'] == item]['type'].tolist()\n",
        "      if item_type[0] == 'software':\n",
        "        profile_items.remove(item)\n",
        "        return item"
      ]
    },
    {
      "cell_type": "code",
      "execution_count": null,
      "metadata": {
        "id": "7ptITXSpq72X"
      },
      "outputs": [],
      "source": [
        "users_sw['leave_one_out_sw'] = users_sw['id'].apply(lambda x:leave_one_out_sw(x))"
      ]
    },
    {
      "cell_type": "markdown",
      "metadata": {
        "id": "IdDlVvm36Omo"
      },
      "source": [
        "### Leave 2 out"
      ]
    },
    {
      "cell_type": "code",
      "execution_count": null,
      "metadata": {
        "id": "0aIHwr1O6QvB"
      },
      "outputs": [],
      "source": [
        "def leave_two_out_sw(profile_items):\n",
        "  sw_list = []\n",
        "  counter = 0\n",
        "  for item in profile_items:\n",
        "      item_type = df_artifacts[df_artifacts['id'] == item]['type'].tolist()\n",
        "      if item_type[0] == 'software':\n",
        "          sw_list.append(item)\n",
        "          counter+=1\n",
        "          profile_items.remove(item)\n",
        "          if counter == 2:\n",
        "            return sw_list"
      ]
    },
    {
      "cell_type": "code",
      "execution_count": null,
      "metadata": {
        "id": "OfDbh1gf6lrR"
      },
      "outputs": [],
      "source": [
        "users_sw['leave_two_out_sw'] = users_sw['id'].apply(lambda x:leave_two_out_sw(x))"
      ]
    },
    {
      "cell_type": "markdown",
      "metadata": {
        "id": "YMEQ9CO96oNq"
      },
      "source": [
        "### Leave 3 out"
      ]
    },
    {
      "cell_type": "code",
      "execution_count": null,
      "metadata": {
        "id": "8x8Q27_s6rJu"
      },
      "outputs": [],
      "source": [
        "def leave_three_out_sw(profile_items):\n",
        "  sw_list = []\n",
        "  counter = 0\n",
        "  for item in profile_items:\n",
        "      item_type = df_artifacts[df_artifacts['id'] == item]['type'].tolist()\n",
        "      if item_type[0] == 'software':\n",
        "          sw_list.append(item)\n",
        "          counter+=1\n",
        "          profile_items.remove(item)\n",
        "          if counter == 3:\n",
        "            return sw_list"
      ]
    },
    {
      "cell_type": "code",
      "execution_count": null,
      "metadata": {
        "id": "qCKgmU2Z6vFF"
      },
      "outputs": [],
      "source": [
        "users_sw['leave_three_out_sw'] = users_sw['id'].apply(lambda x:leave_three_out_sw(x))"
      ]
    },
    {
      "cell_type": "markdown",
      "metadata": {
        "id": "yiHpKtZBJz1p"
      },
      "source": [
        "## Software Recommender"
      ]
    },
    {
      "cell_type": "code",
      "execution_count": null,
      "metadata": {
        "id": "xRMyu_8alzVS"
      },
      "outputs": [],
      "source": [
        "users_sw.reset_index(drop=True, inplace=True)"
      ]
    },
    {
      "cell_type": "code",
      "execution_count": null,
      "metadata": {
        "id": "K6LqEOauq72X"
      },
      "outputs": [],
      "source": [
        "authors = users_sw.explode('id')"
      ]
    },
    {
      "cell_type": "code",
      "execution_count": null,
      "metadata": {
        "id": "I6hLXaZJq72X"
      },
      "outputs": [],
      "source": [
        "users_g=nx.from_pandas_edgelist(authors, 'author_name', 'id')"
      ]
    },
    {
      "cell_type": "code",
      "execution_count": null,
      "metadata": {
        "id": "Yd-jJakXq72X"
      },
      "outputs": [],
      "source": [
        "G = nx.compose(giant, users_g)"
      ]
    },
    {
      "cell_type": "code",
      "execution_count": null,
      "metadata": {
        "colab": {
          "base_uri": "https://localhost:8080/"
        },
        "id": "AFjJpFf6q72X",
        "outputId": "d313d37d-6095-4210-bae6-24c3767e1c81"
      },
      "outputs": [
        {
          "name": "stdout",
          "output_type": "stream",
          "text": [
            "Name: \n",
            "Type: Graph\n",
            "Number of nodes: 3933\n",
            "Number of edges: 4864\n",
            "Average degree:   2.4734\n"
          ]
        }
      ],
      "source": [
        "print(nx.info(G))"
      ]
    },
    {
      "cell_type": "code",
      "execution_count": null,
      "metadata": {
        "colab": {
          "base_uri": "https://localhost:8080/",
          "height": 349
        },
        "id": "3_-em9waq72Y",
        "outputId": "08a5dc01-785e-45e7-f0b8-25ba4adfa930"
      },
      "outputs": [
        {
          "data": {
            "application/vnd.jupyter.widget-view+json": {
              "model_id": "bd95df15fddd4e0e84f4061f0feaea53",
              "version_major": 2,
              "version_minor": 0
            },
            "text/plain": [
              "Computing transition probabilities:   0%|          | 0/3933 [00:00<?, ?it/s]"
            ]
          },
          "metadata": {},
          "output_type": "display_data"
        },
        {
          "name": "stderr",
          "output_type": "stream",
          "text": [
            "Generating walks (CPU: 1): 100%|██████████| 10/10 [02:57<00:00, 17.78s/it]\n"
          ]
        },
        {
          "data": {
            "text/html": [
              "\n",
              "  <div id=\"df-873193f7-becf-4378-aae4-ec7bca574204\">\n",
              "    <div class=\"colab-df-container\">\n",
              "      <div>\n",
              "<style scoped>\n",
              "    .dataframe tbody tr th:only-of-type {\n",
              "        vertical-align: middle;\n",
              "    }\n",
              "\n",
              "    .dataframe tbody tr th {\n",
              "        vertical-align: top;\n",
              "    }\n",
              "\n",
              "    .dataframe thead th {\n",
              "        text-align: right;\n",
              "    }\n",
              "</style>\n",
              "<table border=\"1\" class=\"dataframe\">\n",
              "  <thead>\n",
              "    <tr style=\"text-align: right;\">\n",
              "      <th></th>\n",
              "      <th>0</th>\n",
              "      <th>1</th>\n",
              "      <th>2</th>\n",
              "      <th>3</th>\n",
              "      <th>4</th>\n",
              "      <th>5</th>\n",
              "      <th>6</th>\n",
              "      <th>7</th>\n",
              "      <th>8</th>\n",
              "      <th>9</th>\n",
              "      <th>...</th>\n",
              "      <th>54</th>\n",
              "      <th>55</th>\n",
              "      <th>56</th>\n",
              "      <th>57</th>\n",
              "      <th>58</th>\n",
              "      <th>59</th>\n",
              "      <th>60</th>\n",
              "      <th>61</th>\n",
              "      <th>62</th>\n",
              "      <th>63</th>\n",
              "    </tr>\n",
              "  </thead>\n",
              "  <tbody>\n",
              "    <tr>\n",
              "      <th>50|doi_dedup___::75a230ede9917ccb2b7aeb83a913348e</th>\n",
              "      <td>-0.335076</td>\n",
              "      <td>1.252077</td>\n",
              "      <td>0.214705</td>\n",
              "      <td>0.990315</td>\n",
              "      <td>0.008131</td>\n",
              "      <td>0.324026</td>\n",
              "      <td>0.277074</td>\n",
              "      <td>0.283510</td>\n",
              "      <td>0.078628</td>\n",
              "      <td>0.973506</td>\n",
              "      <td>...</td>\n",
              "      <td>0.060510</td>\n",
              "      <td>-0.627052</td>\n",
              "      <td>-1.238817</td>\n",
              "      <td>-0.500939</td>\n",
              "      <td>0.851494</td>\n",
              "      <td>-0.268488</td>\n",
              "      <td>0.796210</td>\n",
              "      <td>-0.506276</td>\n",
              "      <td>-0.426384</td>\n",
              "      <td>-0.108745</td>\n",
              "    </tr>\n",
              "    <tr>\n",
              "      <th>50|doi_dedup___::f9fa75ddaef9f0cab5ca7aeee6988d60</th>\n",
              "      <td>-0.251877</td>\n",
              "      <td>0.841525</td>\n",
              "      <td>0.030137</td>\n",
              "      <td>0.442109</td>\n",
              "      <td>-0.063258</td>\n",
              "      <td>-0.272283</td>\n",
              "      <td>0.055829</td>\n",
              "      <td>-0.400199</td>\n",
              "      <td>0.355207</td>\n",
              "      <td>-0.488140</td>\n",
              "      <td>...</td>\n",
              "      <td>0.230881</td>\n",
              "      <td>-0.527694</td>\n",
              "      <td>-0.258084</td>\n",
              "      <td>-0.429581</td>\n",
              "      <td>0.482505</td>\n",
              "      <td>0.402251</td>\n",
              "      <td>-0.427001</td>\n",
              "      <td>0.646252</td>\n",
              "      <td>0.057944</td>\n",
              "      <td>-0.205848</td>\n",
              "    </tr>\n",
              "    <tr>\n",
              "      <th>50|doi_dedup___::c98b296dcebb6595d8bb351bc0da7776</th>\n",
              "      <td>-0.301024</td>\n",
              "      <td>0.767318</td>\n",
              "      <td>0.074684</td>\n",
              "      <td>0.881000</td>\n",
              "      <td>-0.310112</td>\n",
              "      <td>0.466022</td>\n",
              "      <td>0.253582</td>\n",
              "      <td>-0.515656</td>\n",
              "      <td>0.531293</td>\n",
              "      <td>-0.149149</td>\n",
              "      <td>...</td>\n",
              "      <td>-0.419637</td>\n",
              "      <td>-0.745326</td>\n",
              "      <td>-0.048454</td>\n",
              "      <td>-0.000379</td>\n",
              "      <td>0.200701</td>\n",
              "      <td>0.454135</td>\n",
              "      <td>0.071742</td>\n",
              "      <td>0.236818</td>\n",
              "      <td>0.655824</td>\n",
              "      <td>-0.491339</td>\n",
              "    </tr>\n",
              "    <tr>\n",
              "      <th>50|doi_dedup___::afb5184f02eb2636845e3853e75215b9</th>\n",
              "      <td>-0.656441</td>\n",
              "      <td>0.631691</td>\n",
              "      <td>-0.054582</td>\n",
              "      <td>1.795555</td>\n",
              "      <td>1.086463</td>\n",
              "      <td>0.035012</td>\n",
              "      <td>-0.074797</td>\n",
              "      <td>0.308271</td>\n",
              "      <td>0.004586</td>\n",
              "      <td>0.344662</td>\n",
              "      <td>...</td>\n",
              "      <td>-0.317337</td>\n",
              "      <td>-1.451530</td>\n",
              "      <td>0.078382</td>\n",
              "      <td>-0.559890</td>\n",
              "      <td>0.305573</td>\n",
              "      <td>-0.290026</td>\n",
              "      <td>0.245945</td>\n",
              "      <td>-0.109634</td>\n",
              "      <td>0.353083</td>\n",
              "      <td>0.449351</td>\n",
              "    </tr>\n",
              "    <tr>\n",
              "      <th>50|doi_dedup___::70455afcfabc980e3e135bd64bb080bd</th>\n",
              "      <td>-1.554420</td>\n",
              "      <td>0.183332</td>\n",
              "      <td>0.211987</td>\n",
              "      <td>1.571259</td>\n",
              "      <td>0.399722</td>\n",
              "      <td>-1.454605</td>\n",
              "      <td>-0.667433</td>\n",
              "      <td>-0.584201</td>\n",
              "      <td>0.433066</td>\n",
              "      <td>0.290477</td>\n",
              "      <td>...</td>\n",
              "      <td>-0.250336</td>\n",
              "      <td>-0.543588</td>\n",
              "      <td>-1.435574</td>\n",
              "      <td>-0.283219</td>\n",
              "      <td>0.211554</td>\n",
              "      <td>-0.246418</td>\n",
              "      <td>-0.195388</td>\n",
              "      <td>-0.172123</td>\n",
              "      <td>0.754514</td>\n",
              "      <td>-0.188991</td>\n",
              "    </tr>\n",
              "  </tbody>\n",
              "</table>\n",
              "<p>5 rows × 64 columns</p>\n",
              "</div>\n",
              "      <button class=\"colab-df-convert\" onclick=\"convertToInteractive('df-873193f7-becf-4378-aae4-ec7bca574204')\"\n",
              "              title=\"Convert this dataframe to an interactive table.\"\n",
              "              style=\"display:none;\">\n",
              "        \n",
              "  <svg xmlns=\"http://www.w3.org/2000/svg\" height=\"24px\"viewBox=\"0 0 24 24\"\n",
              "       width=\"24px\">\n",
              "    <path d=\"M0 0h24v24H0V0z\" fill=\"none\"/>\n",
              "    <path d=\"M18.56 5.44l.94 2.06.94-2.06 2.06-.94-2.06-.94-.94-2.06-.94 2.06-2.06.94zm-11 1L8.5 8.5l.94-2.06 2.06-.94-2.06-.94L8.5 2.5l-.94 2.06-2.06.94zm10 10l.94 2.06.94-2.06 2.06-.94-2.06-.94-.94-2.06-.94 2.06-2.06.94z\"/><path d=\"M17.41 7.96l-1.37-1.37c-.4-.4-.92-.59-1.43-.59-.52 0-1.04.2-1.43.59L10.3 9.45l-7.72 7.72c-.78.78-.78 2.05 0 2.83L4 21.41c.39.39.9.59 1.41.59.51 0 1.02-.2 1.41-.59l7.78-7.78 2.81-2.81c.8-.78.8-2.07 0-2.86zM5.41 20L4 18.59l7.72-7.72 1.47 1.35L5.41 20z\"/>\n",
              "  </svg>\n",
              "      </button>\n",
              "      \n",
              "  <style>\n",
              "    .colab-df-container {\n",
              "      display:flex;\n",
              "      flex-wrap:wrap;\n",
              "      gap: 12px;\n",
              "    }\n",
              "\n",
              "    .colab-df-convert {\n",
              "      background-color: #E8F0FE;\n",
              "      border: none;\n",
              "      border-radius: 50%;\n",
              "      cursor: pointer;\n",
              "      display: none;\n",
              "      fill: #1967D2;\n",
              "      height: 32px;\n",
              "      padding: 0 0 0 0;\n",
              "      width: 32px;\n",
              "    }\n",
              "\n",
              "    .colab-df-convert:hover {\n",
              "      background-color: #E2EBFA;\n",
              "      box-shadow: 0px 1px 2px rgba(60, 64, 67, 0.3), 0px 1px 3px 1px rgba(60, 64, 67, 0.15);\n",
              "      fill: #174EA6;\n",
              "    }\n",
              "\n",
              "    [theme=dark] .colab-df-convert {\n",
              "      background-color: #3B4455;\n",
              "      fill: #D2E3FC;\n",
              "    }\n",
              "\n",
              "    [theme=dark] .colab-df-convert:hover {\n",
              "      background-color: #434B5C;\n",
              "      box-shadow: 0px 1px 3px 1px rgba(0, 0, 0, 0.15);\n",
              "      filter: drop-shadow(0px 1px 2px rgba(0, 0, 0, 0.3));\n",
              "      fill: #FFFFFF;\n",
              "    }\n",
              "  </style>\n",
              "\n",
              "      <script>\n",
              "        const buttonEl =\n",
              "          document.querySelector('#df-873193f7-becf-4378-aae4-ec7bca574204 button.colab-df-convert');\n",
              "        buttonEl.style.display =\n",
              "          google.colab.kernel.accessAllowed ? 'block' : 'none';\n",
              "\n",
              "        async function convertToInteractive(key) {\n",
              "          const element = document.querySelector('#df-873193f7-becf-4378-aae4-ec7bca574204');\n",
              "          const dataTable =\n",
              "            await google.colab.kernel.invokeFunction('convertToInteractive',\n",
              "                                                     [key], {});\n",
              "          if (!dataTable) return;\n",
              "\n",
              "          const docLinkHtml = 'Like what you see? Visit the ' +\n",
              "            '<a target=\"_blank\" href=https://colab.research.google.com/notebooks/data_table.ipynb>data table notebook</a>'\n",
              "            + ' to learn more about interactive tables.';\n",
              "          element.innerHTML = '';\n",
              "          dataTable['output_type'] = 'display_data';\n",
              "          await google.colab.output.renderOutput(dataTable, element);\n",
              "          const docLink = document.createElement('div');\n",
              "          docLink.innerHTML = docLinkHtml;\n",
              "          element.appendChild(docLink);\n",
              "        }\n",
              "      </script>\n",
              "    </div>\n",
              "  </div>\n",
              "  "
            ],
            "text/plain": [
              "                                                         0         1   \\\n",
              "50|doi_dedup___::75a230ede9917ccb2b7aeb83a913348e -0.335076  1.252077   \n",
              "50|doi_dedup___::f9fa75ddaef9f0cab5ca7aeee6988d60 -0.251877  0.841525   \n",
              "50|doi_dedup___::c98b296dcebb6595d8bb351bc0da7776 -0.301024  0.767318   \n",
              "50|doi_dedup___::afb5184f02eb2636845e3853e75215b9 -0.656441  0.631691   \n",
              "50|doi_dedup___::70455afcfabc980e3e135bd64bb080bd -1.554420  0.183332   \n",
              "\n",
              "                                                         2         3   \\\n",
              "50|doi_dedup___::75a230ede9917ccb2b7aeb83a913348e  0.214705  0.990315   \n",
              "50|doi_dedup___::f9fa75ddaef9f0cab5ca7aeee6988d60  0.030137  0.442109   \n",
              "50|doi_dedup___::c98b296dcebb6595d8bb351bc0da7776  0.074684  0.881000   \n",
              "50|doi_dedup___::afb5184f02eb2636845e3853e75215b9 -0.054582  1.795555   \n",
              "50|doi_dedup___::70455afcfabc980e3e135bd64bb080bd  0.211987  1.571259   \n",
              "\n",
              "                                                         4         5   \\\n",
              "50|doi_dedup___::75a230ede9917ccb2b7aeb83a913348e  0.008131  0.324026   \n",
              "50|doi_dedup___::f9fa75ddaef9f0cab5ca7aeee6988d60 -0.063258 -0.272283   \n",
              "50|doi_dedup___::c98b296dcebb6595d8bb351bc0da7776 -0.310112  0.466022   \n",
              "50|doi_dedup___::afb5184f02eb2636845e3853e75215b9  1.086463  0.035012   \n",
              "50|doi_dedup___::70455afcfabc980e3e135bd64bb080bd  0.399722 -1.454605   \n",
              "\n",
              "                                                         6         7   \\\n",
              "50|doi_dedup___::75a230ede9917ccb2b7aeb83a913348e  0.277074  0.283510   \n",
              "50|doi_dedup___::f9fa75ddaef9f0cab5ca7aeee6988d60  0.055829 -0.400199   \n",
              "50|doi_dedup___::c98b296dcebb6595d8bb351bc0da7776  0.253582 -0.515656   \n",
              "50|doi_dedup___::afb5184f02eb2636845e3853e75215b9 -0.074797  0.308271   \n",
              "50|doi_dedup___::70455afcfabc980e3e135bd64bb080bd -0.667433 -0.584201   \n",
              "\n",
              "                                                         8         9   ...  \\\n",
              "50|doi_dedup___::75a230ede9917ccb2b7aeb83a913348e  0.078628  0.973506  ...   \n",
              "50|doi_dedup___::f9fa75ddaef9f0cab5ca7aeee6988d60  0.355207 -0.488140  ...   \n",
              "50|doi_dedup___::c98b296dcebb6595d8bb351bc0da7776  0.531293 -0.149149  ...   \n",
              "50|doi_dedup___::afb5184f02eb2636845e3853e75215b9  0.004586  0.344662  ...   \n",
              "50|doi_dedup___::70455afcfabc980e3e135bd64bb080bd  0.433066  0.290477  ...   \n",
              "\n",
              "                                                         54        55  \\\n",
              "50|doi_dedup___::75a230ede9917ccb2b7aeb83a913348e  0.060510 -0.627052   \n",
              "50|doi_dedup___::f9fa75ddaef9f0cab5ca7aeee6988d60  0.230881 -0.527694   \n",
              "50|doi_dedup___::c98b296dcebb6595d8bb351bc0da7776 -0.419637 -0.745326   \n",
              "50|doi_dedup___::afb5184f02eb2636845e3853e75215b9 -0.317337 -1.451530   \n",
              "50|doi_dedup___::70455afcfabc980e3e135bd64bb080bd -0.250336 -0.543588   \n",
              "\n",
              "                                                         56        57  \\\n",
              "50|doi_dedup___::75a230ede9917ccb2b7aeb83a913348e -1.238817 -0.500939   \n",
              "50|doi_dedup___::f9fa75ddaef9f0cab5ca7aeee6988d60 -0.258084 -0.429581   \n",
              "50|doi_dedup___::c98b296dcebb6595d8bb351bc0da7776 -0.048454 -0.000379   \n",
              "50|doi_dedup___::afb5184f02eb2636845e3853e75215b9  0.078382 -0.559890   \n",
              "50|doi_dedup___::70455afcfabc980e3e135bd64bb080bd -1.435574 -0.283219   \n",
              "\n",
              "                                                         58        59  \\\n",
              "50|doi_dedup___::75a230ede9917ccb2b7aeb83a913348e  0.851494 -0.268488   \n",
              "50|doi_dedup___::f9fa75ddaef9f0cab5ca7aeee6988d60  0.482505  0.402251   \n",
              "50|doi_dedup___::c98b296dcebb6595d8bb351bc0da7776  0.200701  0.454135   \n",
              "50|doi_dedup___::afb5184f02eb2636845e3853e75215b9  0.305573 -0.290026   \n",
              "50|doi_dedup___::70455afcfabc980e3e135bd64bb080bd  0.211554 -0.246418   \n",
              "\n",
              "                                                         60        61  \\\n",
              "50|doi_dedup___::75a230ede9917ccb2b7aeb83a913348e  0.796210 -0.506276   \n",
              "50|doi_dedup___::f9fa75ddaef9f0cab5ca7aeee6988d60 -0.427001  0.646252   \n",
              "50|doi_dedup___::c98b296dcebb6595d8bb351bc0da7776  0.071742  0.236818   \n",
              "50|doi_dedup___::afb5184f02eb2636845e3853e75215b9  0.245945 -0.109634   \n",
              "50|doi_dedup___::70455afcfabc980e3e135bd64bb080bd -0.195388 -0.172123   \n",
              "\n",
              "                                                         62        63  \n",
              "50|doi_dedup___::75a230ede9917ccb2b7aeb83a913348e -0.426384 -0.108745  \n",
              "50|doi_dedup___::f9fa75ddaef9f0cab5ca7aeee6988d60  0.057944 -0.205848  \n",
              "50|doi_dedup___::c98b296dcebb6595d8bb351bc0da7776  0.655824 -0.491339  \n",
              "50|doi_dedup___::afb5184f02eb2636845e3853e75215b9  0.353083  0.449351  \n",
              "50|doi_dedup___::70455afcfabc980e3e135bd64bb080bd  0.754514 -0.188991  \n",
              "\n",
              "[5 rows x 64 columns]"
            ]
          },
          "execution_count": 156,
          "metadata": {},
          "output_type": "execute_result"
        }
      ],
      "source": [
        "g_emb = n2v(G, dimensions=64)\n",
        "\n",
        "WINDOW = 4 # Node2Vec fit window\n",
        "MIN_COUNT = 1 # Node2Vec min. count\n",
        "BATCH_WORDS = 64 # Node2Vec batch words\n",
        "\n",
        "mdl = g_emb.fit(\n",
        "    window=WINDOW,\n",
        "    min_count=MIN_COUNT,\n",
        "    batch_words=BATCH_WORDS\n",
        ")\n",
        "\n",
        "# create embeddings dataframe\n",
        "emb_df = (\n",
        "    pd.DataFrame(\n",
        "        [mdl.wv.get_vector(str(n)) for n in G.nodes()],\n",
        "        index = G.nodes\n",
        "    )\n",
        ")\n",
        "\n",
        "emb_df.head()"
      ]
    },
    {
      "cell_type": "code",
      "execution_count": null,
      "metadata": {
        "id": "NOvgYe-6q72Y"
      },
      "outputs": [],
      "source": [
        "software = df_artifacts.loc[(df_artifacts['type']=='software')]"
      ]
    },
    {
      "cell_type": "code",
      "execution_count": null,
      "metadata": {
        "id": "7XtYv201s8Pv"
      },
      "outputs": [],
      "source": [
        "test_software = software.loc[software.astype(str).drop_duplicates(subset=['keyword']).index]"
      ]
    },
    {
      "cell_type": "code",
      "execution_count": null,
      "metadata": {
        "colab": {
          "base_uri": "https://localhost:8080/",
          "height": 520
        },
        "id": "5mUIKq9_yPlK",
        "outputId": "d9405040-0d29-4a30-b601-885b34ed6d3a"
      },
      "outputs": [
        {
          "data": {
            "text/html": [
              "\n",
              "  <div id=\"df-b8b37ae4-5b55-444c-ace7-660a9fbd7bca\">\n",
              "    <div class=\"colab-df-container\">\n",
              "      <div>\n",
              "<style scoped>\n",
              "    .dataframe tbody tr th:only-of-type {\n",
              "        vertical-align: middle;\n",
              "    }\n",
              "\n",
              "    .dataframe tbody tr th {\n",
              "        vertical-align: top;\n",
              "    }\n",
              "\n",
              "    .dataframe thead th {\n",
              "        text-align: right;\n",
              "    }\n",
              "</style>\n",
              "<table border=\"1\" class=\"dataframe\">\n",
              "  <thead>\n",
              "    <tr style=\"text-align: right;\">\n",
              "      <th></th>\n",
              "      <th>keyword</th>\n",
              "      <th>type</th>\n",
              "      <th>id</th>\n",
              "      <th>en_abstract</th>\n",
              "      <th>en_title</th>\n",
              "    </tr>\n",
              "  </thead>\n",
              "  <tbody>\n",
              "    <tr>\n",
              "      <th>0</th>\n",
              "      <td>[neuroimaging, workflow, pipeline, preprocessi...</td>\n",
              "      <td>software</td>\n",
              "      <td>50|doi_________::77d25c5587f0b1ab44b34485d4ecb37f</td>\n",
              "      <td>Hotfix Release &lt;ul&gt; &lt;li&gt;[FIX] Breadcrumb repor...</td>\n",
              "      <td>poldracklab/fmriprep: 1.2.5</td>\n",
              "    </tr>\n",
              "    <tr>\n",
              "      <th>4</th>\n",
              "      <td>[neuroimaging, workflow, pipeline, statistics,...</td>\n",
              "      <td>software</td>\n",
              "      <td>50|doi_________::b72d03a0b3d6a87011d520606135f540</td>\n",
              "      <td>Release Notes &lt;p&gt;New feature release in the 0....</td>\n",
              "      <td>poldracklab/fitlins: 0.7.0</td>\n",
              "    </tr>\n",
              "    <tr>\n",
              "      <th>20</th>\n",
              "      <td>[]</td>\n",
              "      <td>software</td>\n",
              "      <td>50|doi_________::33d2146ba969a6368920d0f4819d8dc2</td>\n",
              "      <td>&lt;p&gt;CHANGES&lt;/p&gt; &lt;p&gt;A first release that gives T...</td>\n",
              "      <td>TemplateFlow: standardized neuroimaging standa...</td>\n",
              "    </tr>\n",
              "    <tr>\n",
              "      <th>1918</th>\n",
              "      <td>[neuroimaging, workflow, pipeline, preprocessi...</td>\n",
              "      <td>software</td>\n",
              "      <td>50|doi_dedup___::2f2b564c5055a3b818dc92d69536b9b0</td>\n",
              "      <td>&lt;p&gt;Hotfix release to retrieve correct version ...</td>\n",
              "      <td>TemplateFlow Client: Accessing the library of ...</td>\n",
              "    </tr>\n",
              "    <tr>\n",
              "      <th>1919</th>\n",
              "      <td>[Cell Biology, Neuroscience, Physiology, Evolu...</td>\n",
              "      <td>software</td>\n",
              "      <td>50|doi_dedup___::d1e4df32d1acb2c2b81455857c8bb3fb</td>\n",
              "      <td>Preprocessing of functional MRI (fMRI) involve...</td>\n",
              "      <td>fMRIPrep: a robust preprocessing pipeline for ...</td>\n",
              "    </tr>\n",
              "    <tr>\n",
              "      <th>1921</th>\n",
              "      <td>[neuroimaging, workflow, pipeline, preprocessi...</td>\n",
              "      <td>software</td>\n",
              "      <td>50|doi_dedup___::814fb54a5f9572c5dbacf953f6fa6ade</td>\n",
              "      <td>&lt;p&gt;A collection of Nipype interfaces, patches ...</td>\n",
              "      <td>NIWorkflows: NeuroImaging Workflows</td>\n",
              "    </tr>\n",
              "    <tr>\n",
              "      <th>1922</th>\n",
              "      <td>[neuroimaging, workflow, pipeline, preprocessi...</td>\n",
              "      <td>software</td>\n",
              "      <td>50|doi_dedup___::3d139b81b30e2c151375fd9da4ad48ed</td>\n",
              "      <td>&lt;p&gt;dMRIPrep is a robust and easy-to-use pipeli...</td>\n",
              "      <td>dMRIPrep: a robust preprocessing pipeline for ...</td>\n",
              "    </tr>\n",
              "    <tr>\n",
              "      <th>1926</th>\n",
              "      <td>[neuroimaging, workflow, pipeline, preprocessi...</td>\n",
              "      <td>software</td>\n",
              "      <td>50|doi_dedup___::cb1d46ce16547c0a1e191ad4a9ef6d52</td>\n",
              "      <td>&lt;p&gt;A BIDS-App to preprocess anatomical (T1w, T...</td>\n",
              "      <td>sMRIPrep: Structural MRI PREProcessing workflows</td>\n",
              "    </tr>\n",
              "    <tr>\n",
              "      <th>1939</th>\n",
              "      <td>[neuroimaging, workflow, pipeline, preprocessi...</td>\n",
              "      <td>software</td>\n",
              "      <td>50|doi_dedup___::528fe145915ceda3e385c1907fb25a7b</td>\n",
              "      <td>Release Notes &lt;p&gt;Improves the documentation, w...</td>\n",
              "      <td>Poldracklab/Fmriprep Untagged-Aad77D0215Efb289...</td>\n",
              "    </tr>\n",
              "    <tr>\n",
              "      <th>1956</th>\n",
              "      <td>[neuroimaging, workflow, pipeline, preprocessi...</td>\n",
              "      <td>software</td>\n",
              "      <td>50|doi_dedup___::65b5a171d46983aaf71588d8cb8c4c94</td>\n",
              "      <td>Release Notes &lt;p&gt;Hotfix release intended for D...</td>\n",
              "      <td>poldracklab/fmriprep: 1.3.0.post1</td>\n",
              "    </tr>\n",
              "    <tr>\n",
              "      <th>2194</th>\n",
              "      <td>[neuroimaging, workflow, pipeline, quality-con...</td>\n",
              "      <td>software</td>\n",
              "      <td>50|doi_dedup___::21e0cc051711a83350fb8982177533b5</td>\n",
              "      <td>&lt;p&gt;Automated Quality Control and visual report...</td>\n",
              "      <td>MRIQC: Advancing the automatic prediction of i...</td>\n",
              "    </tr>\n",
              "    <tr>\n",
              "      <th>2274</th>\n",
              "      <td>[Developmental Biology, Hematology, 69999 Biol...</td>\n",
              "      <td>software</td>\n",
              "      <td>50|doi_dedup___::2fe1e2a979f767cef9fca6a0bef024f4</td>\n",
              "      <td>&lt;p&gt;Archived from &lt;a href=\"https://github.com/d...</td>\n",
              "      <td>Code for creating figures in Lurie, Kessler, e...</td>\n",
              "    </tr>\n",
              "    <tr>\n",
              "      <th>2330</th>\n",
              "      <td>[neuroimaging, head-motion, pipeline, preproce...</td>\n",
              "      <td>software</td>\n",
              "      <td>50|doi_dedup___::0bb1987c461f348a3aa43f6ce0505d3c</td>\n",
              "      <td>Open-source eddy-current and head-motion corre...</td>\n",
              "      <td>eddymotion: model-based estimation of head-mot...</td>\n",
              "    </tr>\n",
              "    <tr>\n",
              "      <th>2366</th>\n",
              "      <td>[neuroscience, vision science, vision, visual ...</td>\n",
              "      <td>software</td>\n",
              "      <td>50|doi_dedup___::8626d4a4c5add68c7492c7c5bff252ee</td>\n",
              "      <td>Neuropythy is a Python library by Noah C. Bens...</td>\n",
              "      <td>The Neuropythy Python Library</td>\n",
              "    </tr>\n",
              "    <tr>\n",
              "      <th>2444</th>\n",
              "      <td>[neuroimaging, workflow, pipeline, preprocessi...</td>\n",
              "      <td>software</td>\n",
              "      <td>50|doi_dedup___::3d819fd8fcecd35cdbbf271ba97c737d</td>\n",
              "      <td>&lt;p&gt;Nipype-based neuroimaging workflows for sus...</td>\n",
              "      <td>SDCflows: Susceptibility Distortion Correction...</td>\n",
              "    </tr>\n",
              "  </tbody>\n",
              "</table>\n",
              "</div>\n",
              "      <button class=\"colab-df-convert\" onclick=\"convertToInteractive('df-b8b37ae4-5b55-444c-ace7-660a9fbd7bca')\"\n",
              "              title=\"Convert this dataframe to an interactive table.\"\n",
              "              style=\"display:none;\">\n",
              "        \n",
              "  <svg xmlns=\"http://www.w3.org/2000/svg\" height=\"24px\"viewBox=\"0 0 24 24\"\n",
              "       width=\"24px\">\n",
              "    <path d=\"M0 0h24v24H0V0z\" fill=\"none\"/>\n",
              "    <path d=\"M18.56 5.44l.94 2.06.94-2.06 2.06-.94-2.06-.94-.94-2.06-.94 2.06-2.06.94zm-11 1L8.5 8.5l.94-2.06 2.06-.94-2.06-.94L8.5 2.5l-.94 2.06-2.06.94zm10 10l.94 2.06.94-2.06 2.06-.94-2.06-.94-.94-2.06-.94 2.06-2.06.94z\"/><path d=\"M17.41 7.96l-1.37-1.37c-.4-.4-.92-.59-1.43-.59-.52 0-1.04.2-1.43.59L10.3 9.45l-7.72 7.72c-.78.78-.78 2.05 0 2.83L4 21.41c.39.39.9.59 1.41.59.51 0 1.02-.2 1.41-.59l7.78-7.78 2.81-2.81c.8-.78.8-2.07 0-2.86zM5.41 20L4 18.59l7.72-7.72 1.47 1.35L5.41 20z\"/>\n",
              "  </svg>\n",
              "      </button>\n",
              "      \n",
              "  <style>\n",
              "    .colab-df-container {\n",
              "      display:flex;\n",
              "      flex-wrap:wrap;\n",
              "      gap: 12px;\n",
              "    }\n",
              "\n",
              "    .colab-df-convert {\n",
              "      background-color: #E8F0FE;\n",
              "      border: none;\n",
              "      border-radius: 50%;\n",
              "      cursor: pointer;\n",
              "      display: none;\n",
              "      fill: #1967D2;\n",
              "      height: 32px;\n",
              "      padding: 0 0 0 0;\n",
              "      width: 32px;\n",
              "    }\n",
              "\n",
              "    .colab-df-convert:hover {\n",
              "      background-color: #E2EBFA;\n",
              "      box-shadow: 0px 1px 2px rgba(60, 64, 67, 0.3), 0px 1px 3px 1px rgba(60, 64, 67, 0.15);\n",
              "      fill: #174EA6;\n",
              "    }\n",
              "\n",
              "    [theme=dark] .colab-df-convert {\n",
              "      background-color: #3B4455;\n",
              "      fill: #D2E3FC;\n",
              "    }\n",
              "\n",
              "    [theme=dark] .colab-df-convert:hover {\n",
              "      background-color: #434B5C;\n",
              "      box-shadow: 0px 1px 3px 1px rgba(0, 0, 0, 0.15);\n",
              "      filter: drop-shadow(0px 1px 2px rgba(0, 0, 0, 0.3));\n",
              "      fill: #FFFFFF;\n",
              "    }\n",
              "  </style>\n",
              "\n",
              "      <script>\n",
              "        const buttonEl =\n",
              "          document.querySelector('#df-b8b37ae4-5b55-444c-ace7-660a9fbd7bca button.colab-df-convert');\n",
              "        buttonEl.style.display =\n",
              "          google.colab.kernel.accessAllowed ? 'block' : 'none';\n",
              "\n",
              "        async function convertToInteractive(key) {\n",
              "          const element = document.querySelector('#df-b8b37ae4-5b55-444c-ace7-660a9fbd7bca');\n",
              "          const dataTable =\n",
              "            await google.colab.kernel.invokeFunction('convertToInteractive',\n",
              "                                                     [key], {});\n",
              "          if (!dataTable) return;\n",
              "\n",
              "          const docLinkHtml = 'Like what you see? Visit the ' +\n",
              "            '<a target=\"_blank\" href=https://colab.research.google.com/notebooks/data_table.ipynb>data table notebook</a>'\n",
              "            + ' to learn more about interactive tables.';\n",
              "          element.innerHTML = '';\n",
              "          dataTable['output_type'] = 'display_data';\n",
              "          await google.colab.output.renderOutput(dataTable, element);\n",
              "          const docLink = document.createElement('div');\n",
              "          docLink.innerHTML = docLinkHtml;\n",
              "          element.appendChild(docLink);\n",
              "        }\n",
              "      </script>\n",
              "    </div>\n",
              "  </div>\n",
              "  "
            ],
            "text/plain": [
              "                                                keyword      type  \\\n",
              "0     [neuroimaging, workflow, pipeline, preprocessi...  software   \n",
              "4     [neuroimaging, workflow, pipeline, statistics,...  software   \n",
              "20                                                   []  software   \n",
              "1918  [neuroimaging, workflow, pipeline, preprocessi...  software   \n",
              "1919  [Cell Biology, Neuroscience, Physiology, Evolu...  software   \n",
              "1921  [neuroimaging, workflow, pipeline, preprocessi...  software   \n",
              "1922  [neuroimaging, workflow, pipeline, preprocessi...  software   \n",
              "1926  [neuroimaging, workflow, pipeline, preprocessi...  software   \n",
              "1939  [neuroimaging, workflow, pipeline, preprocessi...  software   \n",
              "1956  [neuroimaging, workflow, pipeline, preprocessi...  software   \n",
              "2194  [neuroimaging, workflow, pipeline, quality-con...  software   \n",
              "2274  [Developmental Biology, Hematology, 69999 Biol...  software   \n",
              "2330  [neuroimaging, head-motion, pipeline, preproce...  software   \n",
              "2366  [neuroscience, vision science, vision, visual ...  software   \n",
              "2444  [neuroimaging, workflow, pipeline, preprocessi...  software   \n",
              "\n",
              "                                                     id  \\\n",
              "0     50|doi_________::77d25c5587f0b1ab44b34485d4ecb37f   \n",
              "4     50|doi_________::b72d03a0b3d6a87011d520606135f540   \n",
              "20    50|doi_________::33d2146ba969a6368920d0f4819d8dc2   \n",
              "1918  50|doi_dedup___::2f2b564c5055a3b818dc92d69536b9b0   \n",
              "1919  50|doi_dedup___::d1e4df32d1acb2c2b81455857c8bb3fb   \n",
              "1921  50|doi_dedup___::814fb54a5f9572c5dbacf953f6fa6ade   \n",
              "1922  50|doi_dedup___::3d139b81b30e2c151375fd9da4ad48ed   \n",
              "1926  50|doi_dedup___::cb1d46ce16547c0a1e191ad4a9ef6d52   \n",
              "1939  50|doi_dedup___::528fe145915ceda3e385c1907fb25a7b   \n",
              "1956  50|doi_dedup___::65b5a171d46983aaf71588d8cb8c4c94   \n",
              "2194  50|doi_dedup___::21e0cc051711a83350fb8982177533b5   \n",
              "2274  50|doi_dedup___::2fe1e2a979f767cef9fca6a0bef024f4   \n",
              "2330  50|doi_dedup___::0bb1987c461f348a3aa43f6ce0505d3c   \n",
              "2366  50|doi_dedup___::8626d4a4c5add68c7492c7c5bff252ee   \n",
              "2444  50|doi_dedup___::3d819fd8fcecd35cdbbf271ba97c737d   \n",
              "\n",
              "                                            en_abstract  \\\n",
              "0     Hotfix Release <ul> <li>[FIX] Breadcrumb repor...   \n",
              "4     Release Notes <p>New feature release in the 0....   \n",
              "20    <p>CHANGES</p> <p>A first release that gives T...   \n",
              "1918  <p>Hotfix release to retrieve correct version ...   \n",
              "1919  Preprocessing of functional MRI (fMRI) involve...   \n",
              "1921  <p>A collection of Nipype interfaces, patches ...   \n",
              "1922  <p>dMRIPrep is a robust and easy-to-use pipeli...   \n",
              "1926  <p>A BIDS-App to preprocess anatomical (T1w, T...   \n",
              "1939  Release Notes <p>Improves the documentation, w...   \n",
              "1956  Release Notes <p>Hotfix release intended for D...   \n",
              "2194  <p>Automated Quality Control and visual report...   \n",
              "2274  <p>Archived from <a href=\"https://github.com/d...   \n",
              "2330  Open-source eddy-current and head-motion corre...   \n",
              "2366  Neuropythy is a Python library by Noah C. Bens...   \n",
              "2444  <p>Nipype-based neuroimaging workflows for sus...   \n",
              "\n",
              "                                               en_title  \n",
              "0                           poldracklab/fmriprep: 1.2.5  \n",
              "4                            poldracklab/fitlins: 0.7.0  \n",
              "20    TemplateFlow: standardized neuroimaging standa...  \n",
              "1918  TemplateFlow Client: Accessing the library of ...  \n",
              "1919  fMRIPrep: a robust preprocessing pipeline for ...  \n",
              "1921                NIWorkflows: NeuroImaging Workflows  \n",
              "1922  dMRIPrep: a robust preprocessing pipeline for ...  \n",
              "1926   sMRIPrep: Structural MRI PREProcessing workflows  \n",
              "1939  Poldracklab/Fmriprep Untagged-Aad77D0215Efb289...  \n",
              "1956                  poldracklab/fmriprep: 1.3.0.post1  \n",
              "2194  MRIQC: Advancing the automatic prediction of i...  \n",
              "2274  Code for creating figures in Lurie, Kessler, e...  \n",
              "2330  eddymotion: model-based estimation of head-mot...  \n",
              "2366                      The Neuropythy Python Library  \n",
              "2444  SDCflows: Susceptibility Distortion Correction...  "
            ]
          },
          "execution_count": 72,
          "metadata": {},
          "output_type": "execute_result"
        }
      ],
      "source": [
        "test_software"
      ]
    },
    {
      "cell_type": "code",
      "execution_count": null,
      "metadata": {
        "colab": {
          "base_uri": "https://localhost:8080/"
        },
        "id": "7Ly8ZtSfuQWy",
        "outputId": "9107cb7a-c95a-4642-9d03-93af43519831"
      },
      "outputs": [
        {
          "data": {
            "text/plain": [
              "48"
            ]
          },
          "execution_count": 70,
          "metadata": {},
          "output_type": "execute_result"
        }
      ],
      "source": [
        "software.en_title.str.count(\"Fmriprep|fmriprep\").sum()"
      ]
    },
    {
      "cell_type": "code",
      "execution_count": null,
      "metadata": {
        "id": "MtrCnKI-q72Y"
      },
      "outputs": [],
      "source": [
        "def predict_links(G, df, article_id, N):\n",
        "    '''\n",
        "    This function will predict the top N links a node (article_id) should be connected with\n",
        "    which it is not already connected with in G.\n",
        "    \n",
        "    params:\n",
        "        G (Netowrkx Graph) : The network used to create the embeddings\n",
        "        df (DataFrame) : The dataframe which has embeddings associated to each node\n",
        "        article_id (Integer) : The article you're interested \n",
        "        N (Integer) : The number of recommended links you want to return\n",
        "        \n",
        "    returns:\n",
        "        This function will return a list of nodes the input node should be connected with.\n",
        "    '''\n",
        "    \n",
        "    # separate target article with all others\n",
        "    article = df[df.index == article_id]\n",
        "    \n",
        "    # other articles are all articles which the current doesn't have an edge connecting\n",
        "    all_nodes = G.nodes()\n",
        "    other_nodes = [n for n in all_nodes if n not in list(G.adj[article_id]) + [article_id]]\n",
        "\n",
        "    arti_set = [item for item in other_nodes if item in software['id'].values] #Just recommend SW \n",
        "\n",
        "\n",
        "    other_articles = df[df.index.isin(arti_set)]\n",
        "    \n",
        "    # get similarity of current reader and all other readers\n",
        "    sim = cosine_similarity(article, other_articles)[0].tolist()\n",
        "    idx = other_articles.index.tolist()\n",
        "    \n",
        "    # create a similarity dictionary for this user w.r.t all other users\n",
        "    idx_sim = dict(zip(idx, sim))\n",
        "    idx_sim = sorted(idx_sim.items(), key=lambda x: x[1], reverse=True)\n",
        "    \n",
        "    similar_articles = idx_sim[:N]\n",
        "    articles = [art[0] for art in similar_articles]\n",
        "    return articles\n",
        "  \n",
        "#predict_links(G = G, df = emb_df, article_id = \"Goeree, Ron\", N = 10)"
      ]
    },
    {
      "cell_type": "code",
      "execution_count": null,
      "metadata": {
        "id": "p2J-0ljRq72Y"
      },
      "outputs": [],
      "source": [
        "def recommend(name):\n",
        "  recommended_list = predict_links(G = G, df = emb_df, article_id = name, N = 10)\n",
        "  return recommended_list  "
      ]
    },
    {
      "cell_type": "code",
      "execution_count": null,
      "metadata": {
        "id": "djCT6iELq72Z"
      },
      "outputs": [],
      "source": [
        "users_sw['recommended_items'] = users_sw['author_name'].apply(lambda x:recommend(x))"
      ]
    },
    {
      "cell_type": "markdown",
      "metadata": {
        "id": "HE3X0ACAvd8C"
      },
      "source": [
        "### Software RecSys Evaluation"
      ]
    },
    {
      "cell_type": "code",
      "execution_count": null,
      "metadata": {
        "id": "YOmM_Gpaq72Z"
      },
      "outputs": [],
      "source": [
        "def hit_rate_sw(row):\n",
        "  for item in row[\"recommended_items\"]:\n",
        "    if item in row['leave_one_out_sw']:\n",
        "      return 1\n",
        "  return 0 "
      ]
    },
    {
      "cell_type": "markdown",
      "metadata": {
        "id": "1uMdf7kCFQai"
      },
      "source": [
        "### Hit-Rate@3 "
      ]
    },
    {
      "cell_type": "code",
      "execution_count": null,
      "metadata": {
        "colab": {
          "base_uri": "https://localhost:8080/"
        },
        "id": "96PgrP8QF4re",
        "outputId": "0be7b0cb-e63f-476c-8aec-7000286f7c43"
      },
      "outputs": [
        {
          "data": {
            "text/plain": [
              "['50|doi_________::7d676e077d456dcf641976498eb6c693']"
            ]
          },
          "execution_count": 171,
          "metadata": {},
          "output_type": "execute_result"
        }
      ],
      "source": [
        "users_sw['id'][16]"
      ]
    },
    {
      "cell_type": "code",
      "execution_count": null,
      "metadata": {
        "colab": {
          "base_uri": "https://localhost:8080/",
          "height": 81
        },
        "id": "7YhhtrcNGMVm",
        "outputId": "94dd784e-495f-4121-e3af-7d2ab7f24152"
      },
      "outputs": [
        {
          "data": {
            "text/html": [
              "\n",
              "  <div id=\"df-4c69c70f-f00e-4010-80b3-b64a877f0b02\">\n",
              "    <div class=\"colab-df-container\">\n",
              "      <div>\n",
              "<style scoped>\n",
              "    .dataframe tbody tr th:only-of-type {\n",
              "        vertical-align: middle;\n",
              "    }\n",
              "\n",
              "    .dataframe tbody tr th {\n",
              "        vertical-align: top;\n",
              "    }\n",
              "\n",
              "    .dataframe thead th {\n",
              "        text-align: right;\n",
              "    }\n",
              "</style>\n",
              "<table border=\"1\" class=\"dataframe\">\n",
              "  <thead>\n",
              "    <tr style=\"text-align: right;\">\n",
              "      <th></th>\n",
              "      <th>author_name</th>\n",
              "      <th>id</th>\n",
              "      <th>sw_counter</th>\n",
              "      <th>leave_three_out_sw</th>\n",
              "      <th>recommended_items</th>\n",
              "    </tr>\n",
              "  </thead>\n",
              "  <tbody>\n",
              "    <tr>\n",
              "      <th>16</th>\n",
              "      <td>Lee, John A.</td>\n",
              "      <td>[50|doi_________::7d676e077d456dcf641976498eb6...</td>\n",
              "      <td>3</td>\n",
              "      <td>None</td>\n",
              "      <td>[50|doi_________::7583b21864e2343d9c0dec0dab4b...</td>\n",
              "    </tr>\n",
              "  </tbody>\n",
              "</table>\n",
              "</div>\n",
              "      <button class=\"colab-df-convert\" onclick=\"convertToInteractive('df-4c69c70f-f00e-4010-80b3-b64a877f0b02')\"\n",
              "              title=\"Convert this dataframe to an interactive table.\"\n",
              "              style=\"display:none;\">\n",
              "        \n",
              "  <svg xmlns=\"http://www.w3.org/2000/svg\" height=\"24px\"viewBox=\"0 0 24 24\"\n",
              "       width=\"24px\">\n",
              "    <path d=\"M0 0h24v24H0V0z\" fill=\"none\"/>\n",
              "    <path d=\"M18.56 5.44l.94 2.06.94-2.06 2.06-.94-2.06-.94-.94-2.06-.94 2.06-2.06.94zm-11 1L8.5 8.5l.94-2.06 2.06-.94-2.06-.94L8.5 2.5l-.94 2.06-2.06.94zm10 10l.94 2.06.94-2.06 2.06-.94-2.06-.94-.94-2.06-.94 2.06-2.06.94z\"/><path d=\"M17.41 7.96l-1.37-1.37c-.4-.4-.92-.59-1.43-.59-.52 0-1.04.2-1.43.59L10.3 9.45l-7.72 7.72c-.78.78-.78 2.05 0 2.83L4 21.41c.39.39.9.59 1.41.59.51 0 1.02-.2 1.41-.59l7.78-7.78 2.81-2.81c.8-.78.8-2.07 0-2.86zM5.41 20L4 18.59l7.72-7.72 1.47 1.35L5.41 20z\"/>\n",
              "  </svg>\n",
              "      </button>\n",
              "      \n",
              "  <style>\n",
              "    .colab-df-container {\n",
              "      display:flex;\n",
              "      flex-wrap:wrap;\n",
              "      gap: 12px;\n",
              "    }\n",
              "\n",
              "    .colab-df-convert {\n",
              "      background-color: #E8F0FE;\n",
              "      border: none;\n",
              "      border-radius: 50%;\n",
              "      cursor: pointer;\n",
              "      display: none;\n",
              "      fill: #1967D2;\n",
              "      height: 32px;\n",
              "      padding: 0 0 0 0;\n",
              "      width: 32px;\n",
              "    }\n",
              "\n",
              "    .colab-df-convert:hover {\n",
              "      background-color: #E2EBFA;\n",
              "      box-shadow: 0px 1px 2px rgba(60, 64, 67, 0.3), 0px 1px 3px 1px rgba(60, 64, 67, 0.15);\n",
              "      fill: #174EA6;\n",
              "    }\n",
              "\n",
              "    [theme=dark] .colab-df-convert {\n",
              "      background-color: #3B4455;\n",
              "      fill: #D2E3FC;\n",
              "    }\n",
              "\n",
              "    [theme=dark] .colab-df-convert:hover {\n",
              "      background-color: #434B5C;\n",
              "      box-shadow: 0px 1px 3px 1px rgba(0, 0, 0, 0.15);\n",
              "      filter: drop-shadow(0px 1px 2px rgba(0, 0, 0, 0.3));\n",
              "      fill: #FFFFFF;\n",
              "    }\n",
              "  </style>\n",
              "\n",
              "      <script>\n",
              "        const buttonEl =\n",
              "          document.querySelector('#df-4c69c70f-f00e-4010-80b3-b64a877f0b02 button.colab-df-convert');\n",
              "        buttonEl.style.display =\n",
              "          google.colab.kernel.accessAllowed ? 'block' : 'none';\n",
              "\n",
              "        async function convertToInteractive(key) {\n",
              "          const element = document.querySelector('#df-4c69c70f-f00e-4010-80b3-b64a877f0b02');\n",
              "          const dataTable =\n",
              "            await google.colab.kernel.invokeFunction('convertToInteractive',\n",
              "                                                     [key], {});\n",
              "          if (!dataTable) return;\n",
              "\n",
              "          const docLinkHtml = 'Like what you see? Visit the ' +\n",
              "            '<a target=\"_blank\" href=https://colab.research.google.com/notebooks/data_table.ipynb>data table notebook</a>'\n",
              "            + ' to learn more about interactive tables.';\n",
              "          element.innerHTML = '';\n",
              "          dataTable['output_type'] = 'display_data';\n",
              "          await google.colab.output.renderOutput(dataTable, element);\n",
              "          const docLink = document.createElement('div');\n",
              "          docLink.innerHTML = docLinkHtml;\n",
              "          element.appendChild(docLink);\n",
              "        }\n",
              "      </script>\n",
              "    </div>\n",
              "  </div>\n",
              "  "
            ],
            "text/plain": [
              "     author_name                                                 id  \\\n",
              "16  Lee, John A.  [50|doi_________::7d676e077d456dcf641976498eb6...   \n",
              "\n",
              "    sw_counter leave_three_out_sw  \\\n",
              "16           3               None   \n",
              "\n",
              "                                    recommended_items  \n",
              "16  [50|doi_________::7583b21864e2343d9c0dec0dab4b...  "
            ]
          },
          "execution_count": 170,
          "metadata": {},
          "output_type": "execute_result"
        }
      ],
      "source": [
        "users_sw[users_sw['leave_three_out_sw'].isna()]"
      ]
    },
    {
      "cell_type": "code",
      "execution_count": null,
      "metadata": {
        "id": "2HSyQ7GFFUpz"
      },
      "outputs": [],
      "source": [
        "def hit_rate_sw(row):\n",
        "  print(row['recommended_items'])\n",
        "  for item in row[\"recommended_items\"]:\n",
        "    if item in row['leave_three_out_sw']:\n",
        "      return 1\n",
        "  return 0 "
      ]
    },
    {
      "cell_type": "code",
      "execution_count": null,
      "metadata": {
        "colab": {
          "base_uri": "https://localhost:8080/",
          "height": 626
        },
        "id": "KTCmHj61q72c",
        "outputId": "2d4b53ee-bb8d-4fa7-a1ea-c2f10843f715"
      },
      "outputs": [
        {
          "name": "stdout",
          "output_type": "stream",
          "text": [
            "['50|doi_________::77d25c5587f0b1ab44b34485d4ecb37f', '50|doi_________::83fcc5aeb29150baf8888487dd2eefb4', '50|doi_________::a02d76649a652bc7f601eccae5b5d395', '50|doi_________::2fcf8da2801587a325c42e570badc916', '50|doi_________::cb1d5119cad326b4dcacd8fad2ff4421', '50|doi_________::3987780588ec254078aad955fb4186b4', '50|doi_________::3bdc580b11ad594f079d62ae17459c77', '50|doi_________::cd68d9491b2528afdb55325b17b9f4e2', '50|doi_________::a0bb81aaaac49b6415c7a58d2645520c', '50|doi_dedup___::528fe145915ceda3e385c1907fb25a7b']\n",
            "['50|doi_________::77d25c5587f0b1ab44b34485d4ecb37f', '50|doi_dedup___::3d819fd8fcecd35cdbbf271ba97c737d', '50|doi_________::c1881ca8737b1dd96123c03e5f11e4c2', '50|doi_________::fe8f2e909e6e8e6e3b8e4726f23657bb', '50|doi_________::12ff2c661e87ba8d7c4fc6eb9053aef4', '50|doi_________::33d2146ba969a6368920d0f4819d8dc2', '50|doi_________::3cb002309a835e9f368e1f339f7c988c', '50|doi_________::3d426b8bb216010bc493e8e57e3a2e40', '50|doi_dedup___::0bb1987c461f348a3aa43f6ce0505d3c', '50|doi_dedup___::3d139b81b30e2c151375fd9da4ad48ed']\n",
            "['50|doi_________::77d25c5587f0b1ab44b34485d4ecb37f', '50|doi_dedup___::3d819fd8fcecd35cdbbf271ba97c737d', '50|doi_________::33d2146ba969a6368920d0f4819d8dc2', '50|doi_________::fe8f2e909e6e8e6e3b8e4726f23657bb', '50|doi_dedup___::0bb1987c461f348a3aa43f6ce0505d3c', '50|doi_________::c1881ca8737b1dd96123c03e5f11e4c2', '50|doi_dedup___::3d139b81b30e2c151375fd9da4ad48ed', '50|doi_________::3cb002309a835e9f368e1f339f7c988c', '50|doi_________::12ff2c661e87ba8d7c4fc6eb9053aef4', '50|doi_________::b7c9a6ba0cf9b2c39ec160366bce708c']\n",
            "['50|doi_________::de824bd3f52aaef88679cd2823dad9b6', '50|doi_________::b72d03a0b3d6a87011d520606135f540', '50|doi_________::12ff2c661e87ba8d7c4fc6eb9053aef4', '50|doi_________::3cb002309a835e9f368e1f339f7c988c', '50|doi_________::05abd7f80a5be633db0e8f2b1b210fe4', '50|doi_dedup___::2f2b564c5055a3b818dc92d69536b9b0', '50|doi_________::b7c9a6ba0cf9b2c39ec160366bce708c', '50|doi_________::3d426b8bb216010bc493e8e57e3a2e40', '50|doi_________::edcef3f014b24b538ba0dd38cab6f617', '50|doi_________::9bff85504025b69c23a493c60ed67f0e']\n",
            "['50|doi_________::b72d03a0b3d6a87011d520606135f540', '50|doi_________::12d2e0442570159ac065014632ccb618', '50|doi_________::2b877bb14c1de4f284ab55838fee998b', '50|doi_________::9b509ec8729163a6ef7e1b907b775388', '50|doi_dedup___::2f2b564c5055a3b818dc92d69536b9b0', '50|doi_________::1345fa5a7cd77529e39e8fefb4505160', '50|doi_________::9bff85504025b69c23a493c60ed67f0e', '50|doi_________::edcef3f014b24b538ba0dd38cab6f617', '50|doi_________::808c14eb042ec4323d2544fadfa822bf', '50|doi_________::611ab070ee73d98cede9e9edb22e33b2']\n",
            "['50|doi_________::9b509ec8729163a6ef7e1b907b775388', '50|doi_________::0069a54533ad8c45f7613b41290ac86a', '50|doi_________::89f1e631ad2464461e439af5bdf704f2', '50|doi_________::1345fa5a7cd77529e39e8fefb4505160', '50|doi_dedup___::814fb54a5f9572c5dbacf953f6fa6ade', '50|doi_________::ae2fe3fff3f0ca9849c75577a7e74369', '50|doi_________::7a8ffd361f469b8048130424c190a95b', '50|doi_________::1fd1dd63068c485e79568cf6d94cabe7', '50|doi_________::dcdcb878d10b4feb3c474001b0306b19', '50|doi_dedup___::3d819fd8fcecd35cdbbf271ba97c737d']\n",
            "['50|doi_dedup___::814fb54a5f9572c5dbacf953f6fa6ade', '50|doi_________::77d25c5587f0b1ab44b34485d4ecb37f', '50|doi_dedup___::3d819fd8fcecd35cdbbf271ba97c737d', '50|doi_dedup___::0bb1987c461f348a3aa43f6ce0505d3c', '50|doi_dedup___::3d139b81b30e2c151375fd9da4ad48ed', '50|doi_________::fe8f2e909e6e8e6e3b8e4726f23657bb', '50|doi_dedup___::cb1d46ce16547c0a1e191ad4a9ef6d52', '50|doi_________::c1881ca8737b1dd96123c03e5f11e4c2', '50|doi_________::33d2146ba969a6368920d0f4819d8dc2', '50|doi_________::3cb002309a835e9f368e1f339f7c988c']\n",
            "['50|doi_________::77d25c5587f0b1ab44b34485d4ecb37f', '50|doi_________::fe8f2e909e6e8e6e3b8e4726f23657bb', '50|doi_________::12ff2c661e87ba8d7c4fc6eb9053aef4', '50|doi_________::3cb002309a835e9f368e1f339f7c988c', '50|doi_________::2b877bb14c1de4f284ab55838fee998b', '50|doi_________::c1881ca8737b1dd96123c03e5f11e4c2', '50|doi_________::05abd7f80a5be633db0e8f2b1b210fe4', '50|doi_________::b7c9a6ba0cf9b2c39ec160366bce708c', '50|doi_________::12d2e0442570159ac065014632ccb618', '50|doi_________::dee2047aa776631c5197b4d9cdb51ed6']\n",
            "['50|doi_________::b72d03a0b3d6a87011d520606135f540', '50|doi_________::05abd7f80a5be633db0e8f2b1b210fe4', '50|doi_________::2b877bb14c1de4f284ab55838fee998b', '50|doi_________::3cb002309a835e9f368e1f339f7c988c', '50|doi_________::b7c9a6ba0cf9b2c39ec160366bce708c', '50|doi_________::12ff2c661e87ba8d7c4fc6eb9053aef4', '50|doi_________::3d426b8bb216010bc493e8e57e3a2e40', '50|doi_________::12d2e0442570159ac065014632ccb618', '50|doi_________::42fae0cb264010b0d87ca63a49228d90', '50|doi_dedup___::2f2b564c5055a3b818dc92d69536b9b0']\n",
            "['50|doi_________::90d499fba4c76f9c68a89805ee610d6b', '50|doi_________::a89b20bb660b1aab2113fad1fbd5913b', '50|doi_________::6f9cbd794730507fe965dce2d347d159', '50|doi_________::b2725c888736459fa04eb642a3284bef', '50|doi_________::d52573f73469b778bff5673aa34100e0', '50|doi_________::9b509ec8729163a6ef7e1b907b775388', '50|doi_________::c24cea14edd81175ecaed2a9733740b9', '50|doi_________::dcdcb878d10b4feb3c474001b0306b19', '50|doi_________::808c14eb042ec4323d2544fadfa822bf', '50|doi_________::611ab070ee73d98cede9e9edb22e33b2']\n",
            "['50|doi_________::05abd7f80a5be633db0e8f2b1b210fe4', '50|doi_________::3816ff2a722868746fbed4aabe088006', '50|doi_________::12ff2c661e87ba8d7c4fc6eb9053aef4', '50|doi_________::3cb002309a835e9f368e1f339f7c988c', '50|doi_________::33d2146ba969a6368920d0f4819d8dc2', '50|doi_________::b7c9a6ba0cf9b2c39ec160366bce708c', '50|doi_________::3d426b8bb216010bc493e8e57e3a2e40', '50|doi_dedup___::3d139b81b30e2c151375fd9da4ad48ed', '50|doi_________::77d25c5587f0b1ab44b34485d4ecb37f', '50|doi_dedup___::0bb1987c461f348a3aa43f6ce0505d3c']\n",
            "['50|doi_________::33d2146ba969a6368920d0f4819d8dc2', '50|doi_________::b72d03a0b3d6a87011d520606135f540', '50|doi_dedup___::3d139b81b30e2c151375fd9da4ad48ed', '50|doi_dedup___::0bb1987c461f348a3aa43f6ce0505d3c', '50|doi_________::77d25c5587f0b1ab44b34485d4ecb37f', '50|doi_________::c1881ca8737b1dd96123c03e5f11e4c2', '50|doi_dedup___::2fe1e2a979f767cef9fca6a0bef024f4', '50|doi_dedup___::8626d4a4c5add68c7492c7c5bff252ee']\n",
            "['50|doi_________::b72d03a0b3d6a87011d520606135f540', '50|doi_________::3cb002309a835e9f368e1f339f7c988c', '50|doi_________::12ff2c661e87ba8d7c4fc6eb9053aef4', '50|doi_________::b7c9a6ba0cf9b2c39ec160366bce708c', '50|doi_________::12d2e0442570159ac065014632ccb618', '50|doi_________::3d426b8bb216010bc493e8e57e3a2e40', '50|doi_________::33d2146ba969a6368920d0f4819d8dc2', '50|doi_________::edcef3f014b24b538ba0dd38cab6f617', '50|doi_dedup___::21e0cc051711a83350fb8982177533b5', '50|doi_________::9b509ec8729163a6ef7e1b907b775388']\n",
            "['50|doi_________::77d25c5587f0b1ab44b34485d4ecb37f', '50|doi_dedup___::814fb54a5f9572c5dbacf953f6fa6ade', '50|doi_________::fe8f2e909e6e8e6e3b8e4726f23657bb', '50|doi_________::c1881ca8737b1dd96123c03e5f11e4c2', '50|doi_dedup___::3d819fd8fcecd35cdbbf271ba97c737d', '50|doi_________::33d2146ba969a6368920d0f4819d8dc2', '50|doi_________::12ff2c661e87ba8d7c4fc6eb9053aef4', '50|doi_dedup___::21e0cc051711a83350fb8982177533b5', '50|doi_________::3cb002309a835e9f368e1f339f7c988c', '50|doi_dedup___::2f2b564c5055a3b818dc92d69536b9b0']\n",
            "['50|doi_________::77d25c5587f0b1ab44b34485d4ecb37f', '50|doi_________::d0b3eddc114427a3e0e7f5effc818020', '50|doi_________::a02d76649a652bc7f601eccae5b5d395', '50|doi_________::ba9436e30d9b921dd39ad41cf8d05993', '50|doi_________::2fcf8da2801587a325c42e570badc916', '50|doi_________::83fcc5aeb29150baf8888487dd2eefb4', '50|doi_________::cb1d5119cad326b4dcacd8fad2ff4421', '50|doi_________::3987780588ec254078aad955fb4186b4', '50|doi_________::cd68d9491b2528afdb55325b17b9f4e2', '50|doi_________::808c14eb042ec4323d2544fadfa822bf']\n",
            "['50|doi_dedup___::814fb54a5f9572c5dbacf953f6fa6ade', '50|doi_________::89f1e631ad2464461e439af5bdf704f2', '50|doi_________::3816ff2a722868746fbed4aabe088006', '50|doi_dedup___::3d819fd8fcecd35cdbbf271ba97c737d', '50|doi_dedup___::0bb1987c461f348a3aa43f6ce0505d3c', '50|doi_________::77d25c5587f0b1ab44b34485d4ecb37f', '50|doi_dedup___::3d139b81b30e2c151375fd9da4ad48ed', '50|doi_________::fe8f2e909e6e8e6e3b8e4726f23657bb', '50|doi_dedup___::cb1d46ce16547c0a1e191ad4a9ef6d52', '50|doi_________::3cb002309a835e9f368e1f339f7c988c']\n",
            "['50|doi_________::7583b21864e2343d9c0dec0dab4b6d88', '50|doi_________::b72d03a0b3d6a87011d520606135f540', '50|doi_________::b04625325fc718676d4bf0b345a8b371', '50|doi_________::db0a505bfd341e4b1481d7bdadb80ec6', '50|doi_________::dee2047aa776631c5197b4d9cdb51ed6', '50|doi_________::af847c98db86a4f6178659bcb8a41e30', '50|doi_________::fd49427daf3bb7f90ad851d19ec5f708', '50|doi_________::de824bd3f52aaef88679cd2823dad9b6', '50|doi_________::05abd7f80a5be633db0e8f2b1b210fe4', '50|doi_________::9b21384ba601ce56d32ed3d1f3bf2a92']\n"
          ]
        },
        {
          "ename": "TypeError",
          "evalue": "ignored",
          "output_type": "error",
          "traceback": [
            "\u001b[0;31m---------------------------------------------------------------------------\u001b[0m",
            "\u001b[0;31mTypeError\u001b[0m                                 Traceback (most recent call last)",
            "\u001b[0;32m<ipython-input-167-76661408bbd4>\u001b[0m in \u001b[0;36m<module>\u001b[0;34m()\u001b[0m\n\u001b[0;32m----> 1\u001b[0;31m \u001b[0musers_sw\u001b[0m\u001b[0;34m[\u001b[0m\u001b[0;34m'hit_rate_sw'\u001b[0m\u001b[0;34m]\u001b[0m \u001b[0;34m=\u001b[0m \u001b[0musers_sw\u001b[0m\u001b[0;34m.\u001b[0m\u001b[0mapply\u001b[0m\u001b[0;34m(\u001b[0m\u001b[0;32mlambda\u001b[0m \u001b[0mx\u001b[0m\u001b[0;34m:\u001b[0m\u001b[0mhit_rate_sw\u001b[0m\u001b[0;34m(\u001b[0m\u001b[0mx\u001b[0m\u001b[0;34m)\u001b[0m\u001b[0;34m,\u001b[0m\u001b[0maxis\u001b[0m\u001b[0;34m=\u001b[0m\u001b[0;36m1\u001b[0m\u001b[0;34m)\u001b[0m\u001b[0;34m\u001b[0m\u001b[0;34m\u001b[0m\u001b[0m\n\u001b[0m",
            "\u001b[0;32m/usr/local/lib/python3.7/dist-packages/pandas/core/frame.py\u001b[0m in \u001b[0;36mapply\u001b[0;34m(self, func, axis, raw, result_type, args, **kwargs)\u001b[0m\n\u001b[1;32m   8738\u001b[0m             \u001b[0mkwargs\u001b[0m\u001b[0;34m=\u001b[0m\u001b[0mkwargs\u001b[0m\u001b[0;34m,\u001b[0m\u001b[0;34m\u001b[0m\u001b[0;34m\u001b[0m\u001b[0m\n\u001b[1;32m   8739\u001b[0m         )\n\u001b[0;32m-> 8740\u001b[0;31m         \u001b[0;32mreturn\u001b[0m \u001b[0mop\u001b[0m\u001b[0;34m.\u001b[0m\u001b[0mapply\u001b[0m\u001b[0;34m(\u001b[0m\u001b[0;34m)\u001b[0m\u001b[0;34m\u001b[0m\u001b[0;34m\u001b[0m\u001b[0m\n\u001b[0m\u001b[1;32m   8741\u001b[0m \u001b[0;34m\u001b[0m\u001b[0m\n\u001b[1;32m   8742\u001b[0m     def applymap(\n",
            "\u001b[0;32m/usr/local/lib/python3.7/dist-packages/pandas/core/apply.py\u001b[0m in \u001b[0;36mapply\u001b[0;34m(self)\u001b[0m\n\u001b[1;32m    686\u001b[0m             \u001b[0;32mreturn\u001b[0m \u001b[0mself\u001b[0m\u001b[0;34m.\u001b[0m\u001b[0mapply_raw\u001b[0m\u001b[0;34m(\u001b[0m\u001b[0;34m)\u001b[0m\u001b[0;34m\u001b[0m\u001b[0;34m\u001b[0m\u001b[0m\n\u001b[1;32m    687\u001b[0m \u001b[0;34m\u001b[0m\u001b[0m\n\u001b[0;32m--> 688\u001b[0;31m         \u001b[0;32mreturn\u001b[0m \u001b[0mself\u001b[0m\u001b[0;34m.\u001b[0m\u001b[0mapply_standard\u001b[0m\u001b[0;34m(\u001b[0m\u001b[0;34m)\u001b[0m\u001b[0;34m\u001b[0m\u001b[0;34m\u001b[0m\u001b[0m\n\u001b[0m\u001b[1;32m    689\u001b[0m \u001b[0;34m\u001b[0m\u001b[0m\n\u001b[1;32m    690\u001b[0m     \u001b[0;32mdef\u001b[0m \u001b[0magg\u001b[0m\u001b[0;34m(\u001b[0m\u001b[0mself\u001b[0m\u001b[0;34m)\u001b[0m\u001b[0;34m:\u001b[0m\u001b[0;34m\u001b[0m\u001b[0;34m\u001b[0m\u001b[0m\n",
            "\u001b[0;32m/usr/local/lib/python3.7/dist-packages/pandas/core/apply.py\u001b[0m in \u001b[0;36mapply_standard\u001b[0;34m(self)\u001b[0m\n\u001b[1;32m    810\u001b[0m \u001b[0;34m\u001b[0m\u001b[0m\n\u001b[1;32m    811\u001b[0m     \u001b[0;32mdef\u001b[0m \u001b[0mapply_standard\u001b[0m\u001b[0;34m(\u001b[0m\u001b[0mself\u001b[0m\u001b[0;34m)\u001b[0m\u001b[0;34m:\u001b[0m\u001b[0;34m\u001b[0m\u001b[0;34m\u001b[0m\u001b[0m\n\u001b[0;32m--> 812\u001b[0;31m         \u001b[0mresults\u001b[0m\u001b[0;34m,\u001b[0m \u001b[0mres_index\u001b[0m \u001b[0;34m=\u001b[0m \u001b[0mself\u001b[0m\u001b[0;34m.\u001b[0m\u001b[0mapply_series_generator\u001b[0m\u001b[0;34m(\u001b[0m\u001b[0;34m)\u001b[0m\u001b[0;34m\u001b[0m\u001b[0;34m\u001b[0m\u001b[0m\n\u001b[0m\u001b[1;32m    813\u001b[0m \u001b[0;34m\u001b[0m\u001b[0m\n\u001b[1;32m    814\u001b[0m         \u001b[0;31m# wrap results\u001b[0m\u001b[0;34m\u001b[0m\u001b[0;34m\u001b[0m\u001b[0;34m\u001b[0m\u001b[0m\n",
            "\u001b[0;32m/usr/local/lib/python3.7/dist-packages/pandas/core/apply.py\u001b[0m in \u001b[0;36mapply_series_generator\u001b[0;34m(self)\u001b[0m\n\u001b[1;32m    826\u001b[0m             \u001b[0;32mfor\u001b[0m \u001b[0mi\u001b[0m\u001b[0;34m,\u001b[0m \u001b[0mv\u001b[0m \u001b[0;32min\u001b[0m \u001b[0menumerate\u001b[0m\u001b[0;34m(\u001b[0m\u001b[0mseries_gen\u001b[0m\u001b[0;34m)\u001b[0m\u001b[0;34m:\u001b[0m\u001b[0;34m\u001b[0m\u001b[0;34m\u001b[0m\u001b[0m\n\u001b[1;32m    827\u001b[0m                 \u001b[0;31m# ignore SettingWithCopy here in case the user mutates\u001b[0m\u001b[0;34m\u001b[0m\u001b[0;34m\u001b[0m\u001b[0;34m\u001b[0m\u001b[0m\n\u001b[0;32m--> 828\u001b[0;31m                 \u001b[0mresults\u001b[0m\u001b[0;34m[\u001b[0m\u001b[0mi\u001b[0m\u001b[0;34m]\u001b[0m \u001b[0;34m=\u001b[0m \u001b[0mself\u001b[0m\u001b[0;34m.\u001b[0m\u001b[0mf\u001b[0m\u001b[0;34m(\u001b[0m\u001b[0mv\u001b[0m\u001b[0;34m)\u001b[0m\u001b[0;34m\u001b[0m\u001b[0;34m\u001b[0m\u001b[0m\n\u001b[0m\u001b[1;32m    829\u001b[0m                 \u001b[0;32mif\u001b[0m \u001b[0misinstance\u001b[0m\u001b[0;34m(\u001b[0m\u001b[0mresults\u001b[0m\u001b[0;34m[\u001b[0m\u001b[0mi\u001b[0m\u001b[0;34m]\u001b[0m\u001b[0;34m,\u001b[0m \u001b[0mABCSeries\u001b[0m\u001b[0;34m)\u001b[0m\u001b[0;34m:\u001b[0m\u001b[0;34m\u001b[0m\u001b[0;34m\u001b[0m\u001b[0m\n\u001b[1;32m    830\u001b[0m                     \u001b[0;31m# If we have a view on v, we need to make a copy because\u001b[0m\u001b[0;34m\u001b[0m\u001b[0;34m\u001b[0m\u001b[0;34m\u001b[0m\u001b[0m\n",
            "\u001b[0;32m<ipython-input-167-76661408bbd4>\u001b[0m in \u001b[0;36m<lambda>\u001b[0;34m(x)\u001b[0m\n\u001b[0;32m----> 1\u001b[0;31m \u001b[0musers_sw\u001b[0m\u001b[0;34m[\u001b[0m\u001b[0;34m'hit_rate_sw'\u001b[0m\u001b[0;34m]\u001b[0m \u001b[0;34m=\u001b[0m \u001b[0musers_sw\u001b[0m\u001b[0;34m.\u001b[0m\u001b[0mapply\u001b[0m\u001b[0;34m(\u001b[0m\u001b[0;32mlambda\u001b[0m \u001b[0mx\u001b[0m\u001b[0;34m:\u001b[0m\u001b[0mhit_rate_sw\u001b[0m\u001b[0;34m(\u001b[0m\u001b[0mx\u001b[0m\u001b[0;34m)\u001b[0m\u001b[0;34m,\u001b[0m\u001b[0maxis\u001b[0m\u001b[0;34m=\u001b[0m\u001b[0;36m1\u001b[0m\u001b[0;34m)\u001b[0m\u001b[0;34m\u001b[0m\u001b[0;34m\u001b[0m\u001b[0m\n\u001b[0m",
            "\u001b[0;32m<ipython-input-166-112593cd87ad>\u001b[0m in \u001b[0;36mhit_rate_sw\u001b[0;34m(row)\u001b[0m\n\u001b[1;32m      2\u001b[0m   \u001b[0mprint\u001b[0m\u001b[0;34m(\u001b[0m\u001b[0mrow\u001b[0m\u001b[0;34m[\u001b[0m\u001b[0;34m'recommended_items'\u001b[0m\u001b[0;34m]\u001b[0m\u001b[0;34m)\u001b[0m\u001b[0;34m\u001b[0m\u001b[0;34m\u001b[0m\u001b[0m\n\u001b[1;32m      3\u001b[0m   \u001b[0;32mfor\u001b[0m \u001b[0mitem\u001b[0m \u001b[0;32min\u001b[0m \u001b[0mrow\u001b[0m\u001b[0;34m[\u001b[0m\u001b[0;34m\"recommended_items\"\u001b[0m\u001b[0;34m]\u001b[0m\u001b[0;34m:\u001b[0m\u001b[0;34m\u001b[0m\u001b[0;34m\u001b[0m\u001b[0m\n\u001b[0;32m----> 4\u001b[0;31m     \u001b[0;32mif\u001b[0m \u001b[0mitem\u001b[0m \u001b[0;32min\u001b[0m \u001b[0mrow\u001b[0m\u001b[0;34m[\u001b[0m\u001b[0;34m'leave_three_out_sw'\u001b[0m\u001b[0;34m]\u001b[0m\u001b[0;34m:\u001b[0m\u001b[0;34m\u001b[0m\u001b[0;34m\u001b[0m\u001b[0m\n\u001b[0m\u001b[1;32m      5\u001b[0m       \u001b[0;32mreturn\u001b[0m \u001b[0;36m1\u001b[0m\u001b[0;34m\u001b[0m\u001b[0;34m\u001b[0m\u001b[0m\n\u001b[1;32m      6\u001b[0m   \u001b[0;32mreturn\u001b[0m \u001b[0;36m0\u001b[0m\u001b[0;34m\u001b[0m\u001b[0;34m\u001b[0m\u001b[0m\n",
            "\u001b[0;31mTypeError\u001b[0m: argument of type 'NoneType' is not iterable"
          ]
        }
      ],
      "source": [
        "users_sw['hit_rate_sw'] = users_sw.apply(lambda x:hit_rate_sw(x),axis=1)"
      ]
    },
    {
      "cell_type": "code",
      "execution_count": null,
      "metadata": {
        "colab": {
          "base_uri": "https://localhost:8080/"
        },
        "id": "fgsDEG43q72c",
        "outputId": "7a44e33e-4367-450a-e725-e27a30dbd38a"
      },
      "outputs": [
        {
          "data": {
            "text/plain": [
              "0.8518518518518519"
            ]
          },
          "execution_count": 202,
          "metadata": {},
          "output_type": "execute_result"
        }
      ],
      "source": [
        "users_sw['hit_rate_sw'].mean()"
      ]
    },
    {
      "cell_type": "markdown",
      "metadata": {
        "id": "shpswAlHR4jR"
      },
      "source": [
        "## Preparing data for Combined RecSys"
      ]
    },
    {
      "cell_type": "code",
      "execution_count": null,
      "metadata": {
        "id": "8deBcyU8RqnX"
      },
      "outputs": [],
      "source": [
        "users = pd.read_json('/content/gdrive/MyDrive/Recommendation_Systems_Activities/Journal/Data/users_june21/users_v3.json')"
      ]
    },
    {
      "cell_type": "code",
      "execution_count": null,
      "metadata": {
        "id": "vPiCnf0BSDyw"
      },
      "outputs": [],
      "source": [
        "#users_last.columns = ['user','profile']\n",
        "#for i,x in enumerate(users_last['profile']):\n",
        " # users_last['profile'][i] = users_last['profile'][i]['data']"
      ]
    },
    {
      "cell_type": "code",
      "execution_count": null,
      "metadata": {
        "id": "UGIHaujoSTNF"
      },
      "outputs": [],
      "source": [
        "# def get_user(user_list):\n",
        "#   mylist = []\n",
        "#   for item in user_list:\n",
        "#     for items in nodes_list:\n",
        "#       if item == items:\n",
        "#         mylist.append(item)\n",
        "#   return mylist"
      ]
    },
    {
      "cell_type": "code",
      "execution_count": null,
      "metadata": {
        "id": "Py_41BEESfHo"
      },
      "outputs": [],
      "source": [
        "# users['profile_items'] = users['profile'].apply(lambda x:get_user(x))"
      ]
    },
    {
      "cell_type": "code",
      "execution_count": null,
      "metadata": {
        "id": "Dth0qHRYS8zm"
      },
      "outputs": [],
      "source": [
        "# cln_users = users[users['profile_items'].map(len) > 6]"
      ]
    },
    {
      "cell_type": "code",
      "execution_count": null,
      "metadata": {
        "id": "WDSaL0QWZJNu"
      },
      "outputs": [],
      "source": [
        "def clean_users(user_prof):\n",
        "  pub_counter = 0\n",
        "  sd_counter = 0\n",
        "  for id in user_prof:\n",
        "    item_type = df_artifacts[df_artifacts['id'] == id]['type']\n",
        "    for i in item_type:\n",
        "      if str(i) == 'publication':\n",
        "        pub_counter += 1\n",
        "      else:\n",
        "        sd_counter += 1\n",
        "  return pub_counter"
      ]
    },
    {
      "cell_type": "code",
      "execution_count": null,
      "metadata": {
        "id": "zZUaqMekZdFd"
      },
      "outputs": [],
      "source": [
        "users['pub_counter'] = users['id'].apply(lambda row : clean_users(row))"
      ]
    },
    {
      "cell_type": "code",
      "execution_count": null,
      "metadata": {
        "colab": {
          "base_uri": "https://localhost:8080/",
          "height": 424
        },
        "id": "1ovbmyWIPFb_",
        "outputId": "5891d69c-962e-4bee-f004-3b2358282926"
      },
      "outputs": [
        {
          "data": {
            "text/html": [
              "\n",
              "  <div id=\"df-1009de17-1354-4b0e-97ef-39616b6d75cb\">\n",
              "    <div class=\"colab-df-container\">\n",
              "      <div>\n",
              "<style scoped>\n",
              "    .dataframe tbody tr th:only-of-type {\n",
              "        vertical-align: middle;\n",
              "    }\n",
              "\n",
              "    .dataframe tbody tr th {\n",
              "        vertical-align: top;\n",
              "    }\n",
              "\n",
              "    .dataframe thead th {\n",
              "        text-align: right;\n",
              "    }\n",
              "</style>\n",
              "<table border=\"1\" class=\"dataframe\">\n",
              "  <thead>\n",
              "    <tr style=\"text-align: right;\">\n",
              "      <th></th>\n",
              "      <th>author_name</th>\n",
              "      <th>id</th>\n",
              "      <th>sd_counter</th>\n",
              "      <th>pub_counter</th>\n",
              "    </tr>\n",
              "  </thead>\n",
              "  <tbody>\n",
              "    <tr>\n",
              "      <th>0</th>\n",
              "      <td>A. Norman, Kenneth</td>\n",
              "      <td>[50|r37980778c78::3dde9a8ae6db8d35cdfb4fd5585c...</td>\n",
              "      <td>6</td>\n",
              "      <td>0</td>\n",
              "    </tr>\n",
              "    <tr>\n",
              "      <th>1</th>\n",
              "      <td>A. Turner, Jessica</td>\n",
              "      <td>[50|r37980778c78::eca395a306186f95e5fbe3b16f68...</td>\n",
              "      <td>6</td>\n",
              "      <td>0</td>\n",
              "    </tr>\n",
              "    <tr>\n",
              "      <th>2</th>\n",
              "      <td>Adeel Razi</td>\n",
              "      <td>[50|doi_dedup___::796fadcb23853b089b8a1e644e7d...</td>\n",
              "      <td>0</td>\n",
              "      <td>6</td>\n",
              "    </tr>\n",
              "    <tr>\n",
              "      <th>3</th>\n",
              "      <td>Aja-Fernández, Santiago</td>\n",
              "      <td>[50|r37980778c78::b52f346497320489e3de542b6bdd...</td>\n",
              "      <td>9</td>\n",
              "      <td>1</td>\n",
              "    </tr>\n",
              "    <tr>\n",
              "      <th>4</th>\n",
              "      <td>Alzheimer’s Disease Neuroimaging Initiative</td>\n",
              "      <td>[50|doi_dedup___::3cbda8b2577a3b5dc90ba520339c...</td>\n",
              "      <td>0</td>\n",
              "      <td>6</td>\n",
              "    </tr>\n",
              "    <tr>\n",
              "      <th>...</th>\n",
              "      <td>...</td>\n",
              "      <td>...</td>\n",
              "      <td>...</td>\n",
              "      <td>...</td>\n",
              "    </tr>\n",
              "    <tr>\n",
              "      <th>351</th>\n",
              "      <td>Zhao, Zhilian</td>\n",
              "      <td>[50|r37980778c78::af00ac7d9359d7e4b018bf6887dc...</td>\n",
              "      <td>6</td>\n",
              "      <td>1</td>\n",
              "    </tr>\n",
              "    <tr>\n",
              "      <th>352</th>\n",
              "      <td>Zhong, Ning</td>\n",
              "      <td>[50|r37980778c78::4fcd43dfa35532d0819423b5b7c4...</td>\n",
              "      <td>5</td>\n",
              "      <td>2</td>\n",
              "    </tr>\n",
              "    <tr>\n",
              "      <th>353</th>\n",
              "      <td>Zhou, Haiyan</td>\n",
              "      <td>[50|r37980778c78::4fcd43dfa35532d0819423b5b7c4...</td>\n",
              "      <td>5</td>\n",
              "      <td>1</td>\n",
              "    </tr>\n",
              "    <tr>\n",
              "      <th>354</th>\n",
              "      <td>de Luis-García, Rodrigo</td>\n",
              "      <td>[50|r37980778c78::b52f346497320489e3de542b6bdd...</td>\n",
              "      <td>9</td>\n",
              "      <td>1</td>\n",
              "    </tr>\n",
              "    <tr>\n",
              "      <th>355</th>\n",
              "      <td>van den Bosch, Jasper J.F.</td>\n",
              "      <td>[50|doi_________::c366b2de1b4e34c37362d5eb8f43...</td>\n",
              "      <td>14</td>\n",
              "      <td>0</td>\n",
              "    </tr>\n",
              "  </tbody>\n",
              "</table>\n",
              "<p>356 rows × 4 columns</p>\n",
              "</div>\n",
              "      <button class=\"colab-df-convert\" onclick=\"convertToInteractive('df-1009de17-1354-4b0e-97ef-39616b6d75cb')\"\n",
              "              title=\"Convert this dataframe to an interactive table.\"\n",
              "              style=\"display:none;\">\n",
              "        \n",
              "  <svg xmlns=\"http://www.w3.org/2000/svg\" height=\"24px\"viewBox=\"0 0 24 24\"\n",
              "       width=\"24px\">\n",
              "    <path d=\"M0 0h24v24H0V0z\" fill=\"none\"/>\n",
              "    <path d=\"M18.56 5.44l.94 2.06.94-2.06 2.06-.94-2.06-.94-.94-2.06-.94 2.06-2.06.94zm-11 1L8.5 8.5l.94-2.06 2.06-.94-2.06-.94L8.5 2.5l-.94 2.06-2.06.94zm10 10l.94 2.06.94-2.06 2.06-.94-2.06-.94-.94-2.06-.94 2.06-2.06.94z\"/><path d=\"M17.41 7.96l-1.37-1.37c-.4-.4-.92-.59-1.43-.59-.52 0-1.04.2-1.43.59L10.3 9.45l-7.72 7.72c-.78.78-.78 2.05 0 2.83L4 21.41c.39.39.9.59 1.41.59.51 0 1.02-.2 1.41-.59l7.78-7.78 2.81-2.81c.8-.78.8-2.07 0-2.86zM5.41 20L4 18.59l7.72-7.72 1.47 1.35L5.41 20z\"/>\n",
              "  </svg>\n",
              "      </button>\n",
              "      \n",
              "  <style>\n",
              "    .colab-df-container {\n",
              "      display:flex;\n",
              "      flex-wrap:wrap;\n",
              "      gap: 12px;\n",
              "    }\n",
              "\n",
              "    .colab-df-convert {\n",
              "      background-color: #E8F0FE;\n",
              "      border: none;\n",
              "      border-radius: 50%;\n",
              "      cursor: pointer;\n",
              "      display: none;\n",
              "      fill: #1967D2;\n",
              "      height: 32px;\n",
              "      padding: 0 0 0 0;\n",
              "      width: 32px;\n",
              "    }\n",
              "\n",
              "    .colab-df-convert:hover {\n",
              "      background-color: #E2EBFA;\n",
              "      box-shadow: 0px 1px 2px rgba(60, 64, 67, 0.3), 0px 1px 3px 1px rgba(60, 64, 67, 0.15);\n",
              "      fill: #174EA6;\n",
              "    }\n",
              "\n",
              "    [theme=dark] .colab-df-convert {\n",
              "      background-color: #3B4455;\n",
              "      fill: #D2E3FC;\n",
              "    }\n",
              "\n",
              "    [theme=dark] .colab-df-convert:hover {\n",
              "      background-color: #434B5C;\n",
              "      box-shadow: 0px 1px 3px 1px rgba(0, 0, 0, 0.15);\n",
              "      filter: drop-shadow(0px 1px 2px rgba(0, 0, 0, 0.3));\n",
              "      fill: #FFFFFF;\n",
              "    }\n",
              "  </style>\n",
              "\n",
              "      <script>\n",
              "        const buttonEl =\n",
              "          document.querySelector('#df-1009de17-1354-4b0e-97ef-39616b6d75cb button.colab-df-convert');\n",
              "        buttonEl.style.display =\n",
              "          google.colab.kernel.accessAllowed ? 'block' : 'none';\n",
              "\n",
              "        async function convertToInteractive(key) {\n",
              "          const element = document.querySelector('#df-1009de17-1354-4b0e-97ef-39616b6d75cb');\n",
              "          const dataTable =\n",
              "            await google.colab.kernel.invokeFunction('convertToInteractive',\n",
              "                                                     [key], {});\n",
              "          if (!dataTable) return;\n",
              "\n",
              "          const docLinkHtml = 'Like what you see? Visit the ' +\n",
              "            '<a target=\"_blank\" href=https://colab.research.google.com/notebooks/data_table.ipynb>data table notebook</a>'\n",
              "            + ' to learn more about interactive tables.';\n",
              "          element.innerHTML = '';\n",
              "          dataTable['output_type'] = 'display_data';\n",
              "          await google.colab.output.renderOutput(dataTable, element);\n",
              "          const docLink = document.createElement('div');\n",
              "          docLink.innerHTML = docLinkHtml;\n",
              "          element.appendChild(docLink);\n",
              "        }\n",
              "      </script>\n",
              "    </div>\n",
              "  </div>\n",
              "  "
            ],
            "text/plain": [
              "                                     author_name  \\\n",
              "0                             A. Norman, Kenneth   \n",
              "1                             A. Turner, Jessica   \n",
              "2                                     Adeel Razi   \n",
              "3                        Aja-Fernández, Santiago   \n",
              "4    Alzheimer’s Disease Neuroimaging Initiative   \n",
              "..                                           ...   \n",
              "351                                Zhao, Zhilian   \n",
              "352                                  Zhong, Ning   \n",
              "353                                 Zhou, Haiyan   \n",
              "354                      de Luis-García, Rodrigo   \n",
              "355                   van den Bosch, Jasper J.F.   \n",
              "\n",
              "                                                    id  sd_counter  \\\n",
              "0    [50|r37980778c78::3dde9a8ae6db8d35cdfb4fd5585c...           6   \n",
              "1    [50|r37980778c78::eca395a306186f95e5fbe3b16f68...           6   \n",
              "2    [50|doi_dedup___::796fadcb23853b089b8a1e644e7d...           0   \n",
              "3    [50|r37980778c78::b52f346497320489e3de542b6bdd...           9   \n",
              "4    [50|doi_dedup___::3cbda8b2577a3b5dc90ba520339c...           0   \n",
              "..                                                 ...         ...   \n",
              "351  [50|r37980778c78::af00ac7d9359d7e4b018bf6887dc...           6   \n",
              "352  [50|r37980778c78::4fcd43dfa35532d0819423b5b7c4...           5   \n",
              "353  [50|r37980778c78::4fcd43dfa35532d0819423b5b7c4...           5   \n",
              "354  [50|r37980778c78::b52f346497320489e3de542b6bdd...           9   \n",
              "355  [50|doi_________::c366b2de1b4e34c37362d5eb8f43...          14   \n",
              "\n",
              "     pub_counter  \n",
              "0              0  \n",
              "1              0  \n",
              "2              6  \n",
              "3              1  \n",
              "4              6  \n",
              "..           ...  \n",
              "351            1  \n",
              "352            2  \n",
              "353            1  \n",
              "354            1  \n",
              "355            0  \n",
              "\n",
              "[356 rows x 4 columns]"
            ]
          },
          "execution_count": 42,
          "metadata": {},
          "output_type": "execute_result"
        }
      ],
      "source": [
        "users"
      ]
    },
    {
      "cell_type": "code",
      "execution_count": null,
      "metadata": {
        "id": "EsFlwHqEddJF"
      },
      "outputs": [],
      "source": [
        "import random"
      ]
    },
    {
      "cell_type": "code",
      "execution_count": null,
      "metadata": {
        "id": "S41HOvDLZxJd"
      },
      "outputs": [],
      "source": [
        "def leave_one_cv(profile_items):\n",
        "   for item in profile_items:\n",
        "      item_type = df_artifacts[df_artifacts['id'] == item]['type'].tolist()\n",
        "      if item_type[0] != 'publication':\n",
        "        users['id'] = users['id'].apply(lambda x:[i for i in x if i != item])\n",
        "        return item\n",
        "      "
      ]
    },
    {
      "cell_type": "code",
      "execution_count": null,
      "metadata": {
        "id": "GwOA8RWgc7Nu"
      },
      "outputs": [],
      "source": [
        "users['leave_one_cv'] = users['id'].apply(lambda x:leave_one_cv(x))"
      ]
    },
    {
      "cell_type": "code",
      "execution_count": null,
      "metadata": {
        "colab": {
          "base_uri": "https://localhost:8080/",
          "height": 424
        },
        "id": "LL0GjwjrSQza",
        "outputId": "61f0858c-89c8-453d-ba51-98fcc313eb1d"
      },
      "outputs": [
        {
          "data": {
            "text/html": [
              "\n",
              "  <div id=\"df-3938e79d-5728-4dbe-9c09-43780aaaae5a\">\n",
              "    <div class=\"colab-df-container\">\n",
              "      <div>\n",
              "<style scoped>\n",
              "    .dataframe tbody tr th:only-of-type {\n",
              "        vertical-align: middle;\n",
              "    }\n",
              "\n",
              "    .dataframe tbody tr th {\n",
              "        vertical-align: top;\n",
              "    }\n",
              "\n",
              "    .dataframe thead th {\n",
              "        text-align: right;\n",
              "    }\n",
              "</style>\n",
              "<table border=\"1\" class=\"dataframe\">\n",
              "  <thead>\n",
              "    <tr style=\"text-align: right;\">\n",
              "      <th></th>\n",
              "      <th>author_name</th>\n",
              "      <th>id</th>\n",
              "      <th>sd_counter</th>\n",
              "      <th>pub_counter</th>\n",
              "      <th>leave_one_cv</th>\n",
              "    </tr>\n",
              "  </thead>\n",
              "  <tbody>\n",
              "    <tr>\n",
              "      <th>0</th>\n",
              "      <td>A. Norman, Kenneth</td>\n",
              "      <td>[50|r37980778c78::f438c4e29b0015775392812d048b...</td>\n",
              "      <td>6</td>\n",
              "      <td>0</td>\n",
              "      <td>50|r37980778c78::3dde9a8ae6db8d35cdfb4fd5585c1dd8</td>\n",
              "    </tr>\n",
              "    <tr>\n",
              "      <th>1</th>\n",
              "      <td>A. Turner, Jessica</td>\n",
              "      <td>[50|r37980778c78::ecde2547d145a2c4583f0418616a...</td>\n",
              "      <td>6</td>\n",
              "      <td>0</td>\n",
              "      <td>50|r37980778c78::eca395a306186f95e5fbe3b16f685737</td>\n",
              "    </tr>\n",
              "    <tr>\n",
              "      <th>2</th>\n",
              "      <td>Aja-Fernández, Santiago</td>\n",
              "      <td>[50|r37980778c78::8bb673ac2e78ae84d6fce829dd69...</td>\n",
              "      <td>9</td>\n",
              "      <td>1</td>\n",
              "      <td>50|r37980778c78::b52f346497320489e3de542b6bdd9a3f</td>\n",
              "    </tr>\n",
              "    <tr>\n",
              "      <th>3</th>\n",
              "      <td>Amirbekian, Bago</td>\n",
              "      <td>[50|doi_________::28b4308a6ed463db39159e7a2038...</td>\n",
              "      <td>14</td>\n",
              "      <td>0</td>\n",
              "      <td>50|doi_________::c366b2de1b4e34c37362d5eb8f43052d</td>\n",
              "    </tr>\n",
              "    <tr>\n",
              "      <th>4</th>\n",
              "      <td>Amlien, Inge K.</td>\n",
              "      <td>[50|doi_________::77d25c5587f0b1ab44b34485d4ec...</td>\n",
              "      <td>10</td>\n",
              "      <td>1</td>\n",
              "      <td>50|doi_dedup___::d1e4df32d1acb2c2b81455857c8bb3fb</td>\n",
              "    </tr>\n",
              "    <tr>\n",
              "      <th>...</th>\n",
              "      <td>...</td>\n",
              "      <td>...</td>\n",
              "      <td>...</td>\n",
              "      <td>...</td>\n",
              "      <td>...</td>\n",
              "    </tr>\n",
              "    <tr>\n",
              "      <th>298</th>\n",
              "      <td>Zhao, Zhilian</td>\n",
              "      <td>[50|r37980778c78::c6743c483b6d1cbdf84bc978e2e3...</td>\n",
              "      <td>6</td>\n",
              "      <td>1</td>\n",
              "      <td>50|r37980778c78::af00ac7d9359d7e4b018bf6887dc978a</td>\n",
              "    </tr>\n",
              "    <tr>\n",
              "      <th>299</th>\n",
              "      <td>Zhong, Ning</td>\n",
              "      <td>[50|r37980778c78::d7cd259ffdca8d25fe082d779c79...</td>\n",
              "      <td>5</td>\n",
              "      <td>2</td>\n",
              "      <td>50|r37980778c78::4fcd43dfa35532d0819423b5b7c47208</td>\n",
              "    </tr>\n",
              "    <tr>\n",
              "      <th>300</th>\n",
              "      <td>Zhou, Haiyan</td>\n",
              "      <td>[50|r37980778c78::d7cd259ffdca8d25fe082d779c79...</td>\n",
              "      <td>5</td>\n",
              "      <td>1</td>\n",
              "      <td>50|r37980778c78::4fcd43dfa35532d0819423b5b7c47208</td>\n",
              "    </tr>\n",
              "    <tr>\n",
              "      <th>301</th>\n",
              "      <td>de Luis-García, Rodrigo</td>\n",
              "      <td>[50|r37980778c78::8bb673ac2e78ae84d6fce829dd69...</td>\n",
              "      <td>9</td>\n",
              "      <td>1</td>\n",
              "      <td>50|r37980778c78::b52f346497320489e3de542b6bdd9a3f</td>\n",
              "    </tr>\n",
              "    <tr>\n",
              "      <th>302</th>\n",
              "      <td>van den Bosch, Jasper J.F.</td>\n",
              "      <td>[50|doi_________::28b4308a6ed463db39159e7a2038...</td>\n",
              "      <td>14</td>\n",
              "      <td>0</td>\n",
              "      <td>50|doi_________::c366b2de1b4e34c37362d5eb8f43052d</td>\n",
              "    </tr>\n",
              "  </tbody>\n",
              "</table>\n",
              "<p>303 rows × 5 columns</p>\n",
              "</div>\n",
              "      <button class=\"colab-df-convert\" onclick=\"convertToInteractive('df-3938e79d-5728-4dbe-9c09-43780aaaae5a')\"\n",
              "              title=\"Convert this dataframe to an interactive table.\"\n",
              "              style=\"display:none;\">\n",
              "        \n",
              "  <svg xmlns=\"http://www.w3.org/2000/svg\" height=\"24px\"viewBox=\"0 0 24 24\"\n",
              "       width=\"24px\">\n",
              "    <path d=\"M0 0h24v24H0V0z\" fill=\"none\"/>\n",
              "    <path d=\"M18.56 5.44l.94 2.06.94-2.06 2.06-.94-2.06-.94-.94-2.06-.94 2.06-2.06.94zm-11 1L8.5 8.5l.94-2.06 2.06-.94-2.06-.94L8.5 2.5l-.94 2.06-2.06.94zm10 10l.94 2.06.94-2.06 2.06-.94-2.06-.94-.94-2.06-.94 2.06-2.06.94z\"/><path d=\"M17.41 7.96l-1.37-1.37c-.4-.4-.92-.59-1.43-.59-.52 0-1.04.2-1.43.59L10.3 9.45l-7.72 7.72c-.78.78-.78 2.05 0 2.83L4 21.41c.39.39.9.59 1.41.59.51 0 1.02-.2 1.41-.59l7.78-7.78 2.81-2.81c.8-.78.8-2.07 0-2.86zM5.41 20L4 18.59l7.72-7.72 1.47 1.35L5.41 20z\"/>\n",
              "  </svg>\n",
              "      </button>\n",
              "      \n",
              "  <style>\n",
              "    .colab-df-container {\n",
              "      display:flex;\n",
              "      flex-wrap:wrap;\n",
              "      gap: 12px;\n",
              "    }\n",
              "\n",
              "    .colab-df-convert {\n",
              "      background-color: #E8F0FE;\n",
              "      border: none;\n",
              "      border-radius: 50%;\n",
              "      cursor: pointer;\n",
              "      display: none;\n",
              "      fill: #1967D2;\n",
              "      height: 32px;\n",
              "      padding: 0 0 0 0;\n",
              "      width: 32px;\n",
              "    }\n",
              "\n",
              "    .colab-df-convert:hover {\n",
              "      background-color: #E2EBFA;\n",
              "      box-shadow: 0px 1px 2px rgba(60, 64, 67, 0.3), 0px 1px 3px 1px rgba(60, 64, 67, 0.15);\n",
              "      fill: #174EA6;\n",
              "    }\n",
              "\n",
              "    [theme=dark] .colab-df-convert {\n",
              "      background-color: #3B4455;\n",
              "      fill: #D2E3FC;\n",
              "    }\n",
              "\n",
              "    [theme=dark] .colab-df-convert:hover {\n",
              "      background-color: #434B5C;\n",
              "      box-shadow: 0px 1px 3px 1px rgba(0, 0, 0, 0.15);\n",
              "      filter: drop-shadow(0px 1px 2px rgba(0, 0, 0, 0.3));\n",
              "      fill: #FFFFFF;\n",
              "    }\n",
              "  </style>\n",
              "\n",
              "      <script>\n",
              "        const buttonEl =\n",
              "          document.querySelector('#df-3938e79d-5728-4dbe-9c09-43780aaaae5a button.colab-df-convert');\n",
              "        buttonEl.style.display =\n",
              "          google.colab.kernel.accessAllowed ? 'block' : 'none';\n",
              "\n",
              "        async function convertToInteractive(key) {\n",
              "          const element = document.querySelector('#df-3938e79d-5728-4dbe-9c09-43780aaaae5a');\n",
              "          const dataTable =\n",
              "            await google.colab.kernel.invokeFunction('convertToInteractive',\n",
              "                                                     [key], {});\n",
              "          if (!dataTable) return;\n",
              "\n",
              "          const docLinkHtml = 'Like what you see? Visit the ' +\n",
              "            '<a target=\"_blank\" href=https://colab.research.google.com/notebooks/data_table.ipynb>data table notebook</a>'\n",
              "            + ' to learn more about interactive tables.';\n",
              "          element.innerHTML = '';\n",
              "          dataTable['output_type'] = 'display_data';\n",
              "          await google.colab.output.renderOutput(dataTable, element);\n",
              "          const docLink = document.createElement('div');\n",
              "          docLink.innerHTML = docLinkHtml;\n",
              "          element.appendChild(docLink);\n",
              "        }\n",
              "      </script>\n",
              "    </div>\n",
              "  </div>\n",
              "  "
            ],
            "text/plain": [
              "                    author_name  \\\n",
              "0            A. Norman, Kenneth   \n",
              "1            A. Turner, Jessica   \n",
              "2       Aja-Fernández, Santiago   \n",
              "3              Amirbekian, Bago   \n",
              "4               Amlien, Inge K.   \n",
              "..                          ...   \n",
              "298               Zhao, Zhilian   \n",
              "299                 Zhong, Ning   \n",
              "300                Zhou, Haiyan   \n",
              "301     de Luis-García, Rodrigo   \n",
              "302  van den Bosch, Jasper J.F.   \n",
              "\n",
              "                                                    id  sd_counter  \\\n",
              "0    [50|r37980778c78::f438c4e29b0015775392812d048b...           6   \n",
              "1    [50|r37980778c78::ecde2547d145a2c4583f0418616a...           6   \n",
              "2    [50|r37980778c78::8bb673ac2e78ae84d6fce829dd69...           9   \n",
              "3    [50|doi_________::28b4308a6ed463db39159e7a2038...          14   \n",
              "4    [50|doi_________::77d25c5587f0b1ab44b34485d4ec...          10   \n",
              "..                                                 ...         ...   \n",
              "298  [50|r37980778c78::c6743c483b6d1cbdf84bc978e2e3...           6   \n",
              "299  [50|r37980778c78::d7cd259ffdca8d25fe082d779c79...           5   \n",
              "300  [50|r37980778c78::d7cd259ffdca8d25fe082d779c79...           5   \n",
              "301  [50|r37980778c78::8bb673ac2e78ae84d6fce829dd69...           9   \n",
              "302  [50|doi_________::28b4308a6ed463db39159e7a2038...          14   \n",
              "\n",
              "     pub_counter                                       leave_one_cv  \n",
              "0              0  50|r37980778c78::3dde9a8ae6db8d35cdfb4fd5585c1dd8  \n",
              "1              0  50|r37980778c78::eca395a306186f95e5fbe3b16f685737  \n",
              "2              1  50|r37980778c78::b52f346497320489e3de542b6bdd9a3f  \n",
              "3              0  50|doi_________::c366b2de1b4e34c37362d5eb8f43052d  \n",
              "4              1  50|doi_dedup___::d1e4df32d1acb2c2b81455857c8bb3fb  \n",
              "..           ...                                                ...  \n",
              "298            1  50|r37980778c78::af00ac7d9359d7e4b018bf6887dc978a  \n",
              "299            2  50|r37980778c78::4fcd43dfa35532d0819423b5b7c47208  \n",
              "300            1  50|r37980778c78::4fcd43dfa35532d0819423b5b7c47208  \n",
              "301            1  50|r37980778c78::b52f346497320489e3de542b6bdd9a3f  \n",
              "302            0  50|doi_________::c366b2de1b4e34c37362d5eb8f43052d  \n",
              "\n",
              "[303 rows x 5 columns]"
            ]
          },
          "execution_count": 61,
          "metadata": {},
          "output_type": "execute_result"
        }
      ],
      "source": [
        "users"
      ]
    },
    {
      "cell_type": "code",
      "execution_count": null,
      "metadata": {
        "id": "QOj2S8ySRJ1Q"
      },
      "outputs": [],
      "source": [
        "users.reset_index(drop=True, inplace=True)"
      ]
    },
    {
      "cell_type": "code",
      "execution_count": null,
      "metadata": {
        "id": "03prYi5IUNrz"
      },
      "outputs": [],
      "source": [
        "authors = users.explode('id')"
      ]
    },
    {
      "cell_type": "markdown",
      "metadata": {
        "id": "sq2nvP78hN6d"
      },
      "source": [
        "## Dataset and Software Combined Recommender"
      ]
    },
    {
      "cell_type": "code",
      "execution_count": null,
      "metadata": {
        "id": "3wtLc15_UGWO"
      },
      "outputs": [],
      "source": [
        "# Build your graph\n",
        "users_g=nx.from_pandas_edgelist(authors, 'author_name', 'id')\n",
        "G = nx.compose(giant, users_g)"
      ]
    },
    {
      "cell_type": "code",
      "execution_count": null,
      "metadata": {
        "colab": {
          "base_uri": "https://localhost:8080/"
        },
        "id": "kXbOmy1JVLaT",
        "outputId": "3d08608d-812d-40ea-b3d2-39f1ea78010a"
      },
      "outputs": [
        {
          "name": "stdout",
          "output_type": "stream",
          "text": [
            "Name: \n",
            "Type: Graph\n",
            "Number of nodes: 2688\n",
            "Number of edges: 5699\n",
            "Average degree:   4.2403\n"
          ]
        }
      ],
      "source": [
        "print(nx.info(G))"
      ]
    },
    {
      "cell_type": "code",
      "execution_count": null,
      "metadata": {
        "id": "ff8_qTlvG4SF"
      },
      "outputs": [],
      "source": [
        "from node2vec import Node2Vec as n2v"
      ]
    },
    {
      "cell_type": "code",
      "execution_count": null,
      "metadata": {
        "colab": {
          "base_uri": "https://localhost:8080/",
          "height": 349
        },
        "id": "IpIl_yL1SMcZ",
        "outputId": "d86065f3-135b-49ec-d7e2-cd85d7418f60"
      },
      "outputs": [
        {
          "data": {
            "application/vnd.jupyter.widget-view+json": {
              "model_id": "6e49ec930d904cdb91893e78227c497e",
              "version_major": 2,
              "version_minor": 0
            },
            "text/plain": [
              "Computing transition probabilities:   0%|          | 0/2688 [00:00<?, ?it/s]"
            ]
          },
          "metadata": {},
          "output_type": "display_data"
        },
        {
          "name": "stderr",
          "output_type": "stream",
          "text": [
            "Generating walks (CPU: 1): 100%|██████████| 10/10 [01:46<00:00, 10.61s/it]\n"
          ]
        },
        {
          "data": {
            "text/html": [
              "\n",
              "  <div id=\"df-02b8bc51-851a-4b78-96fb-602849ea7def\">\n",
              "    <div class=\"colab-df-container\">\n",
              "      <div>\n",
              "<style scoped>\n",
              "    .dataframe tbody tr th:only-of-type {\n",
              "        vertical-align: middle;\n",
              "    }\n",
              "\n",
              "    .dataframe tbody tr th {\n",
              "        vertical-align: top;\n",
              "    }\n",
              "\n",
              "    .dataframe thead th {\n",
              "        text-align: right;\n",
              "    }\n",
              "</style>\n",
              "<table border=\"1\" class=\"dataframe\">\n",
              "  <thead>\n",
              "    <tr style=\"text-align: right;\">\n",
              "      <th></th>\n",
              "      <th>0</th>\n",
              "      <th>1</th>\n",
              "      <th>2</th>\n",
              "      <th>3</th>\n",
              "      <th>4</th>\n",
              "      <th>5</th>\n",
              "      <th>6</th>\n",
              "      <th>7</th>\n",
              "      <th>8</th>\n",
              "      <th>9</th>\n",
              "      <th>...</th>\n",
              "      <th>22</th>\n",
              "      <th>23</th>\n",
              "      <th>24</th>\n",
              "      <th>25</th>\n",
              "      <th>26</th>\n",
              "      <th>27</th>\n",
              "      <th>28</th>\n",
              "      <th>29</th>\n",
              "      <th>30</th>\n",
              "      <th>31</th>\n",
              "    </tr>\n",
              "  </thead>\n",
              "  <tbody>\n",
              "    <tr>\n",
              "      <th>50|doi_dedup___::c760ec69bacc7756290f5620878e1d8c</th>\n",
              "      <td>0.029763</td>\n",
              "      <td>0.606829</td>\n",
              "      <td>0.048690</td>\n",
              "      <td>-0.980313</td>\n",
              "      <td>-0.014839</td>\n",
              "      <td>0.395438</td>\n",
              "      <td>-0.581391</td>\n",
              "      <td>0.250080</td>\n",
              "      <td>0.553973</td>\n",
              "      <td>1.523950</td>\n",
              "      <td>...</td>\n",
              "      <td>-0.107582</td>\n",
              "      <td>0.236983</td>\n",
              "      <td>1.015973</td>\n",
              "      <td>0.296526</td>\n",
              "      <td>-0.024863</td>\n",
              "      <td>-0.489872</td>\n",
              "      <td>0.590836</td>\n",
              "      <td>0.018095</td>\n",
              "      <td>-0.857422</td>\n",
              "      <td>1.129327</td>\n",
              "    </tr>\n",
              "    <tr>\n",
              "      <th>50|r37980778c78::01e0b5345a2c98d13eab157e589fcf52</th>\n",
              "      <td>0.337239</td>\n",
              "      <td>-0.404531</td>\n",
              "      <td>-0.557752</td>\n",
              "      <td>-1.031410</td>\n",
              "      <td>0.025945</td>\n",
              "      <td>-0.461189</td>\n",
              "      <td>0.221554</td>\n",
              "      <td>-0.232739</td>\n",
              "      <td>0.988201</td>\n",
              "      <td>0.963006</td>\n",
              "      <td>...</td>\n",
              "      <td>0.028590</td>\n",
              "      <td>-1.213983</td>\n",
              "      <td>1.066908</td>\n",
              "      <td>-2.111471</td>\n",
              "      <td>0.666075</td>\n",
              "      <td>-0.384126</td>\n",
              "      <td>-1.563455</td>\n",
              "      <td>1.174580</td>\n",
              "      <td>-0.829265</td>\n",
              "      <td>1.603193</td>\n",
              "    </tr>\n",
              "    <tr>\n",
              "      <th>50|doi_dedup___::6f37c6c81214dac4bba084e01b176311</th>\n",
              "      <td>-0.118085</td>\n",
              "      <td>0.307497</td>\n",
              "      <td>-0.206834</td>\n",
              "      <td>-1.045097</td>\n",
              "      <td>0.811564</td>\n",
              "      <td>0.567154</td>\n",
              "      <td>-0.614397</td>\n",
              "      <td>0.324727</td>\n",
              "      <td>0.894610</td>\n",
              "      <td>0.392757</td>\n",
              "      <td>...</td>\n",
              "      <td>-0.619190</td>\n",
              "      <td>-0.246421</td>\n",
              "      <td>0.754153</td>\n",
              "      <td>0.302121</td>\n",
              "      <td>0.296183</td>\n",
              "      <td>-0.538999</td>\n",
              "      <td>0.740552</td>\n",
              "      <td>0.757182</td>\n",
              "      <td>0.283339</td>\n",
              "      <td>1.142517</td>\n",
              "    </tr>\n",
              "    <tr>\n",
              "      <th>50|doi_dedup___::3bbc46aa0a894c9451fa126f6ff1204a</th>\n",
              "      <td>-0.475310</td>\n",
              "      <td>0.607669</td>\n",
              "      <td>-0.179707</td>\n",
              "      <td>-0.611857</td>\n",
              "      <td>0.052649</td>\n",
              "      <td>0.822942</td>\n",
              "      <td>-0.183508</td>\n",
              "      <td>1.458391</td>\n",
              "      <td>1.008725</td>\n",
              "      <td>0.186517</td>\n",
              "      <td>...</td>\n",
              "      <td>-0.290684</td>\n",
              "      <td>-0.431252</td>\n",
              "      <td>0.669556</td>\n",
              "      <td>0.177260</td>\n",
              "      <td>0.345314</td>\n",
              "      <td>-0.316546</td>\n",
              "      <td>1.028838</td>\n",
              "      <td>0.612723</td>\n",
              "      <td>-0.376466</td>\n",
              "      <td>0.847404</td>\n",
              "    </tr>\n",
              "    <tr>\n",
              "      <th>50|doi_dedup___::0af0245adf676daa3ff28044472bc6e0</th>\n",
              "      <td>-1.254424</td>\n",
              "      <td>0.182702</td>\n",
              "      <td>-0.420853</td>\n",
              "      <td>0.280404</td>\n",
              "      <td>0.475492</td>\n",
              "      <td>0.370978</td>\n",
              "      <td>0.131690</td>\n",
              "      <td>1.256139</td>\n",
              "      <td>1.621113</td>\n",
              "      <td>1.981099</td>\n",
              "      <td>...</td>\n",
              "      <td>0.151103</td>\n",
              "      <td>0.178524</td>\n",
              "      <td>1.793900</td>\n",
              "      <td>-1.481936</td>\n",
              "      <td>0.051243</td>\n",
              "      <td>-1.033230</td>\n",
              "      <td>1.505823</td>\n",
              "      <td>1.083235</td>\n",
              "      <td>-0.544396</td>\n",
              "      <td>0.863776</td>\n",
              "    </tr>\n",
              "  </tbody>\n",
              "</table>\n",
              "<p>5 rows × 32 columns</p>\n",
              "</div>\n",
              "      <button class=\"colab-df-convert\" onclick=\"convertToInteractive('df-02b8bc51-851a-4b78-96fb-602849ea7def')\"\n",
              "              title=\"Convert this dataframe to an interactive table.\"\n",
              "              style=\"display:none;\">\n",
              "        \n",
              "  <svg xmlns=\"http://www.w3.org/2000/svg\" height=\"24px\"viewBox=\"0 0 24 24\"\n",
              "       width=\"24px\">\n",
              "    <path d=\"M0 0h24v24H0V0z\" fill=\"none\"/>\n",
              "    <path d=\"M18.56 5.44l.94 2.06.94-2.06 2.06-.94-2.06-.94-.94-2.06-.94 2.06-2.06.94zm-11 1L8.5 8.5l.94-2.06 2.06-.94-2.06-.94L8.5 2.5l-.94 2.06-2.06.94zm10 10l.94 2.06.94-2.06 2.06-.94-2.06-.94-.94-2.06-.94 2.06-2.06.94z\"/><path d=\"M17.41 7.96l-1.37-1.37c-.4-.4-.92-.59-1.43-.59-.52 0-1.04.2-1.43.59L10.3 9.45l-7.72 7.72c-.78.78-.78 2.05 0 2.83L4 21.41c.39.39.9.59 1.41.59.51 0 1.02-.2 1.41-.59l7.78-7.78 2.81-2.81c.8-.78.8-2.07 0-2.86zM5.41 20L4 18.59l7.72-7.72 1.47 1.35L5.41 20z\"/>\n",
              "  </svg>\n",
              "      </button>\n",
              "      \n",
              "  <style>\n",
              "    .colab-df-container {\n",
              "      display:flex;\n",
              "      flex-wrap:wrap;\n",
              "      gap: 12px;\n",
              "    }\n",
              "\n",
              "    .colab-df-convert {\n",
              "      background-color: #E8F0FE;\n",
              "      border: none;\n",
              "      border-radius: 50%;\n",
              "      cursor: pointer;\n",
              "      display: none;\n",
              "      fill: #1967D2;\n",
              "      height: 32px;\n",
              "      padding: 0 0 0 0;\n",
              "      width: 32px;\n",
              "    }\n",
              "\n",
              "    .colab-df-convert:hover {\n",
              "      background-color: #E2EBFA;\n",
              "      box-shadow: 0px 1px 2px rgba(60, 64, 67, 0.3), 0px 1px 3px 1px rgba(60, 64, 67, 0.15);\n",
              "      fill: #174EA6;\n",
              "    }\n",
              "\n",
              "    [theme=dark] .colab-df-convert {\n",
              "      background-color: #3B4455;\n",
              "      fill: #D2E3FC;\n",
              "    }\n",
              "\n",
              "    [theme=dark] .colab-df-convert:hover {\n",
              "      background-color: #434B5C;\n",
              "      box-shadow: 0px 1px 3px 1px rgba(0, 0, 0, 0.15);\n",
              "      filter: drop-shadow(0px 1px 2px rgba(0, 0, 0, 0.3));\n",
              "      fill: #FFFFFF;\n",
              "    }\n",
              "  </style>\n",
              "\n",
              "      <script>\n",
              "        const buttonEl =\n",
              "          document.querySelector('#df-02b8bc51-851a-4b78-96fb-602849ea7def button.colab-df-convert');\n",
              "        buttonEl.style.display =\n",
              "          google.colab.kernel.accessAllowed ? 'block' : 'none';\n",
              "\n",
              "        async function convertToInteractive(key) {\n",
              "          const element = document.querySelector('#df-02b8bc51-851a-4b78-96fb-602849ea7def');\n",
              "          const dataTable =\n",
              "            await google.colab.kernel.invokeFunction('convertToInteractive',\n",
              "                                                     [key], {});\n",
              "          if (!dataTable) return;\n",
              "\n",
              "          const docLinkHtml = 'Like what you see? Visit the ' +\n",
              "            '<a target=\"_blank\" href=https://colab.research.google.com/notebooks/data_table.ipynb>data table notebook</a>'\n",
              "            + ' to learn more about interactive tables.';\n",
              "          element.innerHTML = '';\n",
              "          dataTable['output_type'] = 'display_data';\n",
              "          await google.colab.output.renderOutput(dataTable, element);\n",
              "          const docLink = document.createElement('div');\n",
              "          docLink.innerHTML = docLinkHtml;\n",
              "          element.appendChild(docLink);\n",
              "        }\n",
              "      </script>\n",
              "    </div>\n",
              "  </div>\n",
              "  "
            ],
            "text/plain": [
              "                                                         0         1   \\\n",
              "50|doi_dedup___::c760ec69bacc7756290f5620878e1d8c  0.029763  0.606829   \n",
              "50|r37980778c78::01e0b5345a2c98d13eab157e589fcf52  0.337239 -0.404531   \n",
              "50|doi_dedup___::6f37c6c81214dac4bba084e01b176311 -0.118085  0.307497   \n",
              "50|doi_dedup___::3bbc46aa0a894c9451fa126f6ff1204a -0.475310  0.607669   \n",
              "50|doi_dedup___::0af0245adf676daa3ff28044472bc6e0 -1.254424  0.182702   \n",
              "\n",
              "                                                         2         3   \\\n",
              "50|doi_dedup___::c760ec69bacc7756290f5620878e1d8c  0.048690 -0.980313   \n",
              "50|r37980778c78::01e0b5345a2c98d13eab157e589fcf52 -0.557752 -1.031410   \n",
              "50|doi_dedup___::6f37c6c81214dac4bba084e01b176311 -0.206834 -1.045097   \n",
              "50|doi_dedup___::3bbc46aa0a894c9451fa126f6ff1204a -0.179707 -0.611857   \n",
              "50|doi_dedup___::0af0245adf676daa3ff28044472bc6e0 -0.420853  0.280404   \n",
              "\n",
              "                                                         4         5   \\\n",
              "50|doi_dedup___::c760ec69bacc7756290f5620878e1d8c -0.014839  0.395438   \n",
              "50|r37980778c78::01e0b5345a2c98d13eab157e589fcf52  0.025945 -0.461189   \n",
              "50|doi_dedup___::6f37c6c81214dac4bba084e01b176311  0.811564  0.567154   \n",
              "50|doi_dedup___::3bbc46aa0a894c9451fa126f6ff1204a  0.052649  0.822942   \n",
              "50|doi_dedup___::0af0245adf676daa3ff28044472bc6e0  0.475492  0.370978   \n",
              "\n",
              "                                                         6         7   \\\n",
              "50|doi_dedup___::c760ec69bacc7756290f5620878e1d8c -0.581391  0.250080   \n",
              "50|r37980778c78::01e0b5345a2c98d13eab157e589fcf52  0.221554 -0.232739   \n",
              "50|doi_dedup___::6f37c6c81214dac4bba084e01b176311 -0.614397  0.324727   \n",
              "50|doi_dedup___::3bbc46aa0a894c9451fa126f6ff1204a -0.183508  1.458391   \n",
              "50|doi_dedup___::0af0245adf676daa3ff28044472bc6e0  0.131690  1.256139   \n",
              "\n",
              "                                                         8         9   ...  \\\n",
              "50|doi_dedup___::c760ec69bacc7756290f5620878e1d8c  0.553973  1.523950  ...   \n",
              "50|r37980778c78::01e0b5345a2c98d13eab157e589fcf52  0.988201  0.963006  ...   \n",
              "50|doi_dedup___::6f37c6c81214dac4bba084e01b176311  0.894610  0.392757  ...   \n",
              "50|doi_dedup___::3bbc46aa0a894c9451fa126f6ff1204a  1.008725  0.186517  ...   \n",
              "50|doi_dedup___::0af0245adf676daa3ff28044472bc6e0  1.621113  1.981099  ...   \n",
              "\n",
              "                                                         22        23  \\\n",
              "50|doi_dedup___::c760ec69bacc7756290f5620878e1d8c -0.107582  0.236983   \n",
              "50|r37980778c78::01e0b5345a2c98d13eab157e589fcf52  0.028590 -1.213983   \n",
              "50|doi_dedup___::6f37c6c81214dac4bba084e01b176311 -0.619190 -0.246421   \n",
              "50|doi_dedup___::3bbc46aa0a894c9451fa126f6ff1204a -0.290684 -0.431252   \n",
              "50|doi_dedup___::0af0245adf676daa3ff28044472bc6e0  0.151103  0.178524   \n",
              "\n",
              "                                                         24        25  \\\n",
              "50|doi_dedup___::c760ec69bacc7756290f5620878e1d8c  1.015973  0.296526   \n",
              "50|r37980778c78::01e0b5345a2c98d13eab157e589fcf52  1.066908 -2.111471   \n",
              "50|doi_dedup___::6f37c6c81214dac4bba084e01b176311  0.754153  0.302121   \n",
              "50|doi_dedup___::3bbc46aa0a894c9451fa126f6ff1204a  0.669556  0.177260   \n",
              "50|doi_dedup___::0af0245adf676daa3ff28044472bc6e0  1.793900 -1.481936   \n",
              "\n",
              "                                                         26        27  \\\n",
              "50|doi_dedup___::c760ec69bacc7756290f5620878e1d8c -0.024863 -0.489872   \n",
              "50|r37980778c78::01e0b5345a2c98d13eab157e589fcf52  0.666075 -0.384126   \n",
              "50|doi_dedup___::6f37c6c81214dac4bba084e01b176311  0.296183 -0.538999   \n",
              "50|doi_dedup___::3bbc46aa0a894c9451fa126f6ff1204a  0.345314 -0.316546   \n",
              "50|doi_dedup___::0af0245adf676daa3ff28044472bc6e0  0.051243 -1.033230   \n",
              "\n",
              "                                                         28        29  \\\n",
              "50|doi_dedup___::c760ec69bacc7756290f5620878e1d8c  0.590836  0.018095   \n",
              "50|r37980778c78::01e0b5345a2c98d13eab157e589fcf52 -1.563455  1.174580   \n",
              "50|doi_dedup___::6f37c6c81214dac4bba084e01b176311  0.740552  0.757182   \n",
              "50|doi_dedup___::3bbc46aa0a894c9451fa126f6ff1204a  1.028838  0.612723   \n",
              "50|doi_dedup___::0af0245adf676daa3ff28044472bc6e0  1.505823  1.083235   \n",
              "\n",
              "                                                         30        31  \n",
              "50|doi_dedup___::c760ec69bacc7756290f5620878e1d8c -0.857422  1.129327  \n",
              "50|r37980778c78::01e0b5345a2c98d13eab157e589fcf52 -0.829265  1.603193  \n",
              "50|doi_dedup___::6f37c6c81214dac4bba084e01b176311  0.283339  1.142517  \n",
              "50|doi_dedup___::3bbc46aa0a894c9451fa126f6ff1204a -0.376466  0.847404  \n",
              "50|doi_dedup___::0af0245adf676daa3ff28044472bc6e0 -0.544396  0.863776  \n",
              "\n",
              "[5 rows x 32 columns]"
            ]
          },
          "execution_count": 73,
          "metadata": {},
          "output_type": "execute_result"
        }
      ],
      "source": [
        "g_emb = n2v(G, dimensions=32)\n",
        "\n",
        "WINDOW = 1 # Node2Vec fit window\n",
        "MIN_COUNT = 1 # Node2Vec min. count\n",
        "BATCH_WORDS = 4 # Node2Vec batch words\n",
        "\n",
        "mdl = g_emb.fit(\n",
        "    window=WINDOW,\n",
        "    min_count=MIN_COUNT,\n",
        "    batch_words=BATCH_WORDS\n",
        ")\n",
        "\n",
        "# create embeddings dataframe\n",
        "emb_df = (\n",
        "    pd.DataFrame(\n",
        "        [mdl.wv.get_vector(str(n)) for n in G.nodes()],\n",
        "        index = G.nodes\n",
        "    )\n",
        ")\n",
        "\n",
        "emb_df.head()"
      ]
    },
    {
      "cell_type": "markdown",
      "metadata": {
        "id": "L1b_la-X7TH-"
      },
      "source": [
        "###"
      ]
    },
    {
      "cell_type": "code",
      "execution_count": null,
      "metadata": {
        "id": "muupvqSi7U1v"
      },
      "outputs": [],
      "source": [
        "#df_artifacts = pd.read_json(\"/content/gdrive/MyDrive/Recommendation_Systems_Activities/TPDL2022/Data/data-with-subjects.json\",lines=True)\n",
        "\n",
        "ds = df_artifacts.loc[(df_artifacts['type']=='software') | (df_artifacts['type']=='dataset')]"
      ]
    },
    {
      "cell_type": "code",
      "execution_count": null,
      "metadata": {
        "colab": {
          "base_uri": "https://localhost:8080/"
        },
        "id": "R9xv5TRy7rrP",
        "outputId": "c65ecff5-b486-47ef-f0ec-02466d73027d"
      },
      "outputs": [
        {
          "data": {
            "text/plain": [
              "(604, 5)"
            ]
          },
          "execution_count": 75,
          "metadata": {},
          "output_type": "execute_result"
        }
      ],
      "source": [
        "ds.shape"
      ]
    },
    {
      "cell_type": "code",
      "execution_count": null,
      "metadata": {
        "colab": {
          "base_uri": "https://localhost:8080/"
        },
        "id": "2Vdypf6IG03U",
        "outputId": "e74f059c-fde0-407b-df14-3607a34c84ea"
      },
      "outputs": [
        {
          "data": {
            "text/plain": [
              "['50|r37980778c78::5ba3e79c05baeb92fcd3d7c9eed664e6',\n",
              " '50|r37980778c78::beb3f6cbefdf0675bb7df6b9f25ad184',\n",
              " '50|r37980778c78::ed97fc726065cb067f9c9dbdf3ab5672',\n",
              " '50|r37980778c78::eb307a1db4f6e41371ae65d837130e32',\n",
              " '50|r37980778c78::cf8f5a775337b4c002ef06362a719c77',\n",
              " '50|r37980778c78::178ccb0179a92a8f3ca77bc8d9dd47a3',\n",
              " '50|r37980778c78::b7514b2b1bfaf3919cb6c32a5d922ed4',\n",
              " '50|r37980778c78::a55e7ff471e4a2d8206daea5df35500d',\n",
              " '50|doi_dedup___::d96db72cb4922035721bb4bd3d6834f5',\n",
              " '50|doi_dedup___::d7419ac27ce85965a38a51281258c6a6']"
            ]
          },
          "execution_count": 77,
          "metadata": {},
          "output_type": "execute_result"
        }
      ],
      "source": [
        "def predict_links(G, df, article_id, N):\n",
        "    '''\n",
        "    This function will predict the top N links a node (article_id) should be connected with\n",
        "    which it is not already connected with in G.\n",
        "    \n",
        "    params:\n",
        "        G (Netowrkx Graph) : The network used to create the embeddings\n",
        "        df (DataFrame) : The dataframe which has embeddings associated to each node\n",
        "        article_id (Integer) : The article you're interested \n",
        "        N (Integer) : The number of recommended links you want to return\n",
        "        \n",
        "    returns:\n",
        "        This function will return a list of nodes the input node should be connected with.\n",
        "    '''\n",
        "    \n",
        "    # separate target article with all others\n",
        "    article = df[df.index == article_id]\n",
        "    \n",
        "    # other articles are all articles which the current doesn't have an edge connecting\n",
        "    all_nodes = G.nodes()\n",
        "    other_nodes = [n for n in all_nodes if n not in list(G.adj[article_id]) + [article_id]]\n",
        "\n",
        "    arti_set = [item for item in other_nodes if item in ds['id'].values] #Just recommend dataset and software\n",
        "\n",
        "\n",
        "    other_articles = df[df.index.isin(arti_set)]\n",
        "    \n",
        "    # get similarity of current reader and all other readers\n",
        "    sim = cosine_similarity(article, other_articles)[0].tolist()\n",
        "    idx = other_articles.index.tolist()\n",
        "    \n",
        "    # create a similarity dictionary for this user w.r.t all other users\n",
        "    idx_sim = dict(zip(idx, sim))\n",
        "    idx_sim = sorted(idx_sim.items(), key=lambda x: x[1], reverse=True)\n",
        "    \n",
        "    similar_articles = idx_sim[:N]\n",
        "    articles = [art[0] for art in similar_articles]\n",
        "    return articles\n",
        "  \n",
        "predict_links(G = G, df = emb_df, article_id = \"Goeree, Ron\", N = 10)"
      ]
    },
    {
      "cell_type": "code",
      "execution_count": null,
      "metadata": {
        "id": "63dxgDj8IxlS"
      },
      "outputs": [],
      "source": [
        "def recommend(name):\n",
        "  recommended_list = predict_links(G = G, df = emb_df, article_id = name, N = 10)\n",
        "  return recommended_list\n",
        "    "
      ]
    },
    {
      "cell_type": "code",
      "execution_count": null,
      "metadata": {
        "id": "2EiDLVGvYJKe"
      },
      "outputs": [],
      "source": [
        "users['recommended_items'] = users['author_name'].apply(lambda x:recommend(x))"
      ]
    },
    {
      "cell_type": "markdown",
      "metadata": {
        "id": "1rrlsff4MP0O"
      },
      "source": [
        "### Combined RecSys Evaluation"
      ]
    },
    {
      "cell_type": "code",
      "execution_count": null,
      "metadata": {
        "id": "_DGle0jvL-8c"
      },
      "outputs": [],
      "source": [
        "def hit_rate(row):\n",
        "  for item in row[\"recommended_items\"]:\n",
        "    if item == row['leave_one_cv']:\n",
        "      return 1\n",
        "  return 0 "
      ]
    },
    {
      "cell_type": "code",
      "execution_count": null,
      "metadata": {
        "id": "IwD1v1HFMUoO"
      },
      "outputs": [],
      "source": [
        "users['hit_rate'] = users.apply(lambda x:hit_rate(x),axis=1)"
      ]
    },
    {
      "cell_type": "code",
      "execution_count": null,
      "metadata": {
        "id": "AK9kEpDlNGQu"
      },
      "outputs": [],
      "source": [
        "pd.set_option('display.max_rows', None)\n"
      ]
    },
    {
      "cell_type": "code",
      "execution_count": null,
      "metadata": {
        "colab": {
          "base_uri": "https://localhost:8080/"
        },
        "id": "xuoilfrJo1E2",
        "outputId": "5ae82267-1ecc-44f2-fcfa-ffe54091fbda"
      },
      "outputs": [
        {
          "data": {
            "text/plain": [
              "0.6138613861386139"
            ]
          },
          "execution_count": 87,
          "metadata": {},
          "output_type": "execute_result"
        }
      ],
      "source": [
        "users['hit_rate'].mean()"
      ]
    }
  ],
  "metadata": {
    "colab": {
      "collapsed_sections": [
        "d537HLB7l8Ae",
        "EUF5ciC-fTmO",
        "D7yCKMwiBkG6",
        "RzQKMTlcSabB",
        "rE7lYxXVBn-I",
        "HRAXCG89CHIl",
        "PzUe5D69oOu3",
        "ZTFi8wzT3jYN",
        "hpG5g29b3fzX",
        "U1qYx4sI4eL1",
        "zNxOA3capbzN",
        "5wLcnxDj-0dY",
        "xBKqNZiwHZjf",
        "DzBQ8Anqq72W",
        "yiHpKtZBJz1p",
        "shpswAlHR4jR",
        "sq2nvP78hN6d"
      ],
      "name": "Node2Vec_V3.ipynb",
      "provenance": [],
      "include_colab_link": true
    },
    "kernelspec": {
      "display_name": "Python 3",
      "name": "python3"
    },
    "language_info": {
      "name": "python"
    },
    "widgets": {
      "application/vnd.jupyter.widget-state+json": {
        "10431c5ab2284fb7bee19b255cb47657": {
          "model_module": "@jupyter-widgets/controls",
          "model_module_version": "1.5.0",
          "model_name": "FloatProgressModel",
          "state": {
            "_dom_classes": [],
            "_model_module": "@jupyter-widgets/controls",
            "_model_module_version": "1.5.0",
            "_model_name": "FloatProgressModel",
            "_view_count": null,
            "_view_module": "@jupyter-widgets/controls",
            "_view_module_version": "1.5.0",
            "_view_name": "ProgressView",
            "bar_style": "success",
            "description": "",
            "description_tooltip": null,
            "layout": "IPY_MODEL_eaeeb4b651994769b8761e67064e09ee",
            "max": 4059,
            "min": 0,
            "orientation": "horizontal",
            "style": "IPY_MODEL_fc039a8368094478bdcd3e3eb5bc2dc5",
            "value": 4059
          }
        },
        "226f951d08c9462eb52a20112f7ce573": {
          "model_module": "@jupyter-widgets/controls",
          "model_module_version": "1.5.0",
          "model_name": "HBoxModel",
          "state": {
            "_dom_classes": [],
            "_model_module": "@jupyter-widgets/controls",
            "_model_module_version": "1.5.0",
            "_model_name": "HBoxModel",
            "_view_count": null,
            "_view_module": "@jupyter-widgets/controls",
            "_view_module_version": "1.5.0",
            "_view_name": "HBoxView",
            "box_style": "",
            "children": [
              "IPY_MODEL_ce94de5bcd7f4773966f5fcc8246b284",
              "IPY_MODEL_10431c5ab2284fb7bee19b255cb47657",
              "IPY_MODEL_bfe12883f3064c129ea1d36bfbec7622"
            ],
            "layout": "IPY_MODEL_42e4f09fb57140d5866f2d554726113f"
          }
        },
        "3766a8db9bfb4e84afd3cc150dc41705": {
          "model_module": "@jupyter-widgets/base",
          "model_module_version": "1.2.0",
          "model_name": "LayoutModel",
          "state": {
            "_model_module": "@jupyter-widgets/base",
            "_model_module_version": "1.2.0",
            "_model_name": "LayoutModel",
            "_view_count": null,
            "_view_module": "@jupyter-widgets/base",
            "_view_module_version": "1.2.0",
            "_view_name": "LayoutView",
            "align_content": null,
            "align_items": null,
            "align_self": null,
            "border": null,
            "bottom": null,
            "display": null,
            "flex": null,
            "flex_flow": null,
            "grid_area": null,
            "grid_auto_columns": null,
            "grid_auto_flow": null,
            "grid_auto_rows": null,
            "grid_column": null,
            "grid_gap": null,
            "grid_row": null,
            "grid_template_areas": null,
            "grid_template_columns": null,
            "grid_template_rows": null,
            "height": null,
            "justify_content": null,
            "justify_items": null,
            "left": null,
            "margin": null,
            "max_height": null,
            "max_width": null,
            "min_height": null,
            "min_width": null,
            "object_fit": null,
            "object_position": null,
            "order": null,
            "overflow": null,
            "overflow_x": null,
            "overflow_y": null,
            "padding": null,
            "right": null,
            "top": null,
            "visibility": null,
            "width": null
          }
        },
        "42e4f09fb57140d5866f2d554726113f": {
          "model_module": "@jupyter-widgets/base",
          "model_module_version": "1.2.0",
          "model_name": "LayoutModel",
          "state": {
            "_model_module": "@jupyter-widgets/base",
            "_model_module_version": "1.2.0",
            "_model_name": "LayoutModel",
            "_view_count": null,
            "_view_module": "@jupyter-widgets/base",
            "_view_module_version": "1.2.0",
            "_view_name": "LayoutView",
            "align_content": null,
            "align_items": null,
            "align_self": null,
            "border": null,
            "bottom": null,
            "display": null,
            "flex": null,
            "flex_flow": null,
            "grid_area": null,
            "grid_auto_columns": null,
            "grid_auto_flow": null,
            "grid_auto_rows": null,
            "grid_column": null,
            "grid_gap": null,
            "grid_row": null,
            "grid_template_areas": null,
            "grid_template_columns": null,
            "grid_template_rows": null,
            "height": null,
            "justify_content": null,
            "justify_items": null,
            "left": null,
            "margin": null,
            "max_height": null,
            "max_width": null,
            "min_height": null,
            "min_width": null,
            "object_fit": null,
            "object_position": null,
            "order": null,
            "overflow": null,
            "overflow_x": null,
            "overflow_y": null,
            "padding": null,
            "right": null,
            "top": null,
            "visibility": null,
            "width": null
          }
        },
        "9aab2ed57d1341c18a50cd85432a6bc8": {
          "model_module": "@jupyter-widgets/base",
          "model_module_version": "1.2.0",
          "model_name": "LayoutModel",
          "state": {
            "_model_module": "@jupyter-widgets/base",
            "_model_module_version": "1.2.0",
            "_model_name": "LayoutModel",
            "_view_count": null,
            "_view_module": "@jupyter-widgets/base",
            "_view_module_version": "1.2.0",
            "_view_name": "LayoutView",
            "align_content": null,
            "align_items": null,
            "align_self": null,
            "border": null,
            "bottom": null,
            "display": null,
            "flex": null,
            "flex_flow": null,
            "grid_area": null,
            "grid_auto_columns": null,
            "grid_auto_flow": null,
            "grid_auto_rows": null,
            "grid_column": null,
            "grid_gap": null,
            "grid_row": null,
            "grid_template_areas": null,
            "grid_template_columns": null,
            "grid_template_rows": null,
            "height": null,
            "justify_content": null,
            "justify_items": null,
            "left": null,
            "margin": null,
            "max_height": null,
            "max_width": null,
            "min_height": null,
            "min_width": null,
            "object_fit": null,
            "object_position": null,
            "order": null,
            "overflow": null,
            "overflow_x": null,
            "overflow_y": null,
            "padding": null,
            "right": null,
            "top": null,
            "visibility": null,
            "width": null
          }
        },
        "bfe12883f3064c129ea1d36bfbec7622": {
          "model_module": "@jupyter-widgets/controls",
          "model_module_version": "1.5.0",
          "model_name": "HTMLModel",
          "state": {
            "_dom_classes": [],
            "_model_module": "@jupyter-widgets/controls",
            "_model_module_version": "1.5.0",
            "_model_name": "HTMLModel",
            "_view_count": null,
            "_view_module": "@jupyter-widgets/controls",
            "_view_module_version": "1.5.0",
            "_view_name": "HTMLView",
            "description": "",
            "description_tooltip": null,
            "layout": "IPY_MODEL_9aab2ed57d1341c18a50cd85432a6bc8",
            "placeholder": "​",
            "style": "IPY_MODEL_c5175e79201c4d9d93ca52f81a28f9af",
            "value": " 4059/4059 [00:01&lt;00:00, 2955.06it/s]"
          }
        },
        "c5175e79201c4d9d93ca52f81a28f9af": {
          "model_module": "@jupyter-widgets/controls",
          "model_module_version": "1.5.0",
          "model_name": "DescriptionStyleModel",
          "state": {
            "_model_module": "@jupyter-widgets/controls",
            "_model_module_version": "1.5.0",
            "_model_name": "DescriptionStyleModel",
            "_view_count": null,
            "_view_module": "@jupyter-widgets/base",
            "_view_module_version": "1.2.0",
            "_view_name": "StyleView",
            "description_width": ""
          }
        },
        "ce94de5bcd7f4773966f5fcc8246b284": {
          "model_module": "@jupyter-widgets/controls",
          "model_module_version": "1.5.0",
          "model_name": "HTMLModel",
          "state": {
            "_dom_classes": [],
            "_model_module": "@jupyter-widgets/controls",
            "_model_module_version": "1.5.0",
            "_model_name": "HTMLModel",
            "_view_count": null,
            "_view_module": "@jupyter-widgets/controls",
            "_view_module_version": "1.5.0",
            "_view_name": "HTMLView",
            "description": "",
            "description_tooltip": null,
            "layout": "IPY_MODEL_3766a8db9bfb4e84afd3cc150dc41705",
            "placeholder": "​",
            "style": "IPY_MODEL_f4c6e2bba8764059a93373e89111172e",
            "value": "Computing transition probabilities: 100%"
          }
        },
        "eaeeb4b651994769b8761e67064e09ee": {
          "model_module": "@jupyter-widgets/base",
          "model_module_version": "1.2.0",
          "model_name": "LayoutModel",
          "state": {
            "_model_module": "@jupyter-widgets/base",
            "_model_module_version": "1.2.0",
            "_model_name": "LayoutModel",
            "_view_count": null,
            "_view_module": "@jupyter-widgets/base",
            "_view_module_version": "1.2.0",
            "_view_name": "LayoutView",
            "align_content": null,
            "align_items": null,
            "align_self": null,
            "border": null,
            "bottom": null,
            "display": null,
            "flex": null,
            "flex_flow": null,
            "grid_area": null,
            "grid_auto_columns": null,
            "grid_auto_flow": null,
            "grid_auto_rows": null,
            "grid_column": null,
            "grid_gap": null,
            "grid_row": null,
            "grid_template_areas": null,
            "grid_template_columns": null,
            "grid_template_rows": null,
            "height": null,
            "justify_content": null,
            "justify_items": null,
            "left": null,
            "margin": null,
            "max_height": null,
            "max_width": null,
            "min_height": null,
            "min_width": null,
            "object_fit": null,
            "object_position": null,
            "order": null,
            "overflow": null,
            "overflow_x": null,
            "overflow_y": null,
            "padding": null,
            "right": null,
            "top": null,
            "visibility": null,
            "width": null
          }
        },
        "f4c6e2bba8764059a93373e89111172e": {
          "model_module": "@jupyter-widgets/controls",
          "model_module_version": "1.5.0",
          "model_name": "DescriptionStyleModel",
          "state": {
            "_model_module": "@jupyter-widgets/controls",
            "_model_module_version": "1.5.0",
            "_model_name": "DescriptionStyleModel",
            "_view_count": null,
            "_view_module": "@jupyter-widgets/base",
            "_view_module_version": "1.2.0",
            "_view_name": "StyleView",
            "description_width": ""
          }
        },
        "fc039a8368094478bdcd3e3eb5bc2dc5": {
          "model_module": "@jupyter-widgets/controls",
          "model_module_version": "1.5.0",
          "model_name": "ProgressStyleModel",
          "state": {
            "_model_module": "@jupyter-widgets/controls",
            "_model_module_version": "1.5.0",
            "_model_name": "ProgressStyleModel",
            "_view_count": null,
            "_view_module": "@jupyter-widgets/base",
            "_view_module_version": "1.2.0",
            "_view_name": "StyleView",
            "bar_color": null,
            "description_width": ""
          }
        }
      }
    }
  },
  "nbformat": 4,
  "nbformat_minor": 0
}